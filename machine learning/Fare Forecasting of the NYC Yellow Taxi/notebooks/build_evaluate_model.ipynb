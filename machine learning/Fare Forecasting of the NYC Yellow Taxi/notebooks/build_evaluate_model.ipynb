{
 "cells": [
  {
   "cell_type": "code",
   "execution_count": 1,
   "outputs": [
    {
     "name": "stderr",
     "output_type": "stream",
     "text": [
      "22/11/22 22:27:05 WARN Utils: Your hostname, LAPTOP-VAB0S7AL resolves to a loopback address: 127.0.1.1; using 172.31.199.143 instead (on interface eth0)\n",
      "22/11/22 22:27:05 WARN Utils: Set SPARK_LOCAL_IP if you need to bind to another address\n",
      "WARNING: An illegal reflective access operation has occurred\n",
      "WARNING: Illegal reflective access by org.apache.spark.unsafe.Platform (file:/home/noahs/miniconda3/lib/python3.8/site-packages/pyspark/jars/spark-unsafe_2.12-3.1.2.jar) to constructor java.nio.DirectByteBuffer(long,int)\n",
      "WARNING: Please consider reporting this to the maintainers of org.apache.spark.unsafe.Platform\n",
      "WARNING: Use --illegal-access=warn to enable warnings of further illegal reflective access operations\n",
      "WARNING: All illegal access operations will be denied in a future release\n",
      "22/11/22 22:27:07 WARN NativeCodeLoader: Unable to load native-hadoop library for your platform... using builtin-java classes where applicable\n",
      "Using Spark's default log4j profile: org/apache/spark/log4j-defaults.properties\n",
      "Setting default log level to \"WARN\".\n",
      "To adjust logging level use sc.setLogLevel(newLevel). For SparkR, use setLogLevel(newLevel).\n",
      "22/11/22 22:27:08 WARN Utils: Service 'SparkUI' could not bind on port 4040. Attempting port 4041.\n"
     ]
    }
   ],
   "source": [
    "from model import build_pipeline, build_pipeline_rf, get_evaluator, train_model\n",
    "from pyspark.sql import functions as F\n",
    "from collate import weather_process\n",
    "from clean import run_clean\n",
    "from _global_vars import *\n",
    "import seaborn as sns\n",
    "import pandas as pd\n",
    "import matplotlib.pyplot as plt"
   ],
   "metadata": {
    "collapsed": false,
    "pycharm": {
     "name": "#%%\n"
    }
   }
  },
  {
   "cell_type": "code",
   "execution_count": 2,
   "metadata": {
    "collapsed": false,
    "jupyter": {
     "outputs_hidden": false
    },
    "pycharm": {
     "name": "#%%\n"
    }
   },
   "outputs": [],
   "source": [
    "# Change for full model or subsample\n",
    "subsample = True\n",
    "fit_models = True\n",
    "\n",
    "# weather data location path\n",
    "weather_date_path = \"../data/raw/nyc_weather_date/NYC_2019onwards.csv\""
   ]
  },
  {
   "cell_type": "code",
   "execution_count": 3,
   "outputs": [
    {
     "name": "stderr",
     "output_type": "stream",
     "text": [
      "                                                                                \r"
     ]
    },
    {
     "name": "stdout",
     "output_type": "stream",
     "text": [
      "full dataset counts: 2541382\n",
      "subsampled dataset counts: 12757\n"
     ]
    }
   ],
   "source": [
    "# read in cleaned sdf\n",
    "sdf = spark.read.parquet('../data/curated/yt2019_cleaned.parquet')\n",
    "print(\"full dataset counts: \" + str(sdf.count()))\n",
    "\n",
    "# in development use sampled training set: '2019 NYC Yellow Taxi Data'\n",
    "if subsample:\n",
    "    train = sdf.sample(fraction=0.1, seed=0)\n",
    "    print(\"subsampled dataset counts: \" + str(train.count()))\n",
    "else:\n",
    "   train = sdf"
   ],
   "metadata": {
    "collapsed": false,
    "pycharm": {
     "name": "#%%\n"
    }
   }
  },
  {
   "cell_type": "code",
   "execution_count": 4,
   "metadata": {
    "collapsed": false,
    "jupyter": {
     "outputs_hidden": false
    },
    "pycharm": {
     "name": "#%%\n"
    }
   },
   "outputs": [],
   "source": [
    "model_features = ['VendorID',\n",
    "                  'passenger_count',\n",
    "                  'trip_distance',\n",
    "                  'RatecodeID',\n",
    "                  'PULocationID',\n",
    "                  'DOLocationID',\n",
    "                  'payment_type',\n",
    "                  'congestion_surcharge',\n",
    "                  'PU_hourofday',\n",
    "                  'DO_hourofday',\n",
    "                  'PU_dayofweek',\n",
    "                  'DO_dayofweek',\n",
    "                  'PU_dayofmonth',\n",
    "                  'PU_month',\n",
    "                  'DO_month',\n",
    "                  'trip_time_minutes',\n",
    "                  'trip_speed_mph',\n",
    "                  'tmpf','dwpf','relh']"
   ]
  },
  {
   "cell_type": "code",
   "execution_count": 5,
   "metadata": {
    "collapsed": false,
    "jupyter": {
     "outputs_hidden": false
    },
    "pycharm": {
     "name": "#%%\n"
    }
   },
   "outputs": [
    {
     "data": {
      "text/plain": "['hour_of_day_of_year',\n 'VendorID',\n 'tpep_pickup_datetime',\n 'tpep_dropoff_datetime',\n 'passenger_count',\n 'trip_distance',\n 'RatecodeID',\n 'PULocationID',\n 'DOLocationID',\n 'payment_type',\n 'fare_amount',\n 'tip_amount',\n 'congestion_surcharge',\n 'PU_datetime',\n 'DO_datetime',\n 'PU_hourofday',\n 'DO_hourofday',\n 'PU_dayofweek',\n 'DO_dayofweek',\n 'PU_dayofmonth',\n 'DO_dayofmonth',\n 'PU_month',\n 'DO_month',\n 'trip_time_minutes',\n 'trip_speed_mph',\n 'fare_per_minute',\n 'tmpf',\n 'dwpf',\n 'relh',\n 'is_valid_record']"
     },
     "execution_count": 5,
     "metadata": {},
     "output_type": "execute_result"
    }
   ],
   "source": [
    "# chosen subset of features used in modelling\n",
    "sdf.columns"
   ]
  },
  {
   "cell_type": "markdown",
   "metadata": {
    "pycharm": {
     "name": "#%% md\n"
    }
   },
   "source": [
    "### Load/Build Pipeline"
   ]
  },
  {
   "cell_type": "markdown",
   "metadata": {
    "pycharm": {
     "name": "#%% md\n"
    }
   },
   "source": [
    "Build the pipeline, train the model and export"
   ]
  },
  {
   "cell_type": "code",
   "execution_count": 6,
   "metadata": {
    "collapsed": false,
    "jupyter": {
     "outputs_hidden": false
    },
    "pycharm": {
     "name": "#%%\n"
    }
   },
   "outputs": [],
   "source": [
    "# get pipeline objects\n",
    "pipeline = build_pipeline(model_features)\n",
    "pipeline_rf = build_pipeline_rf(model_features)"
   ]
  },
  {
   "cell_type": "markdown",
   "source": [],
   "metadata": {
    "collapsed": false,
    "pycharm": {
     "name": "#%% md\n"
    }
   }
  },
  {
   "cell_type": "code",
   "execution_count": 7,
   "outputs": [
    {
     "name": "stderr",
     "output_type": "stream",
     "text": [
      "                                                                                \r"
     ]
    }
   ],
   "source": [
    "if fit_models:\n",
    "    # train the model on the dataset\n",
    "    model = train_model(train, pipeline) #GBT\n",
    "    model2 = train_model(train, pipeline_rf) #RF\n",
    "\n",
    "    # save the models\n",
    "    if subsample:\n",
    "        model.write().overwrite().save('../models/GBTModel_2019_subsampled')\n",
    "        model2.write().overwrite().save('../models/RFModel_2019_subsampled')\n",
    "    else:\n",
    "        model.write().overwrite().save('../models/GBTModel_2019')\n",
    "        model2.write().overwrite().save('../models/RFModel_2019')\n",
    "else:\n",
    "    # load the models from disk\n",
    "    # NOTE: if running models from a different server need to remove .crc files\n",
    "    if subsample:\n",
    "        model = pipeline.load(path='../models/GBTModel_2019_subsampled')\n",
    "        model2 = pipeline_rf.load(path='../models/RFModel_2019_subsampled')\n",
    "    else:\n",
    "        model = pipeline.load(path='../models/GBTmodel_2019')\n",
    "        model2 = pipeline_rf.load(path='../models/RFmodel_2019')"
   ],
   "metadata": {
    "collapsed": false,
    "pycharm": {
     "name": "#%%\n"
    }
   }
  },
  {
   "cell_type": "markdown",
   "metadata": {
    "pycharm": {
     "name": "#%% md\n"
    }
   },
   "source": [
    "Transform 2021 datasets for evaluation"
   ]
  },
  {
   "cell_type": "code",
   "execution_count": 8,
   "outputs": [],
   "source": [
    "# TODO IMPLEMENT SUBSAMPLING HERE?"
   ],
   "metadata": {
    "collapsed": false,
    "pycharm": {
     "name": "#%%\n"
    }
   }
  },
  {
   "cell_type": "code",
   "execution_count": 9,
   "metadata": {
    "collapsed": false,
    "jupyter": {
     "outputs_hidden": false
    },
    "pycharm": {
     "name": "#%%\n"
    }
   },
   "outputs": [],
   "source": [
    "# read in raw 2021 taxi+weather data & confirm\n",
    "sdf_2021 = spark.read.parquet('../data/raw/tlc_data/tlc_data_yellow/2021*')\n",
    "\n",
    "# read and process weather data\n",
    "weather_sdf = spark.read.csv(weather_date_path, header=True, inferSchema=True)\n",
    "weather_sdf = weather_process(weather_sdf)"
   ]
  },
  {
   "cell_type": "code",
   "execution_count": 10,
   "metadata": {
    "collapsed": false,
    "jupyter": {
     "outputs_hidden": false
    },
    "pycharm": {
     "name": "#%%\n"
    }
   },
   "outputs": [
    {
     "name": "stdout",
     "output_type": "stream",
     "text": [
      "Before cleaning:  1369769\n"
     ]
    },
    {
     "name": "stderr",
     "output_type": "stream",
     "text": [
      "[Stage 90:================================================>         (5 + 1) / 6]\r"
     ]
    },
    {
     "name": "stdout",
     "output_type": "stream",
     "text": [
      "After cleaning:  1160569\n"
     ]
    },
    {
     "name": "stderr",
     "output_type": "stream",
     "text": [
      "                                                                                \r"
     ]
    }
   ],
   "source": [
    "print(\"Before cleaning: \", sdf_2021.count())\n",
    "sdf_2021 = run_clean(sdf_2021)\n",
    "print(\"After cleaning: \", sdf_2021.count())"
   ]
  },
  {
   "cell_type": "code",
   "execution_count": 11,
   "metadata": {
    "collapsed": false,
    "jupyter": {
     "outputs_hidden": false
    },
    "pycharm": {
     "name": "#%%\n"
    }
   },
   "outputs": [],
   "source": [
    "# join weather and taxi datasets\n",
    "sdf_2021_comb = sdf_2021.join(weather_sdf, on=['hour_of_day_of_year'], how='inner')"
   ]
  },
  {
   "cell_type": "markdown",
   "metadata": {
    "pycharm": {
     "name": "#%% md\n"
    }
   },
   "source": [
    "Get model predictions and inspect feature importances"
   ]
  },
  {
   "cell_type": "code",
   "execution_count": 12,
   "metadata": {
    "collapsed": false,
    "jupyter": {
     "outputs_hidden": false
    },
    "pycharm": {
     "name": "#%%\n"
    }
   },
   "outputs": [],
   "source": [
    "preds_2021 = model.transform(sdf_2021_comb)\n",
    "preds_2021_rf = model2.transform(sdf_2021_comb)"
   ]
  },
  {
   "cell_type": "markdown",
   "metadata": {
    "pycharm": {
     "name": "#%% md\n"
    }
   },
   "source": [
    "Evaluate model predictions"
   ]
  },
  {
   "cell_type": "code",
   "execution_count": 13,
   "outputs": [],
   "source": [
    "# Source: timlrx.com/blog/feature-selection-using-feature-importance-score-creating-a-pyspark-estimator\n",
    "def extract_feature_imp(featureImp, dataset, featuresCol):\n",
    "    list_extract = []\n",
    "    for i in dataset.schema[featuresCol].metadata[\"ml_attr\"][\"attrs\"]:\n",
    "        list_extract = list_extract + dataset.schema[featuresCol].metadata[\"ml_attr\"][\"attrs\"][i]\n",
    "    varlist = pd.DataFrame(list_extract)\n",
    "    varlist['score'] = varlist['idx'].apply(lambda x: featureImp[x])\n",
    "    return varlist.sort_values('score', ascending = False)"
   ],
   "metadata": {
    "collapsed": false,
    "pycharm": {
     "name": "#%%\n"
    }
   }
  },
  {
   "cell_type": "code",
   "execution_count": 14,
   "outputs": [],
   "source": [
    "def evaluate_predictions(m, p, name):\n",
    "    # get evaluator\n",
    "    e = get_evaluator(\"rmse\")\n",
    "    rmse = e.evaluate(p)\n",
    "    print(f\"Root Mean Squared Error (RMSE) on 2021 test data ({name}) = {rmse}\")\n",
    "\n",
    "    e.setMetricName(\"mae\")\n",
    "    mae = e.evaluate(p)\n",
    "    print(f\"Mean Absoulute Error (MAE) on 2021 test data ({name}) = {mae}\")\n",
    "\n",
    "    e.setMetricName(\"mse\")\n",
    "    mse = e.evaluate(p)\n",
    "    print(f\"Mean Squared Error (MAE) on 2021 test data ({name}) = {mse}\")\n",
    "\n",
    "    e.setMetricName(\"var\")\n",
    "    var = e.evaluate(p)\n",
    "    print(f\"Explained Variance (VAR) on 2021 test data ({name}) = {var}\")\n",
    "\n",
    "    e.setMetricName(\"r2\")\n",
    "    r2 = e.evaluate(p)\n",
    "    print(f\"R2 on 2021 test data ({name}) = {r2}\")\n",
    "\n",
    "    # get raw feature importance' from model\n",
    "    fi = m.stages[1].featureImportances\n",
    "\n",
    "    # display fi's\n",
    "    print(extract_feature_imp(fi, p, \"features\").round(decimals=4).head(4))\n",
    "\n",
    "    pass"
   ],
   "metadata": {
    "collapsed": false,
    "pycharm": {
     "name": "#%%\n"
    }
   }
  },
  {
   "cell_type": "code",
   "execution_count": 15,
   "outputs": [
    {
     "name": "stderr",
     "output_type": "stream",
     "text": [
      "22/11/22 22:27:42 WARN BLAS: Failed to load implementation from: com.github.fommil.netlib.NativeSystemBLAS\n",
      "22/11/22 22:27:42 WARN BLAS: Failed to load implementation from: com.github.fommil.netlib.NativeRefBLAS\n",
      "                                                                                \r"
     ]
    },
    {
     "name": "stdout",
     "output_type": "stream",
     "text": [
      "Root Mean Squared Error (RMSE) on 2021 test data (GBT) = 1.5684762977153541\n"
     ]
    },
    {
     "name": "stderr",
     "output_type": "stream",
     "text": [
      "                                                                                \r"
     ]
    },
    {
     "name": "stdout",
     "output_type": "stream",
     "text": [
      "Mean Absoulute Error (MAE) on 2021 test data (GBT) = 0.6953042955631\n"
     ]
    },
    {
     "name": "stderr",
     "output_type": "stream",
     "text": [
      "                                                                                \r"
     ]
    },
    {
     "name": "stdout",
     "output_type": "stream",
     "text": [
      "Mean Squared Error (MAE) on 2021 test data (GBT) = 2.460117896494864\n"
     ]
    },
    {
     "name": "stderr",
     "output_type": "stream",
     "text": [
      "                                                                                \r"
     ]
    },
    {
     "name": "stdout",
     "output_type": "stream",
     "text": [
      "Explained Variance (VAR) on 2021 test data (GBT) = 55.3146908604567\n"
     ]
    },
    {
     "name": "stderr",
     "output_type": "stream",
     "text": [
      "[Stage 110:===============================================>         (5 + 1) / 6]\r"
     ]
    },
    {
     "name": "stdout",
     "output_type": "stream",
     "text": [
      "R2 on 2021 test data (GBT) = 0.956882125625404\n",
      "    idx               name   score\n",
      "2     2      trip_distance  0.7497\n",
      "15   15  trip_time_minutes  0.2257\n",
      "16   16     trip_speed_mph  0.0154\n",
      "5     5       DOLocationID  0.0030\n"
     ]
    },
    {
     "name": "stderr",
     "output_type": "stream",
     "text": [
      "                                                                                \r"
     ]
    }
   ],
   "source": [
    "# evaluate GBT models predictions\n",
    "evaluate_predictions(model, preds_2021, \"GBT\")"
   ],
   "metadata": {
    "collapsed": false,
    "pycharm": {
     "name": "#%%\n"
    }
   }
  },
  {
   "cell_type": "code",
   "execution_count": 16,
   "outputs": [
    {
     "name": "stderr",
     "output_type": "stream",
     "text": [
      "                                                                                \r"
     ]
    },
    {
     "name": "stdout",
     "output_type": "stream",
     "text": [
      "Root Mean Squared Error (RMSE) on 2021 test data (RF) = 1.7473967475262557\n"
     ]
    },
    {
     "name": "stderr",
     "output_type": "stream",
     "text": [
      "                                                                                \r"
     ]
    },
    {
     "name": "stdout",
     "output_type": "stream",
     "text": [
      "Mean Absoulute Error (MAE) on 2021 test data (RF) = 0.7351766667941754\n"
     ]
    },
    {
     "name": "stderr",
     "output_type": "stream",
     "text": [
      "                                                                                \r"
     ]
    },
    {
     "name": "stdout",
     "output_type": "stream",
     "text": [
      "Mean Squared Error (MAE) on 2021 test data (RF) = 3.0533953932653373\n"
     ]
    },
    {
     "name": "stderr",
     "output_type": "stream",
     "text": [
      "                                                                                \r"
     ]
    },
    {
     "name": "stdout",
     "output_type": "stream",
     "text": [
      "Explained Variance (VAR) on 2021 test data (RF) = 45.48627346901265\n"
     ]
    },
    {
     "name": "stderr",
     "output_type": "stream",
     "text": [
      "[Stage 130:===============================================>         (5 + 1) / 6]\r"
     ]
    },
    {
     "name": "stdout",
     "output_type": "stream",
     "text": [
      "R2 on 2021 test data (RF) = 0.9464838985276411\n",
      "    idx               name   score\n",
      "2     2      trip_distance  0.5191\n",
      "15   15  trip_time_minutes  0.3735\n",
      "16   16     trip_speed_mph  0.0752\n",
      "4     4       PULocationID  0.0214\n"
     ]
    },
    {
     "name": "stderr",
     "output_type": "stream",
     "text": [
      "                                                                                \r"
     ]
    }
   ],
   "source": [
    "# evaluate RF models predictions\n",
    "evaluate_predictions(model2, preds_2021_rf, \"RF\")"
   ],
   "metadata": {
    "collapsed": false,
    "pycharm": {
     "name": "#%%\n"
    }
   }
  },
  {
   "cell_type": "markdown",
   "metadata": {
    "pycharm": {
     "name": "#%% md\n"
    }
   },
   "source": [
    "---\n",
    "### Error analysis\n",
    "---"
   ]
  },
  {
   "cell_type": "markdown",
   "source": [
    "##### Gradient Boosted Tree Model"
   ],
   "metadata": {
    "collapsed": false,
    "pycharm": {
     "name": "#%% md\n"
    }
   }
  },
  {
   "cell_type": "code",
   "execution_count": 17,
   "metadata": {
    "collapsed": false,
    "jupyter": {
     "outputs_hidden": false
    },
    "pycharm": {
     "name": "#%%\n"
    }
   },
   "outputs": [],
   "source": [
    "preds_2021 = preds_2021.withColumn(\n",
    "    'prediction_error',\n",
    "    (F.col('fare_amount') - (F.col('prediction')))\n",
    ")"
   ]
  },
  {
   "cell_type": "code",
   "execution_count": 18,
   "metadata": {
    "collapsed": false,
    "jupyter": {
     "outputs_hidden": false
    },
    "pycharm": {
     "name": "#%%\n"
    }
   },
   "outputs": [
    {
     "name": "stderr",
     "output_type": "stream",
     "text": [
      "22/11/22 22:28:34 WARN package: Truncated the string representation of a plan since it was too large. This behavior can be adjusted by setting 'spark.sql.debug.maxToStringFields'.\n"
     ]
    },
    {
     "name": "stdout",
     "output_type": "stream",
     "text": [
      "+------------------+-----------+-------------------+--------------------+\n",
      "|        prediction|fare_amount|   prediction_error|            features|\n",
      "+------------------+-----------+-------------------+--------------------+\n",
      "| 7.487162799707639|        8.0| 0.5128372002923607|[1.0,1.0,2.1,1.0,...|\n",
      "| 46.46454789328134|       42.0| -4.464547893281342|[1.0,1.0,14.7,1.0...|\n",
      "| 15.91080474963585|       16.5| 0.5891952503641509|[2.0,1.0,4.94,1.0...|\n",
      "| 7.563133987396279|        8.0|0.43686601260372093|[1.0,1.0,1.6,1.0,...|\n",
      "|15.627538136575591|       16.0| 0.3724618634244088|[1.0,1.0,4.1,1.0,...|\n",
      "+------------------+-----------+-------------------+--------------------+\n",
      "only showing top 5 rows\n",
      "\n"
     ]
    }
   ],
   "source": [
    "preds_2021.select(\"prediction\", \"fare_amount\", 'prediction_error',\"features\").show(5)"
   ]
  },
  {
   "cell_type": "code",
   "execution_count": 19,
   "metadata": {
    "collapsed": false,
    "jupyter": {
     "outputs_hidden": false
    },
    "pycharm": {
     "name": "#%%\n"
    }
   },
   "outputs": [
    {
     "name": "stderr",
     "output_type": "stream",
     "text": [
      "                                                                                \r"
     ]
    }
   ],
   "source": [
    "# export predictions errors? -> never -> graph them instead\n",
    "preds_df = preds_2021 \\\n",
    "                    .select(\"prediction\",\n",
    "                                \"fare_amount\",\n",
    "                                'prediction_error') \\\n",
    "                    .sample(fraction=0.005, seed=0) \\\n",
    "                    .toPandas()"
   ]
  },
  {
   "cell_type": "code",
   "execution_count": 20,
   "metadata": {
    "collapsed": false,
    "jupyter": {
     "outputs_hidden": false
    },
    "pycharm": {
     "name": "#%%\n"
    }
   },
   "outputs": [],
   "source": [
    "# remove extremely wrong predictions for visualisations\n",
    "preds_df_cull = preds_df[preds_df['prediction_error'] <= 60]"
   ]
  },
  {
   "cell_type": "code",
   "execution_count": 21,
   "metadata": {
    "collapsed": false,
    "jupyter": {
     "outputs_hidden": false
    },
    "pycharm": {
     "name": "#%%\n"
    }
   },
   "outputs": [
    {
     "data": {
      "text/plain": "<AxesSubplot:xlabel='prediction_error', ylabel='Density'>"
     },
     "execution_count": 21,
     "metadata": {},
     "output_type": "execute_result"
    },
    {
     "data": {
      "text/plain": "<Figure size 432x288 with 1 Axes>",
      "image/png": "[encoded data removed]"
     },
     "metadata": {},
     "output_type": "display_data"
    }
   ],
   "source": [
    "sns.histplot(x=preds_df_cull['prediction_error'], bins=200, kde=True, stat='density')"
   ]
  },
  {
   "cell_type": "code",
   "execution_count": 22,
   "metadata": {
    "collapsed": false,
    "jupyter": {
     "outputs_hidden": false
    },
    "pycharm": {
     "name": "#%%\n"
    }
   },
   "outputs": [
    {
     "data": {
      "text/plain": "<AxesSubplot:xlabel='prediction_error'>"
     },
     "execution_count": 22,
     "metadata": {},
     "output_type": "execute_result"
    },
    {
     "data": {
      "text/plain": "<Figure size 432x288 with 1 Axes>",
      "image/png": "[encoded data removed]"
     },
     "metadata": {},
     "output_type": "display_data"
    }
   ],
   "source": [
    "sns.boxplot(x=preds_df_cull['prediction_error'])\n",
    "#sns.boxplot(x=preds_df_cull['fare_amount'])"
   ]
  },
  {
   "cell_type": "markdown",
   "metadata": {
    "pycharm": {
     "name": "#%% md\n"
    }
   },
   "source": [
    "Predictions vs true fare amounts distributions"
   ]
  },
  {
   "cell_type": "code",
   "execution_count": 23,
   "metadata": {
    "collapsed": false,
    "jupyter": {
     "outputs_hidden": false
    },
    "pycharm": {
     "name": "#%%\n"
    }
   },
   "outputs": [
    {
     "data": {
      "text/plain": "count      5849\nunique        2\ntop       False\nfreq       3094\nName: prediction_error, dtype: object"
     },
     "execution_count": 23,
     "metadata": {},
     "output_type": "execute_result"
    }
   ],
   "source": [
    "(preds_df_cull['prediction_error'] <= 0).describe()"
   ]
  },
  {
   "cell_type": "code",
   "execution_count": 26,
   "metadata": {
    "collapsed": false,
    "jupyter": {
     "outputs_hidden": false
    },
    "pycharm": {
     "name": "#%%\n"
    }
   },
   "outputs": [
    {
     "data": {
      "text/plain": "<Figure size 432x288 with 1 Axes>",
      "image/png": "[encoded data removed]"
     },
     "metadata": {},
     "output_type": "display_data"
    }
   ],
   "source": [
    "sns.histplot(x=preds_df_cull['prediction'],  bins=200, kde=True, stat='density', color=\"red\", label=\"Predictions\")\n",
    "sns.histplot(x=preds_df_cull['fare_amount'],  bins=200, kde=True, stat='density', color=\"skyblue\", label=\"True Fare Amounts\")\n",
    "plt.legend()\n",
    "plt.xlim(-20, 60)\n",
    "plt.ylim(0, 0.3)\n",
    "#plt.show()\n",
    "plt.savefig('../plots/preds_vs_true.png', dpi=300)"
   ]
  },
  {
   "cell_type": "code",
   "execution_count": 25,
   "metadata": {
    "collapsed": false,
    "jupyter": {
     "outputs_hidden": false
    },
    "pycharm": {
     "name": "#%%\n"
    }
   },
   "outputs": [
    {
     "data": {
      "text/plain": "<Figure size 432x288 with 1 Axes>",
      "image/png": "[encoded data removed]"
     },
     "metadata": {},
     "output_type": "display_data"
    }
   ],
   "source": [
    "preds_boxplot_df = preds_df_cull[['prediction', 'fare_amount']]\n",
    "preds_vs_fare = sns.boxplot(data=preds_boxplot_df)\n",
    "plt.title(\"Predictions vs. True Fare Amounts\")\n",
    "#plt.legend()\n",
    "plt.savefig('../plots/preds_vs_fare_boxplot.png')"
   ]
  }
 ],
 "metadata": {
  "kernelspec": {
   "display_name": "Python 3 (ipykernel)",
   "language": "python",
   "name": "python3"
  },
  "language_info": {
   "codemirror_mode": {
    "name": "ipython",
    "version": 3
   },
   "file_extension": ".py",
   "mimetype": "text/x-python",
   "name": "python",
   "nbconvert_exporter": "python",
   "pygments_lexer": "ipython3",
   "version": "3.8.13"
  }
 },
 "nbformat": 4,
 "nbformat_minor": 4
}