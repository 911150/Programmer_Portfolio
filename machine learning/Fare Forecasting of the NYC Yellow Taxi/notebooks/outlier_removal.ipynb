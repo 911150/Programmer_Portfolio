{
 "cells": [
  {
   "cell_type": "code",
   "execution_count": 1,
   "outputs": [
    {
     "name": "stderr",
     "output_type": "stream",
     "text": [
      "22/11/22 17:23:30 WARN Utils: Your hostname, LAPTOP-VAB0S7AL resolves to a loopback address: 127.0.1.1; using 172.31.199.143 instead (on interface eth0)\n",
      "22/11/22 17:23:30 WARN Utils: Set SPARK_LOCAL_IP if you need to bind to another address\n",
      "WARNING: An illegal reflective access operation has occurred\n",
      "WARNING: Illegal reflective access by org.apache.spark.unsafe.Platform (file:/home/noahs/miniconda3/lib/python3.8/site-packages/pyspark/jars/spark-unsafe_2.12-3.1.2.jar) to constructor java.nio.DirectByteBuffer(long,int)\n",
      "WARNING: Please consider reporting this to the maintainers of org.apache.spark.unsafe.Platform\n",
      "WARNING: Use --illegal-access=warn to enable warnings of further illegal reflective access operations\n",
      "WARNING: All illegal access operations will be denied in a future release\n",
      "22/11/22 17:23:31 WARN NativeCodeLoader: Unable to load native-hadoop library for your platform... using builtin-java classes where applicable\n",
      "Using Spark's default log4j profile: org/apache/spark/log4j-defaults.properties\n",
      "Setting default log level to \"WARN\".\n",
      "To adjust logging level use sc.setLogLevel(newLevel). For SparkR, use setLogLevel(newLevel).\n"
     ]
    }
   ],
   "source": [
    "from _global_vars import *\n",
    "from clean import get_outliers_df, remove_outliers"
   ],
   "metadata": {
    "collapsed": false,
    "pycharm": {
     "name": "#%%\n"
    }
   }
  },
  {
   "cell_type": "code",
   "execution_count": 2,
   "metadata": {
    "collapsed": false,
    "jupyter": {
     "outputs_hidden": false
    },
    "pycharm": {
     "name": "#%%\n"
    }
   },
   "outputs": [],
   "source": [
    "# read in cleaned df\n",
    "sdf = spark.read.parquet('../data/curated/yt2019_feature_eng.parquet')\n",
    "#sdf.show(1, vertical=True, truncate=100)"
   ]
  },
  {
   "cell_type": "code",
   "execution_count": 3,
   "metadata": {
    "collapsed": false,
    "jupyter": {
     "outputs_hidden": false
    },
    "pycharm": {
     "name": "#%%\n"
    }
   },
   "outputs": [
    {
     "data": {
      "text/plain": "7692971"
     },
     "execution_count": 3,
     "metadata": {},
     "output_type": "execute_result"
    }
   ],
   "source": [
    "# Note current record count\n",
    "sdf.count()"
   ]
  },
  {
   "cell_type": "markdown",
   "metadata": {
    "pycharm": {
     "name": "#%% md\n"
    }
   },
   "source": [
    "---\n",
    "## Erroneous record cleaning\n",
    "---"
   ]
  },
  {
   "cell_type": "markdown",
   "metadata": {
    "pycharm": {
     "name": "#%% md\n"
    }
   },
   "source": [
    "### Filters (reflective of findings from univariate/preliminary analysis)\n",
    "* Restrict range of passenger_count (1:6) [drop other records]\n",
    "* Only take 312miles > trip distances > 0 (3 hours at maximum speed)\n",
    "* Fares capped at $500 (0:500)\n",
    "* remove trips with average speed over 104 mph and remove trips less than 1 mph\n",
    "* Limit trip times to under 5 hours (300 minutes) (more than it takes to drive entire perimeter of nyc)\n",
    "* Trips with a time of less than 2 minutes should be excluded => not very realistic => passenger may have cancelled\n",
    "* Congestion surcharge capped at 10 usd -> any records beyond this can go away\n",
    "* Ratecode == 1 and fare < 2.5"
   ]
  },
  {
   "cell_type": "code",
   "execution_count": 4,
   "metadata": {
    "collapsed": false,
    "jupyter": {
     "outputs_hidden": false
    },
    "pycharm": {
     "name": "#%%\n"
    }
   },
   "outputs": [
    {
     "name": "stdout",
     "output_type": "stream",
     "text": [
      "                        0  prop_of_total\n",
      "congestion        4884448       0.634923\n",
      "ratecode_min_fee   273595       0.035564\n",
      "t_time             209885       0.027283\n",
      "DOLocation         165931       0.021569\n",
      "PULocationID       163645       0.021272\n",
      "passenger_count    146056       0.018986\n",
      "t_speed             85634       0.011131\n",
      "vendorid            76890       0.009995\n",
      "pay_type            72971       0.009485\n",
      "trip_distance       55016       0.007151\n",
      "rcode_id            28917       0.003759\n",
      "fare_amount          9797       0.001274\n",
      "tip_amount            105       0.000014\n"
     ]
    }
   ],
   "source": [
    "# get & inspect outlier breakdown from helper function\n",
    "outlier_df = get_outliers_df(sdf)\n",
    "print(outlier_df.sort_values('prop_of_total', ascending=False))"
   ]
  },
  {
   "cell_type": "code",
   "execution_count": 5,
   "metadata": {
    "collapsed": false,
    "jupyter": {
     "outputs_hidden": false
    },
    "pycharm": {
     "name": "#%%\n"
    }
   },
   "outputs": [
    {
     "name": "stderr",
     "output_type": "stream",
     "text": [
      "                                                                                \r"
     ]
    },
    {
     "name": "stdout",
     "output_type": "stream",
     "text": [
      "+---------------+-------+\n",
      "|is_valid_record|  count|\n",
      "+---------------+-------+\n",
      "|           true|2541382|\n",
      "|          false|5151589|\n",
      "+---------------+-------+\n",
      "\n"
     ]
    }
   ],
   "source": [
    "# apply outlier detection to df\n",
    "sdf = remove_outliers(sdf)\n",
    "sdf.groupBy(\"is_valid_record\").count().show()"
   ]
  },
  {
   "cell_type": "code",
   "execution_count": 6,
   "metadata": {
    "collapsed": false,
    "jupyter": {
     "outputs_hidden": false
    },
    "pycharm": {
     "name": "#%%\n"
    }
   },
   "outputs": [
    {
     "name": "stderr",
     "output_type": "stream",
     "text": [
      "                                                                                \r"
     ]
    },
    {
     "data": {
      "text/plain": "2541382"
     },
     "execution_count": 6,
     "metadata": {},
     "output_type": "execute_result"
    }
   ],
   "source": [
    "# remove bad records\n",
    "sdf_filtered = sdf.filter(sdf.is_valid_record == True)\n",
    "sdf_filtered.count()"
   ]
  },
  {
   "cell_type": "code",
   "execution_count": 7,
   "metadata": {
    "collapsed": false,
    "jupyter": {
     "outputs_hidden": false
    },
    "pycharm": {
     "name": "#%%\n"
    }
   },
   "outputs": [
    {
     "name": "stderr",
     "output_type": "stream",
     "text": [
      "[Stage 43:==================================================>       (7 + 1) / 8]\r"
     ]
    },
    {
     "name": "stdout",
     "output_type": "stream",
     "text": [
      "+-------+------------------+------------------+--------------------+------------------+-----------------+\n",
      "|summary|        tip_amount|     trip_distance|congestion_surcharge|   passenger_count|      fare_amount|\n",
      "+-------+------------------+------------------+--------------------+------------------+-----------------+\n",
      "|  count|           2541382|           2541382|             2541382|           2541382|          2541382|\n",
      "|   mean|1.7463542316735217| 2.434506898215296|3.049521874318776...| 1.588333040841558|11.23601370435456|\n",
      "| stddev|1.9553641075454762|2.7526498333644738|0.008731388600784333|1.2225514988918524|7.972077734229534|\n",
      "|    min|               0.0|              0.04|                 0.0|               1.0|              2.5|\n",
      "|    max|             444.8|              52.1|                 2.5|               6.0|            169.0|\n",
      "+-------+------------------+------------------+--------------------+------------------+-----------------+\n",
      "\n"
     ]
    },
    {
     "name": "stderr",
     "output_type": "stream",
     "text": [
      "                                                                                \r"
     ]
    }
   ],
   "source": [
    "# inspect summary statistics\n",
    "summary_stats_continuous = sdf_filtered.describe(*non_categorical_features)\n",
    "summary_stats_continuous.show()"
   ]
  },
  {
   "cell_type": "code",
   "execution_count": 8,
   "metadata": {
    "collapsed": false,
    "jupyter": {
     "outputs_hidden": false
    },
    "pycharm": {
     "name": "#%%\n"
    }
   },
   "outputs": [
    {
     "name": "stderr",
     "output_type": "stream",
     "text": [
      "22/11/22 17:23:48 WARN package: Truncated the string representation of a plan since it was too large. This behavior can be adjusted by setting 'spark.sql.debug.maxToStringFields'.\n",
      "                                                                                \r"
     ]
    }
   ],
   "source": [
    "sdf_filtered.write.mode('overwrite').parquet(export_relative_dir + \"yt2019_cleaned.parquet\")"
   ]
  },
  {
   "cell_type": "markdown",
   "source": [],
   "metadata": {
    "collapsed": false,
    "pycharm": {
     "name": "#%% md\n"
    }
   }
  },
  {
   "cell_type": "code",
   "execution_count": 9,
   "metadata": {
    "pycharm": {
     "name": "#%%\n"
    }
   },
   "outputs": [],
   "source": [
    "spark.sql(\"CLEAR CACHE\")\n",
    "spark.stop()"
   ]
  },
  {
   "cell_type": "markdown",
   "source": [],
   "metadata": {
    "collapsed": false,
    "pycharm": {
     "name": "#%% md\n"
    }
   }
  }
 ],
 "metadata": {
  "kernelspec": {
   "display_name": "Python 3 (ipykernel)",
   "language": "python",
   "name": "python3"
  },
  "language_info": {
   "codemirror_mode": {
    "name": "ipython",
    "version": 3
   },
   "file_extension": ".py",
   "mimetype": "text/x-python",
   "name": "python",
   "nbconvert_exporter": "python",
   "pygments_lexer": "ipython3",
   "version": "3.8.13"
  }
 },
 "nbformat": 4,
 "nbformat_minor": 4
}