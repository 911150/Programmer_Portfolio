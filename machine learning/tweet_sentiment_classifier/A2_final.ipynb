{
 "cells": [
  {
   "cell_type": "code",
   "execution_count": 4,
   "outputs": [
    {
     "name": "stderr",
     "output_type": "stream",
     "text": [
      "[nltk_data] Downloading package stopwords to /home/noahs/nltk_data...\n",
      "[nltk_data]   Package stopwords is already up-to-date!\n"
     ]
    }
   ],
   "source": [
    "import pandas as pd\n",
    "import seaborn as sns\n",
    "from collections import Counter\n",
    "import nltk\n",
    "nltk.download('stopwords')\n",
    "\n",
    "# modelling\n",
    "from sklearn.ensemble import RandomForestClassifier, StackingClassifier, VotingClassifier\n",
    "from sklearn.svm import LinearSVC\n",
    "from sklearn.linear_model import LogisticRegression\n",
    "from sklearn.naive_bayes import MultinomialNB\n",
    "from sklearn.feature_extraction.text import CountVectorizer, TfidfVectorizer\n",
    "from sklearn.model_selection import cross_val_score\n",
    "\n",
    "# sampling\n",
    "from imblearn.under_sampling import RandomUnderSampler\n",
    "from imblearn.over_sampling import RandomOverSampler\n",
    "\n",
    "# udf\n",
    "from functions import preprocess_tweets"
   ],
   "metadata": {
    "collapsed": false,
    "pycharm": {
     "name": "#%%\n"
    }
   }
  },
  {
   "cell_type": "markdown",
   "source": [
    "Initialise and inspect"
   ],
   "metadata": {
    "collapsed": false,
    "pycharm": {
     "name": "#%% md\n"
    }
   }
  },
  {
   "cell_type": "code",
   "execution_count": 5,
   "outputs": [],
   "source": [
    "\n",
    "# read in data\n",
    "train_data = pd.read_csv(\"Train.csv\", sep=',')\n",
    "test_data = pd.read_csv(\"Test.csv\", sep=',') # this should only be used for the submission\n",
    "cols = train_data.columns"
   ],
   "metadata": {
    "collapsed": false,
    "pycharm": {
     "name": "#%%\n"
    }
   }
  },
  {
   "cell_type": "code",
   "execution_count": 6,
   "metadata": {
    "collapsed": true,
    "pycharm": {
     "name": "#%%\n"
    }
   },
   "outputs": [
    {
     "data": {
      "text/plain": "<seaborn.axisgrid.FacetGrid at 0x7f0dc92e6640>"
     },
     "execution_count": 6,
     "metadata": {},
     "output_type": "execute_result"
    },
    {
     "data": {
      "text/plain": "<Figure size 360x360 with 1 Axes>",
      "image/png": "[encoded data removed]"
     },
     "metadata": {},
     "output_type": "display_data"
    }
   ],
   "source": [
    "# Plot class distributions\n",
    "sns.displot([x[0] for x in train_data[['sentiment']].values], discrete=True, bins=3)"
   ]
  },
  {
   "cell_type": "code",
   "execution_count": 7,
   "outputs": [
    {
     "name": "stdout",
     "output_type": "stream",
     "text": [
      "Class distributions in Training set:  Counter({'neutral': 12659, 'positive': 5428, 'negative': 3715})\n",
      "Number of samples in Kaggle Testing set:  6099\n",
      "Raw tweet example:  is anybody going to the radio station tomorrow to see shawn? me and my friend may go but we would like to make new friends/meet there (:\t\n",
      " with sentiment: (positive)\n"
     ]
    }
   ],
   "source": [
    "# Extract raw training tweets from df\n",
    "X_train_raw = [x[0] for x in train_data[['text']].values]\n",
    "\n",
    "# Extract raw training sentiment data from df\n",
    "Y_train = [x[0] for x in train_data[['sentiment']].values] # y training data\n",
    "\n",
    "# Extract test tweets from test.csv/test_data df\n",
    "X_test_raw = [x[0] for x in test_data[['text']].values]\n",
    "\n",
    "print(\"Class distributions in Training set: \", Counter(Y_train))\n",
    "print(\"Number of samples in Kaggle Testing set: \", len(X_test_raw))\n",
    "print(\"Raw tweet example: {}\\n with sentiment: ({})\".format(X_train_raw[1], Y_train[1]))"
   ],
   "metadata": {
    "collapsed": false,
    "pycharm": {
     "name": "#%%\n"
    }
   }
  },
  {
   "cell_type": "markdown",
   "source": [
    "Data cleaning"
   ],
   "metadata": {
    "collapsed": false,
    "pycharm": {
     "name": "#%% md\n"
    }
   }
  },
  {
   "cell_type": "code",
   "execution_count": 8,
   "outputs": [
    {
     "name": "stdout",
     "output_type": "stream",
     "text": [
      "Cleaned tweet example:\n",
      " anybodi go radio station tomorrow see shawn friend may go would like make new friend meet emojismil\n",
      "with sentiment: (positive)\n"
     ]
    }
   ],
   "source": [
    "# Clean the training and test data\n",
    "X_train_clean = [preprocess_tweets(tweet) for tweet in X_train_raw] # X training data\n",
    "\n",
    "# -> Kaggle Parts\n",
    "X_test_clean = [preprocess_tweets(tweet) for tweet in X_test_raw] # for final submission on kaggle\n",
    "# extract labels for future predictions\n",
    "Y_test_labels = [x[0] for x in test_data[['id']].values]\n",
    "# <- End Kaggle Parts\n",
    "\n",
    "# inspect a cleaned tweet\n",
    "print(\"Cleaned tweet example:\\n {}\\nwith sentiment: ({})\".format(X_train_clean[1], Y_train[1]))"
   ],
   "metadata": {
    "collapsed": false,
    "pycharm": {
     "name": "#%%\n"
    }
   }
  },
  {
   "cell_type": "markdown",
   "source": [
    "Initialise Classifiers"
   ],
   "metadata": {
    "collapsed": false,
    "pycharm": {
     "name": "#%% md\n"
    }
   }
  },
  {
   "cell_type": "code",
   "execution_count": 9,
   "outputs": [],
   "source": [
    "LR = LogisticRegression(random_state=1, C=1.0, max_iter=2000)\n",
    "RFC = RandomForestClassifier(random_state=1, criterion='gini', n_estimators=100)\n",
    "LSVC = LinearSVC(C=0.1)\n",
    "MNB = MultinomialNB(alpha=1)\n",
    "\n",
    "# TODO: remove this f i dont use it\n",
    "LR_base = LogisticRegression(random_state=1, C=1.0, max_iter=2000)\n",
    "RFC_base = RandomForestClassifier(random_state=1, criterion='gini', n_estimators=100)\n",
    "LSVC_base = LinearSVC(C=0.1)\n",
    "MNB_base = MultinomialNB(alpha=1)\n",
    "\n",
    "estimators = [('lr',LR),\n",
    "              ('rf', RFC),\n",
    "              ('lsvc', LSVC),\n",
    "              ('mnb', MNB)]\n",
    "\n",
    "stacking_clf = StackingClassifier(estimators=estimators, final_estimator=LogisticRegression())\n",
    "ensemble_clf = VotingClassifier(estimators=estimators)\n"
   ],
   "metadata": {
    "collapsed": false,
    "pycharm": {
     "name": "#%%\n"
    }
   }
  },
  {
   "cell_type": "markdown",
   "source": [
    "Grid Search for best parameters - performed using BoW"
   ],
   "metadata": {
    "collapsed": false,
    "pycharm": {
     "name": "#%% md\n"
    }
   }
  },
  {
   "cell_type": "code",
   "execution_count": 10,
   "outputs": [],
   "source": [
    "# from sklearn.model_selection import GridSearchCV\n",
    "#\n",
    "# params = {'lr__C': [1.0, 50.0, 100.0],\n",
    "#            'lr__max_iter':[1000, 2000],\n",
    "#            'rf__n_estimators': [20, 100],\n",
    "#            'lsvc__C': [0.1, 0.5, 1],\n",
    "#            'mnb__alpha': [0.00001, 1]}\n",
    "#\n",
    "# # grid search the best parameters for the Majority Voting classifier\n",
    "# grid = GridSearchCV(estimator=ensemble_clf, param_grid=params, cv=2, scoring='accuracy'\n",
    "# verbose=3)\n",
    "# grid.fit(X_train_bow, Y_train)\n",
    "#\n",
    "# # print best params from grid search\n",
    "# grid.cv_results_['params'][grid.best_index_]"
   ],
   "metadata": {
    "collapsed": false,
    "pycharm": {
     "name": "#%%\n"
    }
   }
  },
  {
   "cell_type": "markdown",
   "source": [
    "Ensemble/Stacking Method using BoW - No oversampling/undersampling - Scoring = Accuracy"
   ],
   "metadata": {
    "collapsed": false,
    "pycharm": {
     "name": "#%% md\n"
    }
   }
  },
  {
   "cell_type": "code",
   "execution_count": 11,
   "outputs": [],
   "source": [
    "from sklearn.feature_extraction.text import CountVectorizer\n",
    "from sklearn.model_selection import cross_val_score\n",
    "\n",
    "# Vectorize the training and test data using BoW approach\n",
    "vec_bow = CountVectorizer(ngram_range=(1, 2))\n",
    "vec_bow.fit(X_train_clean)\n",
    "X_train_bow = vec_bow.transform(X_train_clean)\n",
    "X_test_bow = vec_bow.transform(X_test_clean)"
   ],
   "metadata": {
    "collapsed": false,
    "pycharm": {
     "name": "#%%\n"
    }
   }
  },
  {
   "cell_type": "code",
   "execution_count": 12,
   "outputs": [],
   "source": [
    "# for clf, label in zip([ensemble_clf, stacking_clf], ['Majority Voting', 'Stacking']):\n",
    "#     scores =cross_val_score(clf, X_train_bow, Y_train, scoring='accuracy', cv=2, n_jobs=-1)\n",
    "#     print(\"Accuracy: %0.2f (+/- %0.2f) [%s] (BoW)\" % (scores.mean(), scores.std(), label))"
   ],
   "metadata": {
    "collapsed": false,
    "pycharm": {
     "name": "#%%\n"
    }
   }
  },
  {
   "cell_type": "markdown",
   "source": [
    "Ensemble/Stacking Method using Tfid - No oversampling/undersampling - Scoring = Accuracy #TODO remove this"
   ],
   "metadata": {
    "collapsed": false,
    "pycharm": {
     "name": "#%% md\n"
    }
   }
  },
  {
   "cell_type": "code",
   "execution_count": 13,
   "outputs": [],
   "source": [
    "from sklearn.feature_extraction.text import TfidfVectorizer\n",
    "from sklearn.model_selection import cross_val_score\n",
    "\n",
    "# Vectorize the training and test data\n",
    "vec_tfid = TfidfVectorizer(use_idf = True,\n",
    "                           ngram_range=(1, 2),\n",
    "                           sublinear_tf=True)\n",
    "\n",
    "vec_tfid.fit(X_train_clean)\n",
    "X_train_Tfid = vec_tfid.transform(X_train_clean)\n",
    "X_test_Tfid = vec_tfid.transform(X_test_clean)"
   ],
   "metadata": {
    "collapsed": false,
    "pycharm": {
     "name": "#%%\n"
    }
   }
  },
  {
   "cell_type": "code",
   "execution_count": 14,
   "outputs": [],
   "source": [
    "# for clf, label in zip([ensemble_clf, stacking_clf], ['Majority Voting', 'Stacking']):\n",
    "#     scores =cross_val_score(clf, X_train_Tfid, Y_train, scoring='accuracy', cv=2, n_jobs=-1)\n",
    "#     print(\"Accuracy: %0.2f (+/- %0.2f) [%s] (Tfid)\" % (scores.mean(), scores.std(), label))"
   ],
   "metadata": {
    "collapsed": false,
    "pycharm": {
     "name": "#%%\n"
    }
   }
  },
  {
   "cell_type": "markdown",
   "source": [
    "Accuracy scores for classifiers performance LR, RFC, LSVC, MNB - BoW"
   ],
   "metadata": {
    "collapsed": false,
    "pycharm": {
     "name": "#%% md\n"
    }
   }
  },
  {
   "cell_type": "code",
   "execution_count": null,
   "outputs": [
    {
     "name": "stdout",
     "output_type": "stream",
     "text": [
      "Accuracy: 0.63 (+/- 0.00) [Random Forest Classifier] (BoW)\n",
      "Accuracy: 0.65 (+/- 0.01) [Logistic Regression] (BoW)\n",
      "Accuracy: 0.65 (+/- 0.01) [Linear SVM] (BoW)\n",
      "Accuracy: 0.63 (+/- 0.00) [Multinominal Naive Bayes] (BoW)\n",
      "Accuracy: 0.65 (+/- 0.01) [Majority Voting] (BoW)\n"
     ]
    }
   ],
   "source": [
    "for clf, label in zip([RFC, LR, LSVC, MNB, ensemble_clf, stacking_clf], ['Random Forest Classifier', 'Logistic Regression', 'Linear SVM', 'Multinominal Naive Bayes', 'Majority Voting', 'Stacking']):\n",
    "    scores =cross_val_score(clf, X_train_bow, Y_train, scoring='accuracy', cv=2, n_jobs=-1)\n",
    "    print(\"Accuracy: %0.2f (+/- %0.2f) [%s] (BoW)\" % (scores.mean(), scores.std(), label))"
   ],
   "metadata": {
    "collapsed": false,
    "pycharm": {
     "name": "#%%\n",
     "is_executing": true
    }
   }
  },
  {
   "cell_type": "markdown",
   "source": [
    "Accuracy scores for classifiers performance LR, RFC, LSVC, MNB - Tfid"
   ],
   "metadata": {
    "collapsed": false,
    "pycharm": {
     "name": "#%% md\n"
    }
   }
  },
  {
   "cell_type": "code",
   "execution_count": null,
   "outputs": [],
   "source": [
    "for clf, label in zip([RFC, LR, LSVC, MNB, ensemble_clf, stacking_clf], ['Random Forest Classifier', 'Logistic Regression', 'Linear SVM', 'Multinominal Naive Bayes', 'Majority Voting', 'Stacking']):\n",
    "    scores =cross_val_score(clf, X_train_bow, Y_train, scoring='accuracy', cv=2, n_jobs=-1)\n",
    "    print(\"Accuracy: %0.2f (+/- %0.2f) [%s] (Tfid)\" % (scores.mean(), scores.std(), label))"
   ],
   "metadata": {
    "collapsed": false,
    "pycharm": {
     "name": "#%%\n",
     "is_executing": true
    }
   }
  },
  {
   "cell_type": "markdown",
   "source": [
    "Undersample from the dataset's majority class"
   ],
   "metadata": {
    "collapsed": false,
    "pycharm": {
     "name": "#%% md\n"
    }
   }
  },
  {
   "cell_type": "code",
   "execution_count": null,
   "outputs": [],
   "source": [
    "# reshape to fix index\n",
    "X_train_clean_reshape = pd.DataFrame(X_train_clean)\n",
    "\n",
    "# under-sample the dataset\n",
    "undersampler = RandomUnderSampler(sampling_strategy='majority')\n",
    "X_train_under, y_train_under = undersampler.fit_resample(X_train_clean_reshape, Y_train)"
   ],
   "metadata": {
    "collapsed": false,
    "pycharm": {
     "name": "#%%\n",
     "is_executing": true
    }
   }
  },
  {
   "cell_type": "code",
   "execution_count": null,
   "outputs": [],
   "source": [
    "# over-sample the dataset\n",
    "oversampler = RandomOverSampler(sampling_strategy='not majority')\n",
    "X_train_over, y_train_over = oversampler.fit_resample(X_train_clean_reshape, Y_train)"
   ],
   "metadata": {
    "collapsed": false,
    "pycharm": {
     "name": "#%%\n",
     "is_executing": true
    }
   }
  },
  {
   "cell_type": "code",
   "execution_count": null,
   "outputs": [],
   "source": [
    "# inspect numerically\n",
    "#print(X_train_under.head)\n",
    "#print(y_train_under)\n",
    "\n",
    "# Plot distribution of under-sampled data\n",
    "sns.displot([x for x in y_train_under], discrete=True, bins=3)\n",
    "\n",
    "# summarize class distribution\n",
    "print(\"Before undersampling: \", Counter(Y_train))\n",
    "print(\"After undersampling: \", Counter(y_train_under))"
   ],
   "metadata": {
    "collapsed": false,
    "pycharm": {
     "name": "#%%\n",
     "is_executing": true
    }
   }
  },
  {
   "cell_type": "markdown",
   "source": [
    "Accuracy scores for classifiers, under-sampled, BoW"
   ],
   "metadata": {
    "collapsed": false,
    "pycharm": {
     "name": "#%% md\n"
    }
   }
  },
  {
   "cell_type": "code",
   "execution_count": null,
   "outputs": [],
   "source": [
    "# Vectorize the training and test data using BoW approach\n",
    "vec_bow_undersample = CountVectorizer(ngram_range=(1, 2))\n",
    "vec_bow_undersample.fit(X_train_under.stack())\n",
    "X_train_bow_undersample = vec_bow.transform(X_train_under.stack())\n",
    "#X_test_bow = vec_bow.transform(X_test_clean)"
   ],
   "metadata": {
    "collapsed": false,
    "pycharm": {
     "name": "#%%\n",
     "is_executing": true
    }
   }
  },
  {
   "cell_type": "code",
   "execution_count": null,
   "outputs": [],
   "source": [
    "for clf, label in zip([RFC, LR, LSVC, MNB, ensemble_clf, stacking_clf], ['Random Forest Classifier', 'Logistic Regression', 'Linear SVM', 'Multinominal Naive Bayes', 'Majority Voting', 'Stacking']):\n",
    "    scores =cross_val_score(clf, X_train_bow_undersample, y_train_under, scoring='accuracy', cv=2, n_jobs=-1)\n",
    "    print(\"Accuracy: %0.2f (+/- %0.2f) [%s] (BoW, Undersampling)\" % (scores.mean(), scores.std(), label))"
   ],
   "metadata": {
    "collapsed": false,
    "pycharm": {
     "name": "#%%\n",
     "is_executing": true
    }
   }
  },
  {
   "cell_type": "markdown",
   "source": [
    "Accuracy scores for classifiers, under-sampled, tfid"
   ],
   "metadata": {
    "collapsed": false,
    "pycharm": {
     "name": "#%% md\n"
    }
   }
  },
  {
   "cell_type": "code",
   "execution_count": null,
   "outputs": [],
   "source": [
    "# Vectorize using Term-Frequency-Inverse-Document-Frequency approach\n",
    "vec_tfid_undersample = TfidfVectorizer(use_idf = True,\n",
    "                                      ngram_range=(1, 2),\n",
    "                                      sublinear_tf=True)\n",
    "vec_tfid_undersample.fit(X_train_under.stack())\n",
    "X_train_tfid_undersample = vec_tfid_undersample.transform(X_train_under.stack())"
   ],
   "metadata": {
    "collapsed": false,
    "pycharm": {
     "name": "#%%\n",
     "is_executing": true
    }
   }
  },
  {
   "cell_type": "code",
   "execution_count": null,
   "outputs": [],
   "source": [
    "for clf, label in zip([RFC, LR, LSVC, MNB, ensemble_clf, stacking_clf], ['Random Forest Classifier', 'Logistic Regression', 'Linear SVM', 'Multinominal Naive Bayes', 'Majority Voting', 'Stacking']):\n",
    "    scores =cross_val_score(clf, X_train_tfid_undersample, y_train_under, scoring='accuracy', cv=2, n_jobs=-1)\n",
    "    print(\"Accuracy: %0.2f (+/- %0.2f) [%s] (Tfid, Undersampling)\" % (scores.mean(), scores.std(), label))"
   ],
   "metadata": {
    "collapsed": false,
    "pycharm": {
     "name": "#%%\n",
     "is_executing": true
    }
   }
  },
  {
   "cell_type": "markdown",
   "source": [],
   "metadata": {
    "collapsed": false,
    "pycharm": {
     "name": "#%% md\n"
    }
   }
  },
  {
   "cell_type": "markdown",
   "source": [
    "Predict the Kaggle dataset using Stacking Classifier + BoW + Undersampling"
   ],
   "metadata": {
    "collapsed": false,
    "pycharm": {
     "name": "#%% md\n"
    }
   }
  },
  {
   "cell_type": "code",
   "execution_count": null,
   "outputs": [],
   "source": [
    "# Try this out on the kaggle dataset\n",
    "stacking_clf.fit(X_train_bow_undersample, y_train_under)\n",
    "kaggle_submit_bow = stacking_clf.predict(X_test_bow)"
   ],
   "metadata": {
    "collapsed": false,
    "pycharm": {
     "name": "#%%\n",
     "is_executing": true
    }
   }
  },
  {
   "cell_type": "markdown",
   "source": [
    "Implement a dummy classifier"
   ],
   "metadata": {
    "collapsed": false,
    "pycharm": {
     "name": "#%% md\n"
    }
   }
  },
  {
   "cell_type": "code",
   "execution_count": null,
   "outputs": [],
   "source": [
    "from sklearn.dummy import DummyClassifier\n",
    "dummy_clf = DummyClassifier(strategy=\"most_frequent\")\n",
    "dummy_clf.fit(X_train_bow_undersample, y_train_under)\n",
    "\n",
    "dummy_scores = cross_val_score(dummy_clf, X_train_clean, Y_train, scoring='accuracy', cv=5, n_jobs=-1)\n",
    "print(\"Accuracy: %0.2f (+/- %0.2f) [%s] (Full dataset)\" % (dummy_scores.mean(), dummy_scores.std(), \"Zero R\"))\n",
    "\n",
    "dummy_scores_under = cross_val_score(dummy_clf, X_train_under, y_train_under, scoring='accuracy', cv=5, n_jobs=-1)\n",
    "print(\"Accuracy: %0.2f (+/- %0.2f) [%s] (Undersampled)\" % (dummy_scores.mean(), dummy_scores.std(), \"Zero R\"))\n"
   ],
   "metadata": {
    "collapsed": false,
    "pycharm": {
     "name": "#%%\n",
     "is_executing": true
    }
   }
  },
  {
   "cell_type": "markdown",
   "source": [
    "Output results to CSV for kaggle - undersampling"
   ],
   "metadata": {
    "collapsed": false,
    "pycharm": {
     "name": "#%% md\n"
    }
   }
  },
  {
   "cell_type": "markdown",
   "source": [
    "Oversampling code - didnt provide any useful discoveries"
   ],
   "metadata": {
    "collapsed": false,
    "pycharm": {
     "name": "#%% md\n"
    }
   }
  },
  {
   "cell_type": "code",
   "execution_count": null,
   "outputs": [],
   "source": [
    "from imblearn.over_sampling import RandomOverSampler\n",
    "from collections import Counter\n",
    "\n",
    "\n",
    "X_train_clean_reshape = pd.DataFrame(X_train_clean)\n",
    "\n",
    "# oversample the entire dataset\n",
    "oversampler = RandomOverSampler(sampling_strategy='not majority')\n",
    "X_train_over, y_train_over = oversampler.fit_resample(X_train_clean_reshape, Y_train)\n",
    "# inspect\n",
    "#print(X_train_over.head)\n",
    "#print(y_train_over)\n",
    "\n",
    "# Plot distribution of oversampled data\n",
    "sns.displot([x for x in y_train_over], discrete=True, bins=3)\n",
    "# summarize class distribution\n",
    "print(\"Before oversampling: \", Counter(Y_train))\n",
    "print(\"After oversampling: \", Counter(y_train_over))\n",
    "\n",
    "from sklearn.feature_extraction.text import CountVectorizer\n",
    "\n",
    "# Vectorize the training and test data using BoW approach\n",
    "vec_bow_oversample = CountVectorizer(ngram_range=(1, 2))\n",
    "vec_bow_oversample.fit(X_train_over.stack())\n",
    "X_train_bow_oversample = vec_bow.transform(X_train_over.stack())\n",
    "#X_test_bow = vec_bow.transform(X_test_clean)\n",
    "from sklearn.model_selection import cross_val_score\n",
    "\n",
    "for clf, label in zip([RFC, LR, LSVC, MNB, ensemble_clf, stacking_clf],\n",
    "                      ['Random Forest Classifier', 'Logistic Regression', 'Linear SVM', 'Multinominal Naive Bayes',\n",
    "                       'Majority Voting', 'Stacking']):\n",
    "    scores = cross_val_score(clf, X_train_bow_oversample, y_train_over, scoring='accuracy', cv=2, n_jobs=-1)\n",
    "    print(\"Accuracy: %0.2f (+/- %0.2f) [%s] (BoW, Oversampling)\" % (scores.mean(), scores.std(), label))\n",
    "\n",
    "from sklearn.feature_extraction.text import TfidfVectorizer\n",
    "vec_tfid_oversample = TfidfVectorizer(use_idf=True,\n",
    "                                       ngram_range=(1, 2),\n",
    "                                       sublinear_tf=True)\n",
    "vec_tfid_oversample.fit(X_train_over.stack())\n",
    "X_train_tfid_oversample = vec_tfid_oversample.transform(X_train_over.stack())\n",
    "from sklearn.model_selection import cross_val_score\n",
    "\n",
    "for clf, label in zip([RFC, LR, LSVC, MNB, ensemble_clf, stacking_clf],\n",
    "                      ['Random Forest Classifier', 'Logistic Regression', 'Linear SVM', 'Multinominal Naive Bayes',\n",
    "                       'Majority Voting', 'Stacking']):\n",
    "    scores = cross_val_score(clf, X_train_tfid_oversample, y_train_over, scoring='accuracy', cv=2, n_jobs=-1)\n",
    "    print(\"Accuracy: %0.2f (+/- %0.2f) [%s] (Tfid, Oversampling)\" % (scores.mean(), scores.std(), label))"
   ],
   "metadata": {
    "collapsed": false,
    "pycharm": {
     "name": "#%%\n",
     "is_executing": true
    }
   }
  }
 ],
 "metadata": {
  "kernelspec": {
   "display_name": "Python 3",
   "language": "python",
   "name": "python3"
  },
  "language_info": {
   "codemirror_mode": {
    "name": "ipython",
    "version": 2
   },
   "file_extension": ".py",
   "mimetype": "text/x-python",
   "name": "python",
   "nbconvert_exporter": "python",
   "pygments_lexer": "ipython2",
   "version": "2.7.6"
  }
 },
 "nbformat": 4,
 "nbformat_minor": 0
}