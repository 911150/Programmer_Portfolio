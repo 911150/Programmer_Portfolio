{
 "cells": [
  {
   "cell_type": "code",
   "execution_count": 94,
   "metadata": {
    "pycharm": {
     "name": "#%%\n"
    },
    "tags": []
   },
   "outputs": [],
   "source": [
    "from pyspark.sql import functions as F\n",
    "from _global_vars import *\n",
    "import seaborn as sns\n",
    "import numpy as np"
   ]
  },
  {
   "cell_type": "code",
   "execution_count": 95,
   "metadata": {
    "collapsed": false,
    "jupyter": {
     "outputs_hidden": false
    },
    "pycharm": {
     "name": "#%%\n"
    }
   },
   "outputs": [],
   "source": [
    "# read in sdf\n",
    "sdf = spark.read.parquet('../data/curated/yt2019_feature_eng.parquet')\n",
    "#sdf.show(1, vertical=True, truncate=100)"
   ]
  },
  {
   "cell_type": "markdown",
   "source": [
    "**Note:** *a subsample is taken heterogeneously for visualisations due to the large size of the dataset*"
   ],
   "metadata": {
    "collapsed": false,
    "pycharm": {
     "name": "#%% md\n"
    }
   }
  },
  {
   "cell_type": "code",
   "execution_count": 96,
   "outputs": [
    {
     "name": "stdout",
     "output_type": "stream",
     "text": [
      "Before subsampling size: 7692971\n",
      "After subsampling size: 76443\n"
     ]
    }
   ],
   "source": [
    "# sub sample of (0.025%) approx. 850k records\n",
    "print(f\"Before subsampling size: {sdf.count()}\")\n",
    "sdf_sub = sdf.sample(fraction=0.01, seed=0) #TODO Check this\n",
    "print(f\"After subsampling size: {sdf_sub.count()}\")"
   ],
   "metadata": {
    "collapsed": false,
    "pycharm": {
     "name": "#%%\n"
    }
   }
  },
  {
   "cell_type": "code",
   "execution_count": 97,
   "outputs": [
    {
     "name": "stderr",
     "output_type": "stream",
     "text": [
      "                                                                                \r"
     ]
    }
   ],
   "source": [
    "# convert to pandas dataframe\n",
    "df_sub = sdf_sub.toPandas()"
   ],
   "metadata": {
    "collapsed": false,
    "pycharm": {
     "name": "#%%\n"
    }
   }
  },
  {
   "cell_type": "markdown",
   "metadata": {
    "pycharm": {
     "name": "#%% md\n"
    }
   },
   "source": [
    "---\n",
    "#### Univariate Analysis of Features\n",
    "---"
   ]
  },
  {
   "cell_type": "markdown",
   "metadata": {
    "pycharm": {
     "name": "#%% md\n"
    }
   },
   "source": [
    "**Passenger count**"
   ]
  },
  {
   "cell_type": "code",
   "execution_count": 98,
   "metadata": {
    "collapsed": false,
    "jupyter": {
     "outputs_hidden": false
    },
    "pycharm": {
     "name": "#%%\n"
    }
   },
   "outputs": [
    {
     "name": "stdout",
     "output_type": "stream",
     "text": [
      "+---------------+-------+\n",
      "|passenger_count|  count|\n",
      "+---------------+-------+\n",
      "|           null|  28665|\n",
      "|            0.0| 117334|\n",
      "|            1.0|5453944|\n",
      "|            2.0|1113367|\n",
      "|            3.0| 314545|\n",
      "|            4.0| 140684|\n",
      "|            5.0| 323663|\n",
      "|            6.0| 200712|\n",
      "|            7.0|     19|\n",
      "|            8.0|     29|\n",
      "|            9.0|      9|\n",
      "+---------------+-------+\n",
      "\n"
     ]
    }
   ],
   "source": [
    "# numerically\n",
    "sdf.groupBy(\"passenger_count\").count().sort(\"passenger_count\").show()"
   ]
  },
  {
   "cell_type": "code",
   "execution_count": 99,
   "metadata": {
    "collapsed": false,
    "jupyter": {
     "outputs_hidden": false
    },
    "pycharm": {
     "name": "#%%\n"
    }
   },
   "outputs": [
    {
     "data": {
      "text/plain": "<AxesSubplot:xlabel='passenger_count', ylabel='count'>"
     },
     "execution_count": 99,
     "metadata": {},
     "output_type": "execute_result"
    },
    {
     "data": {
      "text/plain": "<Figure size 432x288 with 1 Axes>",
      "image/png": "[encoded data removed]"
     },
     "metadata": {},
     "output_type": "display_data"
    }
   ],
   "source": [
    "# visually\n",
    "sns.countplot(x=df_sub['passenger_count'])"
   ]
  },
  {
   "cell_type": "code",
   "execution_count": 100,
   "outputs": [
    {
     "data": {
      "text/plain": "      hour_of_day_of_year  VendorID tpep_pickup_datetime  \\\n91    2019-01-01 00:00:00         2  2019-01-01 00:42:31   \n119   2019-01-01 00:00:00         2  2019-01-01 00:22:13   \n192   2019-01-01 01:00:00         2  2019-01-01 01:03:15   \n273   2019-01-01 01:00:00         2  2019-01-01 01:27:41   \n283   2019-01-01 01:00:00         2  2019-01-01 01:43:48   \n...                   ...       ...                  ...   \n75831 2019-01-31 21:00:00         2  2019-01-31 21:14:30   \n75834 2019-01-31 21:00:00         2  2019-01-31 21:28:19   \n76032 2019-01-31 22:00:00         2  2019-01-31 22:24:59   \n76117 2019-01-31 23:00:00         2  2019-01-31 23:02:49   \n76155 2019-01-31 23:00:00         2  2019-01-31 23:04:38   \n\n      tpep_dropoff_datetime  passenger_count  trip_distance  RatecodeID  \\\n91      2019-01-01 00:49:16              6.0           1.39         1.0   \n119     2019-01-01 00:26:23              6.0           0.73         1.0   \n192     2019-01-01 01:25:20              6.0           3.70         1.0   \n273     2019-01-01 01:41:09              6.0           2.87         1.0   \n283     2019-01-01 01:53:25              6.0           1.88         1.0   \n...                     ...              ...            ...         ...   \n75831   2019-01-31 21:33:06              6.0           4.81         1.0   \n75834   2019-01-31 21:37:40              6.0           1.45         1.0   \n76032   2019-01-31 22:42:58              6.0           2.66         1.0   \n76117   2019-01-31 23:06:07              6.0           0.75         1.0   \n76155   2019-01-31 23:16:36              6.0           2.72         1.0   \n\n       PULocationID  DOLocationID  payment_type  ...  PU_dayofmonth  \\\n91              142           238             2  ...              1   \n119             263           140             1  ...              1   \n192             137           143             1  ...              1   \n273              43           168             1  ...              1   \n283              90           144             1  ...              1   \n...             ...           ...           ...  ...            ...   \n75831            87            50             1  ...             31   \n75834           107           211             1  ...             31   \n76032           230           114             2  ...             31   \n76117           249            90             1  ...             31   \n76155           163           263             1  ...             31   \n\n       DO_dayofmonth  PU_month DO_month trip_time_minutes  trip_speed_mph  \\\n91                 1         1        1          6.750000       12.355556   \n119                1         1        1          4.166667       10.512000   \n192                1         1        1         22.083333       10.052830   \n273                1         1        1         13.466667       12.787129   \n283                1         1        1          9.616667       11.729636   \n...              ...       ...      ...               ...             ...   \n75831             31         1        1         18.600000       15.516129   \n75834             31         1        1          9.350000        9.304813   \n76032             31         1        1         17.983333        8.874884   \n76117             31         1        1          3.300000       13.636364   \n76155             31         1        1         11.966667       13.637883   \n\n       fare_per_minute  tmpf  dwpf       relh  \n91            1.037037  44.1  42.1  92.620000  \n119           1.200000  44.1  42.1  92.620000  \n192           0.747170  44.7  43.0  93.726667  \n273           0.853960  44.7  43.0  93.726667  \n283           0.883882  44.7  43.0  93.726667  \n...                ...   ...   ...        ...  \n75831         0.940860  15.1  -9.0  32.800000  \n75834         0.855615  15.1  -9.0  32.800000  \n76032         0.722892  15.1  -9.0  32.800000  \n76117         1.363636  14.0  -9.0  34.410000  \n76155         0.919220  14.0  -9.0  34.410000  \n\n[1955 rows x 29 columns]",
      "text/html": "<div>\n<style scoped>\n    .dataframe tbody tr th:only-of-type {\n        vertical-align: middle;\n    }\n\n    .dataframe tbody tr th {\n        vertical-align: top;\n    }\n\n    .dataframe thead th {\n        text-align: right;\n    }\n</style>\n<table border=\"1\" class=\"dataframe\">\n  <thead>\n    <tr style=\"text-align: right;\">\n      <th></th>\n      <th>hour_of_day_of_year</th>\n      <th>VendorID</th>\n      <th>tpep_pickup_datetime</th>\n      <th>tpep_dropoff_datetime</th>\n      <th>passenger_count</th>\n      <th>trip_distance</th>\n      <th>RatecodeID</th>\n      <th>PULocationID</th>\n      <th>DOLocationID</th>\n      <th>payment_type</th>\n      <th>...</th>\n      <th>PU_dayofmonth</th>\n      <th>DO_dayofmonth</th>\n      <th>PU_month</th>\n      <th>DO_month</th>\n      <th>trip_time_minutes</th>\n      <th>trip_speed_mph</th>\n      <th>fare_per_minute</th>\n      <th>tmpf</th>\n      <th>dwpf</th>\n      <th>relh</th>\n    </tr>\n  </thead>\n  <tbody>\n    <tr>\n      <th>91</th>\n      <td>2019-01-01 00:00:00</td>\n      <td>2</td>\n      <td>2019-01-01 00:42:31</td>\n      <td>2019-01-01 00:49:16</td>\n      <td>6.0</td>\n      <td>1.39</td>\n      <td>1.0</td>\n      <td>142</td>\n      <td>238</td>\n      <td>2</td>\n      <td>...</td>\n      <td>1</td>\n      <td>1</td>\n      <td>1</td>\n      <td>1</td>\n      <td>6.750000</td>\n      <td>12.355556</td>\n      <td>1.037037</td>\n      <td>44.1</td>\n      <td>42.1</td>\n      <td>92.620000</td>\n    </tr>\n    <tr>\n      <th>119</th>\n      <td>2019-01-01 00:00:00</td>\n      <td>2</td>\n      <td>2019-01-01 00:22:13</td>\n      <td>2019-01-01 00:26:23</td>\n      <td>6.0</td>\n      <td>0.73</td>\n      <td>1.0</td>\n      <td>263</td>\n      <td>140</td>\n      <td>1</td>\n      <td>...</td>\n      <td>1</td>\n      <td>1</td>\n      <td>1</td>\n      <td>1</td>\n      <td>4.166667</td>\n      <td>10.512000</td>\n      <td>1.200000</td>\n      <td>44.1</td>\n      <td>42.1</td>\n      <td>92.620000</td>\n    </tr>\n    <tr>\n      <th>192</th>\n      <td>2019-01-01 01:00:00</td>\n      <td>2</td>\n      <td>2019-01-01 01:03:15</td>\n      <td>2019-01-01 01:25:20</td>\n      <td>6.0</td>\n      <td>3.70</td>\n      <td>1.0</td>\n      <td>137</td>\n      <td>143</td>\n      <td>1</td>\n      <td>...</td>\n      <td>1</td>\n      <td>1</td>\n      <td>1</td>\n      <td>1</td>\n      <td>22.083333</td>\n      <td>10.052830</td>\n      <td>0.747170</td>\n      <td>44.7</td>\n      <td>43.0</td>\n      <td>93.726667</td>\n    </tr>\n    <tr>\n      <th>273</th>\n      <td>2019-01-01 01:00:00</td>\n      <td>2</td>\n      <td>2019-01-01 01:27:41</td>\n      <td>2019-01-01 01:41:09</td>\n      <td>6.0</td>\n      <td>2.87</td>\n      <td>1.0</td>\n      <td>43</td>\n      <td>168</td>\n      <td>1</td>\n      <td>...</td>\n      <td>1</td>\n      <td>1</td>\n      <td>1</td>\n      <td>1</td>\n      <td>13.466667</td>\n      <td>12.787129</td>\n      <td>0.853960</td>\n      <td>44.7</td>\n      <td>43.0</td>\n      <td>93.726667</td>\n    </tr>\n    <tr>\n      <th>283</th>\n      <td>2019-01-01 01:00:00</td>\n      <td>2</td>\n      <td>2019-01-01 01:43:48</td>\n      <td>2019-01-01 01:53:25</td>\n      <td>6.0</td>\n      <td>1.88</td>\n      <td>1.0</td>\n      <td>90</td>\n      <td>144</td>\n      <td>1</td>\n      <td>...</td>\n      <td>1</td>\n      <td>1</td>\n      <td>1</td>\n      <td>1</td>\n      <td>9.616667</td>\n      <td>11.729636</td>\n      <td>0.883882</td>\n      <td>44.7</td>\n      <td>43.0</td>\n      <td>93.726667</td>\n    </tr>\n    <tr>\n      <th>...</th>\n      <td>...</td>\n      <td>...</td>\n      <td>...</td>\n      <td>...</td>\n      <td>...</td>\n      <td>...</td>\n      <td>...</td>\n      <td>...</td>\n      <td>...</td>\n      <td>...</td>\n      <td>...</td>\n      <td>...</td>\n      <td>...</td>\n      <td>...</td>\n      <td>...</td>\n      <td>...</td>\n      <td>...</td>\n      <td>...</td>\n      <td>...</td>\n      <td>...</td>\n      <td>...</td>\n    </tr>\n    <tr>\n      <th>75831</th>\n      <td>2019-01-31 21:00:00</td>\n      <td>2</td>\n      <td>2019-01-31 21:14:30</td>\n      <td>2019-01-31 21:33:06</td>\n      <td>6.0</td>\n      <td>4.81</td>\n      <td>1.0</td>\n      <td>87</td>\n      <td>50</td>\n      <td>1</td>\n      <td>...</td>\n      <td>31</td>\n      <td>31</td>\n      <td>1</td>\n      <td>1</td>\n      <td>18.600000</td>\n      <td>15.516129</td>\n      <td>0.940860</td>\n      <td>15.1</td>\n      <td>-9.0</td>\n      <td>32.800000</td>\n    </tr>\n    <tr>\n      <th>75834</th>\n      <td>2019-01-31 21:00:00</td>\n      <td>2</td>\n      <td>2019-01-31 21:28:19</td>\n      <td>2019-01-31 21:37:40</td>\n      <td>6.0</td>\n      <td>1.45</td>\n      <td>1.0</td>\n      <td>107</td>\n      <td>211</td>\n      <td>1</td>\n      <td>...</td>\n      <td>31</td>\n      <td>31</td>\n      <td>1</td>\n      <td>1</td>\n      <td>9.350000</td>\n      <td>9.304813</td>\n      <td>0.855615</td>\n      <td>15.1</td>\n      <td>-9.0</td>\n      <td>32.800000</td>\n    </tr>\n    <tr>\n      <th>76032</th>\n      <td>2019-01-31 22:00:00</td>\n      <td>2</td>\n      <td>2019-01-31 22:24:59</td>\n      <td>2019-01-31 22:42:58</td>\n      <td>6.0</td>\n      <td>2.66</td>\n      <td>1.0</td>\n      <td>230</td>\n      <td>114</td>\n      <td>2</td>\n      <td>...</td>\n      <td>31</td>\n      <td>31</td>\n      <td>1</td>\n      <td>1</td>\n      <td>17.983333</td>\n      <td>8.874884</td>\n      <td>0.722892</td>\n      <td>15.1</td>\n      <td>-9.0</td>\n      <td>32.800000</td>\n    </tr>\n    <tr>\n      <th>76117</th>\n      <td>2019-01-31 23:00:00</td>\n      <td>2</td>\n      <td>2019-01-31 23:02:49</td>\n      <td>2019-01-31 23:06:07</td>\n      <td>6.0</td>\n      <td>0.75</td>\n      <td>1.0</td>\n      <td>249</td>\n      <td>90</td>\n      <td>1</td>\n      <td>...</td>\n      <td>31</td>\n      <td>31</td>\n      <td>1</td>\n      <td>1</td>\n      <td>3.300000</td>\n      <td>13.636364</td>\n      <td>1.363636</td>\n      <td>14.0</td>\n      <td>-9.0</td>\n      <td>34.410000</td>\n    </tr>\n    <tr>\n      <th>76155</th>\n      <td>2019-01-31 23:00:00</td>\n      <td>2</td>\n      <td>2019-01-31 23:04:38</td>\n      <td>2019-01-31 23:16:36</td>\n      <td>6.0</td>\n      <td>2.72</td>\n      <td>1.0</td>\n      <td>163</td>\n      <td>263</td>\n      <td>1</td>\n      <td>...</td>\n      <td>31</td>\n      <td>31</td>\n      <td>1</td>\n      <td>1</td>\n      <td>11.966667</td>\n      <td>13.637883</td>\n      <td>0.919220</td>\n      <td>14.0</td>\n      <td>-9.0</td>\n      <td>34.410000</td>\n    </tr>\n  </tbody>\n</table>\n<p>1955 rows × 29 columns</p>\n</div>"
     },
     "execution_count": 100,
     "metadata": {},
     "output_type": "execute_result"
    }
   ],
   "source": [
    "df_sub[df_sub['passenger_count'] > 5]"
   ],
   "metadata": {
    "collapsed": false,
    "pycharm": {
     "name": "#%%\n"
    }
   }
  },
  {
   "cell_type": "code",
   "execution_count": 101,
   "outputs": [],
   "source": [
    "# take a peak at the extreme values\n",
    "try:\n",
    "    p_count_out_of_range = df_sub[df_sub['passenger_count'] > 6]\n",
    "    sns.countplot(x=p_count_out_of_range['passenger_count'])\n",
    "except ValueError:\n",
    "    pass"
   ],
   "metadata": {
    "collapsed": false,
    "pycharm": {
     "name": "#%%\n"
    }
   }
  },
  {
   "cell_type": "markdown",
   "metadata": {
    "pycharm": {
     "name": "#%% md\n"
    }
   },
   "source": [
    "Findings:\n",
    "* Passenger count has values up to 9.\n",
    "* Should be limited between 1-6. According to TLC guidelines\n",
    "* Higher values for 9 passengers than for that of 8\n",
    "* Suggesting the taxi driver might occasionally just enter the highest number?\n",
    "\n",
    "Upshot:\n",
    "* Restrict range of passenger_count (1:6) [drop other records]"
   ]
  },
  {
   "cell_type": "markdown",
   "source": [
    "**Trip distance**"
   ],
   "metadata": {
    "collapsed": false,
    "pycharm": {
     "name": "#%% md\n"
    }
   }
  },
  {
   "cell_type": "code",
   "execution_count": 102,
   "metadata": {
    "collapsed": false,
    "jupyter": {
     "outputs_hidden": false
    },
    "pycharm": {
     "name": "#%%\n"
    }
   },
   "outputs": [
    {
     "name": "stdout",
     "output_type": "stream",
     "text": [
      "+-------------+-----+\n",
      "|trip_distance|count|\n",
      "+-------------+-----+\n",
      "|          0.0|55014|\n",
      "|         0.01| 4035|\n",
      "|         0.02| 2651|\n",
      "|         0.03| 2082|\n",
      "|         0.04| 1626|\n",
      "|         0.05| 1417|\n",
      "|         0.06| 1206|\n",
      "|         0.07| 1082|\n",
      "|         0.08| 1006|\n",
      "|         0.09|  904|\n",
      "|          0.1| 7747|\n",
      "|         0.11|  875|\n",
      "|         0.12|  947|\n",
      "|         0.13|  904|\n",
      "|         0.14|  972|\n",
      "|         0.15| 1143|\n",
      "|         0.16| 1164|\n",
      "|         0.17| 1232|\n",
      "|         0.18| 1483|\n",
      "|         0.19| 1425|\n",
      "+-------------+-----+\n",
      "only showing top 20 rows\n",
      "\n"
     ]
    }
   ],
   "source": [
    "# peak at negative tail values\n",
    "sdf.groupBy(\"trip_distance\").count().sort(\"trip_distance\").show()"
   ]
  },
  {
   "cell_type": "code",
   "execution_count": 103,
   "metadata": {
    "collapsed": false,
    "jupyter": {
     "outputs_hidden": false
    },
    "pycharm": {
     "name": "#%%\n"
    }
   },
   "outputs": [
    {
     "name": "stdout",
     "output_type": "stream",
     "text": [
      "+-------------+-----+\n",
      "|trip_distance|count|\n",
      "+-------------+-----+\n",
      "|        831.8|    1|\n",
      "|        700.7|    1|\n",
      "|       214.01|    1|\n",
      "|       211.36|    1|\n",
      "|       201.27|    1|\n",
      "|       160.52|    1|\n",
      "|        144.2|    1|\n",
      "|       143.63|    1|\n",
      "|       142.88|    1|\n",
      "|        132.8|    1|\n",
      "|       131.47|    1|\n",
      "|       128.73|    1|\n",
      "|       128.26|    1|\n",
      "|       123.42|    1|\n",
      "|        121.8|    1|\n",
      "|        119.8|    1|\n",
      "|       115.85|    1|\n",
      "|       113.71|    1|\n",
      "|       113.58|    1|\n",
      "|       112.82|    1|\n",
      "+-------------+-----+\n",
      "only showing top 20 rows\n",
      "\n"
     ]
    }
   ],
   "source": [
    "# peak at positive tail values\n",
    "sdf.groupBy(\"trip_distance\").count().sort(F.desc(\"trip_distance\")).show()"
   ]
  },
  {
   "cell_type": "code",
   "execution_count": 104,
   "metadata": {
    "collapsed": false,
    "jupyter": {
     "outputs_hidden": false
    },
    "pycharm": {
     "name": "#%%\n"
    }
   },
   "outputs": [
    {
     "name": "stderr",
     "output_type": "stream",
     "text": [
      "                                                                                \r"
     ]
    },
    {
     "data": {
      "text/plain": "+-------------------+--------+--------------------+---------------------+---------------+-------------+----------+------------+------------+------------+-----------+----------+--------------------+-----------+-----------+------------+------------+------------+------------+-------------+-------------+--------+--------+------------------+------------------+------------------+------------------+----+-----------------+\n|hour_of_day_of_year|VendorID|tpep_pickup_datetime|tpep_dropoff_datetime|passenger_count|trip_distance|RatecodeID|PULocationID|DOLocationID|payment_type|fare_amount|tip_amount|congestion_surcharge|PU_datetime|DO_datetime|PU_hourofday|DO_hourofday|PU_dayofweek|DO_dayofweek|PU_dayofmonth|DO_dayofmonth|PU_month|DO_month| trip_time_minutes|    trip_speed_mph|   fare_per_minute|              tmpf|dwpf|             relh|\n+-------------------+--------+--------------------+---------------------+---------------+-------------+----------+------------+------------+------------+-----------+----------+--------------------+-----------+-----------+------------+------------+------------+------------+-------------+-------------+--------+--------+------------------+------------------+------------------+------------------+----+-----------------+\n|2019-01-25 21:00:00|       1| 2019-01-25 21:56:39|  2019-01-25 22:06:08|            1.0|        831.8|         1|         140|         239|           1|        8.5|      1.96|                 0.0| 2019-01-25| 2019-01-25|          21|          22|           6|          25|           25|           25|       1|       1| 9.483333333333333| 5262.706502636204|0.8963093145869948|              35.1| 6.1|            29.12|\n|2019-01-18 16:00:00|       1| 2019-01-18 16:32:24|  2019-01-18 16:39:20|            1.0|        700.7|         1|         236|         262|           1|        6.0|       1.2|                null| 2019-01-18| 2019-01-18|          16|          16|           6|          18|           18|           18|       1|       1| 6.933333333333334|           6063.75|0.8653846153846153|36.666666666666664|32.0|83.03000000000002|\n|2019-01-28 17:00:00|       2| 2019-01-28 17:24:11|  2019-01-29 04:37:16|            5.0|       214.01|         1|         265|         265|           2|      760.0|       0.0|                 0.0| 2019-01-28| 2019-01-29|          17|           4|           2|          29|           28|           29|       1|       1| 673.0833333333334|19.077281168750773| 1.129132103503776|              28.0| 6.1|            38.79|\n|2019-01-20 12:00:00|       2| 2019-01-20 12:22:24|  2019-01-20 17:05:36|            2.0|       211.36|         5|         132|         265|           2|       50.0|       0.0|                null| 2019-01-20| 2019-01-20|          12|          17|           1|          20|           20|           20|       1|       1|             283.2|44.779661016949156|0.1765536723163842|              37.0|36.0|            96.13|\n|2019-01-21 10:00:00|       2| 2019-01-21 10:13:05|  2019-01-21 13:28:01|            1.0|       201.27|         5|         208|         265|           1|      150.0|       0.0|                 0.0| 2019-01-21| 2019-01-21|          10|          13|           2|          21|           21|           21|       1|       1|194.93333333333334|61.950410396716826|0.7694938440492476|               7.0|-8.0|            49.38|\n+-------------------+--------+--------------------+---------------------+---------------+-------------+----------+------------+------------+------------+-----------+----------+--------------------+-----------+-----------+------------+------------+------------+------------+-------------+-------------+--------+--------+------------------+------------------+------------------+------------------+----+-----------------+",
      "text/html": "<table border='1'>\n<tr><th>hour_of_day_of_year</th><th>VendorID</th><th>tpep_pickup_datetime</th><th>tpep_dropoff_datetime</th><th>passenger_count</th><th>trip_distance</th><th>RatecodeID</th><th>PULocationID</th><th>DOLocationID</th><th>payment_type</th><th>fare_amount</th><th>tip_amount</th><th>congestion_surcharge</th><th>PU_datetime</th><th>DO_datetime</th><th>PU_hourofday</th><th>DO_hourofday</th><th>PU_dayofweek</th><th>DO_dayofweek</th><th>PU_dayofmonth</th><th>DO_dayofmonth</th><th>PU_month</th><th>DO_month</th><th>trip_time_minutes</th><th>trip_speed_mph</th><th>fare_per_minute</th><th>tmpf</th><th>dwpf</th><th>relh</th></tr>\n<tr><td>2019-01-25 21:00:00</td><td>1</td><td>2019-01-25 21:56:39</td><td>2019-01-25 22:06:08</td><td>1.0</td><td>831.8</td><td>1</td><td>140</td><td>239</td><td>1</td><td>8.5</td><td>1.96</td><td>0.0</td><td>2019-01-25</td><td>2019-01-25</td><td>21</td><td>22</td><td>6</td><td>25</td><td>25</td><td>25</td><td>1</td><td>1</td><td>9.483333333333333</td><td>5262.706502636204</td><td>0.8963093145869948</td><td>35.1</td><td>6.1</td><td>29.12</td></tr>\n<tr><td>2019-01-18 16:00:00</td><td>1</td><td>2019-01-18 16:32:24</td><td>2019-01-18 16:39:20</td><td>1.0</td><td>700.7</td><td>1</td><td>236</td><td>262</td><td>1</td><td>6.0</td><td>1.2</td><td>null</td><td>2019-01-18</td><td>2019-01-18</td><td>16</td><td>16</td><td>6</td><td>18</td><td>18</td><td>18</td><td>1</td><td>1</td><td>6.933333333333334</td><td>6063.75</td><td>0.8653846153846153</td><td>36.666666666666664</td><td>32.0</td><td>83.03000000000002</td></tr>\n<tr><td>2019-01-28 17:00:00</td><td>2</td><td>2019-01-28 17:24:11</td><td>2019-01-29 04:37:16</td><td>5.0</td><td>214.01</td><td>1</td><td>265</td><td>265</td><td>2</td><td>760.0</td><td>0.0</td><td>0.0</td><td>2019-01-28</td><td>2019-01-29</td><td>17</td><td>4</td><td>2</td><td>29</td><td>28</td><td>29</td><td>1</td><td>1</td><td>673.0833333333334</td><td>19.077281168750773</td><td>1.129132103503776</td><td>28.0</td><td>6.1</td><td>38.79</td></tr>\n<tr><td>2019-01-20 12:00:00</td><td>2</td><td>2019-01-20 12:22:24</td><td>2019-01-20 17:05:36</td><td>2.0</td><td>211.36</td><td>5</td><td>132</td><td>265</td><td>2</td><td>50.0</td><td>0.0</td><td>null</td><td>2019-01-20</td><td>2019-01-20</td><td>12</td><td>17</td><td>1</td><td>20</td><td>20</td><td>20</td><td>1</td><td>1</td><td>283.2</td><td>44.779661016949156</td><td>0.1765536723163842</td><td>37.0</td><td>36.0</td><td>96.13</td></tr>\n<tr><td>2019-01-21 10:00:00</td><td>2</td><td>2019-01-21 10:13:05</td><td>2019-01-21 13:28:01</td><td>1.0</td><td>201.27</td><td>5</td><td>208</td><td>265</td><td>1</td><td>150.0</td><td>0.0</td><td>0.0</td><td>2019-01-21</td><td>2019-01-21</td><td>10</td><td>13</td><td>2</td><td>21</td><td>21</td><td>21</td><td>1</td><td>1</td><td>194.93333333333334</td><td>61.950410396716826</td><td>0.7694938440492476</td><td>7.0</td><td>-8.0</td><td>49.38</td></tr>\n</table>\n"
     },
     "execution_count": 104,
     "metadata": {},
     "output_type": "execute_result"
    }
   ],
   "source": [
    "# some serious distances being covered\n",
    "sdf.sort(F.desc(\"trip_distance\")).limit(5)"
   ]
  },
  {
   "cell_type": "code",
   "execution_count": 105,
   "metadata": {
    "collapsed": false,
    "jupyter": {
     "outputs_hidden": false
    },
    "pycharm": {
     "name": "#%%\n"
    }
   },
   "outputs": [
    {
     "data": {
      "text/plain": "<AxesSubplot:xlabel='trip_distance', ylabel='Density'>"
     },
     "execution_count": 105,
     "metadata": {},
     "output_type": "execute_result"
    },
    {
     "data": {
      "text/plain": "<Figure size 432x288 with 1 Axes>",
      "image/png": "[encoded data removed]"
     },
     "metadata": {},
     "output_type": "display_data"
    }
   ],
   "source": [
    "sns.histplot(x=df_sub['trip_distance'], bins=100, kde=True, stat='density')"
   ]
  },
  {
   "cell_type": "code",
   "execution_count": 106,
   "metadata": {
    "collapsed": false,
    "jupyter": {
     "outputs_hidden": false
    },
    "pycharm": {
     "name": "#%%\n"
    }
   },
   "outputs": [
    {
     "name": "stderr",
     "output_type": "stream",
     "text": [
      "/home/noahs/miniconda3/lib/python3.8/site-packages/pandas/core/arraylike.py:397: RuntimeWarning: divide by zero encountered in log\n",
      "  result = getattr(ufunc, method)(*inputs, **kwargs)\n"
     ]
    },
    {
     "data": {
      "text/plain": "<AxesSubplot:xlabel='trip_distance', ylabel='Density'>"
     },
     "execution_count": 106,
     "metadata": {},
     "output_type": "execute_result"
    },
    {
     "data": {
      "text/plain": "<Figure size 432x288 with 1 Axes>",
      "image/png": "[encoded data removed]"
     },
     "metadata": {},
     "output_type": "display_data"
    }
   ],
   "source": [
    "# perform log transformation to help visualise\n",
    "sns.histplot(x=np.log(df_sub['trip_distance']), bins=100, kde=True, stat='density')"
   ]
  },
  {
   "cell_type": "code",
   "execution_count": 107,
   "metadata": {
    "collapsed": false,
    "jupyter": {
     "outputs_hidden": false
    },
    "pycharm": {
     "name": "#%%\n"
    }
   },
   "outputs": [
    {
     "data": {
      "text/plain": "<AxesSubplot:xlabel='trip_distance'>"
     },
     "execution_count": 107,
     "metadata": {},
     "output_type": "execute_result"
    },
    {
     "data": {
      "text/plain": "<Figure size 432x288 with 1 Axes>",
      "image/png": "[encoded data removed]"
     },
     "metadata": {},
     "output_type": "display_data"
    }
   ],
   "source": [
    "sns.boxplot(x=df_sub['trip_distance'])"
   ]
  },
  {
   "cell_type": "markdown",
   "metadata": {
    "pycharm": {
     "name": "#%% md\n"
    }
   },
   "source": [
    "Findings:\n",
    "* Looks extremely right skewed\n",
    "* Divide by zero error thrown => we have non strictly positive trip distances\n",
    "* Extremely long trip distances => -33,000 kms! not representative in sample tho\n",
    "* Most positive distances seem reasonable, worthy of further inspection\n",
    "* Contains negative distances\n",
    "* Contains extremely large distances\n",
    "\n",
    "Upshot:\n",
    "* Log transformation might be useful when intending to model\n",
    "* Restrict to entries with: 0 < trip distance < 312km\n",
    "\n",
    ">312km is chosen as it bounds all relevant taxi zones"
   ]
  },
  {
   "cell_type": "markdown",
   "source": [
    "**Fare amount**"
   ],
   "metadata": {
    "collapsed": false,
    "pycharm": {
     "name": "#%% md\n"
    }
   }
  },
  {
   "cell_type": "code",
   "execution_count": 108,
   "metadata": {
    "collapsed": false,
    "jupyter": {
     "outputs_hidden": false
    },
    "pycharm": {
     "name": "#%%\n"
    }
   },
   "outputs": [
    {
     "name": "stdout",
     "output_type": "stream",
     "text": [
      "+-----------+-----+\n",
      "|fare_amount|count|\n",
      "+-----------+-----+\n",
      "|  623259.86|    1|\n",
      "|  355676.98|    1|\n",
      "|    36090.3|    1|\n",
      "|   34674.65|    1|\n",
      "|   33023.53|    1|\n",
      "|   31107.91|    1|\n",
      "|   30444.52|    1|\n",
      "|   30130.71|    1|\n",
      "|   25628.96|    1|\n",
      "|   25356.38|    1|\n",
      "|   24249.43|    1|\n",
      "|   20765.39|    1|\n",
      "|   19863.26|    1|\n",
      "|   19194.52|    1|\n",
      "|   18477.08|    1|\n",
      "|   17242.81|    1|\n",
      "|   16032.47|    2|\n",
      "|     8000.3|    1|\n",
      "|    6666.65|    1|\n",
      "|     3004.0|    1|\n",
      "+-----------+-----+\n",
      "only showing top 20 rows\n",
      "\n"
     ]
    }
   ],
   "source": [
    "# inspect positive tail\n",
    "sdf.groupBy(\"fare_amount\").count().sort(F.desc(\"fare_amount\")).show()"
   ]
  },
  {
   "cell_type": "code",
   "execution_count": 109,
   "metadata": {
    "collapsed": false,
    "jupyter": {
     "outputs_hidden": false
    },
    "pycharm": {
     "name": "#%%\n"
    }
   },
   "outputs": [
    {
     "name": "stdout",
     "output_type": "stream",
     "text": [
      "+-----------+-----+\n",
      "|fare_amount|count|\n",
      "+-----------+-----+\n",
      "|     -362.0|    1|\n",
      "|     -320.0|    1|\n",
      "|     -300.0|    2|\n",
      "|     -284.0|    1|\n",
      "|     -252.0|    1|\n",
      "|    -250.01|    1|\n",
      "|     -243.0|    1|\n",
      "|     -230.0|    2|\n",
      "|     -224.0|    1|\n",
      "|     -190.0|    1|\n",
      "|     -183.0|    1|\n",
      "|     -170.0|    1|\n",
      "|     -165.0|    1|\n",
      "|     -160.0|    1|\n",
      "|     -156.0|    1|\n",
      "|     -150.0|    3|\n",
      "|     -148.0|    1|\n",
      "|    -142.06|    1|\n",
      "|     -130.0|    1|\n",
      "|     -120.0|    1|\n",
      "+-----------+-----+\n",
      "only showing top 20 rows\n",
      "\n"
     ]
    }
   ],
   "source": [
    "# inspect negative tail\n",
    "sdf.groupBy(\"fare_amount\").count().sort(\"fare_amount\").show()"
   ]
  },
  {
   "cell_type": "code",
   "execution_count": 110,
   "metadata": {
    "collapsed": false,
    "jupyter": {
     "outputs_hidden": false
    },
    "pycharm": {
     "name": "#%%\n"
    }
   },
   "outputs": [
    {
     "data": {
      "text/plain": "<AxesSubplot:xlabel='fare_amount', ylabel='Density'>"
     },
     "execution_count": 110,
     "metadata": {},
     "output_type": "execute_result"
    },
    {
     "data": {
      "text/plain": "<Figure size 432x288 with 1 Axes>",
      "image/png": "[encoded data removed]"
     },
     "metadata": {},
     "output_type": "display_data"
    }
   ],
   "source": [
    "sns.histplot(x=df_sub['fare_amount'], bins=100, kde=True, stat='density')"
   ]
  },
  {
   "cell_type": "code",
   "execution_count": 111,
   "metadata": {
    "collapsed": false,
    "jupyter": {
     "outputs_hidden": false
    },
    "pycharm": {
     "name": "#%%\n"
    }
   },
   "outputs": [
    {
     "name": "stderr",
     "output_type": "stream",
     "text": [
      "/home/noahs/miniconda3/lib/python3.8/site-packages/pandas/core/arraylike.py:397: RuntimeWarning: divide by zero encountered in log\n",
      "  result = getattr(ufunc, method)(*inputs, **kwargs)\n",
      "/home/noahs/miniconda3/lib/python3.8/site-packages/pandas/core/arraylike.py:397: RuntimeWarning: invalid value encountered in log\n",
      "  result = getattr(ufunc, method)(*inputs, **kwargs)\n"
     ]
    },
    {
     "data": {
      "text/plain": "<AxesSubplot:xlabel='fare_amount', ylabel='Density'>"
     },
     "execution_count": 111,
     "metadata": {},
     "output_type": "execute_result"
    },
    {
     "data": {
      "text/plain": "<Figure size 432x288 with 1 Axes>",
      "image/png": "[encoded data removed]"
     },
     "metadata": {},
     "output_type": "display_data"
    }
   ],
   "source": [
    "# perform log transformation to help visualise right skew\n",
    "sns.histplot(x=np.log(df_sub['fare_amount']), bins=100, kde=True, stat='density')"
   ]
  },
  {
   "cell_type": "code",
   "execution_count": 112,
   "metadata": {
    "collapsed": false,
    "jupyter": {
     "outputs_hidden": false
    },
    "pycharm": {
     "name": "#%%\n"
    }
   },
   "outputs": [
    {
     "data": {
      "text/plain": "<AxesSubplot:xlabel='fare_amount'>"
     },
     "execution_count": 112,
     "metadata": {},
     "output_type": "execute_result"
    },
    {
     "data": {
      "text/plain": "<Figure size 432x288 with 1 Axes>",
      "image/png": "[encoded data removed]"
     },
     "metadata": {},
     "output_type": "display_data"
    }
   ],
   "source": [
    "sns.boxplot(x=df_sub['fare_amount'])"
   ]
  },
  {
   "cell_type": "code",
   "execution_count": 113,
   "metadata": {
    "collapsed": false,
    "jupyter": {
     "outputs_hidden": false
    },
    "pycharm": {
     "name": "#%%\n"
    }
   },
   "outputs": [],
   "source": [
    "# inspect fares above 2.50 (USD)\n",
    "capped_fare_amnt = df_sub[df_sub['fare_amount'] > 2.5]"
   ]
  },
  {
   "cell_type": "code",
   "execution_count": 114,
   "metadata": {
    "collapsed": false,
    "jupyter": {
     "outputs_hidden": false
    },
    "pycharm": {
     "name": "#%%\n"
    }
   },
   "outputs": [
    {
     "data": {
      "text/plain": "<AxesSubplot:xlabel='fare_amount'>"
     },
     "execution_count": 114,
     "metadata": {},
     "output_type": "execute_result"
    },
    {
     "data": {
      "text/plain": "<Figure size 432x288 with 1 Axes>",
      "image/png": "[encoded data removed]"
     },
     "metadata": {},
     "output_type": "display_data"
    }
   ],
   "source": [
    "sns.boxplot(x=capped_fare_amnt['fare_amount'])"
   ]
  },
  {
   "cell_type": "code",
   "execution_count": 115,
   "metadata": {
    "collapsed": false,
    "jupyter": {
     "outputs_hidden": false
    },
    "pycharm": {
     "name": "#%%\n"
    }
   },
   "outputs": [
    {
     "data": {
      "text/plain": "<AxesSubplot:xlabel='fare_amount', ylabel='Density'>"
     },
     "execution_count": 115,
     "metadata": {},
     "output_type": "execute_result"
    },
    {
     "data": {
      "text/plain": "<Figure size 432x288 with 1 Axes>",
      "image/png": "[encoded data removed]"
     },
     "metadata": {},
     "output_type": "display_data"
    }
   ],
   "source": [
    "sns.histplot(x=capped_fare_amnt['fare_amount'], bins=100, kde=True, stat='density')"
   ]
  },
  {
   "cell_type": "code",
   "execution_count": 116,
   "metadata": {
    "collapsed": false,
    "jupyter": {
     "outputs_hidden": false
    },
    "pycharm": {
     "name": "#%%\n"
    }
   },
   "outputs": [
    {
     "data": {
      "text/plain": "<AxesSubplot:xlabel='fare_amount', ylabel='Density'>"
     },
     "execution_count": 116,
     "metadata": {},
     "output_type": "execute_result"
    },
    {
     "data": {
      "text/plain": "<Figure size 432x288 with 1 Axes>",
      "image/png": "[encoded data removed]"
     },
     "metadata": {},
     "output_type": "display_data"
    }
   ],
   "source": [
    "sns.histplot(x=np.log(capped_fare_amnt['fare_amount']), bins=100, kde=True, stat='density')"
   ]
  },
  {
   "cell_type": "markdown",
   "metadata": {
    "pycharm": {
     "name": "#%% md\n"
    }
   },
   "source": [
    "Findings:\n",
    "* Fare amount contains zero values\n",
    "* Right skewed\n",
    "* Extremely high fare values in full dataset\n",
    "* Extremely negative fare values in full dataset\n",
    "* Fare values shows banding when looking at the subsample\n",
    "* Peaks at fare amounts of around log(4): could be airport or hotspot etc\n",
    "\n",
    "Upshot:\n",
    "* Take log\n",
    "* Restrict values between 1.5*IQR\n",
    "* Fares capped at $500"
   ]
  },
  {
   "cell_type": "markdown",
   "source": [
    "**Trip speed (mph)**"
   ],
   "metadata": {
    "collapsed": false,
    "pycharm": {
     "name": "#%% md\n"
    }
   }
  },
  {
   "cell_type": "code",
   "execution_count": 117,
   "metadata": {
    "collapsed": false,
    "jupyter": {
     "outputs_hidden": false
    },
    "pycharm": {
     "name": "#%%\n"
    }
   },
   "outputs": [
    {
     "data": {
      "text/plain": "<AxesSubplot:xlabel='trip_speed_mph', ylabel='Density'>"
     },
     "execution_count": 117,
     "metadata": {},
     "output_type": "execute_result"
    },
    {
     "data": {
      "text/plain": "<Figure size 432x288 with 1 Axes>",
      "image/png": "[encoded data removed]"
     },
     "metadata": {},
     "output_type": "display_data"
    }
   ],
   "source": [
    "sns.histplot(x=df_sub['trip_speed_mph'], bins=100, kde=True, stat='density')"
   ]
  },
  {
   "cell_type": "code",
   "execution_count": 118,
   "metadata": {
    "collapsed": false,
    "jupyter": {
     "outputs_hidden": false
    },
    "pycharm": {
     "name": "#%%\n"
    }
   },
   "outputs": [
    {
     "name": "stderr",
     "output_type": "stream",
     "text": [
      "/home/noahs/miniconda3/lib/python3.8/site-packages/pandas/core/arraylike.py:397: RuntimeWarning: divide by zero encountered in log\n",
      "  result = getattr(ufunc, method)(*inputs, **kwargs)\n"
     ]
    },
    {
     "data": {
      "text/plain": "<AxesSubplot:xlabel='trip_speed_mph', ylabel='Density'>"
     },
     "execution_count": 118,
     "metadata": {},
     "output_type": "execute_result"
    },
    {
     "data": {
      "text/plain": "<Figure size 432x288 with 1 Axes>",
      "image/png": "[encoded data removed]"
     },
     "metadata": {},
     "output_type": "display_data"
    }
   ],
   "source": [
    "sns.histplot(x=np.log(df_sub['trip_speed_mph']), bins=100, kde=True, stat='density')"
   ]
  },
  {
   "cell_type": "code",
   "execution_count": 119,
   "metadata": {
    "collapsed": false,
    "jupyter": {
     "outputs_hidden": false
    },
    "pycharm": {
     "name": "#%%\n"
    }
   },
   "outputs": [
    {
     "data": {
      "text/plain": "<AxesSubplot:xlabel='trip_speed_mph'>"
     },
     "execution_count": 119,
     "metadata": {},
     "output_type": "execute_result"
    },
    {
     "data": {
      "text/plain": "<Figure size 432x288 with 1 Axes>",
      "image/png": "[encoded data removed]"
     },
     "metadata": {},
     "output_type": "display_data"
    }
   ],
   "source": [
    "sns.boxplot(x=df_sub['trip_speed_mph'])"
   ]
  },
  {
   "cell_type": "code",
   "execution_count": 120,
   "metadata": {
    "collapsed": false,
    "jupyter": {
     "outputs_hidden": false
    },
    "pycharm": {
     "name": "#%%\n"
    }
   },
   "outputs": [],
   "source": [
    "# investigate distribution with restrictions; speeds between 1 and 65 mph\n",
    "capped_speed = df_sub[(df_sub['trip_speed_mph'] <= 65) & (df_sub['trip_speed_mph'] > 1)]"
   ]
  },
  {
   "cell_type": "code",
   "execution_count": 121,
   "metadata": {
    "collapsed": false,
    "jupyter": {
     "outputs_hidden": false
    },
    "pycharm": {
     "name": "#%%\n"
    }
   },
   "outputs": [
    {
     "data": {
      "text/plain": "<AxesSubplot:xlabel='trip_speed_mph'>"
     },
     "execution_count": 121,
     "metadata": {},
     "output_type": "execute_result"
    },
    {
     "data": {
      "text/plain": "<Figure size 432x288 with 1 Axes>",
      "image/png": "[encoded data removed]"
     },
     "metadata": {},
     "output_type": "display_data"
    }
   ],
   "source": [
    "sns.boxplot(x=capped_speed['trip_speed_mph'])"
   ]
  },
  {
   "cell_type": "code",
   "execution_count": 122,
   "metadata": {
    "collapsed": false,
    "jupyter": {
     "outputs_hidden": false
    },
    "pycharm": {
     "name": "#%%\n"
    }
   },
   "outputs": [
    {
     "data": {
      "text/plain": "<AxesSubplot:xlabel='trip_speed_mph', ylabel='Density'>"
     },
     "execution_count": 122,
     "metadata": {},
     "output_type": "execute_result"
    },
    {
     "data": {
      "text/plain": "<Figure size 432x288 with 1 Axes>",
      "image/png": "[encoded data removed]"
     },
     "metadata": {},
     "output_type": "display_data"
    }
   ],
   "source": [
    "# right skewed again\n",
    "sns.histplot(x=capped_speed['trip_speed_mph'], bins=100, kde=True, stat='density')"
   ]
  },
  {
   "cell_type": "code",
   "execution_count": 123,
   "metadata": {
    "collapsed": false,
    "jupyter": {
     "outputs_hidden": false
    },
    "pycharm": {
     "name": "#%%\n"
    }
   },
   "outputs": [
    {
     "data": {
      "text/plain": "<AxesSubplot:xlabel='trip_speed_mph', ylabel='Density'>"
     },
     "execution_count": 123,
     "metadata": {},
     "output_type": "execute_result"
    },
    {
     "data": {
      "text/plain": "<Figure size 432x288 with 1 Axes>",
      "image/png": "[encoded data removed]"
     },
     "metadata": {},
     "output_type": "display_data"
    }
   ],
   "source": [
    "# doesn't that look nice?\n",
    "sns.histplot(x=np.log(capped_speed['trip_speed_mph']), bins=100, kde=True, stat='density')"
   ]
  },
  {
   "cell_type": "markdown",
   "metadata": {
    "pycharm": {
     "name": "#%% md\n"
    }
   },
   "source": [
    "Findings:\n",
    "* Extreme speeds.\n",
    "* NYC speed limit is 65 mph at the most on the highways, most of it should be less than that if it is taking place in NYC\n",
    "* Trips that had a speed of less than 1 mph?\n",
    "\n",
    "Implements:\n",
    "* remove trips with average speed over 65 mph\n",
    "* remove trips less than 1 mph\n"
   ]
  },
  {
   "cell_type": "markdown",
   "source": [
    "**Trip Duration** (expected to be highly correlated with trip speed)"
   ],
   "metadata": {
    "collapsed": false,
    "pycharm": {
     "name": "#%% md\n"
    }
   }
  },
  {
   "cell_type": "code",
   "execution_count": 124,
   "metadata": {
    "collapsed": false,
    "jupyter": {
     "outputs_hidden": false
    },
    "pycharm": {
     "name": "#%%\n"
    }
   },
   "outputs": [
    {
     "data": {
      "text/plain": "<AxesSubplot:xlabel='trip_time_minutes', ylabel='Density'>"
     },
     "execution_count": 124,
     "metadata": {},
     "output_type": "execute_result"
    },
    {
     "data": {
      "text/plain": "<Figure size 432x288 with 1 Axes>",
      "image/png": "[encoded data removed]"
     },
     "metadata": {},
     "output_type": "display_data"
    }
   ],
   "source": [
    "sns.histplot(x=df_sub['trip_time_minutes'], bins=100, kde=True, stat='density')"
   ]
  },
  {
   "cell_type": "code",
   "execution_count": 125,
   "metadata": {
    "collapsed": false,
    "jupyter": {
     "outputs_hidden": false
    },
    "pycharm": {
     "name": "#%%\n"
    }
   },
   "outputs": [
    {
     "data": {
      "text/plain": "<AxesSubplot:xlabel='trip_time_minutes'>"
     },
     "execution_count": 125,
     "metadata": {},
     "output_type": "execute_result"
    },
    {
     "data": {
      "text/plain": "<Figure size 432x288 with 1 Axes>",
      "image/png": "[encoded data removed]"
     },
     "metadata": {},
     "output_type": "display_data"
    }
   ],
   "source": [
    "sns.boxplot(x=df_sub['trip_time_minutes'])"
   ]
  },
  {
   "cell_type": "code",
   "execution_count": 126,
   "metadata": {
    "collapsed": false,
    "jupyter": {
     "outputs_hidden": false
    },
    "pycharm": {
     "name": "#%%\n"
    }
   },
   "outputs": [
    {
     "name": "stderr",
     "output_type": "stream",
     "text": [
      "/home/noahs/miniconda3/lib/python3.8/site-packages/pandas/core/arraylike.py:397: RuntimeWarning: divide by zero encountered in log\n",
      "  result = getattr(ufunc, method)(*inputs, **kwargs)\n"
     ]
    },
    {
     "data": {
      "text/plain": "<AxesSubplot:xlabel='trip_time_minutes', ylabel='Density'>"
     },
     "execution_count": 126,
     "metadata": {},
     "output_type": "execute_result"
    },
    {
     "data": {
      "text/plain": "<Figure size 432x288 with 1 Axes>",
      "image/png": "[encoded data removed]"
     },
     "metadata": {},
     "output_type": "display_data"
    }
   ],
   "source": [
    "sns.histplot(x=np.log(df_sub['trip_time_minutes']), bins=100, kde=True, stat='density')"
   ]
  },
  {
   "cell_type": "code",
   "execution_count": 127,
   "metadata": {
    "collapsed": false,
    "jupyter": {
     "outputs_hidden": false
    },
    "pycharm": {
     "name": "#%%\n"
    }
   },
   "outputs": [],
   "source": [
    "# investigate distribution with restrictions;\n",
    "# -> trip times less than 8 hours and longer than 2 minutes\n",
    "capped_time = df_sub[(df_sub['trip_time_minutes'] <= 480) & (df_sub['trip_time_minutes'] > 2)]"
   ]
  },
  {
   "cell_type": "code",
   "execution_count": 128,
   "metadata": {
    "collapsed": false,
    "jupyter": {
     "outputs_hidden": false
    },
    "pycharm": {
     "name": "#%%\n"
    }
   },
   "outputs": [
    {
     "data": {
      "text/plain": "<AxesSubplot:xlabel='trip_time_minutes'>"
     },
     "execution_count": 128,
     "metadata": {},
     "output_type": "execute_result"
    },
    {
     "data": {
      "text/plain": "<Figure size 432x288 with 1 Axes>",
      "image/png": "[encoded data removed]"
     },
     "metadata": {},
     "output_type": "display_data"
    }
   ],
   "source": [
    "sns.boxplot(x=capped_time['trip_time_minutes'])"
   ]
  },
  {
   "cell_type": "code",
   "execution_count": 129,
   "metadata": {
    "collapsed": false,
    "jupyter": {
     "outputs_hidden": false
    },
    "pycharm": {
     "name": "#%%\n"
    }
   },
   "outputs": [
    {
     "data": {
      "text/plain": "<AxesSubplot:xlabel='trip_time_minutes', ylabel='Density'>"
     },
     "execution_count": 129,
     "metadata": {},
     "output_type": "execute_result"
    },
    {
     "data": {
      "text/plain": "<Figure size 432x288 with 1 Axes>",
      "image/png": "[encoded data removed]"
     },
     "metadata": {},
     "output_type": "display_data"
    }
   ],
   "source": [
    "# right skewed again, again\n",
    "sns.histplot(x=capped_time['trip_time_minutes'], bins=100, kde=True, stat='density')"
   ]
  },
  {
   "cell_type": "code",
   "execution_count": 130,
   "metadata": {
    "collapsed": false,
    "jupyter": {
     "outputs_hidden": false
    },
    "pycharm": {
     "name": "#%%\n"
    }
   },
   "outputs": [
    {
     "data": {
      "text/plain": "<AxesSubplot:xlabel='trip_time_minutes', ylabel='Density'>"
     },
     "execution_count": 130,
     "metadata": {},
     "output_type": "execute_result"
    },
    {
     "data": {
      "text/plain": "<Figure size 432x288 with 1 Axes>",
      "image/png": "[encoded data removed]"
     },
     "metadata": {},
     "output_type": "display_data"
    }
   ],
   "source": [
    "# much more gaussian\n",
    "sns.histplot(x=np.log(capped_time['trip_time_minutes']), bins=100, kde=True, stat='density')"
   ]
  },
  {
   "cell_type": "markdown",
   "metadata": {
    "pycharm": {
     "name": "#%% md\n"
    }
   },
   "source": [
    "Findings:\n",
    "* Extremely long trip times up to 1400 minutes (just in the sample)\n",
    "\n",
    "Upshot:\n",
    "* Limit trip times to under 8 hours (480 minutes) (a whole shift, which would be a big ask for a taxi driver)\n",
    "* Trips with a time of less than 2 minutes should be excluded as they are\n",
    "    * Not very realistic\n",
    "    * Or the passenger may have cancelled"
   ]
  },
  {
   "cell_type": "markdown",
   "metadata": {
    "pycharm": {
     "name": "#%% md\n"
    }
   },
   "source": [
    "---\n",
    "### Date/Time Analysis\n",
    "---"
   ]
  },
  {
   "cell_type": "markdown",
   "metadata": {
    "pycharm": {
     "name": "#%% md\n"
    }
   },
   "source": [
    "**Distribution of trips across time**\n",
    "> Months of year"
   ]
  },
  {
   "cell_type": "code",
   "execution_count": 131,
   "metadata": {
    "collapsed": false,
    "jupyter": {
     "outputs_hidden": false
    },
    "pycharm": {
     "name": "#%%\n"
    }
   },
   "outputs": [],
   "source": [
    "month_counts = sdf.groupBy(\"PU_month\").count()\n",
    "month_counts_df = month_counts.toPandas()"
   ]
  },
  {
   "cell_type": "code",
   "execution_count": 132,
   "metadata": {
    "collapsed": false,
    "jupyter": {
     "outputs_hidden": false
    },
    "pycharm": {
     "name": "#%%\n"
    }
   },
   "outputs": [
    {
     "name": "stdout",
     "output_type": "stream",
     "text": [
      "   PU_month    count\n",
      "0         1  7692877\n",
      "1         6        2\n",
      "2         3        5\n",
      "3         5        1\n",
      "4         9        1\n",
      "5         4        6\n",
      "6         8        1\n",
      "7         7        6\n",
      "8         2       72\n"
     ]
    },
    {
     "data": {
      "text/plain": "<AxesSubplot:xlabel='PU_month', ylabel='count'>"
     },
     "execution_count": 132,
     "metadata": {},
     "output_type": "execute_result"
    },
    {
     "data": {
      "text/plain": "<Figure size 432x288 with 1 Axes>",
      "image/png": "[encoded data removed]"
     },
     "metadata": {},
     "output_type": "display_data"
    }
   ],
   "source": [
    "# numerically\n",
    "print(month_counts_df)\n",
    "# visually\n",
    "sns.barplot(x=month_counts_df['PU_month'], y=month_counts_df['count'])"
   ]
  },
  {
   "cell_type": "markdown",
   "source": [
    "> Weeks of the year"
   ],
   "metadata": {
    "collapsed": false,
    "pycharm": {
     "name": "#%% md\n"
    }
   }
  },
  {
   "cell_type": "code",
   "execution_count": 133,
   "metadata": {
    "collapsed": false,
    "jupyter": {
     "outputs_hidden": false
    },
    "pycharm": {
     "name": "#%%\n"
    }
   },
   "outputs": [],
   "source": [
    "PU_day_of_week_df = sdf.groupBy(\"PU_dayofweek\").count().toPandas()"
   ]
  },
  {
   "cell_type": "code",
   "execution_count": 134,
   "metadata": {
    "collapsed": false,
    "jupyter": {
     "outputs_hidden": false
    },
    "pycharm": {
     "name": "#%%\n"
    }
   },
   "outputs": [
    {
     "name": "stdout",
     "output_type": "stream",
     "text": [
      "   PU_dayofweek    count\n",
      "0             1   859896\n",
      "1             6  1087213\n",
      "2             3  1209084\n",
      "3             5  1356992\n",
      "4             4  1265230\n",
      "5             7  1009983\n",
      "6             2   904573\n"
     ]
    },
    {
     "data": {
      "text/plain": "<AxesSubplot:xlabel='PU_dayofweek', ylabel='count'>"
     },
     "execution_count": 134,
     "metadata": {},
     "output_type": "execute_result"
    },
    {
     "data": {
      "text/plain": "<Figure size 432x288 with 1 Axes>",
      "image/png": "[encoded data removed]"
     },
     "metadata": {},
     "output_type": "display_data"
    }
   ],
   "source": [
    "# numerically\n",
    "print(PU_day_of_week_df)\n",
    "# visually\n",
    "sns.barplot(x=PU_day_of_week_df['PU_dayofweek'],\n",
    "            y=PU_day_of_week_df['count'])"
   ]
  },
  {
   "cell_type": "markdown",
   "source": [
    "**Pickup Locations**"
   ],
   "metadata": {
    "collapsed": false,
    "pycharm": {
     "name": "#%% md\n"
    }
   }
  },
  {
   "cell_type": "code",
   "execution_count": 135,
   "metadata": {
    "collapsed": false,
    "jupyter": {
     "outputs_hidden": false
    },
    "pycharm": {
     "name": "#%%\n"
    }
   },
   "outputs": [],
   "source": [
    "PU_LocationID_Counts = sdf.groupBy(\"PULocationID\").count().toPandas()"
   ]
  },
  {
   "cell_type": "code",
   "execution_count": 136,
   "metadata": {
    "collapsed": false,
    "jupyter": {
     "outputs_hidden": false
    },
    "pycharm": {
     "name": "#%%\n"
    }
   },
   "outputs": [
    {
     "name": "stdout",
     "output_type": "stream",
     "text": [
      "     PULocationID   count\n",
      "142            84       1\n",
      "257           104       1\n",
      "228           199       2\n",
      "135           176       2\n",
      "214           204       3\n",
      "..            ...     ...\n",
      "38            230  263990\n",
      "136           162  277405\n",
      "131           161  312790\n",
      "30            236  323257\n",
      "174           237  332743\n",
      "\n",
      "[263 rows x 2 columns]\n"
     ]
    },
    {
     "data": {
      "text/plain": "<AxesSubplot:xlabel='PULocationID', ylabel='count'>"
     },
     "execution_count": 136,
     "metadata": {},
     "output_type": "execute_result"
    },
    {
     "data": {
      "text/plain": "<Figure size 432x288 with 1 Axes>",
      "image/png": "[encoded data removed]"
     },
     "metadata": {},
     "output_type": "display_data"
    }
   ],
   "source": [
    "# Pickup day of week -> by count\n",
    "\n",
    "print(PU_LocationID_Counts.sort_values('count'))\n",
    "PULocationID_counts_sorted = PU_LocationID_Counts.sort_values('count')\n",
    "\n",
    "sns.barplot(x=PULocationID_counts_sorted['PULocationID'], y=PULocationID_counts_sorted['count'], order=PULocationID_counts_sorted['PULocationID'])"
   ]
  },
  {
   "cell_type": "code",
   "execution_count": 138,
   "metadata": {
    "collapsed": false,
    "jupyter": {
     "outputs_hidden": false
    },
    "pycharm": {
     "name": "#%%\n"
    }
   },
   "outputs": [],
   "source": [
    "# peek at distribution of the highest frequency pickup locations\n",
    "PULocationID_counts_top = PU_LocationID_Counts[PU_LocationID_Counts['count'] > 2000000]\n",
    "try:\n",
    "    sns.barplot(x=PULocationID_counts_top['PULocationID'], y=PULocationID_counts_top['count'])\n",
    "except ValueError:\n",
    "    # null df\n",
    "    pass"
   ]
  },
  {
   "cell_type": "markdown",
   "metadata": {
    "pycharm": {
     "name": "#%% md\n"
    }
   },
   "source": [
    "**Pick Up Times**"
   ]
  },
  {
   "cell_type": "code",
   "execution_count": 139,
   "metadata": {
    "collapsed": false,
    "jupyter": {
     "outputs_hidden": false
    },
    "pycharm": {
     "name": "#%%\n"
    }
   },
   "outputs": [],
   "source": [
    "PU_hourofday_counts = sdf.groupBy(\"PU_hourofday\").count().toPandas()"
   ]
  },
  {
   "cell_type": "code",
   "execution_count": 140,
   "metadata": {
    "collapsed": false,
    "jupyter": {
     "outputs_hidden": false
    },
    "pycharm": {
     "name": "#%%\n"
    }
   },
   "outputs": [
    {
     "data": {
      "text/plain": "<AxesSubplot:xlabel='PU_hourofday', ylabel='count'>"
     },
     "execution_count": 140,
     "metadata": {},
     "output_type": "execute_result"
    },
    {
     "data": {
      "text/plain": "<Figure size 432x288 with 1 Axes>",
      "image/png": "[encoded data removed]"
     },
     "metadata": {},
     "output_type": "display_data"
    }
   ],
   "source": [
    "# Note; the timezones are off\n",
    "sns.barplot(x=PU_hourofday_counts['PU_hourofday'], y=PU_hourofday_counts['count'])"
   ]
  },
  {
   "cell_type": "markdown",
   "metadata": {
    "pycharm": {
     "name": "#%% md\n"
    }
   },
   "source": [
    "**Congestion Surcharge**"
   ]
  },
  {
   "cell_type": "code",
   "execution_count": 141,
   "metadata": {
    "collapsed": false,
    "jupyter": {
     "outputs_hidden": false
    },
    "pycharm": {
     "name": "#%%\n"
    }
   },
   "outputs": [
    {
     "data": {
      "text/plain": "<Figure size 432x288 with 1 Axes>",
      "image/png": "[encoded data removed]"
     },
     "metadata": {},
     "output_type": "display_data"
    }
   ],
   "source": [
    "#df_sub['congestion_surcharge']\n",
    "con_hist = sns.histplot(x=df_sub['congestion_surcharge'], bins=100, kde=True, stat='density')\n",
    "fig = con_hist.get_figure()\n",
    "fig.suptitle(\"Smoothed Density, Congestion Surcharge\")\n",
    "fig.savefig('../plots/congestion_surcharge_density.png')"
   ]
  },
  {
   "cell_type": "code",
   "execution_count": 142,
   "metadata": {
    "collapsed": false,
    "jupyter": {
     "outputs_hidden": false
    },
    "pycharm": {
     "name": "#%%\n"
    }
   },
   "outputs": [
    {
     "data": {
      "text/plain": "<AxesSubplot:xlabel='congestion_surcharge'>"
     },
     "execution_count": 142,
     "metadata": {},
     "output_type": "execute_result"
    },
    {
     "data": {
      "text/plain": "<Figure size 432x288 with 1 Axes>",
      "image/png": "[encoded data removed]"
     },
     "metadata": {},
     "output_type": "display_data"
    }
   ],
   "source": [
    "sns.boxplot(x=df_sub['congestion_surcharge'])"
   ]
  },
  {
   "cell_type": "code",
   "execution_count": 143,
   "metadata": {
    "collapsed": false,
    "jupyter": {
     "outputs_hidden": false
    },
    "pycharm": {
     "name": "#%%\n"
    }
   },
   "outputs": [
    {
     "data": {
      "text/plain": "72343    2.5\n48157    0.0\n66873    0.0\n66884    0.0\n66883    0.0\n        ... \n76438    NaN\n76439    NaN\n76440    NaN\n76441    NaN\n76442    NaN\nName: congestion_surcharge, Length: 76443, dtype: float64"
     },
     "execution_count": 143,
     "metadata": {},
     "output_type": "execute_result"
    }
   ],
   "source": [
    "df_sub['congestion_surcharge'].sort_values(ascending=False)"
   ]
  },
  {
   "cell_type": "markdown",
   "metadata": {
    "pycharm": {
     "name": "#%% md\n"
    }
   },
   "source": [
    "Findings:\n",
    "* Congestion surcharge contains negative values\n",
    "* Doesnt appear to go above $3\n",
    "* has two peaks? for whatever reason\n",
    "\n",
    "Upshot:\n",
    "* Congestion surcharge capped at 10 usd -> any records beyond this can go away\n",
    "* Range [0:10]"
   ]
  },
  {
   "cell_type": "markdown",
   "metadata": {
    "pycharm": {
     "name": "#%% md\n"
    }
   },
   "source": [
    "---\n",
    "#### Categorical Variable Analysis #\n",
    "---"
   ]
  },
  {
   "cell_type": "markdown",
   "metadata": {
    "pycharm": {
     "name": "#%% md\n"
    }
   },
   "source": [
    "**VendorID**"
   ]
  },
  {
   "cell_type": "code",
   "execution_count": 144,
   "metadata": {
    "collapsed": false,
    "jupyter": {
     "outputs_hidden": false
    },
    "pycharm": {
     "name": "#%%\n"
    }
   },
   "outputs": [
    {
     "name": "stdout",
     "output_type": "stream",
     "text": [
      "+--------+-------+\n",
      "|VendorID|  count|\n",
      "+--------+-------+\n",
      "|       1|2937568|\n",
      "|       2|4678513|\n",
      "|       4|  76791|\n",
      "|       5|     99|\n",
      "+--------+-------+\n",
      "\n"
     ]
    },
    {
     "data": {
      "text/plain": "<AxesSubplot:xlabel='VendorID', ylabel='count'>"
     },
     "execution_count": 144,
     "metadata": {},
     "output_type": "execute_result"
    },
    {
     "data": {
      "text/plain": "<Figure size 432x288 with 1 Axes>",
      "image/png": "[encoded data removed]"
     },
     "metadata": {},
     "output_type": "display_data"
    }
   ],
   "source": [
    "# numerically\n",
    "sdf.groupBy(\"VendorID\").count().sort(\"VendorID\").show()\n",
    "# visually\n",
    "vendorid_groups = sdf.groupBy(\"VendorID\").count().sort(\"VendorID\").toPandas()\n",
    "sns.barplot(x=vendorid_groups['VendorID'], y=vendorid_groups['count'])"
   ]
  },
  {
   "cell_type": "markdown",
   "source": [
    "Visualisations not very useful due to large class imbalance\n",
    "* Hence limit investigation to valid VendorID's"
   ],
   "metadata": {
    "collapsed": false,
    "pycharm": {
     "name": "#%% md\n"
    }
   }
  },
  {
   "cell_type": "code",
   "execution_count": 145,
   "metadata": {
    "collapsed": false,
    "jupyter": {
     "outputs_hidden": false
    },
    "pycharm": {
     "name": "#%%\n"
    }
   },
   "outputs": [
    {
     "data": {
      "text/plain": "<AxesSubplot:xlabel='VendorID', ylabel='count'>"
     },
     "execution_count": 145,
     "metadata": {},
     "output_type": "execute_result"
    },
    {
     "data": {
      "text/plain": "<Figure size 432x288 with 1 Axes>",
      "image/png": "[encoded data removed]"
     },
     "metadata": {},
     "output_type": "display_data"
    }
   ],
   "source": [
    "# limit vendorID\n",
    "vendorid_groups_clean = vendorid_groups[(vendorid_groups['VendorID'] == 1) | (vendorid_groups['VendorID'] == 2)]\n",
    "sns.barplot(x=vendorid_groups_clean['VendorID'], y=vendorid_groups_clean['count'])"
   ]
  },
  {
   "cell_type": "markdown",
   "metadata": {
    "pycharm": {
     "name": "#%% md\n"
    }
   },
   "source": [
    "Findings\n",
    "* VendorID should be only 1,2\n",
    "* Contains 4,5's\n",
    "* VendorID 2 has a significant share of trips compared to VendorID 1\n",
    "\n",
    "Upshot:\n",
    "* Remove rows with incorrect VendorID -> limit range to (1:2)"
   ]
  },
  {
   "cell_type": "markdown",
   "metadata": {
    "pycharm": {
     "name": "#%% md\n"
    }
   },
   "source": [
    "**RatecodeID**"
   ]
  },
  {
   "cell_type": "code",
   "execution_count": 146,
   "metadata": {
    "collapsed": false,
    "jupyter": {
     "outputs_hidden": false
    },
    "pycharm": {
     "name": "#%%\n"
    }
   },
   "outputs": [
    {
     "name": "stderr",
     "output_type": "stream",
     "text": [
      "                                                                                \r"
     ]
    },
    {
     "data": {
      "text/plain": "   RatecodeID    count\n0         NaN    28665\n1         1.0  7426901\n2         2.0   165894\n3         3.0    11797\n4         4.0     4889\n5         5.0    54528\n6         6.0       45\n7        99.0      252",
      "text/html": "<div>\n<style scoped>\n    .dataframe tbody tr th:only-of-type {\n        vertical-align: middle;\n    }\n\n    .dataframe tbody tr th {\n        vertical-align: top;\n    }\n\n    .dataframe thead th {\n        text-align: right;\n    }\n</style>\n<table border=\"1\" class=\"dataframe\">\n  <thead>\n    <tr style=\"text-align: right;\">\n      <th></th>\n      <th>RatecodeID</th>\n      <th>count</th>\n    </tr>\n  </thead>\n  <tbody>\n    <tr>\n      <th>0</th>\n      <td>NaN</td>\n      <td>28665</td>\n    </tr>\n    <tr>\n      <th>1</th>\n      <td>1.0</td>\n      <td>7426901</td>\n    </tr>\n    <tr>\n      <th>2</th>\n      <td>2.0</td>\n      <td>165894</td>\n    </tr>\n    <tr>\n      <th>3</th>\n      <td>3.0</td>\n      <td>11797</td>\n    </tr>\n    <tr>\n      <th>4</th>\n      <td>4.0</td>\n      <td>4889</td>\n    </tr>\n    <tr>\n      <th>5</th>\n      <td>5.0</td>\n      <td>54528</td>\n    </tr>\n    <tr>\n      <th>6</th>\n      <td>6.0</td>\n      <td>45</td>\n    </tr>\n    <tr>\n      <th>7</th>\n      <td>99.0</td>\n      <td>252</td>\n    </tr>\n  </tbody>\n</table>\n</div>"
     },
     "execution_count": 146,
     "metadata": {},
     "output_type": "execute_result"
    }
   ],
   "source": [
    "ratecodeid_ = sdf.groupBy(\"RatecodeID\").count().sort(\"RatecodeID\").toPandas()\n",
    "ratecodeid_"
   ]
  },
  {
   "cell_type": "code",
   "execution_count": 147,
   "metadata": {
    "collapsed": false,
    "jupyter": {
     "outputs_hidden": false
    },
    "pycharm": {
     "name": "#%%\n"
    }
   },
   "outputs": [
    {
     "data": {
      "text/plain": "<AxesSubplot:xlabel='RatecodeID', ylabel='count'>"
     },
     "execution_count": 147,
     "metadata": {},
     "output_type": "execute_result"
    },
    {
     "data": {
      "text/plain": "<Figure size 432x288 with 1 Axes>",
      "image/png": "[encoded data removed]"
     },
     "metadata": {},
     "output_type": "display_data"
    }
   ],
   "source": [
    "sns.barplot(x=ratecodeid_['RatecodeID'], y=ratecodeid_['count'])"
   ]
  },
  {
   "cell_type": "markdown",
   "metadata": {
    "pycharm": {
     "name": "#%% md\n"
    }
   },
   "source": [
    "Findings:\n",
    "* Ratecode should be between 1-6 according to NYC TLC guidelines\n",
    "* Contains 99? Could be due to driver just inputting 99 when they encounter an issue\n",
    "\n",
    "Upshot:\n",
    "* Limit ratecodeID entries between [1,6]\n",
    "* Maybe only use standard rate ratecodes?"
   ]
  },
  {
   "cell_type": "markdown",
   "metadata": {
    "pycharm": {
     "name": "#%% md\n"
    }
   },
   "source": [
    "**Payment Type**"
   ]
  },
  {
   "cell_type": "code",
   "execution_count": 148,
   "metadata": {
    "collapsed": false,
    "jupyter": {
     "outputs_hidden": false
    },
    "pycharm": {
     "name": "#%%\n"
    }
   },
   "outputs": [
    {
     "data": {
      "text/plain": "   payment_type    count\n0             0    28665\n1             1  5484030\n2             2  2135970\n3             3    33149\n4             4    11157",
      "text/html": "<div>\n<style scoped>\n    .dataframe tbody tr th:only-of-type {\n        vertical-align: middle;\n    }\n\n    .dataframe tbody tr th {\n        vertical-align: top;\n    }\n\n    .dataframe thead th {\n        text-align: right;\n    }\n</style>\n<table border=\"1\" class=\"dataframe\">\n  <thead>\n    <tr style=\"text-align: right;\">\n      <th></th>\n      <th>payment_type</th>\n      <th>count</th>\n    </tr>\n  </thead>\n  <tbody>\n    <tr>\n      <th>0</th>\n      <td>0</td>\n      <td>28665</td>\n    </tr>\n    <tr>\n      <th>1</th>\n      <td>1</td>\n      <td>5484030</td>\n    </tr>\n    <tr>\n      <th>2</th>\n      <td>2</td>\n      <td>2135970</td>\n    </tr>\n    <tr>\n      <th>3</th>\n      <td>3</td>\n      <td>33149</td>\n    </tr>\n    <tr>\n      <th>4</th>\n      <td>4</td>\n      <td>11157</td>\n    </tr>\n  </tbody>\n</table>\n</div>"
     },
     "execution_count": 148,
     "metadata": {},
     "output_type": "execute_result"
    }
   ],
   "source": [
    "payment_type = sdf.groupBy(\"payment_type\").count().sort(\"payment_type\").toPandas()\n",
    "payment_type"
   ]
  },
  {
   "cell_type": "markdown",
   "metadata": {
    "pycharm": {
     "name": "#%% md\n"
    }
   },
   "source": [
    "Findings:\n",
    "* According to yellow taxi data dictionary: we are only interested in Credit Card (1) and Cash (2)\n",
    "\n",
    "Upshot:\n",
    "* Remove payment types != 1,2"
   ]
  },
  {
   "cell_type": "code",
   "execution_count": 149,
   "metadata": {
    "collapsed": false,
    "jupyter": {
     "outputs_hidden": false
    },
    "pycharm": {
     "name": "#%%\n"
    }
   },
   "outputs": [],
   "source": [
    "spark.sql(\"CLEAR CACHE\")\n",
    "spark.stop()"
   ]
  }
 ],
 "metadata": {
  "kernelspec": {
   "display_name": "Python 3 (ipykernel)",
   "language": "python",
   "name": "python3"
  },
  "language_info": {
   "codemirror_mode": {
    "name": "ipython",
    "version": 3
   },
   "file_extension": ".py",
   "mimetype": "text/x-python",
   "name": "python",
   "nbconvert_exporter": "python",
   "pygments_lexer": "ipython3",
   "version": "3.8.13"
  }
 },
 "nbformat": 4,
 "nbformat_minor": 4
}