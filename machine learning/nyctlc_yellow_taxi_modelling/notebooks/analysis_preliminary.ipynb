{
 "cells": [
  {
   "cell_type": "code",
   "execution_count": null,
   "metadata": {
    "pycharm": {
     "name": "#%%\n",
     "is_executing": true
    },
    "tags": []
   },
   "outputs": [],
   "source": [
    "from pyspark.sql import functions as F\n",
    "from _global_vars import *\n",
    "import seaborn as sns\n",
    "import numpy as np"
   ]
  },
  {
   "cell_type": "code",
   "execution_count": 2,
   "metadata": {
    "collapsed": false,
    "jupyter": {
     "outputs_hidden": false
    },
    "pycharm": {
     "name": "#%%\n"
    }
   },
   "outputs": [
    {
     "name": "stderr",
     "output_type": "stream",
     "text": [
      "                                                                                \r"
     ]
    }
   ],
   "source": [
    "# read in sdf\n",
    "sdf = spark.read.parquet('../data/curated/yt2019_feature_eng.parquet')\n",
    "#sdf.show(1, vertical=True, truncate=100)"
   ]
  },
  {
   "cell_type": "markdown",
   "source": [
    "**Note:** *a subsample is taken heterogeneously for visualisations due to the large size of the dataset*"
   ],
   "metadata": {
    "collapsed": false,
    "pycharm": {
     "name": "#%% md\n"
    }
   }
  },
  {
   "cell_type": "code",
   "execution_count": 10,
   "outputs": [
    {
     "name": "stderr",
     "output_type": "stream",
     "text": [
      "                                                                                \r"
     ]
    },
    {
     "data": {
      "text/plain": [
       "840097"
      ]
     },
     "execution_count": 10,
     "metadata": {},
     "output_type": "execute_result"
    }
   ],
   "source": [
    "# sub sample of (0.025%) approx. 850k records\n",
    "print(f\"Before subsampling size: {sdf.count()}\")\n",
    "sdf_sub = sdf.sample(fraction=0.01, seed=0) #TODO Check this\n",
    "print(f\"After subsampling size: {sdf_sub.count()}\")"
   ],
   "metadata": {
    "collapsed": false,
    "pycharm": {
     "name": "#%%\n"
    }
   }
  },
  {
   "cell_type": "code",
   "execution_count": null,
   "outputs": [],
   "source": [
    "# convert to pandas dataframe\n",
    "df_sub = sdf_sub.toPandas()"
   ],
   "metadata": {
    "collapsed": false,
    "pycharm": {
     "name": "#%%\n"
    }
   }
  },
  {
   "cell_type": "markdown",
   "metadata": {
    "pycharm": {
     "name": "#%% md\n"
    }
   },
   "source": [
    "---\n",
    "#### Univariate Analysis of Features\n",
    "---"
   ]
  },
  {
   "cell_type": "markdown",
   "metadata": {
    "pycharm": {
     "name": "#%% md\n"
    }
   },
   "source": [
    "**Passenger count**"
   ]
  },
  {
   "cell_type": "code",
   "execution_count": 12,
   "metadata": {
    "collapsed": false,
    "jupyter": {
     "outputs_hidden": false
    },
    "pycharm": {
     "name": "#%%\n"
    }
   },
   "outputs": [
    {
     "name": "stderr",
     "output_type": "stream",
     "text": [
      "[Stage 10:=====================================================>  (22 + 1) / 23]\r"
     ]
    },
    {
     "name": "stdout",
     "output_type": "stream",
     "text": [
      "+---------------+--------+\n",
      "|passenger_count|   count|\n",
      "+---------------+--------+\n",
      "|           null|  440996|\n",
      "|            0.0| 1518289|\n",
      "|            1.0|58821100|\n",
      "|            2.0|12721013|\n",
      "|            3.0| 3565925|\n",
      "|            4.0| 1700234|\n",
      "|            5.0| 3382896|\n",
      "|            6.0| 2029534|\n",
      "|            7.0|     416|\n",
      "|            8.0|     276|\n",
      "|            9.0|     224|\n",
      "+---------------+--------+\n",
      "\n"
     ]
    },
    {
     "name": "stderr",
     "output_type": "stream",
     "text": [
      "                                                                                \r"
     ]
    }
   ],
   "source": [
    "# numerically\n",
    "sdf.groupBy(\"passenger_count\").count().sort(\"passenger_count\").show()"
   ]
  },
  {
   "cell_type": "code",
   "execution_count": 13,
   "metadata": {
    "collapsed": false,
    "jupyter": {
     "outputs_hidden": false
    },
    "pycharm": {
     "name": "#%%\n"
    }
   },
   "outputs": [
    {
     "data": {
      "text/plain": [
       "<AxesSubplot:xlabel='passenger_count', ylabel='count'>"
      ]
     },
     "execution_count": 13,
     "metadata": {},
     "output_type": "execute_result"
    },
    {
     "data": {
      "image/png": "[encoded data removed]",
      "text/plain": [
       "<Figure size 432x288 with 1 Axes>"
      ]
     },
     "metadata": {
      "needs_background": "light"
     },
     "output_type": "display_data"
    }
   ],
   "source": [
    "# visually\n",
    "sns.countplot(x=df_sub['passenger_count'])"
   ]
  },
  {
   "cell_type": "code",
   "execution_count": 14,
   "metadata": {
    "collapsed": false,
    "jupyter": {
     "outputs_hidden": false
    },
    "pycharm": {
     "name": "#%%\n"
    }
   },
   "outputs": [
    {
     "data": {
      "text/plain": [
       "<AxesSubplot:xlabel='passenger_count', ylabel='count'>"
      ]
     },
     "execution_count": 14,
     "metadata": {},
     "output_type": "execute_result"
    },
    {
     "data": {
      "image/png": "[encoded data removed]",
      "text/plain": [
       "<Figure size 432x288 with 1 Axes>"
      ]
     },
     "metadata": {
      "needs_background": "light"
     },
     "output_type": "display_data"
    }
   ],
   "source": [
    "# take a peak at the extreme values\n",
    "p_count_out_of_range = df_sub[df_sub['passenger_count'] > 6]\n",
    "sns.countplot(x=p_count_out_of_range['passenger_count'])"
   ]
  },
  {
   "cell_type": "markdown",
   "metadata": {
    "pycharm": {
     "name": "#%% md\n"
    }
   },
   "source": [
    "Findings:\n",
    "* Passenger count has values up to 9.\n",
    "* Should be limited between 1-6. According to TLC guidelines\n",
    "* Higher values for 9 passengers than for that of 8\n",
    "* Suggesting the taxi driver might occasionally just enter the highest number?\n",
    "\n",
    "Upshot:\n",
    "* Restrict range of passenger_count (1:6) [drop other records]"
   ]
  },
  {
   "cell_type": "markdown",
   "source": [
    "**Trip distance**"
   ],
   "metadata": {
    "collapsed": false,
    "pycharm": {
     "name": "#%% md\n"
    }
   }
  },
  {
   "cell_type": "code",
   "execution_count": 15,
   "metadata": {
    "collapsed": false,
    "jupyter": {
     "outputs_hidden": false
    },
    "pycharm": {
     "name": "#%%\n"
    }
   },
   "outputs": [
    {
     "name": "stderr",
     "output_type": "stream",
     "text": [
      "[Stage 12:=====================================================>  (22 + 1) / 23]\r"
     ]
    },
    {
     "name": "stdout",
     "output_type": "stream",
     "text": [
      "+-------------+-----+\n",
      "|trip_distance|count|\n",
      "+-------------+-----+\n",
      "|    -37264.53|    1|\n",
      "|    -18739.24|    1|\n",
      "|       -34.94|    1|\n",
      "|       -34.67|    1|\n",
      "|       -34.44|    1|\n",
      "|       -33.51|    1|\n",
      "|       -32.96|    1|\n",
      "|       -32.61|    1|\n",
      "|        -31.9|    1|\n",
      "|       -31.76|    1|\n",
      "|       -31.18|    1|\n",
      "|       -30.86|    1|\n",
      "|       -30.61|    1|\n",
      "|       -30.52|    1|\n",
      "|        -30.5|    1|\n",
      "|       -30.14|    1|\n",
      "|        -30.1|    1|\n",
      "|       -30.05|    1|\n",
      "|       -29.91|    1|\n",
      "|       -29.82|    2|\n",
      "+-------------+-----+\n",
      "only showing top 20 rows\n",
      "\n"
     ]
    },
    {
     "name": "stderr",
     "output_type": "stream",
     "text": [
      "                                                                                \r"
     ]
    }
   ],
   "source": [
    "# peak at negative tail values\n",
    "sdf.groupBy(\"trip_distance\").count().sort(\"trip_distance\").show()"
   ]
  },
  {
   "cell_type": "code",
   "execution_count": 16,
   "metadata": {
    "collapsed": false,
    "jupyter": {
     "outputs_hidden": false
    },
    "pycharm": {
     "name": "#%%\n"
    }
   },
   "outputs": [
    {
     "name": "stderr",
     "output_type": "stream",
     "text": [
      "[Stage 14:=====================================================>  (22 + 1) / 23]\r"
     ]
    },
    {
     "name": "stdout",
     "output_type": "stream",
     "text": [
      "+-------------+-----+\n",
      "|trip_distance|count|\n",
      "+-------------+-----+\n",
      "|     45977.22|    1|\n",
      "|     19130.18|    1|\n",
      "|        831.8|    1|\n",
      "|        830.9|    1|\n",
      "|        701.5|    1|\n",
      "|        701.3|    1|\n",
      "|        700.7|    1|\n",
      "|        603.5|    1|\n",
      "|        601.6|    1|\n",
      "|       543.09|    1|\n",
      "|        401.4|    1|\n",
      "|       363.13|    1|\n",
      "|       323.81|    1|\n",
      "|       311.56|    1|\n",
      "|       307.95|    1|\n",
      "|        307.5|    1|\n",
      "|        306.9|    1|\n",
      "|        300.8|    1|\n",
      "|       294.07|    1|\n",
      "|       263.21|    1|\n",
      "+-------------+-----+\n",
      "only showing top 20 rows\n",
      "\n"
     ]
    },
    {
     "name": "stderr",
     "output_type": "stream",
     "text": [
      "                                                                                \r"
     ]
    }
   ],
   "source": [
    "# peak at positive tail values\n",
    "sdf.groupBy(\"trip_distance\").count().sort(F.desc(\"trip_distance\")).show()"
   ]
  },
  {
   "cell_type": "code",
   "execution_count": 17,
   "metadata": {
    "collapsed": false,
    "jupyter": {
     "outputs_hidden": false
    },
    "pycharm": {
     "name": "#%%\n"
    }
   },
   "outputs": [
    {
     "name": "stderr",
     "output_type": "stream",
     "text": [
      "                                                                                \r"
     ]
    },
    {
     "data": {
      "text/html": [
       "<table border='1'>\n",
       "<tr><th>hour_of_day_of_year</th><th>VendorID</th><th>tpep_pickup_datetime</th><th>tpep_dropoff_datetime</th><th>passenger_count</th><th>trip_distance</th><th>RatecodeID</th><th>PULocationID</th><th>DOLocationID</th><th>payment_type</th><th>fare_amount</th><th>tip_amount</th><th>congestion_surcharge</th><th>PU_datetime</th><th>DO_datetime</th><th>PU_hourofday</th><th>DO_hourofday</th><th>PU_dayofweek</th><th>DO_dayofweek</th><th>PU_dayofmonth</th><th>DO_dayofmonth</th><th>PU_month</th><th>DO_month</th><th>trip_time_minutes</th><th>trip_speed_mph</th><th>fare_per_minute</th><th>tmpf</th><th>dwpf</th><th>relh</th></tr>\n",
       "<tr><td>2019-06-14 10:00:00</td><td>2</td><td>2019-06-14 10:53:40</td><td>2019-06-14 10:54:57</td><td>1.0</td><td>45977.22</td><td>4</td><td>193</td><td>193</td><td>2</td><td>0.0</td><td>0.0</td><td>0.0</td><td>2019-06-14</td><td>2019-06-14</td><td>10</td><td>10</td><td>6</td><td>14</td><td>14</td><td>14</td><td>6</td><td>6</td><td>1.2833333333333334</td><td>2149584.3116883114</td><td>0.0</td><td>57.9</td><td>54.0</td><td>86.82</td></tr>\n",
       "<tr><td>2019-12-04 10:00:00</td><td>2</td><td>2019-12-04 10:20:13</td><td>2019-12-04 10:24:43</td><td>1.0</td><td>19130.18</td><td>5</td><td>224</td><td>224</td><td>2</td><td>11.0</td><td>0.0</td><td>0.0</td><td>2019-12-04</td><td>2019-12-04</td><td>10</td><td>10</td><td>4</td><td>4</td><td>4</td><td>4</td><td>12</td><td>12</td><td>4.5</td><td>255069.06666666668</td><td>2.4444444444444446</td><td>35.1</td><td>27.0</td><td>72.04</td></tr>\n",
       "<tr><td>2019-01-25 21:00:00</td><td>1</td><td>2019-01-25 21:56:39</td><td>2019-01-25 22:06:08</td><td>1.0</td><td>831.8</td><td>1</td><td>140</td><td>239</td><td>1</td><td>8.5</td><td>1.96</td><td>0.0</td><td>2019-01-25</td><td>2019-01-25</td><td>21</td><td>22</td><td>6</td><td>25</td><td>25</td><td>25</td><td>1</td><td>1</td><td>9.483333333333333</td><td>5262.706502636204</td><td>0.8963093145869948</td><td>35.1</td><td>6.1</td><td>29.12</td></tr>\n",
       "<tr><td>2019-04-27 23:00:00</td><td>1</td><td>2019-04-27 23:42:13</td><td>2019-04-27 23:49:48</td><td>1.0</td><td>830.9</td><td>1</td><td>234</td><td>186</td><td>1</td><td>7.0</td><td>2.15</td><td>2.5</td><td>2019-04-27</td><td>2019-04-27</td><td>23</td><td>23</td><td>7</td><td>27</td><td>27</td><td>27</td><td>4</td><td>4</td><td>7.583333333333333</td><td>6574.153846153847</td><td>0.9230769230769231</td><td>53.1</td><td>30.9</td><td>42.48</td></tr>\n",
       "<tr><td>2019-02-01 15:00:00</td><td>1</td><td>2019-02-01 15:53:09</td><td>2019-02-01 16:06:15</td><td>1.0</td><td>701.5</td><td>1</td><td>114</td><td>249</td><td>1</td><td>10.0</td><td>2.7</td><td>0.0</td><td>2019-02-01</td><td>2019-02-01</td><td>15</td><td>16</td><td>6</td><td>1</td><td>1</td><td>1</td><td>2</td><td>2</td><td>13.1</td><td>3212.977099236641</td><td>0.7633587786259542</td><td>15.1</td><td>-8.0</td><td>34.44</td></tr>\n",
       "<tr><td>2019-11-15 19:00:00</td><td>1</td><td>2019-11-15 19:37:19</td><td>2019-11-15 19:50:08</td><td>3.0</td><td>701.3</td><td>1</td><td>68</td><td>163</td><td>2</td><td>9.5</td><td>0.0</td><td>2.5</td><td>2019-11-15</td><td>2019-11-15</td><td>19</td><td>19</td><td>6</td><td>15</td><td>15</td><td>15</td><td>11</td><td>11</td><td>12.816666666666666</td><td>3283.0689206762027</td><td>0.7412223667100131</td><td>50.0</td><td>21.0</td><td>31.6</td></tr>\n",
       "<tr><td>2019-01-18 16:00:00</td><td>1</td><td>2019-01-18 16:32:24</td><td>2019-01-18 16:39:20</td><td>1.0</td><td>700.7</td><td>1</td><td>236</td><td>262</td><td>1</td><td>6.0</td><td>1.2</td><td>null</td><td>2019-01-18</td><td>2019-01-18</td><td>16</td><td>16</td><td>6</td><td>18</td><td>18</td><td>18</td><td>1</td><td>1</td><td>6.933333333333334</td><td>6063.75</td><td>0.8653846153846153</td><td>36.666666666666664</td><td>32.0</td><td>83.03000000000002</td></tr>\n",
       "<tr><td>2019-09-16 07:00:00</td><td>1</td><td>2019-09-16 07:40:26</td><td>2019-09-16 07:58:57</td><td>3.0</td><td>603.5</td><td>1</td><td>33</td><td>113</td><td>1</td><td>15.5</td><td>3.76</td><td>2.5</td><td>2019-09-16</td><td>2019-09-16</td><td>7</td><td>7</td><td>2</td><td>16</td><td>16</td><td>16</td><td>9</td><td>9</td><td>18.516666666666666</td><td>1955.5355535553556</td><td>0.8370837083708371</td><td>72.0</td><td>57.0</td><td>59.2</td></tr>\n",
       "<tr><td>2019-08-06 21:00:00</td><td>1</td><td>2019-08-06 21:26:36</td><td>2019-08-06 21:34:23</td><td>0.0</td><td>601.6</td><td>1</td><td>170</td><td>141</td><td>1</td><td>7.5</td><td>2.25</td><td>2.5</td><td>2019-08-06</td><td>2019-08-06</td><td>21</td><td>21</td><td>3</td><td>6</td><td>6</td><td>6</td><td>8</td><td>8</td><td>7.783333333333333</td><td>4637.601713062099</td><td>0.9635974304068523</td><td>78.1</td><td>68.0</td><td>71.14</td></tr>\n",
       "<tr><td>2019-11-19 04:00:00</td><td>2</td><td>2019-11-19 04:32:39</td><td>2019-11-19 10:13:46</td><td>5.0</td><td>543.09</td><td>5</td><td>132</td><td>264</td><td>2</td><td>400.0</td><td>0.0</td><td>0.0</td><td>2019-11-19</td><td>2019-11-19</td><td>4</td><td>10</td><td>3</td><td>19</td><td>19</td><td>19</td><td>11</td><td>11</td><td>341.1166666666667</td><td>95.52567547759809</td><td>1.1726193384472565</td><td>41.0</td><td>39.0</td><td>92.52</td></tr>\n",
       "<tr><td>2019-05-15 17:00:00</td><td>1</td><td>2019-05-15 17:22:11</td><td>2019-05-15 17:33:40</td><td>1.0</td><td>401.4</td><td>1</td><td>152</td><td>74</td><td>1</td><td>8.5</td><td>1.55</td><td>0.0</td><td>2019-05-15</td><td>2019-05-15</td><td>17</td><td>17</td><td>4</td><td>15</td><td>15</td><td>15</td><td>5</td><td>5</td><td>11.483333333333333</td><td>2097.300435413643</td><td>0.7402031930333818</td><td>64.0</td><td>39.9</td><td>41.09</td></tr>\n",
       "<tr><td>2019-12-25 20:00:00</td><td>2</td><td>2019-12-25 20:44:07</td><td>2019-12-26 03:10:41</td><td>2.0</td><td>363.13</td><td>5</td><td>132</td><td>265</td><td>2</td><td>400.0</td><td>0.0</td><td>0.0</td><td>2019-12-25</td><td>2019-12-26</td><td>20</td><td>3</td><td>4</td><td>26</td><td>25</td><td>26</td><td>12</td><td>12</td><td>386.56666666666666</td><td>56.362335086660345</td><td>1.0347503664740882</td><td>44.1</td><td>30.0</td><td>57.37</td></tr>\n",
       "<tr><td>2019-12-09 21:00:00</td><td>2</td><td>2019-12-09 21:17:33</td><td>2019-12-10 02:55:18</td><td>4.0</td><td>323.81</td><td>5</td><td>130</td><td>265</td><td>2</td><td>400.0</td><td>0.0</td><td>0.0</td><td>2019-12-09</td><td>2019-12-10</td><td>21</td><td>2</td><td>2</td><td>10</td><td>9</td><td>10</td><td>12</td><td>12</td><td>337.75</td><td>57.523612139156185</td><td>1.1843079200592155</td><td>53.1</td><td>51.1</td><td>92.89</td></tr>\n",
       "<tr><td>2019-07-29 09:00:00</td><td>2</td><td>2019-07-29 09:46:42</td><td>2019-07-29 15:12:31</td><td>1.0</td><td>311.56</td><td>4</td><td>68</td><td>265</td><td>2</td><td>1574.0</td><td>0.0</td><td>2.5</td><td>2019-07-29</td><td>2019-07-29</td><td>9</td><td>15</td><td>2</td><td>29</td><td>29</td><td>29</td><td>7</td><td>7</td><td>325.81666666666666</td><td>57.374597166095455</td><td>4.830937643869252</td><td>73.9</td><td>63.0</td><td>68.76</td></tr>\n",
       "<tr><td>2019-10-20 09:00:00</td><td>2</td><td>2019-10-20 09:23:40</td><td>2019-10-20 14:41:26</td><td>1.0</td><td>307.95</td><td>4</td><td>48</td><td>265</td><td>2</td><td>1552.0</td><td>0.0</td><td>0.0</td><td>2019-10-20</td><td>2019-10-20</td><td>9</td><td>14</td><td>1</td><td>20</td><td>20</td><td>20</td><td>10</td><td>10</td><td>317.76666666666665</td><td>58.14643868666736</td><td>4.8840868561837825</td><td>50.0</td><td>44.1</td><td>80.06</td></tr>\n",
       "<tr><td>2019-07-17 13:00:00</td><td>1</td><td>2019-07-17 13:42:23</td><td>2019-07-17 14:15:25</td><td>1.0</td><td>307.5</td><td>1</td><td>161</td><td>138</td><td>1</td><td>28.5</td><td>5.0</td><td>2.5</td><td>2019-07-17</td><td>2019-07-17</td><td>13</td><td>14</td><td>4</td><td>17</td><td>17</td><td>17</td><td>7</td><td>7</td><td>33.03333333333333</td><td>558.5267406659939</td><td>0.8627648839556005</td><td>84.0</td><td>73.0</td><td>69.59</td></tr>\n",
       "<tr><td>2019-08-10 00:00:00</td><td>1</td><td>2019-08-10 00:14:31</td><td>2019-08-10 05:49:18</td><td>2.0</td><td>306.9</td><td>5</td><td>138</td><td>265</td><td>1</td><td>400.0</td><td>30.0</td><td>0.0</td><td>2019-08-10</td><td>2019-08-10</td><td>0</td><td>5</td><td>7</td><td>10</td><td>10</td><td>10</td><td>8</td><td>8</td><td>334.78333333333336</td><td>55.00273808931149</td><td>1.1948026086523622</td><td>77.0</td><td>51.1</td><td>40.36</td></tr>\n",
       "<tr><td>2019-12-29 12:00:00</td><td>1</td><td>2019-12-29 12:29:25</td><td>2019-12-29 12:34:03</td><td>1.0</td><td>300.8</td><td>1</td><td>231</td><td>125</td><td>2</td><td>5.5</td><td>0.0</td><td>2.5</td><td>2019-12-29</td><td>2019-12-29</td><td>12</td><td>12</td><td>1</td><td>29</td><td>29</td><td>29</td><td>12</td><td>12</td><td>4.633333333333334</td><td>3895.2517985611507</td><td>1.1870503597122302</td><td>42.1</td><td>28.0</td><td>57.08</td></tr>\n",
       "<tr><td>2019-04-30 10:00:00</td><td>2</td><td>2019-04-30 10:05:10</td><td>2019-04-30 11:05:29</td><td>1.0</td><td>294.07</td><td>1</td><td>138</td><td>230</td><td>1</td><td>68.5</td><td>10.0</td><td>2.5</td><td>2019-04-30</td><td>2019-04-30</td><td>10</td><td>11</td><td>3</td><td>30</td><td>30</td><td>30</td><td>4</td><td>4</td><td>60.31666666666667</td><td>292.5261121856866</td><td>1.1356728378004972</td><td>50.0</td><td>48.0</td><td>92.8</td></tr>\n",
       "<tr><td>2019-05-14 20:00:00</td><td>2</td><td>2019-05-14 20:19:26</td><td>2019-05-15 01:16:22</td><td>2.0</td><td>263.21</td><td>5</td><td>132</td><td>265</td><td>2</td><td>450.05</td><td>0.0</td><td>0.0</td><td>2019-05-14</td><td>2019-05-15</td><td>20</td><td>1</td><td>3</td><td>15</td><td>14</td><td>15</td><td>5</td><td>5</td><td>296.93333333333334</td><td>53.18567579703637</td><td>1.5156600808262237</td><td>48.9</td><td>46.6</td><td>91.73666666666666</td></tr>\n",
       "</table>\n"
      ],
      "text/plain": [
       "+-------------------+--------+--------------------+---------------------+---------------+-------------+----------+------------+------------+------------+-----------+----------+--------------------+-----------+-----------+------------+------------+------------+------------+-------------+-------------+--------+--------+------------------+------------------+------------------+------------------+----+-----------------+\n",
       "|hour_of_day_of_year|VendorID|tpep_pickup_datetime|tpep_dropoff_datetime|passenger_count|trip_distance|RatecodeID|PULocationID|DOLocationID|payment_type|fare_amount|tip_amount|congestion_surcharge|PU_datetime|DO_datetime|PU_hourofday|DO_hourofday|PU_dayofweek|DO_dayofweek|PU_dayofmonth|DO_dayofmonth|PU_month|DO_month| trip_time_minutes|    trip_speed_mph|   fare_per_minute|              tmpf|dwpf|             relh|\n",
       "+-------------------+--------+--------------------+---------------------+---------------+-------------+----------+------------+------------+------------+-----------+----------+--------------------+-----------+-----------+------------+------------+------------+------------+-------------+-------------+--------+--------+------------------+------------------+------------------+------------------+----+-----------------+\n",
       "|2019-06-14 10:00:00|       2| 2019-06-14 10:53:40|  2019-06-14 10:54:57|            1.0|     45977.22|         4|         193|         193|           2|        0.0|       0.0|                 0.0| 2019-06-14| 2019-06-14|          10|          10|           6|          14|           14|           14|       6|       6|1.2833333333333334|2149584.3116883114|               0.0|              57.9|54.0|            86.82|\n",
       "|2019-12-04 10:00:00|       2| 2019-12-04 10:20:13|  2019-12-04 10:24:43|            1.0|     19130.18|         5|         224|         224|           2|       11.0|       0.0|                 0.0| 2019-12-04| 2019-12-04|          10|          10|           4|           4|            4|            4|      12|      12|               4.5|255069.06666666668|2.4444444444444446|              35.1|27.0|            72.04|\n",
       "|2019-01-25 21:00:00|       1| 2019-01-25 21:56:39|  2019-01-25 22:06:08|            1.0|        831.8|         1|         140|         239|           1|        8.5|      1.96|                 0.0| 2019-01-25| 2019-01-25|          21|          22|           6|          25|           25|           25|       1|       1| 9.483333333333333| 5262.706502636204|0.8963093145869948|              35.1| 6.1|            29.12|\n",
       "|2019-04-27 23:00:00|       1| 2019-04-27 23:42:13|  2019-04-27 23:49:48|            1.0|        830.9|         1|         234|         186|           1|        7.0|      2.15|                 2.5| 2019-04-27| 2019-04-27|          23|          23|           7|          27|           27|           27|       4|       4| 7.583333333333333| 6574.153846153847|0.9230769230769231|              53.1|30.9|            42.48|\n",
       "|2019-02-01 15:00:00|       1| 2019-02-01 15:53:09|  2019-02-01 16:06:15|            1.0|        701.5|         1|         114|         249|           1|       10.0|       2.7|                 0.0| 2019-02-01| 2019-02-01|          15|          16|           6|           1|            1|            1|       2|       2|              13.1| 3212.977099236641|0.7633587786259542|              15.1|-8.0|            34.44|\n",
       "|2019-11-15 19:00:00|       1| 2019-11-15 19:37:19|  2019-11-15 19:50:08|            3.0|        701.3|         1|          68|         163|           2|        9.5|       0.0|                 2.5| 2019-11-15| 2019-11-15|          19|          19|           6|          15|           15|           15|      11|      11|12.816666666666666|3283.0689206762027|0.7412223667100131|              50.0|21.0|             31.6|\n",
       "|2019-01-18 16:00:00|       1| 2019-01-18 16:32:24|  2019-01-18 16:39:20|            1.0|        700.7|         1|         236|         262|           1|        6.0|       1.2|                null| 2019-01-18| 2019-01-18|          16|          16|           6|          18|           18|           18|       1|       1| 6.933333333333334|           6063.75|0.8653846153846153|36.666666666666664|32.0|83.03000000000002|\n",
       "|2019-09-16 07:00:00|       1| 2019-09-16 07:40:26|  2019-09-16 07:58:57|            3.0|        603.5|         1|          33|         113|           1|       15.5|      3.76|                 2.5| 2019-09-16| 2019-09-16|           7|           7|           2|          16|           16|           16|       9|       9|18.516666666666666|1955.5355535553556|0.8370837083708371|              72.0|57.0|             59.2|\n",
       "|2019-08-06 21:00:00|       1| 2019-08-06 21:26:36|  2019-08-06 21:34:23|            0.0|        601.6|         1|         170|         141|           1|        7.5|      2.25|                 2.5| 2019-08-06| 2019-08-06|          21|          21|           3|           6|            6|            6|       8|       8| 7.783333333333333| 4637.601713062099|0.9635974304068523|              78.1|68.0|            71.14|\n",
       "|2019-11-19 04:00:00|       2| 2019-11-19 04:32:39|  2019-11-19 10:13:46|            5.0|       543.09|         5|         132|         264|           2|      400.0|       0.0|                 0.0| 2019-11-19| 2019-11-19|           4|          10|           3|          19|           19|           19|      11|      11| 341.1166666666667| 95.52567547759809|1.1726193384472565|              41.0|39.0|            92.52|\n",
       "|2019-05-15 17:00:00|       1| 2019-05-15 17:22:11|  2019-05-15 17:33:40|            1.0|        401.4|         1|         152|          74|           1|        8.5|      1.55|                 0.0| 2019-05-15| 2019-05-15|          17|          17|           4|          15|           15|           15|       5|       5|11.483333333333333| 2097.300435413643|0.7402031930333818|              64.0|39.9|            41.09|\n",
       "|2019-12-25 20:00:00|       2| 2019-12-25 20:44:07|  2019-12-26 03:10:41|            2.0|       363.13|         5|         132|         265|           2|      400.0|       0.0|                 0.0| 2019-12-25| 2019-12-26|          20|           3|           4|          26|           25|           26|      12|      12|386.56666666666666|56.362335086660345|1.0347503664740882|              44.1|30.0|            57.37|\n",
       "|2019-12-09 21:00:00|       2| 2019-12-09 21:17:33|  2019-12-10 02:55:18|            4.0|       323.81|         5|         130|         265|           2|      400.0|       0.0|                 0.0| 2019-12-09| 2019-12-10|          21|           2|           2|          10|            9|           10|      12|      12|            337.75|57.523612139156185|1.1843079200592155|              53.1|51.1|            92.89|\n",
       "|2019-07-29 09:00:00|       2| 2019-07-29 09:46:42|  2019-07-29 15:12:31|            1.0|       311.56|         4|          68|         265|           2|     1574.0|       0.0|                 2.5| 2019-07-29| 2019-07-29|           9|          15|           2|          29|           29|           29|       7|       7|325.81666666666666|57.374597166095455| 4.830937643869252|              73.9|63.0|            68.76|\n",
       "|2019-10-20 09:00:00|       2| 2019-10-20 09:23:40|  2019-10-20 14:41:26|            1.0|       307.95|         4|          48|         265|           2|     1552.0|       0.0|                 0.0| 2019-10-20| 2019-10-20|           9|          14|           1|          20|           20|           20|      10|      10|317.76666666666665| 58.14643868666736|4.8840868561837825|              50.0|44.1|            80.06|\n",
       "|2019-07-17 13:00:00|       1| 2019-07-17 13:42:23|  2019-07-17 14:15:25|            1.0|        307.5|         1|         161|         138|           1|       28.5|       5.0|                 2.5| 2019-07-17| 2019-07-17|          13|          14|           4|          17|           17|           17|       7|       7| 33.03333333333333| 558.5267406659939|0.8627648839556005|              84.0|73.0|            69.59|\n",
       "|2019-08-10 00:00:00|       1| 2019-08-10 00:14:31|  2019-08-10 05:49:18|            2.0|        306.9|         5|         138|         265|           1|      400.0|      30.0|                 0.0| 2019-08-10| 2019-08-10|           0|           5|           7|          10|           10|           10|       8|       8|334.78333333333336| 55.00273808931149|1.1948026086523622|              77.0|51.1|            40.36|\n",
       "|2019-12-29 12:00:00|       1| 2019-12-29 12:29:25|  2019-12-29 12:34:03|            1.0|        300.8|         1|         231|         125|           2|        5.5|       0.0|                 2.5| 2019-12-29| 2019-12-29|          12|          12|           1|          29|           29|           29|      12|      12| 4.633333333333334|3895.2517985611507|1.1870503597122302|              42.1|28.0|            57.08|\n",
       "|2019-04-30 10:00:00|       2| 2019-04-30 10:05:10|  2019-04-30 11:05:29|            1.0|       294.07|         1|         138|         230|           1|       68.5|      10.0|                 2.5| 2019-04-30| 2019-04-30|          10|          11|           3|          30|           30|           30|       4|       4| 60.31666666666667| 292.5261121856866|1.1356728378004972|              50.0|48.0|             92.8|\n",
       "|2019-05-14 20:00:00|       2| 2019-05-14 20:19:26|  2019-05-15 01:16:22|            2.0|       263.21|         5|         132|         265|           2|     450.05|       0.0|                 0.0| 2019-05-14| 2019-05-15|          20|           1|           3|          15|           14|           15|       5|       5|296.93333333333334| 53.18567579703637|1.5156600808262237|              48.9|46.6|91.73666666666666|\n",
       "+-------------------+--------+--------------------+---------------------+---------------+-------------+----------+------------+------------+------------+-----------+----------+--------------------+-----------+-----------+------------+------------+------------+------------+-------------+-------------+--------+--------+------------------+------------------+------------------+------------------+----+-----------------+"
      ]
     },
     "execution_count": 17,
     "metadata": {},
     "output_type": "execute_result"
    }
   ],
   "source": [
    "# some serious distances being covered\n",
    "sdf.sort(F.desc(\"trip_distance\")).limit(5)"
   ]
  },
  {
   "cell_type": "code",
   "execution_count": 18,
   "metadata": {
    "collapsed": false,
    "jupyter": {
     "outputs_hidden": false
    },
    "pycharm": {
     "name": "#%%\n"
    }
   },
   "outputs": [
    {
     "data": {
      "text/plain": [
       "<AxesSubplot:xlabel='trip_distance', ylabel='Density'>"
      ]
     },
     "execution_count": 18,
     "metadata": {},
     "output_type": "execute_result"
    },
    {
     "data": {
      "image/png": "[encoded data removed]",
      "text/plain": [
       "<Figure size 432x288 with 1 Axes>"
      ]
     },
     "metadata": {
      "needs_background": "light"
     },
     "output_type": "display_data"
    }
   ],
   "source": [
    "sns.histplot(x=df_sub['trip_distance'], bins=100, kde=True, stat='density')"
   ]
  },
  {
   "cell_type": "code",
   "execution_count": null,
   "metadata": {
    "collapsed": false,
    "jupyter": {
     "outputs_hidden": false
    },
    "pycharm": {
     "name": "#%%\n",
     "is_executing": true
    }
   },
   "outputs": [],
   "source": [
    "# perform log transformation to help visualise\n",
    "sns.histplot(x=np.log(df_sub['trip_distance']), bins=100, kde=True, stat='density')"
   ]
  },
  {
   "cell_type": "code",
   "execution_count": 20,
   "metadata": {
    "collapsed": false,
    "jupyter": {
     "outputs_hidden": false
    },
    "pycharm": {
     "name": "#%%\n"
    }
   },
   "outputs": [
    {
     "data": {
      "text/plain": [
       "<AxesSubplot:xlabel='trip_distance'>"
      ]
     },
     "execution_count": 20,
     "metadata": {},
     "output_type": "execute_result"
    },
    {
     "data": {
      "image/png": "[encoded data removed]",
      "text/plain": [
       "<Figure size 432x288 with 1 Axes>"
      ]
     },
     "metadata": {
      "needs_background": "light"
     },
     "output_type": "display_data"
    }
   ],
   "source": [
    "sns.boxplot(x=df_sub['trip_distance'])"
   ]
  },
  {
   "cell_type": "markdown",
   "metadata": {
    "pycharm": {
     "name": "#%% md\n"
    }
   },
   "source": [
    "Findings:\n",
    "* Looks extremely right skewed\n",
    "* Divide by zero error thrown => we have non strictly positive trip distances\n",
    "* Extremely long trip distances => -33,000 kms! not representative in sample tho\n",
    "* Most positive distances seem reasonable, worthy of further inspection\n",
    "* Contains negative distances\n",
    "* Contains extremely large distances\n",
    "\n",
    "Upshot:\n",
    "* Log transformation might be useful when intending to model\n",
    "* Restrict to entries with: 0 < trip distance < 312km\n",
    "\n",
    ">312km is chosen as it bounds all relevant taxi zones"
   ]
  },
  {
   "cell_type": "markdown",
   "source": [
    "**Fare amount**"
   ],
   "metadata": {
    "collapsed": false,
    "pycharm": {
     "name": "#%% md\n"
    }
   }
  },
  {
   "cell_type": "code",
   "execution_count": 21,
   "metadata": {
    "collapsed": false,
    "jupyter": {
     "outputs_hidden": false
    },
    "pycharm": {
     "name": "#%%\n"
    }
   },
   "outputs": [
    {
     "name": "stderr",
     "output_type": "stream",
     "text": [
      "[Stage 20:=====================================================>  (22 + 1) / 23]\r"
     ]
    },
    {
     "name": "stdout",
     "output_type": "stream",
     "text": [
      "+-----------+-----+\n",
      "|fare_amount|count|\n",
      "+-----------+-----+\n",
      "|   943274.8|    1|\n",
      "|  671123.14|    1|\n",
      "|  623259.86|    1|\n",
      "|  411042.01|    1|\n",
      "|  398468.38|    1|\n",
      "|  395839.94|    1|\n",
      "|  355676.98|    1|\n",
      "|  346949.99|    1|\n",
      "|  171862.12|    1|\n",
      "|  150998.39|    1|\n",
      "|   147639.5|    1|\n",
      "|    90000.0|    1|\n",
      "|    36090.3|    1|\n",
      "|   34674.65|    1|\n",
      "|   33023.53|    1|\n",
      "|   31107.91|    1|\n",
      "|   30444.52|    1|\n",
      "|   30130.71|    1|\n",
      "|   25628.96|    1|\n",
      "|   25356.38|    1|\n",
      "+-----------+-----+\n",
      "only showing top 20 rows\n",
      "\n"
     ]
    },
    {
     "name": "stderr",
     "output_type": "stream",
     "text": [
      "                                                                                \r"
     ]
    }
   ],
   "source": [
    "# inspect positive tail\n",
    "sdf.groupBy(\"fare_amount\").count().sort(F.desc(\"fare_amount\")).show()"
   ]
  },
  {
   "cell_type": "code",
   "execution_count": 22,
   "metadata": {
    "collapsed": false,
    "jupyter": {
     "outputs_hidden": false
    },
    "pycharm": {
     "name": "#%%\n"
    }
   },
   "outputs": [
    {
     "name": "stderr",
     "output_type": "stream",
     "text": [
      "[Stage 22:=====================================================>  (22 + 1) / 23]\r"
     ]
    },
    {
     "name": "stdout",
     "output_type": "stream",
     "text": [
      "+-----------+-----+\n",
      "|fare_amount|count|\n",
      "+-----------+-----+\n",
      "|    -1856.0|    1|\n",
      "|    -1472.0|    1|\n",
      "|     -600.0|    1|\n",
      "|     -530.0|    1|\n",
      "|     -500.0|    1|\n",
      "|     -498.0|    1|\n",
      "|     -497.0|    1|\n",
      "|     -483.0|    1|\n",
      "|    -450.08|    1|\n",
      "|     -450.0|    2|\n",
      "|     -447.0|    1|\n",
      "|     -442.0|    1|\n",
      "|     -422.0|    2|\n",
      "|     -400.0|    7|\n",
      "|     -395.0|    1|\n",
      "|     -375.0|    3|\n",
      "|     -362.0|    1|\n",
      "|     -360.0|    2|\n",
      "|     -350.0|    3|\n",
      "|     -340.0|    1|\n",
      "+-----------+-----+\n",
      "only showing top 20 rows\n",
      "\n"
     ]
    },
    {
     "name": "stderr",
     "output_type": "stream",
     "text": [
      "                                                                                \r"
     ]
    }
   ],
   "source": [
    "# inspect negative tail\n",
    "sdf.groupBy(\"fare_amount\").count().sort(\"fare_amount\").show()"
   ]
  },
  {
   "cell_type": "code",
   "execution_count": 23,
   "metadata": {
    "collapsed": false,
    "jupyter": {
     "outputs_hidden": false
    },
    "pycharm": {
     "name": "#%%\n"
    }
   },
   "outputs": [
    {
     "data": {
      "text/plain": [
       "<AxesSubplot:xlabel='fare_amount', ylabel='Density'>"
      ]
     },
     "execution_count": 23,
     "metadata": {},
     "output_type": "execute_result"
    },
    {
     "data": {
      "image/png": "[encoded data removed]",
      "text/plain": [
       "<Figure size 432x288 with 1 Axes>"
      ]
     },
     "metadata": {
      "needs_background": "light"
     },
     "output_type": "display_data"
    }
   ],
   "source": [
    "sns.histplot(x=df_sub['fare_amount'], bins=100, kde=True, stat='density')"
   ]
  },
  {
   "cell_type": "code",
   "execution_count": null,
   "metadata": {
    "collapsed": false,
    "jupyter": {
     "outputs_hidden": false
    },
    "pycharm": {
     "name": "#%%\n",
     "is_executing": true
    }
   },
   "outputs": [],
   "source": [
    "# perform log transformation to help visualise right skew\n",
    "sns.histplot(x=np.log(df_sub['fare_amount']), bins=100, kde=True, stat='density')"
   ]
  },
  {
   "cell_type": "code",
   "execution_count": 25,
   "metadata": {
    "collapsed": false,
    "jupyter": {
     "outputs_hidden": false
    },
    "pycharm": {
     "name": "#%%\n"
    }
   },
   "outputs": [
    {
     "data": {
      "text/plain": [
       "<AxesSubplot:xlabel='fare_amount'>"
      ]
     },
     "execution_count": 25,
     "metadata": {},
     "output_type": "execute_result"
    },
    {
     "data": {
      "image/png": "[encoded data removed]",
      "text/plain": [
       "<Figure size 432x288 with 1 Axes>"
      ]
     },
     "metadata": {
      "needs_background": "light"
     },
     "output_type": "display_data"
    }
   ],
   "source": [
    "sns.boxplot(x=df_sub['fare_amount'])"
   ]
  },
  {
   "cell_type": "code",
   "execution_count": null,
   "metadata": {
    "collapsed": false,
    "jupyter": {
     "outputs_hidden": false
    },
    "pycharm": {
     "name": "#%%\n",
     "is_executing": true
    }
   },
   "outputs": [],
   "source": [
    "# inspect fares above 2.50 (USD)\n",
    "capped_fare_amnt = df_sub[df_sub['fare_amount'] > 2.5]"
   ]
  },
  {
   "cell_type": "code",
   "execution_count": 27,
   "metadata": {
    "collapsed": false,
    "jupyter": {
     "outputs_hidden": false
    },
    "pycharm": {
     "name": "#%%\n"
    }
   },
   "outputs": [
    {
     "data": {
      "text/plain": [
       "<AxesSubplot:xlabel='fare_amount'>"
      ]
     },
     "execution_count": 27,
     "metadata": {},
     "output_type": "execute_result"
    },
    {
     "data": {
      "image/png": "[encoded data removed]",
      "text/plain": [
       "<Figure size 432x288 with 1 Axes>"
      ]
     },
     "metadata": {
      "needs_background": "light"
     },
     "output_type": "display_data"
    }
   ],
   "source": [
    "sns.boxplot(x=capped_fare_amnt['fare_amount'])"
   ]
  },
  {
   "cell_type": "code",
   "execution_count": 28,
   "metadata": {
    "collapsed": false,
    "jupyter": {
     "outputs_hidden": false
    },
    "pycharm": {
     "name": "#%%\n"
    }
   },
   "outputs": [
    {
     "data": {
      "text/plain": [
       "<AxesSubplot:xlabel='fare_amount', ylabel='Density'>"
      ]
     },
     "execution_count": 28,
     "metadata": {},
     "output_type": "execute_result"
    },
    {
     "data": {
      "image/png": "[encoded data removed]",
      "text/plain": [
       "<Figure size 432x288 with 1 Axes>"
      ]
     },
     "metadata": {
      "needs_background": "light"
     },
     "output_type": "display_data"
    }
   ],
   "source": [
    "sns.histplot(x=capped_fare_amnt['fare_amount'], bins=100, kde=True, stat='density')"
   ]
  },
  {
   "cell_type": "code",
   "execution_count": 29,
   "metadata": {
    "collapsed": false,
    "jupyter": {
     "outputs_hidden": false
    },
    "pycharm": {
     "name": "#%%\n"
    }
   },
   "outputs": [
    {
     "data": {
      "text/plain": [
       "<AxesSubplot:xlabel='fare_amount', ylabel='Density'>"
      ]
     },
     "execution_count": 29,
     "metadata": {},
     "output_type": "execute_result"
    },
    {
     "data": {
      "image/png": "[encoded data removed]",
      "text/plain": [
       "<Figure size 432x288 with 1 Axes>"
      ]
     },
     "metadata": {
      "needs_background": "light"
     },
     "output_type": "display_data"
    }
   ],
   "source": [
    "sns.histplot(x=np.log(capped_fare_amnt['fare_amount']), bins=100, kde=True, stat='density')"
   ]
  },
  {
   "cell_type": "markdown",
   "metadata": {
    "pycharm": {
     "name": "#%% md\n"
    }
   },
   "source": [
    "Findings:\n",
    "* Fare amount contains zero values\n",
    "* Right skewed\n",
    "* Extremely high fare values in full dataset\n",
    "* Extremely negative fare values in full dataset\n",
    "* Fare values shows banding when looking at the subsample\n",
    "* Peaks at fare amounts of around log(4): could be airport or hotspot etc\n",
    "\n",
    "Upshot:\n",
    "* Take log\n",
    "* Restrict values between 1.5*IQR\n",
    "* Fares capped at $500"
   ]
  },
  {
   "cell_type": "markdown",
   "source": [
    "**Trip speed (mph)**"
   ],
   "metadata": {
    "collapsed": false,
    "pycharm": {
     "name": "#%% md\n"
    }
   }
  },
  {
   "cell_type": "code",
   "execution_count": 30,
   "metadata": {
    "collapsed": false,
    "jupyter": {
     "outputs_hidden": false
    },
    "pycharm": {
     "name": "#%%\n"
    }
   },
   "outputs": [
    {
     "data": {
      "text/plain": [
       "<AxesSubplot:xlabel='trip_speed_mph', ylabel='Density'>"
      ]
     },
     "execution_count": 30,
     "metadata": {},
     "output_type": "execute_result"
    },
    {
     "data": {
      "image/png": "[encoded data removed]",
      "text/plain": [
       "<Figure size 432x288 with 1 Axes>"
      ]
     },
     "metadata": {
      "needs_background": "light"
     },
     "output_type": "display_data"
    }
   ],
   "source": [
    "sns.histplot(x=df_sub['trip_speed_mph'], bins=100, kde=True, stat='density')"
   ]
  },
  {
   "cell_type": "code",
   "execution_count": null,
   "metadata": {
    "collapsed": false,
    "jupyter": {
     "outputs_hidden": false
    },
    "pycharm": {
     "name": "#%%\n",
     "is_executing": true
    }
   },
   "outputs": [],
   "source": [
    "sns.histplot(x=np.log(df_sub['trip_speed_mph']), bins=100, kde=True, stat='density')"
   ]
  },
  {
   "cell_type": "code",
   "execution_count": 32,
   "metadata": {
    "collapsed": false,
    "jupyter": {
     "outputs_hidden": false
    },
    "pycharm": {
     "name": "#%%\n"
    }
   },
   "outputs": [
    {
     "data": {
      "text/plain": [
       "<AxesSubplot:xlabel='trip_speed_mph'>"
      ]
     },
     "execution_count": 32,
     "metadata": {},
     "output_type": "execute_result"
    },
    {
     "data": {
      "image/png": "[encoded data removed]",
      "text/plain": [
       "<Figure size 432x288 with 1 Axes>"
      ]
     },
     "metadata": {
      "needs_background": "light"
     },
     "output_type": "display_data"
    }
   ],
   "source": [
    "sns.boxplot(x=df_sub['trip_speed_mph'])"
   ]
  },
  {
   "cell_type": "code",
   "execution_count": 33,
   "metadata": {
    "collapsed": false,
    "jupyter": {
     "outputs_hidden": false
    },
    "pycharm": {
     "name": "#%%\n"
    }
   },
   "outputs": [],
   "source": [
    "# investigate distribution with restrictions; speeds between 1 and 65 mph\n",
    "capped_speed = df_sub[(df_sub['trip_speed_mph'] <= 65) & (df_sub['trip_speed_mph'] > 1)]"
   ]
  },
  {
   "cell_type": "code",
   "execution_count": 34,
   "metadata": {
    "collapsed": false,
    "jupyter": {
     "outputs_hidden": false
    },
    "pycharm": {
     "name": "#%%\n"
    }
   },
   "outputs": [
    {
     "data": {
      "text/plain": [
       "<AxesSubplot:xlabel='trip_speed_mph'>"
      ]
     },
     "execution_count": 34,
     "metadata": {},
     "output_type": "execute_result"
    },
    {
     "data": {
      "image/png": "[encoded data removed]",
      "text/plain": [
       "<Figure size 432x288 with 1 Axes>"
      ]
     },
     "metadata": {
      "needs_background": "light"
     },
     "output_type": "display_data"
    }
   ],
   "source": [
    " sns.boxplot(x=capped_speed['trip_speed_mph'])"
   ]
  },
  {
   "cell_type": "code",
   "execution_count": 35,
   "metadata": {
    "collapsed": false,
    "jupyter": {
     "outputs_hidden": false
    },
    "pycharm": {
     "name": "#%%\n"
    }
   },
   "outputs": [
    {
     "data": {
      "text/plain": [
       "<AxesSubplot:xlabel='trip_speed_mph', ylabel='Density'>"
      ]
     },
     "execution_count": 35,
     "metadata": {},
     "output_type": "execute_result"
    },
    {
     "data": {
      "image/png": "[encoded data removed]",
      "text/plain": [
       "<Figure size 432x288 with 1 Axes>"
      ]
     },
     "metadata": {
      "needs_background": "light"
     },
     "output_type": "display_data"
    }
   ],
   "source": [
    "# right skewed again\n",
    "sns.histplot(x=capped_speed['trip_speed_mph'], bins=100, kde=True, stat='density')"
   ]
  },
  {
   "cell_type": "code",
   "execution_count": 36,
   "metadata": {
    "collapsed": false,
    "jupyter": {
     "outputs_hidden": false
    },
    "pycharm": {
     "name": "#%%\n"
    }
   },
   "outputs": [
    {
     "data": {
      "text/plain": [
       "<AxesSubplot:xlabel='trip_speed_mph', ylabel='Density'>"
      ]
     },
     "execution_count": 36,
     "metadata": {},
     "output_type": "execute_result"
    },
    {
     "data": {
      "image/png": "[encoded data removed]",
      "text/plain": [
       "<Figure size 432x288 with 1 Axes>"
      ]
     },
     "metadata": {
      "needs_background": "light"
     },
     "output_type": "display_data"
    }
   ],
   "source": [
    "# doesn't that look nice?\n",
    "sns.histplot(x=np.log(capped_speed['trip_speed_mph']), bins=100, kde=True, stat='density')"
   ]
  },
  {
   "cell_type": "markdown",
   "metadata": {
    "pycharm": {
     "name": "#%% md\n"
    }
   },
   "source": [
    "Findings:\n",
    "* Extreme speeds.\n",
    "* NYC speed limit is 65 mph at the most on the highways, most of it should be less than that if it is taking place in NYC\n",
    "* Trips that had a speed of less than 1 mph?\n",
    "\n",
    "Implements:\n",
    "* remove trips with average speed over 65 mph\n",
    "* remove trips less than 1 mph\n"
   ]
  },
  {
   "cell_type": "markdown",
   "source": [
    "**Trip Duration** (expected to be highly correlated with trip speed)"
   ],
   "metadata": {
    "collapsed": false,
    "pycharm": {
     "name": "#%% md\n"
    }
   }
  },
  {
   "cell_type": "code",
   "execution_count": 37,
   "metadata": {
    "collapsed": false,
    "jupyter": {
     "outputs_hidden": false
    },
    "pycharm": {
     "name": "#%%\n"
    }
   },
   "outputs": [
    {
     "data": {
      "text/plain": [
       "<AxesSubplot:xlabel='trip_time_minutes', ylabel='Density'>"
      ]
     },
     "execution_count": 37,
     "metadata": {},
     "output_type": "execute_result"
    },
    {
     "data": {
      "image/png": "[encoded data removed]",
      "text/plain": [
       "<Figure size 432x288 with 1 Axes>"
      ]
     },
     "metadata": {
      "needs_background": "light"
     },
     "output_type": "display_data"
    }
   ],
   "source": [
    "sns.histplot(x=df_sub['trip_time_minutes'], bins=100, kde=True, stat='density')"
   ]
  },
  {
   "cell_type": "code",
   "execution_count": 38,
   "metadata": {
    "collapsed": false,
    "jupyter": {
     "outputs_hidden": false
    },
    "pycharm": {
     "name": "#%%\n"
    }
   },
   "outputs": [
    {
     "data": {
      "text/plain": [
       "<AxesSubplot:xlabel='trip_time_minutes'>"
      ]
     },
     "execution_count": 38,
     "metadata": {},
     "output_type": "execute_result"
    },
    {
     "data": {
      "image/png": "[encoded data removed]",
      "text/plain": [
       "<Figure size 432x288 with 1 Axes>"
      ]
     },
     "metadata": {
      "needs_background": "light"
     },
     "output_type": "display_data"
    }
   ],
   "source": [
    "sns.boxplot(x=df_sub['trip_time_minutes'])"
   ]
  },
  {
   "cell_type": "code",
   "execution_count": null,
   "metadata": {
    "collapsed": false,
    "jupyter": {
     "outputs_hidden": false
    },
    "pycharm": {
     "name": "#%%\n",
     "is_executing": true
    }
   },
   "outputs": [],
   "source": [
    "sns.histplot(x=np.log(df_sub['trip_time_minutes']), bins=100, kde=True, stat='density')"
   ]
  },
  {
   "cell_type": "code",
   "execution_count": 40,
   "metadata": {
    "collapsed": false,
    "jupyter": {
     "outputs_hidden": false
    },
    "pycharm": {
     "name": "#%%\n"
    }
   },
   "outputs": [],
   "source": [
    "# investigate distribution with restrictions;\n",
    "# -> trip times less than 8 hours and longer than 2 minutes\n",
    "capped_time = df_sub[(df_sub['trip_time_minutes'] <= 480) & (df_sub['trip_time_minutes'] > 2)]"
   ]
  },
  {
   "cell_type": "code",
   "execution_count": 41,
   "metadata": {
    "collapsed": false,
    "jupyter": {
     "outputs_hidden": false
    },
    "pycharm": {
     "name": "#%%\n"
    }
   },
   "outputs": [
    {
     "data": {
      "text/plain": [
       "<AxesSubplot:xlabel='trip_time_minutes'>"
      ]
     },
     "execution_count": 41,
     "metadata": {},
     "output_type": "execute_result"
    },
    {
     "data": {
      "image/png": "[encoded data removed]",
      "text/plain": [
       "<Figure size 432x288 with 1 Axes>"
      ]
     },
     "metadata": {
      "needs_background": "light"
     },
     "output_type": "display_data"
    }
   ],
   "source": [
    "sns.boxplot(x=capped_time['trip_time_minutes'])"
   ]
  },
  {
   "cell_type": "code",
   "execution_count": 42,
   "metadata": {
    "collapsed": false,
    "jupyter": {
     "outputs_hidden": false
    },
    "pycharm": {
     "name": "#%%\n"
    }
   },
   "outputs": [
    {
     "data": {
      "text/plain": [
       "<AxesSubplot:xlabel='trip_time_minutes', ylabel='Density'>"
      ]
     },
     "execution_count": 42,
     "metadata": {},
     "output_type": "execute_result"
    },
    {
     "data": {
      "image/png": "[encoded data removed]",
      "text/plain": [
       "<Figure size 432x288 with 1 Axes>"
      ]
     },
     "metadata": {
      "needs_background": "light"
     },
     "output_type": "display_data"
    }
   ],
   "source": [
    "# right skewed again, again\n",
    "sns.histplot(x=capped_time['trip_time_minutes'], bins=100, kde=True, stat='density')"
   ]
  },
  {
   "cell_type": "code",
   "execution_count": 43,
   "metadata": {
    "collapsed": false,
    "jupyter": {
     "outputs_hidden": false
    },
    "pycharm": {
     "name": "#%%\n"
    }
   },
   "outputs": [
    {
     "data": {
      "text/plain": [
       "<AxesSubplot:xlabel='trip_time_minutes', ylabel='Density'>"
      ]
     },
     "execution_count": 43,
     "metadata": {},
     "output_type": "execute_result"
    },
    {
     "data": {
      "image/png": "[encoded data removed]",
      "text/plain": [
       "<Figure size 432x288 with 1 Axes>"
      ]
     },
     "metadata": {
      "needs_background": "light"
     },
     "output_type": "display_data"
    }
   ],
   "source": [
    "# much more gaussian\n",
    "sns.histplot(x=np.log(capped_time['trip_time_minutes']), bins=100, kde=True, stat='density')"
   ]
  },
  {
   "cell_type": "markdown",
   "metadata": {
    "pycharm": {
     "name": "#%% md\n"
    }
   },
   "source": [
    "Findings:\n",
    "* Extremely long trip times up to 1400 minutes (just in the sample)\n",
    "\n",
    "Upshot:\n",
    "* Limit trip times to under 8 hours (480 minutes) (a whole shift, which would be a big ask for a taxi driver)\n",
    "* Trips with a time of less than 2 minutes should be excluded as they are\n",
    "    * Not very realistic\n",
    "    * Or the passenger may have cancelled"
   ]
  },
  {
   "cell_type": "markdown",
   "metadata": {
    "pycharm": {
     "name": "#%% md\n"
    }
   },
   "source": [
    "---\n",
    "### Date/Time Analysis\n",
    "---"
   ]
  },
  {
   "cell_type": "markdown",
   "metadata": {
    "pycharm": {
     "name": "#%% md\n"
    }
   },
   "source": [
    "**Distribution of trips across time**\n",
    "> Months of year"
   ]
  },
  {
   "cell_type": "code",
   "execution_count": null,
   "metadata": {
    "collapsed": false,
    "jupyter": {
     "outputs_hidden": false
    },
    "pycharm": {
     "name": "#%%\n",
     "is_executing": true
    }
   },
   "outputs": [],
   "source": [
    "month_counts = sdf.groupBy(\"PU_month\").count()\n",
    "month_counts_df = month_counts.toPandas()"
   ]
  },
  {
   "cell_type": "code",
   "execution_count": 46,
   "metadata": {
    "collapsed": false,
    "jupyter": {
     "outputs_hidden": false
    },
    "pycharm": {
     "name": "#%%\n"
    }
   },
   "outputs": [
    {
     "name": "stdout",
     "output_type": "stream",
     "text": [
      "    PU_month    count\n",
      "0         12  6697922\n",
      "1          1  7693187\n",
      "2          6  6971335\n",
      "3          3  7866400\n",
      "4          5  7571377\n",
      "5          9  6542493\n",
      "6          4  7475959\n",
      "7          8  6059977\n",
      "8          7  6291619\n",
      "9         10  7179886\n",
      "10        11  6808156\n",
      "11         2  7022592\n"
     ]
    },
    {
     "data": {
      "text/plain": [
       "<AxesSubplot:xlabel='PU_month', ylabel='count'>"
      ]
     },
     "execution_count": 46,
     "metadata": {},
     "output_type": "execute_result"
    },
    {
     "data": {
      "image/png": "[encoded data removed]",
      "text/plain": [
       "<Figure size 432x288 with 1 Axes>"
      ]
     },
     "metadata": {
      "needs_background": "light"
     },
     "output_type": "display_data"
    }
   ],
   "source": [
    "# numerically\n",
    "print(month_counts_df)\n",
    "# visually\n",
    "sns.barplot(x=month_counts_df['PU_month'], y=month_counts_df['count'])"
   ]
  },
  {
   "cell_type": "markdown",
   "source": [
    "> Weeks of the year"
   ],
   "metadata": {
    "collapsed": false,
    "pycharm": {
     "name": "#%% md\n"
    }
   }
  },
  {
   "cell_type": "code",
   "execution_count": 47,
   "metadata": {
    "collapsed": false,
    "jupyter": {
     "outputs_hidden": false
    },
    "pycharm": {
     "name": "#%%\n"
    }
   },
   "outputs": [
    {
     "name": "stderr",
     "output_type": "stream",
     "text": [
      "                                                                                \r"
     ]
    }
   ],
   "source": [
    "PU_day_of_week_df = sdf.groupBy(\"PU_dayofweek\").count().toPandas()"
   ]
  },
  {
   "cell_type": "code",
   "execution_count": 48,
   "metadata": {
    "collapsed": false,
    "jupyter": {
     "outputs_hidden": false
    },
    "pycharm": {
     "name": "#%%\n"
    }
   },
   "outputs": [
    {
     "name": "stdout",
     "output_type": "stream",
     "text": [
      "   PU_dayofweek     count\n",
      "0             1  10427700\n",
      "1             6  12926486\n",
      "2             3  12220622\n",
      "3             5  13010032\n",
      "4             4  12608716\n",
      "5             7  12064745\n",
      "6             2  10922602\n"
     ]
    },
    {
     "data": {
      "text/plain": [
       "<AxesSubplot:xlabel='PU_dayofweek', ylabel='count'>"
      ]
     },
     "execution_count": 48,
     "metadata": {},
     "output_type": "execute_result"
    },
    {
     "data": {
      "image/png": "[encoded data removed]",
      "text/plain": [
       "<Figure size 432x288 with 1 Axes>"
      ]
     },
     "metadata": {
      "needs_background": "light"
     },
     "output_type": "display_data"
    }
   ],
   "source": [
    "# numerically\n",
    "print(PU_day_of_week_df)\n",
    "# visually\n",
    "sns.barplot(x=PU_day_of_week_df['PU_dayofweek'], y=month_counts_df['count'])"
   ]
  },
  {
   "cell_type": "markdown",
   "source": [
    "**Pickup Locations**"
   ],
   "metadata": {
    "collapsed": false,
    "pycharm": {
     "name": "#%% md\n"
    }
   }
  },
  {
   "cell_type": "code",
   "execution_count": 49,
   "metadata": {
    "collapsed": false,
    "jupyter": {
     "outputs_hidden": false
    },
    "pycharm": {
     "name": "#%%\n"
    }
   },
   "outputs": [
    {
     "name": "stderr",
     "output_type": "stream",
     "text": [
      "                                                                                \r"
     ]
    }
   ],
   "source": [
    "PU_LocationID_Counts = sdf.groupBy(\"PULocationID\").count().toPandas()"
   ]
  },
  {
   "cell_type": "code",
   "execution_count": 50,
   "metadata": {
    "collapsed": false,
    "jupyter": {
     "outputs_hidden": false
    },
    "pycharm": {
     "name": "#%%\n"
    }
   },
   "outputs": [
    {
     "name": "stdout",
     "output_type": "stream",
     "text": [
      "     PULocationID    count\n",
      "257           104        1\n",
      "228           199       13\n",
      "214           204       29\n",
      "135           176       32\n",
      "241            99       37\n",
      "..            ...      ...\n",
      "244           186  3014310\n",
      "136           162  3034557\n",
      "30            236  3274823\n",
      "131           161  3437529\n",
      "173           237  3624800\n",
      "\n",
      "[263 rows x 2 columns]\n"
     ]
    },
    {
     "data": {
      "text/plain": [
       "<AxesSubplot:xlabel='PULocationID', ylabel='count'>"
      ]
     },
     "execution_count": 50,
     "metadata": {},
     "output_type": "execute_result"
    },
    {
     "data": {
      "image/png": "[encoded data removed]",
      "text/plain": [
       "<Figure size 432x288 with 1 Axes>"
      ]
     },
     "metadata": {
      "needs_background": "light"
     },
     "output_type": "display_data"
    }
   ],
   "source": [
    "# Pickup day of week -> by count\n",
    "\n",
    "print(PU_LocationID_Counts.sort_values('count'))\n",
    "PULocationID_counts_sorted = PU_LocationID_Counts.sort_values('count')\n",
    "\n",
    "sns.barplot(x=PULocationID_counts_sorted['PULocationID'], y=PULocationID_counts_sorted['count'], order=PULocationID_counts_sorted['PULocationID'])"
   ]
  },
  {
   "cell_type": "code",
   "execution_count": 51,
   "metadata": {
    "collapsed": false,
    "jupyter": {
     "outputs_hidden": false
    },
    "pycharm": {
     "name": "#%%\n"
    }
   },
   "outputs": [
    {
     "data": {
      "text/plain": [
       "<AxesSubplot:xlabel='PULocationID', ylabel='count'>"
      ]
     },
     "execution_count": 51,
     "metadata": {},
     "output_type": "execute_result"
    },
    {
     "data": {
      "image/png": "[encoded data removed]",
      "text/plain": [
       "<Figure size 432x288 with 1 Axes>"
      ]
     },
     "metadata": {
      "needs_background": "light"
     },
     "output_type": "display_data"
    }
   ],
   "source": [
    "# peek at distribution of the highest frequency pickup locations\n",
    "PULocationID_counts_top = PU_LocationID_Counts[PU_LocationID_Counts['count'] > 2000000]\n",
    "sns.barplot(x=PULocationID_counts_top['PULocationID'], y=PULocationID_counts_top['count'])"
   ]
  },
  {
   "cell_type": "markdown",
   "metadata": {
    "pycharm": {
     "name": "#%% md\n"
    }
   },
   "source": [
    "**Pick Up Times**"
   ]
  },
  {
   "cell_type": "code",
   "execution_count": 52,
   "metadata": {
    "collapsed": false,
    "jupyter": {
     "outputs_hidden": false
    },
    "pycharm": {
     "name": "#%%\n"
    }
   },
   "outputs": [
    {
     "name": "stderr",
     "output_type": "stream",
     "text": [
      "                                                                                \r"
     ]
    }
   ],
   "source": [
    "PU_hourofday_counts = sdf.groupBy(\"PU_hourofday\").count().toPandas()"
   ]
  },
  {
   "cell_type": "code",
   "execution_count": 53,
   "metadata": {
    "collapsed": false,
    "jupyter": {
     "outputs_hidden": false
    },
    "pycharm": {
     "name": "#%%\n"
    }
   },
   "outputs": [
    {
     "data": {
      "text/plain": [
       "<AxesSubplot:xlabel='PU_hourofday', ylabel='count'>"
      ]
     },
     "execution_count": 53,
     "metadata": {},
     "output_type": "execute_result"
    },
    {
     "data": {
      "image/png": "[encoded data removed]",
      "text/plain": [
       "<Figure size 432x288 with 1 Axes>"
      ]
     },
     "metadata": {
      "needs_background": "light"
     },
     "output_type": "display_data"
    }
   ],
   "source": [
    "# Note; the timezones are off\n",
    "sns.barplot(x=PU_hourofday_counts['PU_hourofday'], y=PU_hourofday_counts['count'])"
   ]
  },
  {
   "cell_type": "markdown",
   "metadata": {
    "pycharm": {
     "name": "#%% md\n"
    }
   },
   "source": [
    "**Congestion Surcharge**"
   ]
  },
  {
   "cell_type": "code",
   "execution_count": 55,
   "metadata": {
    "collapsed": false,
    "jupyter": {
     "outputs_hidden": false
    },
    "pycharm": {
     "name": "#%%\n"
    }
   },
   "outputs": [
    {
     "data": {
      "image/png": "[encoded data removed]",
      "text/plain": [
       "<Figure size 432x288 with 1 Axes>"
      ]
     },
     "metadata": {
      "needs_background": "light"
     },
     "output_type": "display_data"
    }
   ],
   "source": [
    "#df_sub['congestion_surcharge']\n",
    "con_hist = sns.histplot(x=df_sub['congestion_surcharge'], bins=100, kde=True, stat='density')\n",
    "fig = con_hist.get_figure()\n",
    "fig.suptitle(\"Smoothed Density, Congestion Surcharge\")\n",
    "fig.savefig('../plots/congestion_surcharge_density.png')"
   ]
  },
  {
   "cell_type": "code",
   "execution_count": 56,
   "metadata": {
    "collapsed": false,
    "jupyter": {
     "outputs_hidden": false
    },
    "pycharm": {
     "name": "#%%\n"
    }
   },
   "outputs": [
    {
     "data": {
      "text/plain": [
       "<AxesSubplot:xlabel='congestion_surcharge'>"
      ]
     },
     "execution_count": 56,
     "metadata": {},
     "output_type": "execute_result"
    },
    {
     "data": {
      "image/png": "[encoded data removed]",
      "text/plain": [
       "<Figure size 432x288 with 1 Axes>"
      ]
     },
     "metadata": {
      "needs_background": "light"
     },
     "output_type": "display_data"
    }
   ],
   "source": [
    "sns.boxplot(x=df_sub['congestion_surcharge'])"
   ]
  },
  {
   "cell_type": "code",
   "execution_count": 57,
   "metadata": {
    "collapsed": false,
    "jupyter": {
     "outputs_hidden": false
    },
    "pycharm": {
     "name": "#%%\n"
    }
   },
   "outputs": [
    {
     "data": {
      "text/plain": [
       "820492    2.75\n",
       "348785    2.75\n",
       "177297    2.75\n",
       "298134    2.75\n",
       "616390    2.75\n",
       "          ... \n",
       "840092     NaN\n",
       "840093     NaN\n",
       "840094     NaN\n",
       "840095     NaN\n",
       "840096     NaN\n",
       "Name: congestion_surcharge, Length: 840097, dtype: float64"
      ]
     },
     "execution_count": 57,
     "metadata": {},
     "output_type": "execute_result"
    }
   ],
   "source": [
    "df_sub['congestion_surcharge'].sort_values(ascending=False)"
   ]
  },
  {
   "cell_type": "markdown",
   "metadata": {
    "pycharm": {
     "name": "#%% md\n"
    }
   },
   "source": [
    "Findings:\n",
    "* Congestion surcharge contains negative values\n",
    "* Doesnt appear to go above $3\n",
    "* has two peaks? for whatever reason\n",
    "\n",
    "Upshot:\n",
    "* Congestion surcharge capped at 10 usd -> any records beyond this can go away\n",
    "* Range [0:10]"
   ]
  },
  {
   "cell_type": "markdown",
   "metadata": {
    "pycharm": {
     "name": "#%% md\n"
    }
   },
   "source": [
    "---\n",
    "#### Categorical Variable Analysis #\n",
    "---"
   ]
  },
  {
   "cell_type": "markdown",
   "metadata": {
    "pycharm": {
     "name": "#%% md\n"
    }
   },
   "source": [
    "**VendorID**"
   ]
  },
  {
   "cell_type": "code",
   "execution_count": 58,
   "metadata": {
    "collapsed": false,
    "jupyter": {
     "outputs_hidden": false
    },
    "pycharm": {
     "name": "#%%\n"
    }
   },
   "outputs": [
    {
     "name": "stderr",
     "output_type": "stream",
     "text": [
      "[Stage 32:=========================================>              (17 + 6) / 23]\r"
     ]
    },
    {
     "name": "stdout",
     "output_type": "stream",
     "text": [
      "+--------+--------+\n",
      "|VendorID|   count|\n",
      "+--------+--------+\n",
      "|       1|30227904|\n",
      "|       2|53685949|\n",
      "|       4|  266775|\n",
      "|       5|     275|\n",
      "+--------+--------+\n",
      "\n"
     ]
    },
    {
     "name": "stderr",
     "output_type": "stream",
     "text": [
      "                                                                                \r"
     ]
    }
   ],
   "source": [
    "# numerically\n",
    "sdf.groupBy(\"VendorID\").count().sort(\"VendorID\").show()\n",
    "# visually\n",
    "vendorid_groups = sdf.groupBy(\"VendorID\").count().sort(\"VendorID\").toPandas()\n",
    "sns.barplot(x=vendorid_groups['VendorID'], y=vendorid_groups['count'])"
   ]
  },
  {
   "cell_type": "markdown",
   "source": [
    "Visualisations not very useful due to large class imbalance\n",
    "* Hence limit investigation to valid VendorID's"
   ],
   "metadata": {
    "collapsed": false,
    "pycharm": {
     "name": "#%% md\n"
    }
   }
  },
  {
   "cell_type": "code",
   "execution_count": 61,
   "metadata": {
    "collapsed": false,
    "jupyter": {
     "outputs_hidden": false
    },
    "pycharm": {
     "name": "#%%\n"
    }
   },
   "outputs": [],
   "source": [
    "# limit vendorID\n",
    "vendorid_groups_clean = vendorid_groups[(vendorid_groups['VendorID'] == 1) | (vendorid_groups['VendorID'] == 2)]\n",
    "sns.barplot(x=vendorid_groups_clean['VendorID'], y=vendorid_groups_clean['count'])"
   ]
  },
  {
   "cell_type": "markdown",
   "metadata": {
    "pycharm": {
     "name": "#%% md\n"
    }
   },
   "source": [
    "Findings\n",
    "* VendorID should be only 1,2\n",
    "* Contains 4,5's\n",
    "* VendorID 2 has a significant share of trips compared to VendorID 1\n",
    "\n",
    "Upshot:\n",
    "* Remove rows with incorrect VendorID -> limit range to (1:2)"
   ]
  },
  {
   "cell_type": "markdown",
   "metadata": {
    "pycharm": {
     "name": "#%% md\n"
    }
   },
   "source": [
    "**RatecodeID**"
   ]
  },
  {
   "cell_type": "code",
   "execution_count": 63,
   "metadata": {
    "collapsed": false,
    "jupyter": {
     "outputs_hidden": false
    },
    "pycharm": {
     "name": "#%%\n"
    }
   },
   "outputs": [
    {
     "name": "stderr",
     "output_type": "stream",
     "text": [
      "                                                                                \r"
     ]
    }
   ],
   "source": [
    "ratecodeid_ = sdf.groupBy(\"RatecodeID\").count().sort(\"RatecodeID\").toPandas()\n",
    "ratecodeid_"
   ]
  },
  {
   "cell_type": "code",
   "execution_count": 65,
   "metadata": {
    "collapsed": false,
    "jupyter": {
     "outputs_hidden": false
    },
    "pycharm": {
     "name": "#%%\n"
    }
   },
   "outputs": [
    {
     "data": {
      "text/plain": [
       "<AxesSubplot:xlabel='RatecodeID', ylabel='count'>"
      ]
     },
     "execution_count": 65,
     "metadata": {},
     "output_type": "execute_result"
    },
    {
     "data": {
      "image/png": "[encoded data removed]",
      "text/plain": [
       "<Figure size 432x288 with 1 Axes>"
      ]
     },
     "metadata": {
      "needs_background": "light"
     },
     "output_type": "display_data"
    }
   ],
   "source": [
    "sns.barplot(x=ratecodeid_['RatecodeID'], y=ratecodeid_['count'])"
   ]
  },
  {
   "cell_type": "markdown",
   "metadata": {
    "pycharm": {
     "name": "#%% md\n"
    }
   },
   "source": [
    "Findings:\n",
    "* Ratecode should be between 1-6 according to NYC TLC guidelines\n",
    "* Contains 99? Could be due to driver just inputting 99 when they encounter an issue\n",
    "\n",
    "Upshot:\n",
    "* Limit ratecodeID entries between [1,6]\n",
    "* Maybe only use standard rate ratecodes?"
   ]
  },
  {
   "cell_type": "markdown",
   "metadata": {
    "pycharm": {
     "name": "#%% md\n"
    }
   },
   "source": [
    "**Payment Type**"
   ]
  },
  {
   "cell_type": "code",
   "execution_count": 66,
   "metadata": {
    "collapsed": false,
    "jupyter": {
     "outputs_hidden": false
    },
    "pycharm": {
     "name": "#%%\n"
    }
   },
   "outputs": [
    {
     "name": "stderr",
     "output_type": "stream",
     "text": [
      "                                                                                \r"
     ]
    }
   ],
   "source": [
    "payment_type = sdf.groupBy(\"payment_type\").count().sort(\"payment_type\").toPandas()\n",
    "payment_type"
   ]
  },
  {
   "cell_type": "markdown",
   "metadata": {
    "pycharm": {
     "name": "#%% md\n"
    }
   },
   "source": [
    "Findings:\n",
    "* According to yellow taxi data dictionary: we are only interested in Credit Card (1) and Cash (2)\n",
    "\n",
    "Upshot:\n",
    "* Remove payment types != 1,2"
   ]
  },
  {
   "cell_type": "code",
   "execution_count": 68,
   "metadata": {
    "collapsed": false,
    "jupyter": {
     "outputs_hidden": false
    },
    "pycharm": {
     "name": "#%%\n"
    }
   },
   "outputs": [],
   "source": [
    "spark.sql(\"CLEAR CACHE\")\n",
    "spark.stop()"
   ]
  }
 ],
 "metadata": {
  "kernelspec": {
   "display_name": "Python 3 (ipykernel)",
   "language": "python",
   "name": "python3"
  },
  "language_info": {
   "codemirror_mode": {
    "name": "ipython",
    "version": 3
   },
   "file_extension": ".py",
   "mimetype": "text/x-python",
   "name": "python",
   "nbconvert_exporter": "python",
   "pygments_lexer": "ipython3",
   "version": "3.8.13"
  }
 },
 "nbformat": 4,
 "nbformat_minor": 4
}