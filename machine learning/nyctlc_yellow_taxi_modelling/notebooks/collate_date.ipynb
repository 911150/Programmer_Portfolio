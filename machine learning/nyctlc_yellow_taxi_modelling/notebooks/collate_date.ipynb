{
 "cells": [
  {
   "cell_type": "markdown",
   "source": [
    "##### Imports and Variables"
   ],
   "metadata": {
    "collapsed": false,
    "pycharm": {
     "name": "#%% md\n"
    }
   }
  },
  {
   "cell_type": "code",
   "execution_count": null,
   "outputs": [],
   "source": [
    "from collate import drop_cast_and_create_taxi, weather_process\n",
    "from _global_vars import *"
   ],
   "metadata": {
    "collapsed": false,
    "pycharm": {
     "name": "#%%\n"
    }
   }
  },
  {
   "cell_type": "markdown",
   "source": [
    "Taxi data preprocessing"
   ],
   "metadata": {
    "collapsed": false,
    "pycharm": {
     "name": "#%% md\n"
    }
   }
  },
  {
   "cell_type": "code",
   "execution_count": null,
   "metadata": {
    "collapsed": false,
    "jupyter": {
     "outputs_hidden": false
    },
    "pycharm": {
     "name": "#%%\n",
     "is_executing": true
    }
   },
   "outputs": [],
   "source": [
    "# Read in 2019 taxi data & inspect\n",
    "sdf_full = spark.read.parquet('../data/raw/tlc_data/tlc_data_yellow/2019*')\n",
    "#sdf_full.show(1, vertical=True)"
   ]
  },
  {
   "cell_type": "code",
   "execution_count": null,
   "metadata": {
    "collapsed": false,
    "jupyter": {
     "outputs_hidden": false
    },
    "pycharm": {
     "name": "#%%\n",
     "is_executing": true
    }
   },
   "outputs": [],
   "source": [
    "# inspect-pre\n",
    "print(sdf_full.count(), len(sdf_full.columns))\n",
    "sdf_full.printSchema()\n",
    "#sdf_full.limit(3)"
   ]
  },
  {
   "cell_type": "code",
   "execution_count": 6,
   "metadata": {
    "collapsed": false,
    "jupyter": {
     "outputs_hidden": false
    },
    "pycharm": {
     "name": "#%%\n"
    }
   },
   "outputs": [],
   "source": [
    "# Call helper function to select and cast useful features to appropriate dtypes\n",
    "sdf = drop_cast_and_create_taxi(sdf_full)"
   ]
  },
  {
   "cell_type": "code",
   "execution_count": null,
   "outputs": [],
   "source": [
    "# inspect-post\n",
    "print(sdf.count(), len(sdf.columns))\n",
    "sdf.printSchema()"
   ],
   "metadata": {
    "collapsed": false,
    "pycharm": {
     "name": "#%%\n"
    }
   }
  },
  {
   "cell_type": "code",
   "execution_count": null,
   "metadata": {
    "collapsed": false,
    "jupyter": {
     "outputs_hidden": false
    },
    "pycharm": {
     "name": "#%%\n",
     "is_executing": true
    }
   },
   "outputs": [],
   "source": [
    "# Pre-cleaning descriptive statistics\n",
    "sdf.describe(*non_categorical_features).show()"
   ]
  },
  {
   "cell_type": "markdown",
   "metadata": {
    "pycharm": {
     "name": "#%% md\n"
    }
   },
   "source": [
    "Weather aggregation, preprocessing and exporting"
   ]
  },
  {
   "cell_type": "code",
   "execution_count": 9,
   "metadata": {
    "collapsed": false,
    "jupyter": {
     "outputs_hidden": false
    },
    "pycharm": {
     "name": "#%%\n"
    }
   },
   "outputs": [],
   "source": [
    "# Read in weather csv\n",
    "weather_date_path = \"../data/raw/nyc_weather_date/NYC.csv\"\n",
    "weather_sdf = spark.read.csv(weather_date_path, header=True, inferSchema=True)"
   ]
  },
  {
   "cell_type": "code",
   "execution_count": 10,
   "metadata": {
    "collapsed": false,
    "jupyter": {
     "outputs_hidden": false
    },
    "pycharm": {
     "name": "#%%\n"
    }
   },
   "outputs": [
    {
     "name": "stdout",
     "output_type": "stream",
     "text": [
      "root\n",
      " |-- station: string (nullable = true)\n",
      " |-- valid: string (nullable = true)\n",
      " |-- lon: double (nullable = true)\n",
      " |-- lat: double (nullable = true)\n",
      " |-- tmpf: string (nullable = true)\n",
      " |-- dwpf: string (nullable = true)\n",
      " |-- relh: string (nullable = true)\n",
      " |-- drct: string (nullable = true)\n",
      " |-- sknt: string (nullable = true)\n",
      " |-- p01i: string (nullable = true)\n",
      " |-- alti: string (nullable = true)\n",
      " |-- mslp: string (nullable = true)\n",
      " |-- vsby: string (nullable = true)\n",
      " |-- gust: string (nullable = true)\n",
      " |-- skyc1: string (nullable = true)\n",
      " |-- skyc2: string (nullable = true)\n",
      " |-- skyc3: string (nullable = true)\n",
      " |-- skyc4: string (nullable = true)\n",
      " |-- skyl1: string (nullable = true)\n",
      " |-- skyl2: string (nullable = true)\n",
      " |-- skyl3: string (nullable = true)\n",
      " |-- skyl4: string (nullable = true)\n",
      " |-- wxcodes: string (nullable = true)\n",
      " |-- ice_accretion_1hr: string (nullable = true)\n",
      " |-- ice_accretion_3hr: string (nullable = true)\n",
      " |-- ice_accretion_6hr: string (nullable = true)\n",
      " |-- peak_wind_gust: string (nullable = true)\n",
      " |-- peak_wind_drct: string (nullable = true)\n",
      " |-- peak_wind_time: string (nullable = true)\n",
      " |-- feel: string (nullable = true)\n",
      " |-- metar: string (nullable = true)\n",
      " |-- snowdepth: string (nullable = true)\n",
      "\n"
     ]
    }
   ],
   "source": [
    "# inspect-pre\n",
    "print(weather_sdf.count(), len(weather_sdf.columns))\n",
    "weather_sdf.printSchema()"
   ]
  },
  {
   "cell_type": "code",
   "execution_count": 12,
   "metadata": {
    "collapsed": false,
    "jupyter": {
     "outputs_hidden": false
    },
    "pycharm": {
     "name": "#%%\n"
    }
   },
   "outputs": [],
   "source": [
    "# Call helper function to preprocess weather data\n",
    "weather_sdf = weather_process(weather_sdf)"
   ]
  },
  {
   "cell_type": "code",
   "execution_count": null,
   "metadata": {
    "collapsed": false,
    "jupyter": {
     "outputs_hidden": false
    },
    "pycharm": {
     "name": "#%%\n",
     "is_executing": true
    }
   },
   "outputs": [],
   "source": [
    "# inspect-post\n",
    "print(weather_sdf.count(), len(weather_sdf.columns))\n",
    "weather_sdf.printSchema()"
   ]
  },
  {
   "cell_type": "code",
   "execution_count": 15,
   "metadata": {
    "collapsed": false,
    "jupyter": {
     "outputs_hidden": false
    },
    "pycharm": {
     "name": "#%%\n"
    }
   },
   "outputs": [
    {
     "name": "stderr",
     "output_type": "stream",
     "text": [
      "                                                                                \r"
     ]
    }
   ],
   "source": [
    "# Export cleaned weather data\n",
    "weather_sdf.write.mode('overwrite').csv(export_relative_dir + \"weather_data_clean.csv\")"
   ]
  },
  {
   "cell_type": "markdown",
   "source": [
    "Merge taxi and weather data on $\\textit{hour of day}$ feature"
   ],
   "metadata": {
    "collapsed": false,
    "pycharm": {
     "name": "#%% md\n"
    }
   }
  },
  {
   "cell_type": "code",
   "execution_count": null,
   "metadata": {
    "collapsed": false,
    "jupyter": {
     "outputs_hidden": false
    },
    "pycharm": {
     "name": "#%%\n",
     "is_executing": true
    }
   },
   "outputs": [],
   "source": [
    "# Merge\n",
    "combined_sdf = sdf.join(weather_sdf,\n",
    "                        on=['hour_of_day_of_year'],\n",
    "                        how='inner')"
   ]
  },
  {
   "cell_type": "code",
   "execution_count": null,
   "metadata": {
    "collapsed": false,
    "jupyter": {
     "outputs_hidden": false
    },
    "pycharm": {
     "name": "#%%\n",
     "is_executing": true
    }
   },
   "outputs": [],
   "source": [
    "combined_sdf.write.mode('overwrite').parquet(export_relative_dir + \"yt2019_feature_eng.parquet\")\n",
    "print(\"Export completed...\")"
   ]
  },
  {
   "cell_type": "markdown",
   "source": [],
   "metadata": {
    "collapsed": false,
    "pycharm": {
     "name": "#%% md\n"
    }
   }
  },
  {
   "cell_type": "code",
   "execution_count": 18,
   "metadata": {
    "collapsed": false,
    "jupyter": {
     "outputs_hidden": false
    },
    "pycharm": {
     "name": "#%%\n"
    }
   },
   "outputs": [],
   "source": [
    "spark.sql(\"CLEAR CACHE\")\n",
    "spark.stop()"
   ]
  }
 ],
 "metadata": {
  "kernelspec": {
   "display_name": "Python 3 (ipykernel)",
   "language": "python",
   "name": "python3"
  },
  "language_info": {
   "codemirror_mode": {
    "name": "ipython",
    "version": 3
   },
   "file_extension": ".py",
   "mimetype": "text/x-python",
   "name": "python",
   "nbconvert_exporter": "python",
   "pygments_lexer": "ipython3",
   "version": "3.8.13"
  }
 },
 "nbformat": 4,
 "nbformat_minor": 4
}