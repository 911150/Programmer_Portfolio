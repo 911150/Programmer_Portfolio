{
 "cells": [
  {
   "cell_type": "code",
   "execution_count": 1,
   "metadata": {
    "pycharm": {
     "name": "#%%\n"
    },
    "tags": []
   },
   "outputs": [
    {
     "name": "stderr",
     "output_type": "stream",
     "text": [
      "22/08/23 05:12:14 WARN Utils: Your hostname, LAPTOP-VAB0S7AL resolves to a loopback address: 127.0.1.1; using 172.27.232.126 instead (on interface eth0)\n",
      "22/08/23 05:12:14 WARN Utils: Set SPARK_LOCAL_IP if you need to bind to another address\n",
      "WARNING: An illegal reflective access operation has occurred\n",
      "WARNING: Illegal reflective access by org.apache.spark.unsafe.Platform (file:/home/noahs/miniconda3/lib/python3.8/site-packages/pyspark/jars/spark-unsafe_2.12-3.1.2.jar) to constructor java.nio.DirectByteBuffer(long,int)\n",
      "WARNING: Please consider reporting this to the maintainers of org.apache.spark.unsafe.Platform\n",
      "WARNING: Use --illegal-access=warn to enable warnings of further illegal reflective access operations\n",
      "WARNING: All illegal access operations will be denied in a future release\n",
      "22/08/23 05:12:15 WARN NativeCodeLoader: Unable to load native-hadoop library for your platform... using builtin-java classes where applicable\n",
      "Using Spark's default log4j profile: org/apache/spark/log4j-defaults.properties\n",
      "Setting default log level to \"WARN\".\n",
      "To adjust logging level use sc.setLogLevel(newLevel). For SparkR, use setLogLevel(newLevel).\n"
     ]
    }
   ],
   "source": [
    "from pyspark.sql import SparkSession\n",
    "\n",
    "# Create a spark session (which will run spark jobs)\n",
    "spark = (\n",
    "    SparkSession.builder.appName(\"MAST30034_Yellow_Taxi_Build_Model_Evals\")\n",
    "    .config(\"spark.sql.repl.eagerEval.enabled\", True)\n",
    "    .config(\"spark.sql.parquet.cacheMetadata\", \"true\")\n",
    "    .config(\"spark.executor.memory\", \"2g\")\n",
    "    .config(\"spark.driver.memory\", \"4g\")\n",
    "    .config(\"spark.sql.session.timeZone\", \"Etc/UTC\")\n",
    "    .getOrCreate()\n",
    ")"
   ]
  },
  {
   "cell_type": "code",
   "execution_count": 2,
   "metadata": {
    "collapsed": false,
    "jupyter": {
     "outputs_hidden": false
    },
    "pycharm": {
     "name": "#%%\n"
    }
   },
   "outputs": [],
   "source": [
    "# Change for full model or subsample\n",
    "#subsample = True\n",
    "subsample = False"
   ]
  },
  {
   "cell_type": "code",
   "execution_count": 3,
   "metadata": {
    "collapsed": false,
    "jupyter": {
     "outputs_hidden": false
    },
    "pycharm": {
     "name": "#%%\n"
    }
   },
   "outputs": [
    {
     "name": "stderr",
     "output_type": "stream",
     "text": [
      "                                                                                \r"
     ]
    }
   ],
   "source": [
    "# read in cleaned 2019 taxi+weather data & confirm\n",
    "sdf = spark.read.parquet('../data/curated/yt2019_cleaned.parquet')"
   ]
  },
  {
   "cell_type": "code",
   "execution_count": 4,
   "metadata": {
    "collapsed": false,
    "jupyter": {
     "outputs_hidden": false
    },
    "pycharm": {
     "name": "#%%\n"
    }
   },
   "outputs": [
    {
     "name": "stderr",
     "output_type": "stream",
     "text": [
      "                                                                                \r"
     ]
    },
    {
     "data": {
      "text/plain": [
       "71742914"
      ]
     },
     "execution_count": 4,
     "metadata": {},
     "output_type": "execute_result"
    }
   ],
   "source": [
    "sdf.count()\n",
    "#sdf.limit(5)"
   ]
  },
  {
   "cell_type": "code",
   "execution_count": 5,
   "metadata": {
    "collapsed": false,
    "jupyter": {
     "outputs_hidden": false
    },
    "pycharm": {
     "name": "#%%\n"
    }
   },
   "outputs": [],
   "source": [
    "model_features = ['VendorID', 'passenger_count','trip_distance','RatecodeID', 'PULocationID', 'DOLocationID', 'payment_type',\n",
    "                  'congestion_surcharge', 'PU_hourofday','DO_hourofday','PU_dayofweek','DO_dayofweek','PU_dayofmonth',\n",
    "                  'PU_month','DO_month','trip_time_minutes','trip_speed_mph','tmpf','dwpf','relh']"
   ]
  },
  {
   "cell_type": "code",
   "execution_count": 6,
   "metadata": {
    "collapsed": false,
    "jupyter": {
     "outputs_hidden": false
    },
    "pycharm": {
     "name": "#%%\n"
    }
   },
   "outputs": [
    {
     "data": {
      "text/plain": [
       "['hour_of_day_of_year',\n",
       " 'VendorID',\n",
       " 'tpep_pickup_datetime',\n",
       " 'tpep_dropoff_datetime',\n",
       " 'passenger_count',\n",
       " 'trip_distance',\n",
       " 'RatecodeID',\n",
       " 'PULocationID',\n",
       " 'DOLocationID',\n",
       " 'payment_type',\n",
       " 'fare_amount',\n",
       " 'tip_amount',\n",
       " 'congestion_surcharge',\n",
       " 'PU_datetime',\n",
       " 'DO_datetime',\n",
       " 'PU_hourofday',\n",
       " 'DO_hourofday',\n",
       " 'PU_dayofweek',\n",
       " 'DO_dayofweek',\n",
       " 'PU_dayofmonth',\n",
       " 'DO_dayofmonth',\n",
       " 'PU_month',\n",
       " 'DO_month',\n",
       " 'trip_time_minutes',\n",
       " 'trip_speed_mph',\n",
       " 'fare_per_minute',\n",
       " 'tmpf',\n",
       " 'dwpf',\n",
       " 'relh',\n",
       " 'is_valid_record']"
      ]
     },
     "execution_count": 6,
     "metadata": {},
     "output_type": "execute_result"
    }
   ],
   "source": [
    "# chosen subset of features used in modelling\n",
    "sdf.columns"
   ]
  },
  {
   "cell_type": "markdown",
   "metadata": {
    "pycharm": {
     "name": "#%% md\n"
    }
   },
   "source": [
    "### Pipeline"
   ]
  },
  {
   "cell_type": "code",
   "execution_count": 7,
   "metadata": {
    "collapsed": false,
    "jupyter": {
     "outputs_hidden": false
    },
    "pycharm": {
     "name": "#%%\n"
    }
   },
   "outputs": [
    {
     "name": "stderr",
     "output_type": "stream",
     "text": [
      "/home/noahs/miniconda3/lib/python3.8/site-packages/scipy/__init__.py:146: UserWarning: A NumPy version >=1.16.5 and <1.23.0 is required for this version of SciPy (detected version 1.23.1\n",
      "  warnings.warn(f\"A NumPy version >={np_minversion} and <{np_maxversion}\"\n"
     ]
    }
   ],
   "source": [
    "from model import build_pipeline, build_pipeline_rf, get_evaluator, train_model"
   ]
  },
  {
   "cell_type": "code",
   "execution_count": 8,
   "metadata": {
    "collapsed": false,
    "jupyter": {
     "outputs_hidden": false
    },
    "pycharm": {
     "name": "#%%\n"
    }
   },
   "outputs": [
    {
     "name": "stdout",
     "output_type": "stream",
     "text": [
      "full dataset counts: 71742914\n"
     ]
    },
    {
     "name": "stderr",
     "output_type": "stream",
     "text": [
      "                                                                                \r"
     ]
    }
   ],
   "source": [
    "# in development use subsampled training set, else use full (2019 NYC Yellow Taxi Data)\n",
    "print(\"full dataset counts: \" + str(sdf.count()))\n",
    "# TODO: can remove this\n",
    "if subsample:\n",
    "    train = sdf.sample(fraction=0.005, seed=0)\n",
    "    print(\"subsampled dataset counts: \" + str(train.count()))\n",
    "else:\n",
    "   train = sdf"
   ]
  },
  {
   "cell_type": "markdown",
   "metadata": {
    "pycharm": {
     "name": "#%% md\n"
    }
   },
   "source": [
    "Build the pipeline, train the model and export"
   ]
  },
  {
   "cell_type": "code",
   "execution_count": 9,
   "metadata": {
    "collapsed": false,
    "jupyter": {
     "outputs_hidden": false
    },
    "pycharm": {
     "name": "#%%\n"
    }
   },
   "outputs": [],
   "source": [
    "# Get pipeline obj\n",
    "pipeline = build_pipeline(model_features)\n",
    "pipeline_rf = build_pipeline_rf(model_features)"
   ]
  },
  {
   "cell_type": "code",
   "execution_count": 10,
   "metadata": {
    "collapsed": false,
    "jupyter": {
     "outputs_hidden": false
    },
    "pycharm": {
     "name": "#%%\n"
    }
   },
   "outputs": [
    {
     "name": "stderr",
     "output_type": "stream",
     "text": [
      "22/08/23 05:14:49 WARN MemoryStore: Not enough space to cache rdd_35_4 in memory! (computed 223.2 MiB so far)\n",
      "22/08/23 05:14:49 WARN MemoryStore: Not enough space to cache rdd_35_5 in memory! (computed 223.2 MiB so far)\n",
      "22/08/23 05:14:49 WARN BlockManager: Persisting block rdd_35_4 to disk instead.\n",
      "22/08/23 05:14:49 WARN BlockManager: Persisting block rdd_35_5 to disk instead.\n",
      "22/08/23 05:14:50 WARN MemoryStore: Not enough space to cache rdd_35_6 in memory! (computed 223.2 MiB so far)\n",
      "22/08/23 05:14:50 WARN BlockManager: Persisting block rdd_35_6 to disk instead.\n",
      "22/08/23 05:14:50 WARN MemoryStore: Not enough space to cache rdd_35_1 in memory! (computed 223.2 MiB so far)\n",
      "22/08/23 05:14:50 WARN BlockManager: Persisting block rdd_35_1 to disk instead.\n",
      "22/08/23 05:15:09 WARN MemoryStore: Not enough space to cache rdd_35_8 in memory! (computed 62.8 MiB so far)\n",
      "22/08/23 05:15:09 WARN BlockManager: Persisting block rdd_35_8 to disk instead.\n",
      "22/08/23 05:15:10 WARN MemoryStore: Not enough space to cache rdd_35_5 in memory! (computed 41.8 MiB so far)\n",
      "22/08/23 05:15:10 WARN MemoryStore: Not enough space to cache rdd_35_5 in memory! (computed 2.3 MiB so far)\n",
      "22/08/23 05:15:10 WARN MemoryStore: Not enough space to cache rdd_35_6 in memory! (computed 94.2 MiB so far)\n",
      "22/08/23 05:15:11 WARN MemoryStore: Not enough space to cache rdd_35_6 in memory! (computed 18.6 MiB so far)\n",
      "22/08/23 05:15:14 WARN MemoryStore: Not enough space to cache rdd_35_1 in memory! (computed 148.8 MiB so far)\n",
      "22/08/23 05:15:14 WARN MemoryStore: Not enough space to cache rdd_35_4 in memory! (computed 223.2 MiB so far)\n",
      "22/08/23 05:15:15 WARN MemoryStore: Not enough space to cache rdd_35_1 in memory! (computed 18.6 MiB so far)\n",
      "22/08/23 05:15:15 WARN MemoryStore: Not enough space to cache rdd_35_4 in memory! (computed 18.6 MiB so far)\n",
      "22/08/23 05:15:15 WARN MemoryStore: Not enough space to cache rdd_35_9 in memory! (computed 148.8 MiB so far)\n",
      "22/08/23 05:15:15 WARN BlockManager: Persisting block rdd_35_9 to disk instead.\n",
      "22/08/23 05:15:32 WARN MemoryStore: Not enough space to cache rdd_35_13 in memory! (computed 94.2 MiB so far)\n",
      "22/08/23 05:15:32 WARN BlockManager: Persisting block rdd_35_13 to disk instead.\n",
      "22/08/23 05:15:33 WARN MemoryStore: Not enough space to cache rdd_35_12 in memory! (computed 148.8 MiB so far)\n",
      "22/08/23 05:15:33 WARN BlockManager: Persisting block rdd_35_12 to disk instead.\n",
      "22/08/23 05:15:33 WARN MemoryStore: Not enough space to cache rdd_35_14 in memory! (computed 94.2 MiB so far)\n",
      "22/08/23 05:15:33 WARN BlockManager: Persisting block rdd_35_14 to disk instead.\n",
      "22/08/23 05:15:33 WARN MemoryStore: Not enough space to cache rdd_35_8 in memory! (computed 62.8 MiB so far)\n",
      "22/08/23 05:15:33 WARN MemoryStore: Failed to reserve initial memory threshold of 1024.0 KiB for computing block rdd_35_8 in memory.\n",
      "22/08/23 05:15:33 WARN MemoryStore: Not enough space to cache rdd_35_8 in memory! (computed 384.0 B so far)\n",
      "22/08/23 05:15:41 WARN MemoryStore: Not enough space to cache rdd_35_15 in memory! (computed 148.8 MiB so far)\n",
      "22/08/23 05:15:41 WARN BlockManager: Persisting block rdd_35_15 to disk instead.\n",
      "22/08/23 05:15:50 WARN MemoryStore: Not enough space to cache rdd_35_17 in memory! (computed 94.2 MiB so far)\n",
      "22/08/23 05:15:50 WARN BlockManager: Persisting block rdd_35_17 to disk instead.\n",
      "22/08/23 05:15:52 WARN MemoryStore: Not enough space to cache rdd_35_16 in memory! (computed 223.2 MiB so far)\n",
      "22/08/23 05:15:52 WARN BlockManager: Persisting block rdd_35_16 to disk instead.\n",
      "22/08/23 05:15:53 WARN MemoryStore: Not enough space to cache rdd_35_18 in memory! (computed 148.8 MiB so far)\n",
      "22/08/23 05:15:53 WARN BlockManager: Persisting block rdd_35_18 to disk instead.\n",
      "22/08/23 05:15:54 WARN MemoryStore: Not enough space to cache rdd_35_19 in memory! (computed 94.2 MiB so far)\n",
      "22/08/23 05:15:54 WARN BlockManager: Persisting block rdd_35_19 to disk instead.\n",
      "22/08/23 05:16:00 WARN MemoryStore: Not enough space to cache rdd_35_12 in memory! (computed 223.2 MiB so far)\n",
      "22/08/23 05:16:00 WARN MemoryStore: Not enough space to cache rdd_35_12 in memory! (computed 18.6 MiB so far)\n",
      "22/08/23 05:16:01 WARN MemoryStore: Not enough space to cache rdd_35_13 in memory! (computed 94.2 MiB so far)\n",
      "22/08/23 05:16:01 WARN MemoryStore: Not enough space to cache rdd_35_14 in memory! (computed 148.8 MiB so far)\n",
      "22/08/23 05:16:01 WARN MemoryStore: Not enough space to cache rdd_35_13 in memory! (computed 12.0 MiB so far)\n",
      "22/08/23 05:16:01 WARN MemoryStore: Not enough space to cache rdd_35_14 in memory! (computed 7.8 MiB so far)\n",
      "22/08/23 05:16:01 WARN MemoryStore: Not enough space to cache rdd_35_15 in memory! (computed 18.6 MiB so far)\n",
      "22/08/23 05:16:01 WARN MemoryStore: Not enough space to cache rdd_35_15 in memory! (computed 1539.2 KiB so far)\n",
      "22/08/23 05:16:09 WARN MemoryStore: Not enough space to cache rdd_35_17 in memory! (computed 94.2 MiB so far)\n",
      "22/08/23 05:16:09 WARN MemoryStore: Not enough space to cache rdd_35_16 in memory! (computed 334.8 MiB so far)\n",
      "22/08/23 05:16:09 WARN MemoryStore: Not enough space to cache rdd_35_17 in memory! (computed 5.2 MiB so far)\n",
      "22/08/23 05:16:13 WARN MemoryStore: Not enough space to cache rdd_35_19 in memory! (computed 223.2 MiB so far)\n",
      "22/08/23 05:16:14 WARN MemoryStore: Not enough space to cache rdd_35_19 in memory! (computed 41.8 MiB so far)\n",
      "22/08/23 05:16:14 WARN MemoryStore: Not enough space to cache rdd_35_18 in memory! (computed 334.8 MiB so far)\n",
      "22/08/23 05:16:14 WARN MemoryStore: Not enough space to cache rdd_35_16 in memory! (computed 334.8 MiB so far)\n",
      "22/08/23 05:16:15 WARN MemoryStore: Not enough space to cache rdd_35_18 in memory! (computed 41.8 MiB so far)\n",
      "22/08/23 05:16:30 WARN MemoryStore: Not enough space to cache rdd_35_3 in memory! (computed 94.2 MiB so far)\n",
      "22/08/23 05:16:30 WARN MemoryStore: Not enough space to cache rdd_35_1 in memory! (computed 94.2 MiB so far)\n",
      "22/08/23 05:16:30 WARN MemoryStore: Not enough space to cache rdd_35_6 in memory! (computed 94.2 MiB so far)\n",
      "22/08/23 05:16:30 WARN MemoryStore: Not enough space to cache rdd_35_0 in memory! (computed 94.2 MiB so far)\n",
      "22/08/23 05:16:30 WARN MemoryStore: Not enough space to cache rdd_35_5 in memory! (computed 94.2 MiB so far)\n",
      "22/08/23 05:16:30 WARN MemoryStore: Not enough space to cache rdd_35_2 in memory! (computed 62.8 MiB so far)\n",
      "22/08/23 05:16:30 WARN MemoryStore: Not enough space to cache rdd_35_7 in memory! (computed 94.2 MiB so far)\n",
      "22/08/23 05:16:38 WARN MemoryStore: Not enough space to cache rdd_35_8 in memory! (computed 223.2 MiB so far)\n",
      "22/08/23 05:16:38 WARN MemoryStore: Not enough space to cache rdd_35_10 in memory! (computed 148.8 MiB so far)\n",
      "22/08/23 05:16:38 WARN MemoryStore: Not enough space to cache rdd_35_9 in memory! (computed 148.8 MiB so far)\n",
      "22/08/23 05:16:38 WARN MemoryStore: Not enough space to cache rdd_35_14 in memory! (computed 27.9 MiB so far)\n",
      "22/08/23 05:16:40 WARN MemoryStore: Not enough space to cache rdd_35_12 in memory! (computed 148.8 MiB so far)\n",
      "22/08/23 05:16:40 WARN MemoryStore: Not enough space to cache rdd_35_16 in memory! (computed 41.8 MiB so far)\n",
      "22/08/23 05:16:45 WARN MemoryStore: Not enough space to cache rdd_35_17 in memory! (computed 148.8 MiB so far)\n",
      "22/08/23 05:16:45 WARN MemoryStore: Not enough space to cache rdd_35_18 in memory! (computed 41.8 MiB so far)\n",
      "22/08/23 05:16:48 WARN MemoryStore: Not enough space to cache rdd_35_20 in memory! (computed 148.8 MiB so far)\n",
      "22/08/23 05:16:48 WARN MemoryStore: Not enough space to cache rdd_35_21 in memory! (computed 148.8 MiB so far)\n",
      "22/08/23 05:16:49 WARN MemoryStore: Not enough space to cache rdd_35_19 in memory! (computed 223.2 MiB so far)\n",
      "22/08/23 05:16:52 WARN MemoryStore: Not enough space to cache rdd_35_7 in memory! (computed 94.2 MiB so far)\n",
      "22/08/23 05:16:52 WARN MemoryStore: Not enough space to cache rdd_35_3 in memory! (computed 94.2 MiB so far)\n",
      "22/08/23 05:16:52 WARN MemoryStore: Not enough space to cache rdd_35_5 in memory! (computed 62.8 MiB so far)\n",
      "22/08/23 05:16:55 WARN MemoryStore: Not enough space to cache rdd_35_2 in memory! (computed 334.8 MiB so far)\n",
      "22/08/23 05:16:59 WARN MemoryStore: Not enough space to cache rdd_35_9 in memory! (computed 1539.2 KiB so far)\n",
      "22/08/23 05:17:00 WARN MemoryStore: Not enough space to cache rdd_35_10 in memory! (computed 94.2 MiB so far)\n",
      "22/08/23 05:17:00 WARN MemoryStore: Not enough space to cache rdd_35_11 in memory! (computed 62.8 MiB so far)\n",
      "22/08/23 05:17:05 WARN MemoryStore: Not enough space to cache rdd_35_15 in memory! (computed 27.9 MiB so far)\n",
      "22/08/23 05:17:06 WARN MemoryStore: Not enough space to cache rdd_35_12 in memory! (computed 94.2 MiB so far)\n",
      "22/08/23 05:17:06 WARN MemoryStore: Not enough space to cache rdd_35_14 in memory! (computed 62.8 MiB so far)\n",
      "22/08/23 05:17:09 WARN MemoryStore: Not enough space to cache rdd_35_16 in memory! (computed 94.2 MiB so far)\n",
      "22/08/23 05:17:09 WARN MemoryStore: Not enough space to cache rdd_35_18 in memory! (computed 27.9 MiB so far)\n",
      "22/08/23 05:17:15 WARN MemoryStore: Not enough space to cache rdd_35_17 in memory! (computed 148.8 MiB so far)\n",
      "22/08/23 05:17:34 WARN MemoryStore: Not enough space to cache rdd_35_20 in memory! (computed 223.2 MiB so far)\n",
      "22/08/23 05:17:37 WARN MemoryStore: Not enough space to cache rdd_35_5 in memory! (computed 94.2 MiB so far)\n",
      "22/08/23 05:17:38 WARN MemoryStore: Not enough space to cache rdd_35_0 in memory! (computed 94.2 MiB so far)\n",
      "22/08/23 05:17:38 WARN MemoryStore: Not enough space to cache rdd_35_7 in memory! (computed 148.8 MiB so far)\n",
      "22/08/23 05:17:39 WARN MemoryStore: Not enough space to cache rdd_35_2 in memory! (computed 223.2 MiB so far)\n",
      "22/08/23 05:17:41 WARN MemoryStore: Not enough space to cache rdd_35_3 in memory! (computed 334.8 MiB so far)\n",
      "22/08/23 05:17:47 WARN MemoryStore: Not enough space to cache rdd_35_12 in memory! (computed 41.8 MiB so far)\n",
      "22/08/23 05:17:47 WARN MemoryStore: Not enough space to cache rdd_35_11 in memory! (computed 94.2 MiB so far)\n",
      "22/08/23 05:17:47 WARN MemoryStore: Not enough space to cache rdd_35_13 in memory! (computed 41.8 MiB so far)\n",
      "22/08/23 05:17:49 WARN MemoryStore: Not enough space to cache rdd_35_14 in memory! (computed 148.8 MiB so far)\n",
      "22/08/23 05:17:50 WARN MemoryStore: Not enough space to cache rdd_35_9 in memory! (computed 334.8 MiB so far)\n",
      "22/08/23 05:17:50 WARN MemoryStore: Not enough space to cache rdd_35_16 in memory! (computed 148.8 MiB so far)\n",
      "22/08/23 05:17:56 WARN MemoryStore: Not enough space to cache rdd_35_21 in memory! (computed 148.8 MiB so far)\n",
      "22/08/23 05:17:56 WARN MemoryStore: Not enough space to cache rdd_35_17 in memory! (computed 223.2 MiB so far)\n",
      "22/08/23 05:18:00 WARN MemoryStore: Not enough space to cache rdd_35_1 in memory! (computed 41.8 MiB so far)\n",
      "22/08/23 05:18:00 WARN MemoryStore: Not enough space to cache rdd_35_2 in memory! (computed 62.8 MiB so far)\n",
      "22/08/23 05:18:00 WARN MemoryStore: Not enough space to cache rdd_35_0 in memory! (computed 41.8 MiB so far)\n",
      "22/08/23 05:18:00 WARN MemoryStore: Not enough space to cache rdd_35_7 in memory! (computed 62.8 MiB so far)\n",
      "22/08/23 05:18:00 WARN MemoryStore: Not enough space to cache rdd_35_4 in memory! (computed 41.8 MiB so far)\n",
      "22/08/23 05:18:00 WARN MemoryStore: Not enough space to cache rdd_35_3 in memory! (computed 62.8 MiB so far)\n",
      "22/08/23 05:18:03 WARN MemoryStore: Not enough space to cache rdd_35_5 in memory! (computed 334.8 MiB so far)\n",
      "22/08/23 05:18:03 WARN MemoryStore: Not enough space to cache rdd_35_6 in memory! (computed 334.8 MiB so far)\n",
      "22/08/23 05:18:09 WARN MemoryStore: Not enough space to cache rdd_35_13 in memory! (computed 18.6 MiB so far)\n",
      "22/08/23 05:18:09 WARN MemoryStore: Not enough space to cache rdd_35_9 in memory! (computed 223.2 MiB so far)\n",
      "22/08/23 05:18:10 WARN MemoryStore: Not enough space to cache rdd_35_8 in memory! (computed 223.2 MiB so far)\n",
      "22/08/23 05:18:10 WARN MemoryStore: Not enough space to cache rdd_35_10 in memory! (computed 223.2 MiB so far)\n",
      "22/08/23 05:18:11 WARN MemoryStore: Not enough space to cache rdd_35_15 in memory! (computed 94.2 MiB so far)\n",
      "22/08/23 05:18:11 WARN MemoryStore: Not enough space to cache rdd_35_14 in memory! (computed 223.2 MiB so far)\n",
      "22/08/23 05:18:11 WARN MemoryStore: Not enough space to cache rdd_35_12 in memory! (computed 223.2 MiB so far)\n",
      "22/08/23 05:18:18 WARN MemoryStore: Not enough space to cache rdd_35_20 in memory! (computed 223.2 MiB so far)\n",
      "22/08/23 05:18:22 WARN MemoryStore: Not enough space to cache rdd_35_2 in memory! (computed 62.8 MiB so far)\n",
      "22/08/23 05:18:22 WARN MemoryStore: Not enough space to cache rdd_35_7 in memory! (computed 62.8 MiB so far)\n",
      "22/08/23 05:18:22 WARN MemoryStore: Not enough space to cache rdd_35_3 in memory! (computed 62.8 MiB so far)\n",
      "22/08/23 05:18:22 WARN MemoryStore: Not enough space to cache rdd_35_0 in memory! (computed 62.8 MiB so far)\n",
      "22/08/23 05:18:22 WARN MemoryStore: Failed to reserve initial memory threshold of 1024.0 KiB for computing block rdd_35_0 in memory.\n",
      "22/08/23 05:18:22 WARN MemoryStore: Not enough space to cache rdd_35_0 in memory! (computed 384.0 B so far)\n",
      "22/08/23 05:18:22 WARN MemoryStore: Failed to reserve initial memory threshold of 1024.0 KiB for computing block rdd_35_0 in memory.\n",
      "22/08/23 05:18:22 WARN MemoryStore: Not enough space to cache rdd_35_0 in memory! (computed 384.0 B so far)\n",
      "22/08/23 05:18:23 WARN MemoryStore: Not enough space to cache rdd_35_5 in memory! (computed 94.2 MiB so far)\n",
      "22/08/23 05:18:23 WARN MemoryStore: Not enough space to cache rdd_35_6 in memory! (computed 94.2 MiB so far)\n",
      "22/08/23 05:18:23 WARN MemoryStore: Failed to reserve initial memory threshold of 1024.0 KiB for computing block rdd_35_6 in memory.\n",
      "22/08/23 05:18:23 WARN MemoryStore: Not enough space to cache rdd_35_6 in memory! (computed 384.0 B so far)\n",
      "22/08/23 05:18:23 WARN MemoryStore: Not enough space to cache rdd_35_2 in memory! (computed 27.9 MiB so far)\n",
      "22/08/23 05:18:23 WARN MemoryStore: Failed to reserve initial memory threshold of 1024.0 KiB for computing block rdd_35_6 in memory.\n",
      "22/08/23 05:18:23 WARN MemoryStore: Not enough space to cache rdd_35_6 in memory! (computed 384.0 B so far)\n",
      "22/08/23 05:18:25 WARN MemoryStore: Not enough space to cache rdd_35_1 in memory! (computed 223.2 MiB so far)\n",
      "22/08/23 05:18:25 WARN MemoryStore: Not enough space to cache rdd_35_5 in memory! (computed 148.8 MiB so far)\n",
      "22/08/23 05:18:26 WARN MemoryStore: Not enough space to cache rdd_35_1 in memory! (computed 94.2 MiB so far)\n",
      "22/08/23 05:18:26 WARN MemoryStore: Not enough space to cache rdd_35_7 in memory! (computed 223.2 MiB so far)\n",
      "22/08/23 05:18:26 WARN MemoryStore: Not enough space to cache rdd_35_1 in memory! (computed 5.2 MiB so far)\n",
      "22/08/23 05:18:26 WARN MemoryStore: Not enough space to cache rdd_35_7 in memory! (computed 1539.2 KiB so far)\n",
      "22/08/23 05:18:26 WARN MemoryStore: Not enough space to cache rdd_55_1 in memory! (computed 1663.4 KiB so far)\n",
      "22/08/23 05:18:26 WARN BlockManager: Persisting block rdd_55_1 to disk instead.\n",
      "22/08/23 05:18:26 WARN MemoryStore: Failed to reserve initial memory threshold of 1024.0 KiB for computing block rdd_55_7 in memory.\n",
      "22/08/23 05:18:26 WARN MemoryStore: Not enough space to cache rdd_55_7 in memory! (computed 384.0 B so far)\n",
      "22/08/23 05:18:26 WARN BlockManager: Persisting block rdd_55_7 to disk instead.\n",
      "22/08/23 05:18:26 WARN MemoryStore: Not enough space to cache rdd_35_5 in memory! (computed 62.8 MiB so far)\n",
      "22/08/23 05:18:26 WARN MemoryStore: Not enough space to cache rdd_55_5 in memory! (computed 8.2 MiB so far)\n",
      "22/08/23 05:18:26 WARN BlockManager: Persisting block rdd_55_5 to disk instead.\n",
      "22/08/23 05:18:26 WARN MemoryStore: Not enough space to cache rdd_55_6 in memory! (computed 65.8 MiB so far)\n",
      "22/08/23 05:18:26 WARN BlockManager: Persisting block rdd_55_6 to disk instead.\n",
      "22/08/23 05:18:27 WARN MemoryStore: Not enough space to cache rdd_35_4 in memory! (computed 334.8 MiB so far)\n",
      "22/08/23 05:18:27 WARN MemoryStore: Not enough space to cache rdd_35_2 in memory! (computed 223.2 MiB so far)\n",
      "22/08/23 05:18:27 WARN MemoryStore: Not enough space to cache rdd_55_2 in memory! (computed 1663.4 KiB so far)\n",
      "22/08/23 05:18:27 WARN BlockManager: Persisting block rdd_55_2 to disk instead.\n",
      "22/08/23 05:18:27 WARN MemoryStore: Not enough space to cache rdd_35_4 in memory! (computed 12.0 MiB so far)\n",
      "22/08/23 05:18:27 WARN MemoryStore: Not enough space to cache rdd_35_4 in memory! (computed 1539.2 KiB so far)\n",
      "22/08/23 05:18:27 WARN MemoryStore: Failed to reserve initial memory threshold of 1024.0 KiB for computing block rdd_55_4 in memory.\n",
      "22/08/23 05:18:27 WARN MemoryStore: Not enough space to cache rdd_55_4 in memory! (computed 384.0 B so far)\n",
      "22/08/23 05:18:27 WARN BlockManager: Persisting block rdd_55_4 to disk instead.\n",
      "22/08/23 05:18:27 WARN MemoryStore: Not enough space to cache rdd_35_3 in memory! (computed 334.8 MiB so far)\n",
      "22/08/23 05:18:28 WARN MemoryStore: Not enough space to cache rdd_35_3 in memory! (computed 62.8 MiB so far)\n",
      "22/08/23 05:18:29 WARN MemoryStore: Not enough space to cache rdd_55_3 in memory! (computed 3.7 MiB so far)\n",
      "22/08/23 05:18:29 WARN BlockManager: Persisting block rdd_55_3 to disk instead.\n",
      "22/08/23 05:18:34 WARN MemoryStore: Not enough space to cache rdd_55_2 in memory! (computed 13.0 MiB so far)\n",
      "22/08/23 05:18:34 WARN MemoryStore: Not enough space to cache rdd_58_2 in memory! (computed 1537.3 KiB so far)\n",
      "22/08/23 05:18:35 WARN BlockManager: Persisting block rdd_58_2 to disk instead.\n",
      "22/08/23 05:18:35 WARN MemoryStore: Not enough space to cache rdd_58_6 in memory! (computed 10.8 MiB so far)\n",
      "22/08/23 05:18:35 WARN BlockManager: Persisting block rdd_58_6 to disk instead.\n",
      "22/08/23 05:18:35 WARN MemoryStore: Not enough space to cache rdd_55_7 in memory! (computed 19.5 MiB so far)\n",
      "22/08/23 05:18:35 WARN MemoryStore: Not enough space to cache rdd_58_7 in memory! (computed 1024.6 KiB so far)\n",
      "22/08/23 05:18:35 WARN BlockManager: Persisting block rdd_58_7 to disk instead.\n",
      "22/08/23 05:18:35 WARN MemoryStore: Not enough space to cache rdd_55_5 in memory! (computed 29.2 MiB so far)\n",
      "22/08/23 05:18:35 WARN MemoryStore: Not enough space to cache rdd_58_5 in memory! (computed 10.8 MiB so far)\n",
      "22/08/23 05:18:35 WARN BlockManager: Persisting block rdd_58_5 to disk instead.\n",
      "22/08/23 05:18:36 WARN MemoryStore: Not enough space to cache rdd_55_1 in memory! (computed 1035.4 KiB so far)\n",
      "22/08/23 05:18:36 WARN MemoryStore: Failed to reserve initial memory threshold of 1024.0 KiB for computing block rdd_58_1 in memory.\n",
      "22/08/23 05:18:36 WARN MemoryStore: Not enough space to cache rdd_58_1 in memory! (computed 384.0 B so far)\n",
      "22/08/23 05:18:36 WARN BlockManager: Persisting block rdd_58_1 to disk instead.\n",
      "22/08/23 05:18:36 WARN MemoryStore: Not enough space to cache rdd_58_0 in memory! (computed 99.2 MiB so far)\n",
      "22/08/23 05:18:36 WARN BlockManager: Persisting block rdd_58_0 to disk instead.\n",
      "22/08/23 05:19:01 WARN MemoryStore: Not enough space to cache rdd_58_9 in memory! (computed 43.2 MiB so far)\n",
      "22/08/23 05:19:01 WARN BlockManager: Persisting block rdd_58_9 to disk instead.\n",
      "22/08/23 05:19:01 WARN MemoryStore: Not enough space to cache rdd_35_10 in memory! (computed 223.2 MiB so far)\n",
      "22/08/23 05:19:01 WARN MemoryStore: Not enough space to cache rdd_35_13 in memory! (computed 148.8 MiB so far)\n",
      "22/08/23 05:19:04 WARN MemoryStore: Not enough space to cache rdd_35_11 in memory! (computed 223.2 MiB so far)\n",
      "22/08/23 05:19:04 WARN MemoryStore: Not enough space to cache rdd_35_12 in memory! (computed 223.2 MiB so far)\n",
      "22/08/23 05:19:04 WARN MemoryStore: Not enough space to cache rdd_35_16 in memory! (computed 5.2 MiB so far)\n",
      "22/08/23 05:19:04 WARN MemoryStore: Failed to reserve initial memory threshold of 1024.0 KiB for computing block rdd_35_16 in memory.\n",
      "22/08/23 05:19:04 WARN MemoryStore: Not enough space to cache rdd_35_16 in memory! (computed 384.0 B so far)\n",
      "22/08/23 05:19:04 WARN MemoryStore: Not enough space to cache rdd_35_10 in memory! (computed 18.6 MiB so far)\n",
      "22/08/23 05:19:04 WARN MemoryStore: Failed to reserve initial memory threshold of 1024.0 KiB for computing block rdd_35_16 in memory.\n",
      "22/08/23 05:19:04 WARN MemoryStore: Failed to reserve initial memory threshold of 1024.0 KiB for computing block rdd_35_10 in memory.\n",
      "22/08/23 05:19:04 WARN MemoryStore: Not enough space to cache rdd_35_10 in memory! (computed 384.0 B so far)\n",
      "22/08/23 05:19:04 WARN MemoryStore: Not enough space to cache rdd_35_12 in memory! (computed 2.3 MiB so far)\n",
      "22/08/23 05:19:04 WARN MemoryStore: Not enough space to cache rdd_35_16 in memory! (computed 384.0 B so far)\n",
      "22/08/23 05:19:05 WARN MemoryStore: Not enough space to cache rdd_55_10 in memory! (computed 19.5 MiB so far)\n",
      "22/08/23 05:19:05 WARN BlockManager: Persisting block rdd_55_10 to disk instead.\n",
      "22/08/23 05:19:06 WARN MemoryStore: Not enough space to cache rdd_35_15 in memory! (computed 334.8 MiB so far)\n",
      "22/08/23 05:19:06 WARN MemoryStore: Not enough space to cache rdd_35_14 in memory! (computed 223.2 MiB so far)\n",
      "22/08/23 05:19:06 WARN MemoryStore: Not enough space to cache rdd_35_15 in memory! (computed 7.8 MiB so far)\n",
      "22/08/23 05:19:06 WARN MemoryStore: Failed to reserve initial memory threshold of 1024.0 KiB for computing block rdd_35_15 in memory.\n",
      "22/08/23 05:19:06 WARN MemoryStore: Not enough space to cache rdd_35_15 in memory! (computed 384.0 B so far)\n",
      "22/08/23 05:19:06 WARN MemoryStore: Failed to reserve initial memory threshold of 1024.0 KiB for computing block rdd_55_15 in memory.\n",
      "22/08/23 05:19:06 WARN MemoryStore: Not enough space to cache rdd_55_15 in memory! (computed 384.0 B so far)\n",
      "22/08/23 05:19:06 WARN BlockManager: Persisting block rdd_55_15 to disk instead.\n",
      "22/08/23 05:19:06 WARN MemoryStore: Not enough space to cache rdd_35_14 in memory! (computed 12.0 MiB so far)\n",
      "22/08/23 05:19:06 WARN MemoryStore: Failed to reserve initial memory threshold of 1024.0 KiB for computing block rdd_35_14 in memory.\n",
      "22/08/23 05:19:06 WARN MemoryStore: Not enough space to cache rdd_35_14 in memory! (computed 384.0 B so far)\n",
      "22/08/23 05:19:06 WARN MemoryStore: Failed to reserve initial memory threshold of 1024.0 KiB for computing block rdd_55_14 in memory.\n",
      "22/08/23 05:19:06 WARN MemoryStore: Not enough space to cache rdd_55_14 in memory! (computed 384.0 B so far)\n",
      "22/08/23 05:19:06 WARN BlockManager: Persisting block rdd_55_14 to disk instead.\n",
      "22/08/23 05:19:06 WARN MemoryStore: Not enough space to cache rdd_35_12 in memory! (computed 94.2 MiB so far)\n",
      "22/08/23 05:19:06 WARN MemoryStore: Failed to reserve initial memory threshold of 1024.0 KiB for computing block rdd_55_12 in memory.\n",
      "22/08/23 05:19:06 WARN MemoryStore: Not enough space to cache rdd_55_12 in memory! (computed 384.0 B so far)\n",
      "22/08/23 05:19:06 WARN BlockManager: Persisting block rdd_55_12 to disk instead.\n",
      "22/08/23 05:19:06 WARN MemoryStore: Not enough space to cache rdd_58_9 in memory! (computed 43.2 MiB so far)\n",
      "22/08/23 05:19:06 WARN MemoryStore: Not enough space to cache rdd_35_13 in memory! (computed 148.8 MiB so far)\n",
      "22/08/23 05:19:06 WARN MemoryStore: Failed to reserve initial memory threshold of 1024.0 KiB for computing block rdd_35_13 in memory.\n",
      "22/08/23 05:19:06 WARN MemoryStore: Not enough space to cache rdd_35_13 in memory! (computed 384.0 B so far)\n",
      "22/08/23 05:19:06 WARN MemoryStore: Failed to reserve initial memory threshold of 1024.0 KiB for computing block rdd_55_13 in memory.\n",
      "22/08/23 05:19:06 WARN MemoryStore: Not enough space to cache rdd_55_13 in memory! (computed 384.0 B so far)\n",
      "22/08/23 05:19:06 WARN BlockManager: Persisting block rdd_55_13 to disk instead.\n",
      "22/08/23 05:19:06 WARN MemoryStore: Not enough space to cache rdd_35_11 in memory! (computed 148.8 MiB so far)\n",
      "22/08/23 05:19:06 WARN MemoryStore: Failed to reserve initial memory threshold of 1024.0 KiB for computing block rdd_35_11 in memory.\n",
      "22/08/23 05:19:06 WARN MemoryStore: Not enough space to cache rdd_35_11 in memory! (computed 384.0 B so far)\n",
      "22/08/23 05:19:06 WARN MemoryStore: Failed to reserve initial memory threshold of 1024.0 KiB for computing block rdd_55_11 in memory.\n",
      "22/08/23 05:19:06 WARN MemoryStore: Not enough space to cache rdd_55_11 in memory! (computed 384.0 B so far)\n",
      "22/08/23 05:19:06 WARN BlockManager: Persisting block rdd_55_11 to disk instead.\n",
      "22/08/23 05:19:06 WARN MemoryStore: Not enough space to cache rdd_55_16 in memory! (computed 29.2 MiB so far)\n",
      "22/08/23 05:19:06 WARN BlockManager: Persisting block rdd_55_16 to disk instead.\n",
      "22/08/23 05:19:12 WARN MemoryStore: Not enough space to cache rdd_35_17 in memory! (computed 148.8 MiB so far)\n",
      "22/08/23 05:19:12 WARN MemoryStore: Not enough space to cache rdd_35_17 in memory! (computed 18.6 MiB so far)\n",
      "22/08/23 05:19:12 WARN MemoryStore: Not enough space to cache rdd_35_17 in memory! (computed 1025.3 KiB so far)\n",
      "22/08/23 05:19:14 WARN MemoryStore: Not enough space to cache rdd_55_14 in memory! (computed 43.9 MiB so far)\n",
      "22/08/23 05:19:14 WARN MemoryStore: Not enough space to cache rdd_55_12 in memory! (computed 65.8 MiB so far)\n",
      "22/08/23 05:19:14 WARN MemoryStore: Not enough space to cache rdd_55_10 in memory! (computed 65.8 MiB so far)\n",
      "22/08/23 05:19:15 WARN MemoryStore: Not enough space to cache rdd_55_15 in memory! (computed 65.8 MiB so far)\n",
      "22/08/23 05:19:15 WARN MemoryStore: Not enough space to cache rdd_55_17 in memory! (computed 65.8 MiB so far)\n",
      "22/08/23 05:19:15 WARN BlockManager: Persisting block rdd_55_17 to disk instead.\n",
      "22/08/23 05:19:15 WARN MemoryStore: Not enough space to cache rdd_55_16 in memory! (computed 104.0 MiB so far)\n",
      "22/08/23 05:19:15 WARN MemoryStore: Not enough space to cache rdd_58_14 in memory! (computed 10.8 MiB so far)\n",
      "22/08/23 05:19:15 WARN BlockManager: Persisting block rdd_58_14 to disk instead.\n",
      "22/08/23 05:19:15 WARN MemoryStore: Not enough space to cache rdd_58_12 in memory! (computed 6.2 MiB so far)\n",
      "22/08/23 05:19:15 WARN BlockManager: Persisting block rdd_58_12 to disk instead.\n",
      "22/08/23 05:19:15 WARN MemoryStore: Not enough space to cache rdd_58_15 in memory! (computed 4.0 MiB so far)\n",
      "22/08/23 05:19:15 WARN BlockManager: Persisting block rdd_58_15 to disk instead.\n",
      "22/08/23 05:19:15 WARN MemoryStore: Not enough space to cache rdd_55_13 in memory! (computed 5.5 MiB so far)\n",
      "22/08/23 05:19:15 WARN MemoryStore: Failed to reserve initial memory threshold of 1024.0 KiB for computing block rdd_58_13 in memory.\n",
      "22/08/23 05:19:15 WARN MemoryStore: Not enough space to cache rdd_58_13 in memory! (computed 384.0 B so far)\n",
      "22/08/23 05:19:15 WARN BlockManager: Persisting block rdd_58_13 to disk instead.\n",
      "22/08/23 05:19:15 WARN MemoryStore: Not enough space to cache rdd_58_10 in memory! (computed 10.8 MiB so far)\n",
      "22/08/23 05:19:15 WARN BlockManager: Persisting block rdd_58_10 to disk instead.\n",
      "22/08/23 05:19:15 WARN MemoryStore: Not enough space to cache rdd_58_16 in memory! (computed 2.7 MiB so far)\n",
      "22/08/23 05:19:15 WARN BlockManager: Persisting block rdd_58_16 to disk instead.\n",
      "22/08/23 05:19:16 WARN MemoryStore: Not enough space to cache rdd_55_11 in memory! (computed 43.9 MiB so far)\n",
      "22/08/23 05:19:33 WARN MemoryStore: Not enough space to cache rdd_58_18 in memory! (computed 43.2 MiB so far)\n",
      "22/08/23 05:19:33 WARN BlockManager: Persisting block rdd_58_18 to disk instead.\n",
      "22/08/23 05:19:37 WARN MemoryStore: Not enough space to cache rdd_58_20 in memory! (computed 43.2 MiB so far)\n",
      "22/08/23 05:19:37 WARN BlockManager: Persisting block rdd_58_20 to disk instead.\n",
      "22/08/23 05:19:37 WARN MemoryStore: Not enough space to cache rdd_58_19 in memory! (computed 43.2 MiB so far)\n",
      "22/08/23 05:19:37 WARN BlockManager: Persisting block rdd_58_19 to disk instead.\n",
      "22/08/23 05:19:37 WARN MemoryStore: Not enough space to cache rdd_58_21 in memory! (computed 64.8 MiB so far)\n",
      "22/08/23 05:19:37 WARN BlockManager: Persisting block rdd_58_21 to disk instead.\n",
      "22/08/23 05:19:45 WARN MemoryStore: Not enough space to cache rdd_35_3 in memory! (computed 94.2 MiB so far)\n",
      "22/08/23 05:19:45 WARN MemoryStore: Not enough space to cache rdd_35_0 in memory! (computed 94.2 MiB so far)\n",
      "22/08/23 05:19:45 WARN MemoryStore: Not enough space to cache rdd_35_4 in memory! (computed 94.2 MiB so far)\n",
      "22/08/23 05:19:45 WARN MemoryStore: Not enough space to cache rdd_35_1 in memory! (computed 94.2 MiB so far)\n",
      "22/08/23 05:19:45 WARN MemoryStore: Not enough space to cache rdd_35_5 in memory! (computed 94.2 MiB so far)\n",
      "22/08/23 05:19:47 WARN MemoryStore: Not enough space to cache rdd_35_7 in memory! (computed 223.2 MiB so far)\n",
      "22/08/23 05:19:47 WARN MemoryStore: Not enough space to cache rdd_35_2 in memory! (computed 223.2 MiB so far)\n",
      "22/08/23 05:19:49 WARN MemoryStore: Not enough space to cache rdd_58_5 in memory! (computed 99.2 MiB so far)\n",
      "22/08/23 05:19:49 WARN MemoryStore: Not enough space to cache rdd_58_7 in memory! (computed 64.8 MiB so far)\n",
      "22/08/23 05:19:58 WARN MemoryStore: Not enough space to cache rdd_35_11 in memory! (computed 223.2 MiB so far)\n",
      "22/08/23 05:19:58 WARN MemoryStore: Not enough space to cache rdd_35_14 in memory! (computed 148.8 MiB so far)\n",
      "22/08/23 05:19:58 WARN MemoryStore: Not enough space to cache rdd_35_15 in memory! (computed 27.9 MiB so far)\n",
      "22/08/23 05:19:59 WARN MemoryStore: Not enough space to cache rdd_35_8 in memory! (computed 334.8 MiB so far)\n",
      "22/08/23 05:19:59 WARN MemoryStore: Not enough space to cache rdd_35_10 in memory! (computed 334.8 MiB so far)\n",
      "22/08/23 05:20:00 WARN MemoryStore: Not enough space to cache rdd_58_10 in memory! (computed 6.2 MiB so far)\n",
      "22/08/23 05:20:00 WARN MemoryStore: Not enough space to cache rdd_58_8 in memory! (computed 10.8 MiB so far)\n",
      "22/08/23 05:20:00 WARN MemoryStore: Not enough space to cache rdd_58_11 in memory! (computed 64.8 MiB so far)\n",
      "22/08/23 05:20:00 WARN MemoryStore: Not enough space to cache rdd_35_9 in memory! (computed 334.8 MiB so far)\n",
      "22/08/23 05:20:00 WARN MemoryStore: Not enough space to cache rdd_58_14 in memory! (computed 64.8 MiB so far)\n",
      "22/08/23 05:20:00 WARN MemoryStore: Not enough space to cache rdd_58_15 in memory! (computed 64.8 MiB so far)\n",
      "22/08/23 05:20:00 WARN MemoryStore: Not enough space to cache rdd_35_12 in memory! (computed 334.8 MiB so far)\n",
      "22/08/23 05:20:00 WARN MemoryStore: Failed to reserve initial memory threshold of 1024.0 KiB for computing block rdd_58_12 in memory.\n",
      "22/08/23 05:20:00 WARN MemoryStore: Not enough space to cache rdd_58_12 in memory! (computed 384.0 B so far)\n",
      "22/08/23 05:20:01 WARN MemoryStore: Not enough space to cache rdd_35_13 in memory! (computed 334.8 MiB so far)\n",
      "22/08/23 05:20:10 WARN MemoryStore: Not enough space to cache rdd_35_19 in memory! (computed 334.8 MiB so far)\n",
      "22/08/23 05:20:10 WARN MemoryStore: Not enough space to cache rdd_58_19 in memory! (computed 24.3 MiB so far)\n",
      "22/08/23 05:20:10 WARN MemoryStore: Not enough space to cache rdd_58_18 in memory! (computed 43.2 MiB so far)\n",
      "22/08/23 05:20:11 WARN MemoryStore: Not enough space to cache rdd_58_20 in memory! (computed 16.2 MiB so far)\n",
      "22/08/23 05:20:11 WARN MemoryStore: Not enough space to cache rdd_58_21 in memory! (computed 10.8 MiB so far)\n",
      "22/08/23 05:20:11 WARN MemoryStore: Not enough space to cache rdd_58_17 in memory! (computed 64.8 MiB so far)\n",
      "22/08/23 05:20:11 WARN MemoryStore: Not enough space to cache rdd_58_16 in memory! (computed 64.8 MiB so far)\n",
      "22/08/23 05:20:14 WARN MemoryStore: Not enough space to cache rdd_35_7 in memory! (computed 62.8 MiB so far)\n",
      "22/08/23 05:20:14 WARN MemoryStore: Not enough space to cache rdd_35_5 in memory! (computed 62.8 MiB so far)\n",
      "22/08/23 05:20:14 WARN MemoryStore: Not enough space to cache rdd_35_6 in memory! (computed 62.8 MiB so far)\n",
      "22/08/23 05:20:14 WARN MemoryStore: Not enough space to cache rdd_35_0 in memory! (computed 62.8 MiB so far)\n",
      "22/08/23 05:20:14 WARN MemoryStore: Not enough space to cache rdd_35_2 in memory! (computed 62.8 MiB so far)\n",
      "22/08/23 05:20:14 WARN MemoryStore: Not enough space to cache rdd_35_4 in memory! (computed 62.8 MiB so far)\n",
      "22/08/23 05:20:16 WARN MemoryStore: Not enough space to cache rdd_35_3 in memory! (computed 223.2 MiB so far)\n",
      "22/08/23 05:20:19 WARN MemoryStore: Not enough space to cache rdd_35_1 in memory! (computed 334.8 MiB so far)\n",
      "22/08/23 05:20:29 WARN MemoryStore: Not enough space to cache rdd_35_10 in memory! (computed 223.2 MiB so far)\n",
      "22/08/23 05:20:29 WARN MemoryStore: Not enough space to cache rdd_35_9 in memory! (computed 223.2 MiB so far)\n",
      "22/08/23 05:20:30 WARN MemoryStore: Not enough space to cache rdd_35_15 in memory! (computed 41.8 MiB so far)\n",
      "22/08/23 05:20:30 WARN MemoryStore: Not enough space to cache rdd_35_13 in memory! (computed 223.2 MiB so far)\n",
      "22/08/23 05:20:30 WARN MemoryStore: Not enough space to cache rdd_35_14 in memory! (computed 223.2 MiB so far)\n",
      "22/08/23 05:20:31 WARN MemoryStore: Not enough space to cache rdd_35_8 in memory! (computed 334.8 MiB so far)\n",
      "22/08/23 05:20:31 WARN MemoryStore: Not enough space to cache rdd_35_11 in memory! (computed 334.8 MiB so far)\n",
      "22/08/23 05:20:31 WARN MemoryStore: Not enough space to cache rdd_35_12 in memory! (computed 334.8 MiB so far)\n",
      "22/08/23 05:20:31 WARN MemoryStore: Not enough space to cache rdd_58_8 in memory! (computed 10.8 MiB so far)\n",
      "22/08/23 05:20:31 WARN MemoryStore: Not enough space to cache rdd_58_11 in memory! (computed 4.0 MiB so far)\n",
      "22/08/23 05:20:31 WARN MemoryStore: Not enough space to cache rdd_58_12 in memory! (computed 1024.6 KiB so far)\n",
      "22/08/23 05:20:33 WARN MemoryStore: Not enough space to cache rdd_58_10 in memory! (computed 64.8 MiB so far)\n",
      "22/08/23 05:20:33 WARN MemoryStore: Not enough space to cache rdd_58_15 in memory! (computed 64.8 MiB so far)\n",
      "22/08/23 05:20:33 WARN MemoryStore: Not enough space to cache rdd_58_14 in memory! (computed 64.8 MiB so far)\n",
      "22/08/23 05:20:33 WARN MemoryStore: Not enough space to cache rdd_58_13 in memory! (computed 64.8 MiB so far)\n",
      "22/08/23 05:20:33 WARN MemoryStore: Not enough space to cache rdd_58_9 in memory! (computed 64.8 MiB so far)\n",
      "22/08/23 05:20:42 WARN MemoryStore: Not enough space to cache rdd_35_16 in memory! (computed 334.8 MiB so far)\n",
      "22/08/23 05:20:42 WARN MemoryStore: Not enough space to cache rdd_58_20 in memory! (computed 16.2 MiB so far)\n",
      "22/08/23 05:20:42 WARN MemoryStore: Not enough space to cache rdd_58_19 in memory! (computed 24.3 MiB so far)\n",
      "22/08/23 05:20:43 WARN MemoryStore: Not enough space to cache rdd_58_18 in memory! (computed 43.2 MiB so far)\n",
      "22/08/23 05:20:43 WARN MemoryStore: Not enough space to cache rdd_58_21 in memory! (computed 64.8 MiB so far)\n",
      "22/08/23 05:20:43 WARN MemoryStore: Not enough space to cache rdd_58_17 in memory! (computed 64.8 MiB so far)\n",
      "22/08/23 05:20:43 WARN MemoryStore: Not enough space to cache rdd_58_16 in memory! (computed 64.8 MiB so far)\n",
      "22/08/23 05:20:46 WARN MemoryStore: Not enough space to cache rdd_35_3 in memory! (computed 62.8 MiB so far)\n",
      "22/08/23 05:20:46 WARN MemoryStore: Not enough space to cache rdd_35_7 in memory! (computed 62.8 MiB so far)\n",
      "22/08/23 05:20:46 WARN MemoryStore: Not enough space to cache rdd_35_5 in memory! (computed 62.8 MiB so far)\n",
      "22/08/23 05:20:46 WARN MemoryStore: Not enough space to cache rdd_35_0 in memory! (computed 62.8 MiB so far)\n",
      "22/08/23 05:20:46 WARN MemoryStore: Not enough space to cache rdd_35_4 in memory! (computed 62.8 MiB so far)\n",
      "22/08/23 05:20:46 WARN MemoryStore: Not enough space to cache rdd_35_6 in memory! (computed 62.8 MiB so far)\n",
      "22/08/23 05:20:49 WARN MemoryStore: Not enough space to cache rdd_35_2 in memory! (computed 223.2 MiB so far)\n",
      "22/08/23 05:20:59 WARN MemoryStore: Not enough space to cache rdd_35_8 in memory! (computed 223.2 MiB so far)\n",
      "22/08/23 05:20:59 WARN MemoryStore: Not enough space to cache rdd_35_10 in memory! (computed 223.2 MiB so far)\n",
      "22/08/23 05:20:59 WARN MemoryStore: Not enough space to cache rdd_35_9 in memory! (computed 223.2 MiB so far)\n",
      "22/08/23 05:20:59 WARN MemoryStore: Not enough space to cache rdd_35_14 in memory! (computed 27.9 MiB so far)\n",
      "22/08/23 05:21:00 WARN MemoryStore: Not enough space to cache rdd_35_11 in memory! (computed 223.2 MiB so far)\n",
      "22/08/23 05:21:01 WARN MemoryStore: Not enough space to cache rdd_58_10 in memory! (computed 64.8 MiB so far)\n",
      "22/08/23 05:21:01 WARN MemoryStore: Not enough space to cache rdd_58_8 in memory! (computed 99.2 MiB so far)\n",
      "22/08/23 05:21:02 WARN MemoryStore: Not enough space to cache rdd_35_15 in memory! (computed 94.2 MiB so far)\n",
      "22/08/23 05:21:02 WARN MemoryStore: Not enough space to cache rdd_58_15 in memory! (computed 4.0 MiB so far)\n",
      "22/08/23 05:21:02 WARN MemoryStore: Not enough space to cache rdd_58_9 in memory! (computed 99.2 MiB so far)\n",
      "22/08/23 05:21:02 WARN MemoryStore: Not enough space to cache rdd_58_14 in memory! (computed 99.2 MiB so far)\n",
      "22/08/23 05:21:02 WARN MemoryStore: Not enough space to cache rdd_58_11 in memory! (computed 64.8 MiB so far)\n",
      "22/08/23 05:21:02 WARN MemoryStore: Not enough space to cache rdd_35_13 in memory! (computed 334.8 MiB so far)\n",
      "22/08/23 05:21:10 WARN MemoryStore: Not enough space to cache rdd_35_20 in memory! (computed 223.2 MiB so far)\n",
      "22/08/23 05:21:10 WARN MemoryStore: Not enough space to cache rdd_35_19 in memory! (computed 223.2 MiB so far)\n",
      "22/08/23 05:21:13 WARN MemoryStore: Not enough space to cache rdd_58_18 in memory! (computed 43.2 MiB so far)\n",
      "22/08/23 05:21:13 WARN MemoryStore: Not enough space to cache rdd_58_19 in memory! (computed 99.2 MiB so far)\n",
      "22/08/23 05:21:13 WARN MemoryStore: Not enough space to cache rdd_58_21 in memory! (computed 10.8 MiB so far)\n",
      "22/08/23 05:21:13 WARN MemoryStore: Not enough space to cache rdd_58_16 in memory! (computed 99.2 MiB so far)\n",
      "22/08/23 05:21:13 WARN MemoryStore: Not enough space to cache rdd_58_17 in memory! (computed 99.2 MiB so far)\n",
      "22/08/23 05:21:17 WARN MemoryStore: Not enough space to cache rdd_35_1 in memory! (computed 94.2 MiB so far)\n",
      "22/08/23 05:21:17 WARN MemoryStore: Not enough space to cache rdd_35_2 in memory! (computed 94.2 MiB so far)\n",
      "22/08/23 05:21:17 WARN MemoryStore: Not enough space to cache rdd_35_4 in memory! (computed 94.2 MiB so far)\n",
      "22/08/23 05:21:17 WARN MemoryStore: Not enough space to cache rdd_35_7 in memory! (computed 94.2 MiB so far)\n",
      "22/08/23 05:21:17 WARN MemoryStore: Not enough space to cache rdd_35_0 in memory! (computed 94.2 MiB so far)\n",
      "22/08/23 05:21:17 WARN MemoryStore: Not enough space to cache rdd_35_5 in memory! (computed 148.8 MiB so far)\n",
      "22/08/23 05:21:18 WARN MemoryStore: Not enough space to cache rdd_35_6 in memory! (computed 148.8 MiB so far)\n",
      "22/08/23 05:21:30 WARN MemoryStore: Not enough space to cache rdd_35_9 in memory! (computed 223.2 MiB so far)\n",
      "22/08/23 05:21:30 WARN MemoryStore: Not enough space to cache rdd_35_11 in memory! (computed 223.2 MiB so far)\n",
      "22/08/23 05:21:30 WARN MemoryStore: Not enough space to cache rdd_35_12 in memory! (computed 223.2 MiB so far)\n",
      "22/08/23 05:21:30 WARN MemoryStore: Not enough space to cache rdd_35_10 in memory! (computed 223.2 MiB so far)\n",
      "22/08/23 05:21:31 WARN MemoryStore: Not enough space to cache rdd_58_10 in memory! (computed 24.3 MiB so far)\n",
      "22/08/23 05:21:31 WARN MemoryStore: Not enough space to cache rdd_35_8 in memory! (computed 334.8 MiB so far)\n",
      "22/08/23 05:21:31 WARN MemoryStore: Not enough space to cache rdd_58_8 in memory! (computed 16.2 MiB so far)\n",
      "22/08/23 05:21:31 WARN MemoryStore: Not enough space to cache rdd_58_9 in memory! (computed 64.8 MiB so far)\n",
      "22/08/23 05:21:32 WARN MemoryStore: Not enough space to cache rdd_35_15 in memory! (computed 148.8 MiB so far)\n",
      "22/08/23 05:21:32 WARN MemoryStore: Not enough space to cache rdd_58_11 in memory! (computed 64.8 MiB so far)\n",
      "22/08/23 05:21:32 WARN MemoryStore: Not enough space to cache rdd_58_15 in memory! (computed 10.8 MiB so far)\n",
      "22/08/23 05:21:32 WARN MemoryStore: Not enough space to cache rdd_35_13 in memory! (computed 334.8 MiB so far)\n",
      "22/08/23 05:21:32 WARN MemoryStore: Not enough space to cache rdd_58_13 in memory! (computed 2.7 MiB so far)\n",
      "22/08/23 05:21:32 WARN MemoryStore: Not enough space to cache rdd_35_14 in memory! (computed 334.8 MiB so far)\n",
      "22/08/23 05:21:33 WARN MemoryStore: Not enough space to cache rdd_58_12 in memory! (computed 99.2 MiB so far)\n",
      "22/08/23 05:21:33 WARN MemoryStore: Not enough space to cache rdd_58_14 in memory! (computed 10.8 MiB so far)\n",
      "22/08/23 05:21:41 WARN MemoryStore: Not enough space to cache rdd_35_17 in memory! (computed 334.8 MiB so far)\n",
      "22/08/23 05:21:42 WARN MemoryStore: Not enough space to cache rdd_58_21 in memory! (computed 24.3 MiB so far)\n",
      "22/08/23 05:21:42 WARN MemoryStore: Not enough space to cache rdd_58_19 in memory! (computed 24.3 MiB so far)\n",
      "22/08/23 05:21:42 WARN MemoryStore: Not enough space to cache rdd_58_20 in memory! (computed 43.2 MiB so far)\n",
      "22/08/23 05:21:42 WARN MemoryStore: Not enough space to cache rdd_58_16 in memory! (computed 64.8 MiB so far)\n",
      "22/08/23 05:21:42 WARN MemoryStore: Not enough space to cache rdd_58_17 in memory! (computed 43.2 MiB so far)\n",
      "22/08/23 05:21:42 WARN MemoryStore: Not enough space to cache rdd_58_18 in memory! (computed 43.2 MiB so far)\n",
      "22/08/23 05:21:46 WARN MemoryStore: Not enough space to cache rdd_35_0 in memory! (computed 41.8 MiB so far)\n",
      "22/08/23 05:21:46 WARN MemoryStore: Not enough space to cache rdd_35_5 in memory! (computed 62.8 MiB so far)\n",
      "22/08/23 05:21:46 WARN MemoryStore: Not enough space to cache rdd_35_2 in memory! (computed 62.8 MiB so far)\n",
      "22/08/23 05:21:46 WARN MemoryStore: Not enough space to cache rdd_35_6 in memory! (computed 62.8 MiB so far)\n",
      "22/08/23 05:21:46 WARN MemoryStore: Not enough space to cache rdd_35_1 in memory! (computed 62.8 MiB so far)\n",
      "22/08/23 05:21:46 WARN MemoryStore: Not enough space to cache rdd_35_5 in memory! (computed 7.8 MiB so far)\n",
      "22/08/23 05:21:46 WARN MemoryStore: Not enough space to cache rdd_35_4 in memory! (computed 62.8 MiB so far)\n",
      "22/08/23 05:21:46 WARN MemoryStore: Not enough space to cache rdd_35_2 in memory! (computed 1539.2 KiB so far)\n",
      "22/08/23 05:21:46 WARN MemoryStore: Not enough space to cache rdd_35_6 in memory! (computed 1025.3 KiB so far)\n",
      "22/08/23 05:21:46 WARN MemoryStore: Not enough space to cache rdd_35_0 in memory! (computed 5.2 MiB so far)\n",
      "22/08/23 05:21:46 WARN MemoryStore: Failed to reserve initial memory threshold of 1024.0 KiB for computing block rdd_35_4 in memory.\n",
      "22/08/23 05:21:46 WARN MemoryStore: Not enough space to cache rdd_35_4 in memory! (computed 384.0 B so far)\n",
      "22/08/23 05:21:46 WARN MemoryStore: Failed to reserve initial memory threshold of 1024.0 KiB for computing block rdd_35_2 in memory.\n",
      "22/08/23 05:21:46 WARN MemoryStore: Not enough space to cache rdd_35_2 in memory! (computed 384.0 B so far)\n",
      "22/08/23 05:21:46 WARN MemoryStore: Not enough space to cache rdd_35_1 in memory! (computed 1025.3 KiB so far)\n",
      "22/08/23 05:21:46 WARN MemoryStore: Failed to reserve initial memory threshold of 1024.0 KiB for computing block rdd_35_6 in memory.\n",
      "22/08/23 05:21:46 WARN MemoryStore: Not enough space to cache rdd_35_6 in memory! (computed 384.0 B so far)\n",
      "22/08/23 05:21:46 WARN MemoryStore: Failed to reserve initial memory threshold of 1024.0 KiB for computing block rdd_35_4 in memory.\n",
      "22/08/23 05:21:46 WARN MemoryStore: Not enough space to cache rdd_35_4 in memory! (computed 384.0 B so far)\n",
      "22/08/23 05:21:47 WARN MemoryStore: Not enough space to cache rdd_35_3 in memory! (computed 148.8 MiB so far)\n",
      "22/08/23 05:21:47 WARN MemoryStore: Not enough space to cache rdd_35_7 in memory! (computed 148.8 MiB so far)\n",
      "22/08/23 05:21:47 WARN MemoryStore: Not enough space to cache rdd_35_5 in memory! (computed 41.8 MiB so far)\n",
      "22/08/23 05:21:48 WARN MemoryStore: Not enough space to cache rdd_35_7 in memory! (computed 94.2 MiB so far)\n",
      "22/08/23 05:21:50 WARN MemoryStore: Not enough space to cache rdd_35_0 in memory! (computed 223.2 MiB so far)\n",
      "22/08/23 05:21:50 WARN MemoryStore: Not enough space to cache rdd_55_5 in memory! (computed 104.0 MiB so far)\n",
      "22/08/23 05:21:50 WARN MemoryStore: Not enough space to cache rdd_35_7 in memory! (computed 94.2 MiB so far)\n",
      "22/08/23 05:21:50 WARN MemoryStore: Not enough space to cache rdd_35_3 in memory! (computed 223.2 MiB so far)\n",
      "22/08/23 05:21:51 WARN MemoryStore: Not enough space to cache rdd_35_3 in memory! (computed 18.6 MiB so far)\n",
      "22/08/23 05:21:51 WARN MemoryStore: Not enough space to cache rdd_55_3 in memory! (computed 3.7 MiB so far)\n",
      "22/08/23 05:21:51 WARN MemoryStore: Failed to reserve initial memory threshold of 1024.0 KiB for computing block rdd_77_3 in memory.\n",
      "22/08/23 05:21:51 WARN MemoryStore: Not enough space to cache rdd_77_3 in memory! (computed 384.0 B so far)\n",
      "22/08/23 05:21:51 WARN BlockManager: Persisting block rdd_77_3 to disk instead.\n",
      "22/08/23 05:21:51 WARN MemoryStore: Not enough space to cache rdd_77_6 in memory! (computed 3.7 MiB so far)\n",
      "22/08/23 05:21:51 WARN BlockManager: Persisting block rdd_77_6 to disk instead.\n",
      "22/08/23 05:21:51 WARN MemoryStore: Not enough space to cache rdd_55_4 in memory! (computed 156.0 MiB so far)\n",
      "22/08/23 05:21:51 WARN MemoryStore: Failed to reserve initial memory threshold of 1024.0 KiB for computing block rdd_77_4 in memory.\n",
      "22/08/23 05:21:51 WARN MemoryStore: Not enough space to cache rdd_77_4 in memory! (computed 384.0 B so far)\n",
      "22/08/23 05:21:51 WARN BlockManager: Persisting block rdd_77_4 to disk instead.\n",
      "22/08/23 05:21:51 WARN MemoryStore: Not enough space to cache rdd_55_0 in memory! (computed 29.2 MiB so far)\n",
      "22/08/23 05:21:51 WARN MemoryStore: Not enough space to cache rdd_55_7 in memory! (computed 19.5 MiB so far)\n",
      "22/08/23 05:21:51 WARN MemoryStore: Not enough space to cache rdd_77_7 in memory! (computed 1663.4 KiB so far)\n",
      "22/08/23 05:21:51 WARN BlockManager: Persisting block rdd_77_7 to disk instead.\n",
      "22/08/23 05:21:51 WARN MemoryStore: Not enough space to cache rdd_77_0 in memory! (computed 5.5 MiB so far)\n",
      "22/08/23 05:21:51 WARN BlockManager: Persisting block rdd_77_0 to disk instead.\n",
      "22/08/23 05:21:51 WARN MemoryStore: Not enough space to cache rdd_77_5 in memory! (computed 29.2 MiB so far)\n",
      "22/08/23 05:21:51 WARN BlockManager: Persisting block rdd_77_5 to disk instead.\n",
      "22/08/23 05:21:51 WARN MemoryStore: Not enough space to cache rdd_55_2 in memory! (computed 156.0 MiB so far)\n",
      "22/08/23 05:21:52 WARN MemoryStore: Not enough space to cache rdd_35_1 in memory! (computed 334.8 MiB so far)\n",
      "22/08/23 05:21:54 WARN MemoryStore: Not enough space to cache rdd_55_1 in memory! (computed 104.0 MiB so far)\n",
      "22/08/23 05:22:04 WARN MemoryStore: Not enough space to cache rdd_77_0 in memory! (computed 13.0 MiB so far)\n",
      "22/08/23 05:22:04 WARN MemoryStore: Not enough space to cache rdd_77_3 in memory! (computed 65.8 MiB so far)\n",
      "22/08/23 05:22:04 WARN MemoryStore: Not enough space to cache rdd_80_5 in memory! (computed 16.2 MiB so far)\n",
      "22/08/23 05:22:04 WARN BlockManager: Persisting block rdd_80_5 to disk instead.\n",
      "22/08/23 05:22:04 WARN MemoryStore: Not enough space to cache rdd_80_0 in memory! (computed 4.0 MiB so far)\n",
      "22/08/23 05:22:04 WARN BlockManager: Persisting block rdd_80_0 to disk instead.\n",
      "22/08/23 05:22:04 WARN MemoryStore: Not enough space to cache rdd_80_3 in memory! (computed 6.2 MiB so far)\n",
      "22/08/23 05:22:04 WARN BlockManager: Persisting block rdd_80_3 to disk instead.\n",
      "22/08/23 05:22:04 WARN MemoryStore: Not enough space to cache rdd_80_6 in memory! (computed 16.2 MiB so far)\n",
      "22/08/23 05:22:04 WARN BlockManager: Persisting block rdd_80_6 to disk instead.\n",
      "22/08/23 05:22:04 WARN MemoryStore: Not enough space to cache rdd_77_4 in memory! (computed 156.0 MiB so far)\n",
      "22/08/23 05:22:23 WARN MemoryStore: Not enough space to cache rdd_80_0 in memory! (computed 99.2 MiB so far)\n",
      "22/08/23 05:22:25 WARN MemoryStore: Not enough space to cache rdd_55_8 in memory! (computed 104.0 MiB so far)\n",
      "22/08/23 05:22:25 WARN MemoryStore: Not enough space to cache rdd_35_13 in memory! (computed 41.8 MiB so far)\n",
      "22/08/23 05:22:25 WARN MemoryStore: Not enough space to cache rdd_35_14 in memory! (computed 62.8 MiB so far)\n",
      "22/08/23 05:22:25 WARN MemoryStore: Not enough space to cache rdd_77_8 in memory! (computed 13.0 MiB so far)\n",
      "22/08/23 05:22:25 WARN BlockManager: Persisting block rdd_77_8 to disk instead.\n",
      "22/08/23 05:22:25 WARN MemoryStore: Not enough space to cache rdd_35_14 in memory! (computed 1025.3 KiB so far)\n",
      "22/08/23 05:22:25 WARN MemoryStore: Failed to reserve initial memory threshold of 1024.0 KiB for computing block rdd_35_14 in memory.\n",
      "22/08/23 05:22:25 WARN MemoryStore: Not enough space to cache rdd_35_14 in memory! (computed 384.0 B so far)\n",
      "22/08/23 05:22:25 WARN MemoryStore: Failed to reserve initial memory threshold of 1024.0 KiB for computing block rdd_55_14 in memory.\n",
      "22/08/23 05:22:25 WARN MemoryStore: Not enough space to cache rdd_55_14 in memory! (computed 384.0 B so far)\n",
      "22/08/23 05:22:25 WARN MemoryStore: Failed to reserve initial memory threshold of 1024.0 KiB for computing block rdd_77_14 in memory.\n",
      "22/08/23 05:22:25 WARN MemoryStore: Not enough space to cache rdd_77_14 in memory! (computed 384.0 B so far)\n",
      "22/08/23 05:22:25 WARN BlockManager: Persisting block rdd_77_14 to disk instead.\n",
      "22/08/23 05:22:25 WARN MemoryStore: Not enough space to cache rdd_35_13 in memory! (computed 12.0 MiB so far)\n",
      "22/08/23 05:22:25 WARN MemoryStore: Failed to reserve initial memory threshold of 1024.0 KiB for computing block rdd_35_13 in memory.\n",
      "22/08/23 05:22:25 WARN MemoryStore: Not enough space to cache rdd_35_13 in memory! (computed 384.0 B so far)\n",
      "22/08/23 05:22:25 WARN MemoryStore: Failed to reserve initial memory threshold of 1024.0 KiB for computing block rdd_55_13 in memory.\n",
      "22/08/23 05:22:25 WARN MemoryStore: Not enough space to cache rdd_55_13 in memory! (computed 384.0 B so far)\n",
      "22/08/23 05:22:25 WARN MemoryStore: Failed to reserve initial memory threshold of 1024.0 KiB for computing block rdd_77_13 in memory.\n",
      "22/08/23 05:22:25 WARN MemoryStore: Not enough space to cache rdd_77_13 in memory! (computed 384.0 B so far)\n",
      "22/08/23 05:22:25 WARN BlockManager: Persisting block rdd_77_13 to disk instead.\n",
      "22/08/23 05:22:25 WARN MemoryStore: Not enough space to cache rdd_35_12 in memory! (computed 62.8 MiB so far)\n",
      "22/08/23 05:22:25 WARN MemoryStore: Failed to reserve initial memory threshold of 1024.0 KiB for computing block rdd_35_12 in memory.\n",
      "22/08/23 05:22:25 WARN MemoryStore: Not enough space to cache rdd_35_12 in memory! (computed 384.0 B so far)\n",
      "22/08/23 05:22:25 WARN MemoryStore: Failed to reserve initial memory threshold of 1024.0 KiB for computing block rdd_35_12 in memory.\n",
      "22/08/23 05:22:25 WARN MemoryStore: Not enough space to cache rdd_35_12 in memory! (computed 384.0 B so far)\n",
      "22/08/23 05:22:25 WARN MemoryStore: Failed to reserve initial memory threshold of 1024.0 KiB for computing block rdd_55_12 in memory.\n",
      "22/08/23 05:22:25 WARN MemoryStore: Not enough space to cache rdd_55_12 in memory! (computed 384.0 B so far)\n",
      "22/08/23 05:22:25 WARN MemoryStore: Failed to reserve initial memory threshold of 1024.0 KiB for computing block rdd_77_12 in memory.\n",
      "22/08/23 05:22:25 WARN MemoryStore: Not enough space to cache rdd_77_12 in memory! (computed 384.0 B so far)\n",
      "22/08/23 05:22:25 WARN BlockManager: Persisting block rdd_77_12 to disk instead.\n",
      "22/08/23 05:22:26 WARN MemoryStore: Not enough space to cache rdd_55_9 in memory! (computed 43.9 MiB so far)\n",
      "22/08/23 05:22:26 WARN MemoryStore: Failed to reserve initial memory threshold of 1024.0 KiB for computing block rdd_77_9 in memory.\n",
      "22/08/23 05:22:26 WARN MemoryStore: Not enough space to cache rdd_77_9 in memory! (computed 384.0 B so far)\n",
      "22/08/23 05:22:26 WARN BlockManager: Persisting block rdd_77_9 to disk instead.\n",
      "22/08/23 05:22:29 WARN MemoryStore: Not enough space to cache rdd_77_11 in memory! (computed 13.0 MiB so far)\n",
      "22/08/23 05:22:29 WARN BlockManager: Persisting block rdd_77_11 to disk instead.\n",
      "22/08/23 05:22:29 WARN MemoryStore: Not enough space to cache rdd_77_10 in memory! (computed 29.2 MiB so far)\n",
      "22/08/23 05:22:29 WARN BlockManager: Persisting block rdd_77_10 to disk instead.\n",
      "22/08/23 05:22:33 WARN MemoryStore: Not enough space to cache rdd_77_8 in memory! (computed 104.0 MiB so far)\n",
      "22/08/23 05:22:33 WARN MemoryStore: Not enough space to cache rdd_80_8 in memory! (computed 16.2 MiB so far)\n",
      "22/08/23 05:22:33 WARN BlockManager: Persisting block rdd_80_8 to disk instead.\n",
      "22/08/23 05:22:33 WARN MemoryStore: Not enough space to cache rdd_77_9 in memory! (computed 29.2 MiB so far)\n",
      "22/08/23 05:22:33 WARN MemoryStore: Failed to reserve initial memory threshold of 1024.0 KiB for computing block rdd_80_9 in memory.\n",
      "22/08/23 05:22:33 WARN MemoryStore: Not enough space to cache rdd_80_9 in memory! (computed 384.0 B so far)\n",
      "22/08/23 05:22:33 WARN BlockManager: Persisting block rdd_80_9 to disk instead.\n",
      "22/08/23 05:22:37 WARN MemoryStore: Not enough space to cache rdd_35_15 in memory! (computed 94.2 MiB so far)\n",
      "22/08/23 05:22:37 WARN MemoryStore: Not enough space to cache rdd_80_11 in memory! (computed 4.0 MiB so far)\n",
      "22/08/23 05:22:37 WARN BlockManager: Persisting block rdd_80_11 to disk instead.\n",
      "22/08/23 05:22:37 WARN MemoryStore: Not enough space to cache rdd_35_15 in memory! (computed 7.8 MiB so far)\n",
      "22/08/23 05:22:37 WARN MemoryStore: Not enough space to cache rdd_35_15 in memory! (computed 5.2 MiB so far)\n",
      "22/08/23 05:22:37 WARN MemoryStore: Failed to reserve initial memory threshold of 1024.0 KiB for computing block rdd_55_15 in memory.\n",
      "22/08/23 05:22:37 WARN MemoryStore: Not enough space to cache rdd_55_15 in memory! (computed 384.0 B so far)\n",
      "22/08/23 05:22:37 WARN MemoryStore: Failed to reserve initial memory threshold of 1024.0 KiB for computing block rdd_77_15 in memory.\n",
      "22/08/23 05:22:37 WARN MemoryStore: Not enough space to cache rdd_77_15 in memory! (computed 384.0 B so far)\n",
      "22/08/23 05:22:37 WARN BlockManager: Persisting block rdd_77_15 to disk instead.\n",
      "22/08/23 05:22:37 WARN MemoryStore: Not enough space to cache rdd_80_10 in memory! (computed 43.2 MiB so far)\n",
      "22/08/23 05:22:37 WARN BlockManager: Persisting block rdd_80_10 to disk instead.\n",
      "22/08/23 05:22:38 WARN MemoryStore: Not enough space to cache rdd_77_14 in memory! (computed 1663.4 KiB so far)\n",
      "22/08/23 05:22:38 WARN MemoryStore: Failed to reserve initial memory threshold of 1024.0 KiB for computing block rdd_80_14 in memory.\n",
      "22/08/23 05:22:38 WARN MemoryStore: Not enough space to cache rdd_80_14 in memory! (computed 384.0 B so far)\n",
      "22/08/23 05:22:38 WARN BlockManager: Persisting block rdd_80_14 to disk instead.\n",
      "22/08/23 05:22:38 WARN MemoryStore: Not enough space to cache rdd_77_12 in memory! (computed 3.7 MiB so far)\n",
      "22/08/23 05:22:38 WARN MemoryStore: Not enough space to cache rdd_80_12 in memory! (computed 2.7 MiB so far)\n",
      "22/08/23 05:22:38 WARN BlockManager: Persisting block rdd_80_12 to disk instead.\n",
      "22/08/23 05:22:39 WARN MemoryStore: Not enough space to cache rdd_77_13 in memory! (computed 13.0 MiB so far)\n",
      "22/08/23 05:22:39 WARN MemoryStore: Not enough space to cache rdd_80_13 in memory! (computed 6.2 MiB so far)\n",
      "22/08/23 05:22:39 WARN BlockManager: Persisting block rdd_80_13 to disk instead.\n",
      "22/08/23 05:22:39 WARN MemoryStore: Not enough space to cache rdd_80_8 in memory! (computed 43.2 MiB so far)\n",
      "22/08/23 05:22:43 WARN MemoryStore: Not enough space to cache rdd_80_11 in memory! (computed 64.8 MiB so far)\n",
      "22/08/23 05:22:44 WARN MemoryStore: Not enough space to cache rdd_35_16 in memory! (computed 3.5 MiB so far)\n",
      "22/08/23 05:22:44 WARN MemoryStore: Not enough space to cache rdd_35_16 in memory! (computed 1025.3 KiB so far)\n",
      "22/08/23 05:22:44 WARN MemoryStore: Failed to reserve initial memory threshold of 1024.0 KiB for computing block rdd_35_16 in memory.\n",
      "22/08/23 05:22:44 WARN MemoryStore: Not enough space to cache rdd_35_16 in memory! (computed 384.0 B so far)\n",
      "22/08/23 05:22:48 WARN MemoryStore: Not enough space to cache rdd_35_18 in memory! (computed 148.8 MiB so far)\n",
      "22/08/23 05:22:48 WARN MemoryStore: Not enough space to cache rdd_35_19 in memory! (computed 148.8 MiB so far)\n",
      "22/08/23 05:22:48 WARN MemoryStore: Not enough space to cache rdd_35_17 in memory! (computed 223.2 MiB so far)\n",
      "22/08/23 05:22:50 WARN MemoryStore: Not enough space to cache rdd_35_17 in memory! (computed 94.2 MiB so far)\n",
      "22/08/23 05:22:51 WARN MemoryStore: Not enough space to cache rdd_35_19 in memory! (computed 148.8 MiB so far)\n",
      "22/08/23 05:22:52 WARN MemoryStore: Not enough space to cache rdd_35_17 in memory! (computed 148.8 MiB so far)\n",
      "22/08/23 05:22:52 WARN MemoryStore: Not enough space to cache rdd_80_14 in memory! (computed 99.2 MiB so far)\n",
      "22/08/23 05:22:52 WARN MemoryStore: Not enough space to cache rdd_35_19 in memory! (computed 94.2 MiB so far)\n",
      "22/08/23 05:22:52 WARN MemoryStore: Not enough space to cache rdd_80_13 in memory! (computed 64.8 MiB so far)\n",
      "22/08/23 05:22:52 WARN MemoryStore: Not enough space to cache rdd_55_17 in memory! (computed 19.5 MiB so far)\n",
      "22/08/23 05:22:54 WARN MemoryStore: Not enough space to cache rdd_80_12 in memory! (computed 99.2 MiB so far)\n",
      "22/08/23 05:22:54 WARN MemoryStore: Not enough space to cache rdd_55_19 in memory! (computed 43.9 MiB so far)\n",
      "22/08/23 05:22:54 WARN MemoryStore: Not enough space to cache rdd_77_17 in memory! (computed 43.9 MiB so far)\n",
      "22/08/23 05:22:54 WARN BlockManager: Persisting block rdd_77_17 to disk instead.\n",
      "22/08/23 05:22:54 WARN MemoryStore: Not enough space to cache rdd_35_18 in memory! (computed 334.8 MiB so far)\n",
      "22/08/23 05:22:59 WARN MemoryStore: Not enough space to cache rdd_35_18 in memory! (computed 334.8 MiB so far)\n",
      "22/08/23 05:23:03 WARN MemoryStore: Not enough space to cache rdd_35_20 in memory! (computed 148.8 MiB so far)\n",
      "22/08/23 05:23:04 WARN MemoryStore: Not enough space to cache rdd_77_18 in memory! (computed 104.0 MiB so far)\n",
      "22/08/23 05:23:04 WARN BlockManager: Persisting block rdd_77_18 to disk instead.\n",
      "22/08/23 05:23:21 WARN MemoryStore: Not enough space to cache rdd_35_6 in memory! (computed 223.2 MiB so far)\n",
      "22/08/23 05:23:21 WARN MemoryStore: Not enough space to cache rdd_35_1 in memory! (computed 223.2 MiB so far)\n",
      "22/08/23 05:23:21 WARN MemoryStore: Not enough space to cache rdd_35_2 in memory! (computed 223.2 MiB so far)\n",
      "22/08/23 05:23:21 WARN MemoryStore: Not enough space to cache rdd_35_4 in memory! (computed 223.2 MiB so far)\n",
      "22/08/23 05:23:21 WARN MemoryStore: Not enough space to cache rdd_35_7 in memory! (computed 223.2 MiB so far)\n",
      "22/08/23 05:23:21 WARN MemoryStore: Not enough space to cache rdd_35_3 in memory! (computed 148.8 MiB so far)\n",
      "22/08/23 05:23:23 WARN MemoryStore: Not enough space to cache rdd_35_0 in memory! (computed 223.2 MiB so far)\n",
      "22/08/23 05:23:23 WARN MemoryStore: Not enough space to cache rdd_80_3 in memory! (computed 64.8 MiB so far)\n",
      "22/08/23 05:23:23 WARN MemoryStore: Not enough space to cache rdd_80_4 in memory! (computed 64.8 MiB so far)\n",
      "22/08/23 05:23:23 WARN MemoryStore: Not enough space to cache rdd_80_0 in memory! (computed 6.2 MiB so far)\n",
      "22/08/23 05:23:23 WARN MemoryStore: Not enough space to cache rdd_80_2 in memory! (computed 64.8 MiB so far)\n",
      "22/08/23 05:23:23 WARN MemoryStore: Not enough space to cache rdd_80_7 in memory! (computed 64.8 MiB so far)\n",
      "22/08/23 05:23:24 WARN MemoryStore: Not enough space to cache rdd_80_6 in memory! (computed 99.2 MiB so far)\n",
      "22/08/23 05:23:24 WARN MemoryStore: Not enough space to cache rdd_35_5 in memory! (computed 334.8 MiB so far)\n",
      "22/08/23 05:23:33 WARN MemoryStore: Not enough space to cache rdd_35_14 in memory! (computed 148.8 MiB so far)\n",
      "22/08/23 05:23:33 WARN MemoryStore: Not enough space to cache rdd_35_9 in memory! (computed 334.8 MiB so far)\n",
      "22/08/23 05:23:33 WARN MemoryStore: Not enough space to cache rdd_35_10 in memory! (computed 334.8 MiB so far)\n",
      "22/08/23 05:23:33 WARN MemoryStore: Not enough space to cache rdd_35_13 in memory! (computed 223.2 MiB so far)\n",
      "22/08/23 05:23:33 WARN MemoryStore: Not enough space to cache rdd_35_15 in memory! (computed 27.9 MiB so far)\n",
      "22/08/23 05:23:33 WARN MemoryStore: Not enough space to cache rdd_80_9 in memory! (computed 10.8 MiB so far)\n",
      "22/08/23 05:23:34 WARN MemoryStore: Not enough space to cache rdd_80_13 in memory! (computed 2.7 MiB so far)\n",
      "22/08/23 05:23:34 WARN MemoryStore: Not enough space to cache rdd_80_15 in memory! (computed 2.7 MiB so far)\n",
      "22/08/23 05:23:34 WARN MemoryStore: Not enough space to cache rdd_80_10 in memory! (computed 4.0 MiB so far)\n",
      "22/08/23 05:23:34 WARN MemoryStore: Not enough space to cache rdd_80_14 in memory! (computed 24.3 MiB so far)\n",
      "22/08/23 05:23:34 WARN MemoryStore: Not enough space to cache rdd_35_11 in memory! (computed 334.8 MiB so far)\n",
      "22/08/23 05:23:35 WARN MemoryStore: Not enough space to cache rdd_35_12 in memory! (computed 334.8 MiB so far)\n",
      "22/08/23 05:23:44 WARN MemoryStore: Not enough space to cache rdd_35_20 in memory! (computed 223.2 MiB so far)\n",
      "22/08/23 05:23:44 WARN MemoryStore: Not enough space to cache rdd_35_21 in memory! (computed 223.2 MiB so far)\n",
      "22/08/23 05:23:44 WARN MemoryStore: Not enough space to cache rdd_35_16 in memory! (computed 334.8 MiB so far)\n",
      "22/08/23 05:23:44 WARN MemoryStore: Not enough space to cache rdd_35_17 in memory! (computed 334.8 MiB so far)\n",
      "22/08/23 05:23:46 WARN MemoryStore: Not enough space to cache rdd_80_18 in memory! (computed 43.2 MiB so far)\n",
      "22/08/23 05:23:47 WARN MemoryStore: Not enough space to cache rdd_80_19 in memory! (computed 43.2 MiB so far)\n",
      "22/08/23 05:23:47 WARN MemoryStore: Not enough space to cache rdd_80_16 in memory! (computed 99.2 MiB so far)\n",
      "22/08/23 05:23:47 WARN MemoryStore: Not enough space to cache rdd_80_17 in memory! (computed 99.2 MiB so far)\n",
      "22/08/23 05:23:51 WARN MemoryStore: Not enough space to cache rdd_35_2 in memory! (computed 148.8 MiB so far)\n",
      "22/08/23 05:23:51 WARN MemoryStore: Not enough space to cache rdd_35_7 in memory! (computed 148.8 MiB so far)\n",
      "22/08/23 05:23:51 WARN MemoryStore: Not enough space to cache rdd_35_4 in memory! (computed 148.8 MiB so far)\n",
      "22/08/23 05:23:52 WARN MemoryStore: Not enough space to cache rdd_35_3 in memory! (computed 223.2 MiB so far)\n",
      "22/08/23 05:23:52 WARN MemoryStore: Not enough space to cache rdd_35_1 in memory! (computed 223.2 MiB so far)\n",
      "22/08/23 05:23:52 WARN MemoryStore: Not enough space to cache rdd_35_0 in memory! (computed 223.2 MiB so far)\n",
      "22/08/23 05:23:55 WARN MemoryStore: Not enough space to cache rdd_80_0 in memory! (computed 43.2 MiB so far)\n",
      "22/08/23 05:23:55 WARN MemoryStore: Not enough space to cache rdd_80_3 in memory! (computed 64.8 MiB so far)\n",
      "22/08/23 05:23:55 WARN MemoryStore: Not enough space to cache rdd_80_4 in memory! (computed 99.2 MiB so far)\n",
      "22/08/23 05:23:55 WARN MemoryStore: Not enough space to cache rdd_35_5 in memory! (computed 334.8 MiB so far)\n",
      "22/08/23 05:23:55 WARN MemoryStore: Not enough space to cache rdd_35_6 in memory! (computed 334.8 MiB so far)\n",
      "22/08/23 05:23:55 WARN MemoryStore: Not enough space to cache rdd_80_7 in memory! (computed 99.2 MiB so far)\n",
      "22/08/23 05:23:55 WARN MemoryStore: Not enough space to cache rdd_80_1 in memory! (computed 64.8 MiB so far)\n",
      "22/08/23 05:23:55 WARN MemoryStore: Not enough space to cache rdd_80_6 in memory! (computed 1024.6 KiB so far)\n",
      "22/08/23 05:23:55 WARN MemoryStore: Not enough space to cache rdd_80_5 in memory! (computed 4.0 MiB so far)\n",
      "22/08/23 05:24:05 WARN MemoryStore: Not enough space to cache rdd_35_13 in memory! (computed 223.2 MiB so far)\n",
      "22/08/23 05:24:05 WARN MemoryStore: Not enough space to cache rdd_35_14 in memory! (computed 223.2 MiB so far)\n",
      "22/08/23 05:24:06 WARN MemoryStore: Not enough space to cache rdd_80_14 in memory! (computed 6.2 MiB so far)\n",
      "22/08/23 05:24:06 WARN MemoryStore: Not enough space to cache rdd_80_13 in memory! (computed 10.8 MiB so far)\n",
      "22/08/23 05:24:06 WARN MemoryStore: Not enough space to cache rdd_35_8 in memory! (computed 334.8 MiB so far)\n",
      "22/08/23 05:24:06 WARN MemoryStore: Failed to reserve initial memory threshold of 1024.0 KiB for computing block rdd_80_8 in memory.\n",
      "22/08/23 05:24:06 WARN MemoryStore: Not enough space to cache rdd_80_8 in memory! (computed 384.0 B so far)\n",
      "22/08/23 05:24:06 WARN MemoryStore: Not enough space to cache rdd_35_9 in memory! (computed 334.8 MiB so far)\n",
      "22/08/23 05:24:06 WARN MemoryStore: Not enough space to cache rdd_35_15 in memory! (computed 148.8 MiB so far)\n",
      "22/08/23 05:24:06 WARN MemoryStore: Not enough space to cache rdd_80_9 in memory! (computed 10.8 MiB so far)\n",
      "22/08/23 05:24:06 WARN MemoryStore: Not enough space to cache rdd_80_15 in memory! (computed 6.2 MiB so far)\n",
      "22/08/23 05:24:06 WARN MemoryStore: Not enough space to cache rdd_35_10 in memory! (computed 334.8 MiB so far)\n",
      "22/08/23 05:24:06 WARN MemoryStore: Failed to reserve initial memory threshold of 1024.0 KiB for computing block rdd_80_10 in memory.\n",
      "22/08/23 05:24:06 WARN MemoryStore: Not enough space to cache rdd_80_10 in memory! (computed 384.0 B so far)\n",
      "22/08/23 05:24:07 WARN MemoryStore: Not enough space to cache rdd_35_11 in memory! (computed 334.8 MiB so far)\n",
      "22/08/23 05:24:07 WARN MemoryStore: Not enough space to cache rdd_35_12 in memory! (computed 334.8 MiB so far)\n",
      "22/08/23 05:24:07 WARN MemoryStore: Not enough space to cache rdd_80_11 in memory! (computed 6.2 MiB so far)\n",
      "22/08/23 05:24:07 WARN MemoryStore: Not enough space to cache rdd_80_12 in memory! (computed 10.8 MiB so far)\n",
      "22/08/23 05:24:16 WARN MemoryStore: Not enough space to cache rdd_35_17 in memory! (computed 334.8 MiB so far)\n",
      "22/08/23 05:24:16 WARN MemoryStore: Not enough space to cache rdd_35_18 in memory! (computed 334.8 MiB so far)\n",
      "22/08/23 05:24:16 WARN MemoryStore: Not enough space to cache rdd_35_19 in memory! (computed 334.8 MiB so far)\n",
      "22/08/23 05:24:17 WARN MemoryStore: Not enough space to cache rdd_80_17 in memory! (computed 43.2 MiB so far)\n",
      "22/08/23 05:24:17 WARN MemoryStore: Not enough space to cache rdd_80_20 in memory! (computed 43.2 MiB so far)\n",
      "22/08/23 05:24:17 WARN MemoryStore: Not enough space to cache rdd_80_19 in memory! (computed 43.2 MiB so far)\n",
      "22/08/23 05:24:17 WARN MemoryStore: Not enough space to cache rdd_80_16 in memory! (computed 43.2 MiB so far)\n",
      "22/08/23 05:24:17 WARN MemoryStore: Not enough space to cache rdd_80_21 in memory! (computed 43.2 MiB so far)\n",
      "22/08/23 05:24:18 WARN MemoryStore: Not enough space to cache rdd_80_18 in memory! (computed 64.8 MiB so far)\n",
      "22/08/23 05:24:22 WARN MemoryStore: Not enough space to cache rdd_35_2 in memory! (computed 148.8 MiB so far)\n",
      "22/08/23 05:24:22 WARN MemoryStore: Not enough space to cache rdd_35_5 in memory! (computed 148.8 MiB so far)\n",
      "22/08/23 05:24:22 WARN MemoryStore: Not enough space to cache rdd_35_3 in memory! (computed 148.8 MiB so far)\n",
      "22/08/23 05:24:22 WARN MemoryStore: Not enough space to cache rdd_35_6 in memory! (computed 148.8 MiB so far)\n",
      "22/08/23 05:24:22 WARN MemoryStore: Not enough space to cache rdd_35_0 in memory! (computed 148.8 MiB so far)\n",
      "22/08/23 05:24:22 WARN MemoryStore: Not enough space to cache rdd_35_7 in memory! (computed 148.8 MiB so far)\n",
      "22/08/23 05:24:22 WARN MemoryStore: Not enough space to cache rdd_35_4 in memory! (computed 148.8 MiB so far)\n",
      "22/08/23 05:24:23 WARN MemoryStore: Not enough space to cache rdd_35_1 in memory! (computed 223.2 MiB so far)\n",
      "22/08/23 05:24:25 WARN MemoryStore: Not enough space to cache rdd_80_6 in memory! (computed 99.2 MiB so far)\n",
      "22/08/23 05:24:26 WARN MemoryStore: Not enough space to cache rdd_80_5 in memory! (computed 99.2 MiB so far)\n",
      "22/08/23 05:24:37 WARN MemoryStore: Not enough space to cache rdd_35_15 in memory! (computed 41.8 MiB so far)\n",
      "22/08/23 05:24:37 WARN MemoryStore: Not enough space to cache rdd_80_15 in memory! (computed 2.7 MiB so far)\n",
      "22/08/23 05:24:37 WARN MemoryStore: Not enough space to cache rdd_35_8 in memory! (computed 334.8 MiB so far)\n",
      "22/08/23 05:24:37 WARN MemoryStore: Not enough space to cache rdd_35_14 in memory! (computed 223.2 MiB so far)\n",
      "22/08/23 05:24:37 WARN MemoryStore: Not enough space to cache rdd_80_8 in memory! (computed 2.7 MiB so far)\n",
      "22/08/23 05:24:37 WARN MemoryStore: Not enough space to cache rdd_35_13 in memory! (computed 334.8 MiB so far)\n",
      "22/08/23 05:24:37 WARN MemoryStore: Not enough space to cache rdd_35_12 in memory! (computed 334.8 MiB so far)\n",
      "22/08/23 05:24:37 WARN MemoryStore: Not enough space to cache rdd_35_9 in memory! (computed 334.8 MiB so far)\n",
      "22/08/23 05:24:38 WARN MemoryStore: Not enough space to cache rdd_80_14 in memory! (computed 10.8 MiB so far)\n",
      "22/08/23 05:24:38 WARN MemoryStore: Not enough space to cache rdd_80_9 in memory! (computed 10.8 MiB so far)\n",
      "22/08/23 05:24:38 WARN MemoryStore: Not enough space to cache rdd_80_12 in memory! (computed 10.8 MiB so far)\n",
      "22/08/23 05:24:38 WARN MemoryStore: Not enough space to cache rdd_80_13 in memory! (computed 16.2 MiB so far)\n",
      "22/08/23 05:24:38 WARN MemoryStore: Not enough space to cache rdd_35_11 in memory! (computed 334.8 MiB so far)\n",
      "22/08/23 05:24:38 WARN MemoryStore: Not enough space to cache rdd_35_10 in memory! (computed 334.8 MiB so far)\n",
      "22/08/23 05:24:38 WARN MemoryStore: Failed to reserve initial memory threshold of 1024.0 KiB for computing block rdd_80_10 in memory.\n",
      "22/08/23 05:24:38 WARN MemoryStore: Not enough space to cache rdd_80_10 in memory! (computed 384.0 B so far)\n",
      "22/08/23 05:24:39 WARN MemoryStore: Not enough space to cache rdd_80_11 in memory! (computed 43.2 MiB so far)\n",
      "22/08/23 05:24:50 WARN MemoryStore: Not enough space to cache rdd_35_16 in memory! (computed 334.8 MiB so far)\n",
      "22/08/23 05:24:51 WARN MemoryStore: Not enough space to cache rdd_35_19 in memory! (computed 334.8 MiB so far)\n",
      "22/08/23 05:24:52 WARN MemoryStore: Not enough space to cache rdd_80_16 in memory! (computed 43.2 MiB so far)\n",
      "22/08/23 05:24:52 WARN MemoryStore: Not enough space to cache rdd_80_20 in memory! (computed 43.2 MiB so far)\n",
      "22/08/23 05:24:52 WARN MemoryStore: Not enough space to cache rdd_80_17 in memory! (computed 43.2 MiB so far)\n",
      "22/08/23 05:24:52 WARN MemoryStore: Not enough space to cache rdd_80_18 in memory! (computed 43.2 MiB so far)\n",
      "22/08/23 05:24:52 WARN MemoryStore: Not enough space to cache rdd_80_19 in memory! (computed 64.8 MiB so far)\n",
      "22/08/23 05:24:53 WARN MemoryStore: Not enough space to cache rdd_80_21 in memory! (computed 43.2 MiB so far)\n",
      "22/08/23 05:24:57 WARN MemoryStore: Not enough space to cache rdd_35_0 in memory! (computed 94.2 MiB so far)\n",
      "22/08/23 05:24:57 WARN MemoryStore: Not enough space to cache rdd_35_3 in memory! (computed 94.2 MiB so far)\n",
      "22/08/23 05:24:57 WARN MemoryStore: Not enough space to cache rdd_35_2 in memory! (computed 94.2 MiB so far)\n",
      "22/08/23 05:24:57 WARN MemoryStore: Not enough space to cache rdd_35_4 in memory! (computed 94.2 MiB so far)\n",
      "22/08/23 05:24:57 WARN MemoryStore: Not enough space to cache rdd_35_7 in memory! (computed 94.2 MiB so far)\n",
      "22/08/23 05:24:59 WARN MemoryStore: Not enough space to cache rdd_35_6 in memory! (computed 223.2 MiB so far)\n",
      "22/08/23 05:25:00 WARN MemoryStore: Not enough space to cache rdd_35_1 in memory! (computed 334.8 MiB so far)\n",
      "22/08/23 05:25:00 WARN MemoryStore: Not enough space to cache rdd_35_5 in memory! (computed 334.8 MiB so far)\n",
      "22/08/23 05:25:14 WARN MemoryStore: Not enough space to cache rdd_35_12 in memory! (computed 223.2 MiB so far)\n",
      "22/08/23 05:25:15 WARN MemoryStore: Not enough space to cache rdd_35_14 in memory! (computed 223.2 MiB so far)\n",
      "22/08/23 05:25:15 WARN MemoryStore: Not enough space to cache rdd_35_10 in memory! (computed 334.8 MiB so far)\n",
      "22/08/23 05:25:15 WARN MemoryStore: Not enough space to cache rdd_35_15 in memory! (computed 94.2 MiB so far)\n",
      "22/08/23 05:25:15 WARN MemoryStore: Not enough space to cache rdd_35_11 in memory! (computed 334.8 MiB so far)\n",
      "22/08/23 05:25:15 WARN MemoryStore: Not enough space to cache rdd_35_8 in memory! (computed 334.8 MiB so far)\n",
      "22/08/23 05:25:15 WARN MemoryStore: Not enough space to cache rdd_80_10 in memory! (computed 6.2 MiB so far)\n",
      "22/08/23 05:25:15 WARN MemoryStore: Failed to reserve initial memory threshold of 1024.0 KiB for computing block rdd_80_11 in memory.\n",
      "22/08/23 05:25:15 WARN MemoryStore: Not enough space to cache rdd_80_11 in memory! (computed 384.0 B so far)\n",
      "22/08/23 05:25:15 WARN MemoryStore: Failed to reserve initial memory threshold of 1024.0 KiB for computing block rdd_80_8 in memory.\n",
      "22/08/23 05:25:15 WARN MemoryStore: Not enough space to cache rdd_80_8 in memory! (computed 384.0 B so far)\n",
      "22/08/23 05:25:15 WARN MemoryStore: Not enough space to cache rdd_80_15 in memory! (computed 4.0 MiB so far)\n",
      "22/08/23 05:25:15 WARN MemoryStore: Not enough space to cache rdd_80_14 in memory! (computed 16.2 MiB so far)\n",
      "22/08/23 05:25:15 WARN MemoryStore: Not enough space to cache rdd_35_9 in memory! (computed 334.8 MiB so far)\n",
      "22/08/23 05:25:15 WARN MemoryStore: Failed to reserve initial memory threshold of 1024.0 KiB for computing block rdd_80_9 in memory.\n",
      "22/08/23 05:25:15 WARN MemoryStore: Not enough space to cache rdd_80_9 in memory! (computed 384.0 B so far)\n",
      "22/08/23 05:25:15 WARN MemoryStore: Not enough space to cache rdd_80_12 in memory! (computed 43.2 MiB so far)\n",
      "22/08/23 05:25:16 WARN MemoryStore: Not enough space to cache rdd_35_13 in memory! (computed 334.8 MiB so far)\n",
      "22/08/23 05:25:27 WARN MemoryStore: Not enough space to cache rdd_35_21 in memory! (computed 223.2 MiB so far)\n",
      "22/08/23 05:25:27 WARN MemoryStore: Not enough space to cache rdd_35_18 in memory! (computed 334.8 MiB so far)\n",
      "22/08/23 05:25:29 WARN MemoryStore: Not enough space to cache rdd_80_21 in memory! (computed 64.8 MiB so far)\n",
      "22/08/23 05:25:29 WARN MemoryStore: Not enough space to cache rdd_80_19 in memory! (computed 43.2 MiB so far)\n",
      "22/08/23 05:25:29 WARN MemoryStore: Not enough space to cache rdd_80_17 in memory! (computed 64.8 MiB so far)\n",
      "22/08/23 05:25:29 WARN MemoryStore: Not enough space to cache rdd_80_18 in memory! (computed 43.2 MiB so far)\n",
      "22/08/23 05:25:29 WARN MemoryStore: Not enough space to cache rdd_80_16 in memory! (computed 64.8 MiB so far)\n",
      "22/08/23 05:25:29 WARN MemoryStore: Not enough space to cache rdd_80_20 in memory! (computed 43.2 MiB so far)\n",
      "22/08/23 05:25:33 WARN MemoryStore: Not enough space to cache rdd_35_1 in memory! (computed 94.2 MiB so far)\n",
      "22/08/23 05:25:33 WARN MemoryStore: Not enough space to cache rdd_35_5 in memory! (computed 94.2 MiB so far)\n",
      "22/08/23 05:25:33 WARN MemoryStore: Not enough space to cache rdd_35_7 in memory! (computed 94.2 MiB so far)\n",
      "22/08/23 05:25:33 WARN MemoryStore: Not enough space to cache rdd_35_6 in memory! (computed 94.2 MiB so far)\n",
      "22/08/23 05:25:33 WARN MemoryStore: Not enough space to cache rdd_35_3 in memory! (computed 94.2 MiB so far)\n",
      "22/08/23 05:25:33 WARN MemoryStore: Not enough space to cache rdd_35_1 in memory! (computed 12.0 MiB so far)\n",
      "22/08/23 05:25:33 WARN MemoryStore: Failed to reserve initial memory threshold of 1024.0 KiB for computing block rdd_35_1 in memory.\n",
      "22/08/23 05:25:33 WARN MemoryStore: Not enough space to cache rdd_35_1 in memory! (computed 384.0 B so far)\n",
      "22/08/23 05:25:33 WARN MemoryStore: Not enough space to cache rdd_35_3 in memory! (computed 1539.2 KiB so far)\n",
      "22/08/23 05:25:33 WARN MemoryStore: Failed to reserve initial memory threshold of 1024.0 KiB for computing block rdd_35_3 in memory.\n",
      "22/08/23 05:25:33 WARN MemoryStore: Not enough space to cache rdd_35_3 in memory! (computed 384.0 B so far)\n",
      "22/08/23 05:25:34 WARN MemoryStore: Not enough space to cache rdd_35_6 in memory! (computed 41.8 MiB so far)\n",
      "22/08/23 05:25:34 WARN MemoryStore: Not enough space to cache rdd_35_7 in memory! (computed 41.8 MiB so far)\n",
      "22/08/23 05:25:35 WARN MemoryStore: Not enough space to cache rdd_35_2 in memory! (computed 223.2 MiB so far)\n",
      "22/08/23 05:25:35 WARN MemoryStore: Not enough space to cache rdd_35_5 in memory! (computed 94.2 MiB so far)\n",
      "22/08/23 05:25:35 WARN MemoryStore: Not enough space to cache rdd_35_4 in memory! (computed 223.2 MiB so far)\n",
      "22/08/23 05:25:36 WARN MemoryStore: Not enough space to cache rdd_77_1 in memory! (computed 104.0 MiB so far)\n",
      "22/08/23 05:25:37 WARN MemoryStore: Not enough space to cache rdd_35_6 in memory! (computed 148.8 MiB so far)\n",
      "22/08/23 05:25:37 WARN MemoryStore: Not enough space to cache rdd_35_2 in memory! (computed 94.2 MiB so far)\n",
      "22/08/23 05:25:37 WARN MemoryStore: Not enough space to cache rdd_35_5 in memory! (computed 94.2 MiB so far)\n",
      "22/08/23 05:25:37 WARN MemoryStore: Not enough space to cache rdd_77_5 in memory! (computed 1663.4 KiB so far)\n",
      "22/08/23 05:25:37 WARN MemoryStore: Failed to reserve initial memory threshold of 1024.0 KiB for computing block rdd_99_5 in memory.\n",
      "22/08/23 05:25:37 WARN MemoryStore: Not enough space to cache rdd_99_5 in memory! (computed 384.0 B so far)\n",
      "22/08/23 05:25:37 WARN BlockManager: Persisting block rdd_99_5 to disk instead.\n",
      "22/08/23 05:25:37 WARN MemoryStore: Not enough space to cache rdd_35_2 in memory! (computed 3.5 MiB so far)\n",
      "22/08/23 05:25:37 WARN MemoryStore: Failed to reserve initial memory threshold of 1024.0 KiB for computing block rdd_77_2 in memory.\n",
      "22/08/23 05:25:37 WARN MemoryStore: Not enough space to cache rdd_77_2 in memory! (computed 384.0 B so far)\n",
      "22/08/23 05:25:37 WARN MemoryStore: Failed to reserve initial memory threshold of 1024.0 KiB for computing block rdd_99_2 in memory.\n",
      "22/08/23 05:25:37 WARN MemoryStore: Not enough space to cache rdd_99_2 in memory! (computed 384.0 B so far)\n",
      "22/08/23 05:25:37 WARN BlockManager: Persisting block rdd_99_2 to disk instead.\n",
      "22/08/23 05:25:37 WARN MemoryStore: Not enough space to cache rdd_35_4 in memory! (computed 94.2 MiB so far)\n",
      "22/08/23 05:25:37 WARN MemoryStore: Failed to reserve initial memory threshold of 1024.0 KiB for computing block rdd_35_4 in memory.\n",
      "22/08/23 05:25:37 WARN MemoryStore: Not enough space to cache rdd_35_4 in memory! (computed 384.0 B so far)\n",
      "22/08/23 05:25:37 WARN MemoryStore: Failed to reserve initial memory threshold of 1024.0 KiB for computing block rdd_77_4 in memory.\n",
      "22/08/23 05:25:37 WARN MemoryStore: Not enough space to cache rdd_77_4 in memory! (computed 384.0 B so far)\n",
      "22/08/23 05:25:37 WARN MemoryStore: Failed to reserve initial memory threshold of 1024.0 KiB for computing block rdd_99_4 in memory.\n",
      "22/08/23 05:25:37 WARN MemoryStore: Not enough space to cache rdd_99_4 in memory! (computed 384.0 B so far)\n",
      "22/08/23 05:25:37 WARN BlockManager: Persisting block rdd_99_4 to disk instead.\n",
      "22/08/23 05:25:37 WARN MemoryStore: Not enough space to cache rdd_77_6 in memory! (computed 5.5 MiB so far)\n",
      "22/08/23 05:25:37 WARN MemoryStore: Failed to reserve initial memory threshold of 1024.0 KiB for computing block rdd_99_6 in memory.\n",
      "22/08/23 05:25:37 WARN MemoryStore: Not enough space to cache rdd_99_6 in memory! (computed 384.0 B so far)\n",
      "22/08/23 05:25:37 WARN MemoryStore: Not enough space to cache rdd_35_7 in memory! (computed 148.8 MiB so far)\n",
      "22/08/23 05:25:37 WARN BlockManager: Persisting block rdd_99_6 to disk instead.\n",
      "22/08/23 05:25:37 WARN MemoryStore: Not enough space to cache rdd_99_1 in memory! (computed 5.5 MiB so far)\n",
      "22/08/23 05:25:37 WARN BlockManager: Persisting block rdd_99_1 to disk instead.\n",
      "22/08/23 05:25:38 WARN MemoryStore: Not enough space to cache rdd_77_7 in memory! (computed 13.0 MiB so far)\n",
      "22/08/23 05:25:38 WARN MemoryStore: Not enough space to cache rdd_99_7 in memory! (computed 1663.4 KiB so far)\n",
      "22/08/23 05:25:38 WARN BlockManager: Persisting block rdd_99_7 to disk instead.\n",
      "22/08/23 05:25:38 WARN MemoryStore: Not enough space to cache rdd_35_0 in memory! (computed 334.8 MiB so far)\n",
      "22/08/23 05:25:38 WARN MemoryStore: Not enough space to cache rdd_35_0 in memory! (computed 2.3 MiB so far)\n",
      "22/08/23 05:25:38 WARN MemoryStore: Failed to reserve initial memory threshold of 1024.0 KiB for computing block rdd_35_0 in memory.\n",
      "22/08/23 05:25:38 WARN MemoryStore: Not enough space to cache rdd_35_0 in memory! (computed 384.0 B so far)\n",
      "22/08/23 05:25:38 WARN MemoryStore: Failed to reserve initial memory threshold of 1024.0 KiB for computing block rdd_77_0 in memory.\n",
      "22/08/23 05:25:38 WARN MemoryStore: Not enough space to cache rdd_77_0 in memory! (computed 384.0 B so far)\n",
      "22/08/23 05:25:38 WARN MemoryStore: Failed to reserve initial memory threshold of 1024.0 KiB for computing block rdd_99_0 in memory.\n",
      "22/08/23 05:25:38 WARN MemoryStore: Not enough space to cache rdd_99_0 in memory! (computed 384.0 B so far)\n",
      "22/08/23 05:25:38 WARN BlockManager: Persisting block rdd_99_0 to disk instead.\n",
      "22/08/23 05:25:39 WARN MemoryStore: Not enough space to cache rdd_99_3 in memory! (computed 19.5 MiB so far)\n",
      "22/08/23 05:25:39 WARN BlockManager: Persisting block rdd_99_3 to disk instead.\n",
      "22/08/23 05:25:49 WARN MemoryStore: Not enough space to cache rdd_99_5 in memory! (computed 43.9 MiB so far)\n",
      "22/08/23 05:25:49 WARN MemoryStore: Not enough space to cache rdd_102_5 in memory! (computed 2.7 MiB so far)\n",
      "22/08/23 05:25:49 WARN BlockManager: Persisting block rdd_102_5 to disk instead.\n",
      "22/08/23 05:25:49 WARN MemoryStore: Not enough space to cache rdd_99_1 in memory! (computed 65.8 MiB so far)\n",
      "22/08/23 05:25:49 WARN MemoryStore: Not enough space to cache rdd_99_2 in memory! (computed 19.5 MiB so far)\n",
      "22/08/23 05:25:49 WARN MemoryStore: Not enough space to cache rdd_102_1 in memory! (computed 1537.3 KiB so far)\n",
      "22/08/23 05:25:49 WARN BlockManager: Persisting block rdd_102_1 to disk instead.\n",
      "22/08/23 05:25:49 WARN MemoryStore: Not enough space to cache rdd_99_4 in memory! (computed 43.9 MiB so far)\n",
      "22/08/23 05:25:49 WARN MemoryStore: Failed to reserve initial memory threshold of 1024.0 KiB for computing block rdd_102_4 in memory.\n",
      "22/08/23 05:25:49 WARN MemoryStore: Not enough space to cache rdd_102_4 in memory! (computed 384.0 B so far)\n",
      "22/08/23 05:25:49 WARN BlockManager: Persisting block rdd_102_4 to disk instead.\n",
      "22/08/23 05:25:49 WARN MemoryStore: Not enough space to cache rdd_102_2 in memory! (computed 10.8 MiB so far)\n",
      "22/08/23 05:25:49 WARN BlockManager: Persisting block rdd_102_2 to disk instead.\n",
      "22/08/23 05:25:54 WARN MemoryStore: Not enough space to cache rdd_99_0 in memory! (computed 156.0 MiB so far)\n",
      "22/08/23 05:26:13 WARN MemoryStore: Not enough space to cache rdd_77_9 in memory! (computed 104.0 MiB so far)\n",
      "22/08/23 05:26:14 WARN MemoryStore: Not enough space to cache rdd_77_10 in memory! (computed 29.2 MiB so far)\n",
      "22/08/23 05:26:14 WARN MemoryStore: Not enough space to cache rdd_99_9 in memory! (computed 13.0 MiB so far)\n",
      "22/08/23 05:26:14 WARN BlockManager: Persisting block rdd_99_9 to disk instead.\n",
      "22/08/23 05:26:14 WARN MemoryStore: Not enough space to cache rdd_35_15 in memory! (computed 94.2 MiB so far)\n",
      "22/08/23 05:26:14 WARN MemoryStore: Not enough space to cache rdd_77_8 in memory! (computed 65.8 MiB so far)\n",
      "22/08/23 05:26:14 WARN MemoryStore: Failed to reserve initial memory threshold of 1024.0 KiB for computing block rdd_99_8 in memory.\n",
      "22/08/23 05:26:14 WARN MemoryStore: Not enough space to cache rdd_99_8 in memory! (computed 384.0 B so far)\n",
      "22/08/23 05:26:14 WARN BlockManager: Persisting block rdd_99_8 to disk instead.\n",
      "22/08/23 05:26:14 WARN MemoryStore: Not enough space to cache rdd_35_15 in memory! (computed 1539.2 KiB so far)\n",
      "22/08/23 05:26:14 WARN MemoryStore: Failed to reserve initial memory threshold of 1024.0 KiB for computing block rdd_35_15 in memory.\n",
      "22/08/23 05:26:14 WARN MemoryStore: Not enough space to cache rdd_35_15 in memory! (computed 384.0 B so far)\n",
      "22/08/23 05:26:14 WARN MemoryStore: Not enough space to cache rdd_99_10 in memory! (computed 5.5 MiB so far)\n",
      "22/08/23 05:26:14 WARN MemoryStore: Failed to reserve initial memory threshold of 1024.0 KiB for computing block rdd_77_15 in memory.\n",
      "22/08/23 05:26:14 WARN MemoryStore: Not enough space to cache rdd_77_15 in memory! (computed 384.0 B so far)\n",
      "22/08/23 05:26:14 WARN MemoryStore: Failed to reserve initial memory threshold of 1024.0 KiB for computing block rdd_99_15 in memory.\n",
      "22/08/23 05:26:14 WARN MemoryStore: Not enough space to cache rdd_99_15 in memory! (computed 384.0 B so far)\n",
      "22/08/23 05:26:14 WARN BlockManager: Persisting block rdd_99_15 to disk instead.\n",
      "22/08/23 05:26:14 WARN BlockManager: Persisting block rdd_99_10 to disk instead.\n",
      "22/08/23 05:26:14 WARN MemoryStore: Not enough space to cache rdd_35_14 in memory! (computed 94.2 MiB so far)\n",
      "22/08/23 05:26:14 WARN MemoryStore: Failed to reserve initial memory threshold of 1024.0 KiB for computing block rdd_35_14 in memory.\n",
      "22/08/23 05:26:14 WARN MemoryStore: Not enough space to cache rdd_35_14 in memory! (computed 384.0 B so far)\n",
      "22/08/23 05:26:14 WARN MemoryStore: Failed to reserve initial memory threshold of 1024.0 KiB for computing block rdd_35_14 in memory.\n",
      "22/08/23 05:26:14 WARN MemoryStore: Not enough space to cache rdd_35_14 in memory! (computed 384.0 B so far)\n",
      "22/08/23 05:26:14 WARN MemoryStore: Failed to reserve initial memory threshold of 1024.0 KiB for computing block rdd_77_14 in memory.\n",
      "22/08/23 05:26:14 WARN MemoryStore: Not enough space to cache rdd_77_14 in memory! (computed 384.0 B so far)\n",
      "22/08/23 05:26:14 WARN MemoryStore: Failed to reserve initial memory threshold of 1024.0 KiB for computing block rdd_99_14 in memory.\n",
      "22/08/23 05:26:14 WARN MemoryStore: Not enough space to cache rdd_99_14 in memory! (computed 384.0 B so far)\n",
      "22/08/23 05:26:14 WARN BlockManager: Persisting block rdd_99_14 to disk instead.\n",
      "22/08/23 05:26:14 WARN MemoryStore: Not enough space to cache rdd_35_12 in memory! (computed 148.8 MiB so far)\n",
      "22/08/23 05:26:14 WARN MemoryStore: Not enough space to cache rdd_35_12 in memory! (computed 12.0 MiB so far)\n",
      "22/08/23 05:26:14 WARN MemoryStore: Not enough space to cache rdd_35_13 in memory! (computed 148.8 MiB so far)\n",
      "22/08/23 05:26:14 WARN MemoryStore: Not enough space to cache rdd_35_12 in memory! (computed 3.5 MiB so far)\n",
      "22/08/23 05:26:14 WARN MemoryStore: Failed to reserve initial memory threshold of 1024.0 KiB for computing block rdd_77_12 in memory.\n",
      "22/08/23 05:26:14 WARN MemoryStore: Not enough space to cache rdd_77_12 in memory! (computed 384.0 B so far)\n",
      "22/08/23 05:26:14 WARN MemoryStore: Failed to reserve initial memory threshold of 1024.0 KiB for computing block rdd_99_12 in memory.\n",
      "22/08/23 05:26:14 WARN MemoryStore: Not enough space to cache rdd_99_12 in memory! (computed 384.0 B so far)\n",
      "22/08/23 05:26:14 WARN BlockManager: Persisting block rdd_99_12 to disk instead.\n",
      "22/08/23 05:26:14 WARN MemoryStore: Not enough space to cache rdd_35_13 in memory! (computed 2.3 MiB so far)\n",
      "22/08/23 05:26:14 WARN MemoryStore: Failed to reserve initial memory threshold of 1024.0 KiB for computing block rdd_35_13 in memory.\n",
      "22/08/23 05:26:14 WARN MemoryStore: Not enough space to cache rdd_35_13 in memory! (computed 384.0 B so far)\n",
      "22/08/23 05:26:14 WARN MemoryStore: Failed to reserve initial memory threshold of 1024.0 KiB for computing block rdd_77_13 in memory.\n",
      "22/08/23 05:26:14 WARN MemoryStore: Not enough space to cache rdd_77_13 in memory! (computed 384.0 B so far)\n",
      "22/08/23 05:26:14 WARN MemoryStore: Failed to reserve initial memory threshold of 1024.0 KiB for computing block rdd_99_13 in memory.\n",
      "22/08/23 05:26:14 WARN MemoryStore: Not enough space to cache rdd_99_13 in memory! (computed 384.0 B so far)\n",
      "22/08/23 05:26:14 WARN BlockManager: Persisting block rdd_99_13 to disk instead.\n",
      "22/08/23 05:26:15 WARN MemoryStore: Not enough space to cache rdd_35_11 in memory! (computed 334.8 MiB so far)\n",
      "22/08/23 05:26:15 WARN MemoryStore: Not enough space to cache rdd_35_11 in memory! (computed 27.9 MiB so far)\n",
      "22/08/23 05:26:15 WARN MemoryStore: Not enough space to cache rdd_35_11 in memory! (computed 5.2 MiB so far)\n",
      "22/08/23 05:26:15 WARN MemoryStore: Failed to reserve initial memory threshold of 1024.0 KiB for computing block rdd_77_11 in memory.\n",
      "22/08/23 05:26:15 WARN MemoryStore: Not enough space to cache rdd_77_11 in memory! (computed 384.0 B so far)\n",
      "22/08/23 05:26:15 WARN MemoryStore: Failed to reserve initial memory threshold of 1024.0 KiB for computing block rdd_99_11 in memory.\n",
      "22/08/23 05:26:15 WARN MemoryStore: Not enough space to cache rdd_99_11 in memory! (computed 384.0 B so far)\n",
      "22/08/23 05:26:15 WARN BlockManager: Persisting block rdd_99_11 to disk instead.\n",
      "22/08/23 05:26:19 WARN MemoryStore: Not enough space to cache rdd_99_9 in memory! (computed 104.0 MiB so far)\n",
      "22/08/23 05:26:20 WARN MemoryStore: Not enough space to cache rdd_102_9 in memory! (computed 10.8 MiB so far)\n",
      "22/08/23 05:26:20 WARN BlockManager: Persisting block rdd_102_9 to disk instead.\n",
      "22/08/23 05:26:20 WARN MemoryStore: Not enough space to cache rdd_99_10 in memory! (computed 13.0 MiB so far)\n",
      "22/08/23 05:26:20 WARN MemoryStore: Not enough space to cache rdd_99_8 in memory! (computed 43.9 MiB so far)\n",
      "22/08/23 05:26:20 WARN MemoryStore: Not enough space to cache rdd_102_10 in memory! (computed 4.0 MiB so far)\n",
      "22/08/23 05:26:20 WARN BlockManager: Persisting block rdd_102_10 to disk instead.\n",
      "22/08/23 05:26:20 WARN MemoryStore: Not enough space to cache rdd_102_8 in memory! (computed 10.8 MiB so far)\n",
      "22/08/23 05:26:20 WARN BlockManager: Persisting block rdd_102_8 to disk instead.\n",
      "22/08/23 05:26:24 WARN MemoryStore: Failed to reserve initial memory threshold of 1024.0 KiB for computing block rdd_99_12 in memory.\n",
      "22/08/23 05:26:24 WARN MemoryStore: Not enough space to cache rdd_99_12 in memory! (computed 384.0 B so far)\n",
      "22/08/23 05:26:24 WARN MemoryStore: Failed to reserve initial memory threshold of 1024.0 KiB for computing block rdd_102_12 in memory.\n",
      "22/08/23 05:26:24 WARN MemoryStore: Not enough space to cache rdd_102_12 in memory! (computed 384.0 B so far)\n",
      "22/08/23 05:26:24 WARN BlockManager: Persisting block rdd_102_12 to disk instead.\n",
      "22/08/23 05:26:24 WARN MemoryStore: Not enough space to cache rdd_99_14 in memory! (computed 19.5 MiB so far)\n",
      "22/08/23 05:26:24 WARN MemoryStore: Failed to reserve initial memory threshold of 1024.0 KiB for computing block rdd_102_14 in memory.\n",
      "22/08/23 05:26:24 WARN MemoryStore: Not enough space to cache rdd_102_14 in memory! (computed 384.0 B so far)\n",
      "22/08/23 05:26:24 WARN BlockManager: Persisting block rdd_102_14 to disk instead.\n",
      "22/08/23 05:26:24 WARN MemoryStore: Not enough space to cache rdd_99_13 in memory! (computed 19.5 MiB so far)\n",
      "22/08/23 05:26:24 WARN MemoryStore: Failed to reserve initial memory threshold of 1024.0 KiB for computing block rdd_102_13 in memory.\n",
      "22/08/23 05:26:24 WARN MemoryStore: Not enough space to cache rdd_102_13 in memory! (computed 384.0 B so far)\n",
      "22/08/23 05:26:24 WARN BlockManager: Persisting block rdd_102_13 to disk instead.\n",
      "22/08/23 05:26:24 WARN MemoryStore: Not enough space to cache rdd_102_9 in memory! (computed 64.8 MiB so far)\n",
      "22/08/23 05:26:25 WARN MemoryStore: Not enough space to cache rdd_99_15 in memory! (computed 65.8 MiB so far)\n",
      "22/08/23 05:26:25 WARN MemoryStore: Not enough space to cache rdd_102_8 in memory! (computed 10.8 MiB so far)\n",
      "22/08/23 05:26:25 WARN MemoryStore: Not enough space to cache rdd_102_15 in memory! (computed 10.8 MiB so far)\n",
      "22/08/23 05:26:25 WARN BlockManager: Persisting block rdd_102_15 to disk instead.\n",
      "22/08/23 05:26:26 WARN MemoryStore: Not enough space to cache rdd_99_11 in memory! (computed 5.5 MiB so far)\n",
      "22/08/23 05:26:26 WARN MemoryStore: Failed to reserve initial memory threshold of 1024.0 KiB for computing block rdd_102_11 in memory.\n",
      "22/08/23 05:26:26 WARN MemoryStore: Not enough space to cache rdd_102_11 in memory! (computed 384.0 B so far)\n",
      "22/08/23 05:26:26 WARN BlockManager: Persisting block rdd_102_11 to disk instead.\n",
      "22/08/23 05:26:32 WARN MemoryStore: Not enough space to cache rdd_35_18 in memory! (computed 62.8 MiB so far)\n",
      "22/08/23 05:26:32 WARN MemoryStore: Not enough space to cache rdd_35_18 in memory! (computed 12.0 MiB so far)\n",
      "22/08/23 05:26:32 WARN MemoryStore: Not enough space to cache rdd_35_18 in memory! (computed 1025.3 KiB so far)\n",
      "22/08/23 05:26:35 WARN MemoryStore: Not enough space to cache rdd_35_17 in memory! (computed 334.8 MiB so far)\n",
      "22/08/23 05:26:36 WARN MemoryStore: Not enough space to cache rdd_102_13 in memory! (computed 43.2 MiB so far)\n",
      "22/08/23 05:26:36 WARN MemoryStore: Not enough space to cache rdd_102_14 in memory! (computed 43.2 MiB so far)\n",
      "22/08/23 05:26:37 WARN MemoryStore: Not enough space to cache rdd_35_17 in memory! (computed 148.8 MiB so far)\n",
      "22/08/23 05:26:37 WARN MemoryStore: Not enough space to cache rdd_102_11 in memory! (computed 4.0 MiB so far)\n",
      "22/08/23 05:26:37 WARN MemoryStore: Not enough space to cache rdd_35_17 in memory! (computed 5.2 MiB so far)\n",
      "22/08/23 05:26:37 WARN MemoryStore: Not enough space to cache rdd_99_18 in memory! (computed 29.2 MiB so far)\n",
      "22/08/23 05:26:37 WARN BlockManager: Persisting block rdd_99_18 to disk instead.\n",
      "22/08/23 05:26:37 WARN MemoryStore: Not enough space to cache rdd_102_12 in memory! (computed 64.8 MiB so far)\n",
      "22/08/23 05:26:37 WARN MemoryStore: Not enough space to cache rdd_77_17 in memory! (computed 3.7 MiB so far)\n",
      "22/08/23 05:26:37 WARN MemoryStore: Not enough space to cache rdd_102_15 in memory! (computed 99.2 MiB so far)\n",
      "22/08/23 05:26:46 WARN MemoryStore: Not enough space to cache rdd_35_19 in memory! (computed 334.8 MiB so far)\n",
      "22/08/23 05:26:51 WARN MemoryStore: Not enough space to cache rdd_35_19 in memory! (computed 334.8 MiB so far)\n",
      "22/08/23 05:26:51 WARN MemoryStore: Not enough space to cache rdd_99_21 in memory! (computed 104.0 MiB so far)\n",
      "22/08/23 05:26:51 WARN BlockManager: Persisting block rdd_99_21 to disk instead.\n",
      "22/08/23 05:27:06 WARN MemoryStore: Not enough space to cache rdd_35_7 in memory! (computed 223.2 MiB so far)\n",
      "22/08/23 05:27:06 WARN MemoryStore: Not enough space to cache rdd_35_4 in memory! (computed 223.2 MiB so far)\n",
      "22/08/23 05:27:06 WARN MemoryStore: Not enough space to cache rdd_35_1 in memory! (computed 148.8 MiB so far)\n",
      "22/08/23 05:27:06 WARN MemoryStore: Not enough space to cache rdd_35_3 in memory! (computed 334.8 MiB so far)\n",
      "22/08/23 05:27:06 WARN MemoryStore: Not enough space to cache rdd_35_2 in memory! (computed 223.2 MiB so far)\n",
      "22/08/23 05:27:06 WARN MemoryStore: Not enough space to cache rdd_35_6 in memory! (computed 223.2 MiB so far)\n",
      "22/08/23 05:27:06 WARN MemoryStore: Not enough space to cache rdd_35_5 in memory! (computed 223.2 MiB so far)\n",
      "22/08/23 05:27:07 WARN MemoryStore: Not enough space to cache rdd_102_1 in memory! (computed 43.2 MiB so far)\n",
      "22/08/23 05:27:07 WARN MemoryStore: Not enough space to cache rdd_102_6 in memory! (computed 43.2 MiB so far)\n",
      "22/08/23 05:27:08 WARN MemoryStore: Not enough space to cache rdd_102_5 in memory! (computed 43.2 MiB so far)\n",
      "22/08/23 05:27:08 WARN MemoryStore: Not enough space to cache rdd_102_3 in memory! (computed 43.2 MiB so far)\n",
      "22/08/23 05:27:08 WARN MemoryStore: Not enough space to cache rdd_35_0 in memory! (computed 334.8 MiB so far)\n",
      "22/08/23 05:27:08 WARN MemoryStore: Not enough space to cache rdd_102_4 in memory! (computed 64.8 MiB so far)\n",
      "22/08/23 05:27:08 WARN MemoryStore: Not enough space to cache rdd_102_0 in memory! (computed 10.8 MiB so far)\n",
      "22/08/23 05:27:08 WARN MemoryStore: Not enough space to cache rdd_102_2 in memory! (computed 64.8 MiB so far)\n",
      "22/08/23 05:27:08 WARN MemoryStore: Not enough space to cache rdd_102_7 in memory! (computed 64.8 MiB so far)\n",
      "22/08/23 05:27:17 WARN MemoryStore: Not enough space to cache rdd_35_12 in memory! (computed 223.2 MiB so far)\n",
      "22/08/23 05:27:17 WARN MemoryStore: Not enough space to cache rdd_35_13 in memory! (computed 223.2 MiB so far)\n",
      "22/08/23 05:27:17 WARN MemoryStore: Not enough space to cache rdd_35_14 in memory! (computed 148.8 MiB so far)\n",
      "22/08/23 05:27:17 WARN MemoryStore: Not enough space to cache rdd_102_14 in memory! (computed 1537.3 KiB so far)\n",
      "22/08/23 05:27:17 WARN MemoryStore: Not enough space to cache rdd_102_13 in memory! (computed 16.2 MiB so far)\n",
      "22/08/23 05:27:17 WARN MemoryStore: Not enough space to cache rdd_102_12 in memory! (computed 24.3 MiB so far)\n",
      "22/08/23 05:27:18 WARN MemoryStore: Not enough space to cache rdd_35_15 in memory! (computed 148.8 MiB so far)\n",
      "22/08/23 05:27:18 WARN MemoryStore: Not enough space to cache rdd_102_15 in memory! (computed 1537.3 KiB so far)\n",
      "22/08/23 05:27:18 WARN MemoryStore: Not enough space to cache rdd_35_9 in memory! (computed 334.8 MiB so far)\n",
      "22/08/23 05:27:18 WARN MemoryStore: Failed to reserve initial memory threshold of 1024.0 KiB for computing block rdd_102_9 in memory.\n",
      "22/08/23 05:27:18 WARN MemoryStore: Not enough space to cache rdd_102_9 in memory! (computed 384.0 B so far)\n",
      "22/08/23 05:27:18 WARN MemoryStore: Not enough space to cache rdd_35_10 in memory! (computed 334.8 MiB so far)\n",
      "22/08/23 05:27:18 WARN MemoryStore: Not enough space to cache rdd_35_11 in memory! (computed 334.8 MiB so far)\n",
      "22/08/23 05:27:19 WARN MemoryStore: Not enough space to cache rdd_102_10 in memory! (computed 43.2 MiB so far)\n",
      "22/08/23 05:27:19 WARN MemoryStore: Not enough space to cache rdd_102_8 in memory! (computed 43.2 MiB so far)\n",
      "22/08/23 05:27:27 WARN MemoryStore: Not enough space to cache rdd_35_16 in memory! (computed 334.8 MiB so far)\n",
      "22/08/23 05:27:27 WARN MemoryStore: Not enough space to cache rdd_35_20 in memory! (computed 223.2 MiB so far)\n",
      "22/08/23 05:27:27 WARN MemoryStore: Not enough space to cache rdd_35_21 in memory! (computed 223.2 MiB so far)\n",
      "22/08/23 05:27:29 WARN MemoryStore: Not enough space to cache rdd_102_18 in memory! (computed 43.2 MiB so far)\n",
      "22/08/23 05:27:29 WARN MemoryStore: Not enough space to cache rdd_102_19 in memory! (computed 43.2 MiB so far)\n",
      "22/08/23 05:27:29 WARN MemoryStore: Not enough space to cache rdd_102_16 in memory! (computed 99.2 MiB so far)\n",
      "22/08/23 05:27:33 WARN MemoryStore: Not enough space to cache rdd_35_1 in memory! (computed 148.8 MiB so far)\n",
      "22/08/23 05:27:33 WARN MemoryStore: Not enough space to cache rdd_35_3 in memory! (computed 148.8 MiB so far)\n",
      "22/08/23 05:27:33 WARN MemoryStore: Not enough space to cache rdd_35_6 in memory! (computed 148.8 MiB so far)\n",
      "22/08/23 05:27:34 WARN MemoryStore: Not enough space to cache rdd_35_2 in memory! (computed 148.8 MiB so far)\n",
      "22/08/23 05:27:35 WARN MemoryStore: Not enough space to cache rdd_35_0 in memory! (computed 223.2 MiB so far)\n",
      "22/08/23 05:27:35 WARN MemoryStore: Not enough space to cache rdd_35_4 in memory! (computed 223.2 MiB so far)\n",
      "22/08/23 05:27:35 WARN MemoryStore: Not enough space to cache rdd_35_5 in memory! (computed 223.2 MiB so far)\n",
      "22/08/23 05:27:37 WARN MemoryStore: Not enough space to cache rdd_35_7 in memory! (computed 334.8 MiB so far)\n",
      "22/08/23 05:27:37 WARN MemoryStore: Not enough space to cache rdd_102_6 in memory! (computed 99.2 MiB so far)\n",
      "22/08/23 05:27:38 WARN MemoryStore: Not enough space to cache rdd_102_2 in memory! (computed 99.2 MiB so far)\n",
      "22/08/23 05:27:38 WARN MemoryStore: Not enough space to cache rdd_102_4 in memory! (computed 64.8 MiB so far)\n",
      "22/08/23 05:27:38 WARN MemoryStore: Not enough space to cache rdd_102_0 in memory! (computed 64.8 MiB so far)\n",
      "22/08/23 05:27:38 WARN MemoryStore: Not enough space to cache rdd_102_5 in memory! (computed 64.8 MiB so far)\n",
      "22/08/23 05:27:38 WARN MemoryStore: Not enough space to cache rdd_102_7 in memory! (computed 16.2 MiB so far)\n",
      "22/08/23 05:27:51 WARN MemoryStore: Not enough space to cache rdd_35_13 in memory! (computed 223.2 MiB so far)\n",
      "22/08/23 05:27:51 WARN MemoryStore: Not enough space to cache rdd_102_13 in memory! (computed 10.8 MiB so far)\n",
      "22/08/23 05:27:51 WARN MemoryStore: Not enough space to cache rdd_35_8 in memory! (computed 334.8 MiB so far)\n",
      "22/08/23 05:27:51 WARN MemoryStore: Not enough space to cache rdd_35_11 in memory! (computed 334.8 MiB so far)\n",
      "22/08/23 05:27:51 WARN MemoryStore: Failed to reserve initial memory threshold of 1024.0 KiB for computing block rdd_102_11 in memory.\n",
      "22/08/23 05:27:51 WARN MemoryStore: Not enough space to cache rdd_102_11 in memory! (computed 384.0 B so far)\n",
      "22/08/23 05:27:51 WARN MemoryStore: Not enough space to cache rdd_35_9 in memory! (computed 334.8 MiB so far)\n",
      "22/08/23 05:27:51 WARN MemoryStore: Not enough space to cache rdd_102_8 in memory! (computed 10.8 MiB so far)\n",
      "22/08/23 05:27:52 WARN MemoryStore: Not enough space to cache rdd_35_14 in memory! (computed 223.2 MiB so far)\n",
      "22/08/23 05:27:52 WARN MemoryStore: Not enough space to cache rdd_35_10 in memory! (computed 334.8 MiB so far)\n",
      "22/08/23 05:27:52 WARN MemoryStore: Not enough space to cache rdd_35_12 in memory! (computed 334.8 MiB so far)\n",
      "22/08/23 05:27:52 WARN MemoryStore: Not enough space to cache rdd_102_9 in memory! (computed 10.8 MiB so far)\n",
      "22/08/23 05:27:52 WARN MemoryStore: Not enough space to cache rdd_35_15 in memory! (computed 148.8 MiB so far)\n",
      "22/08/23 05:27:52 WARN MemoryStore: Not enough space to cache rdd_102_10 in memory! (computed 2.7 MiB so far)\n",
      "22/08/23 05:27:52 WARN MemoryStore: Not enough space to cache rdd_102_14 in memory! (computed 1537.3 KiB so far)\n",
      "22/08/23 05:27:52 WARN MemoryStore: Not enough space to cache rdd_102_12 in memory! (computed 1537.3 KiB so far)\n",
      "22/08/23 05:27:52 WARN MemoryStore: Not enough space to cache rdd_102_15 in memory! (computed 10.8 MiB so far)\n",
      "22/08/23 05:28:01 WARN MemoryStore: Not enough space to cache rdd_35_17 in memory! (computed 334.8 MiB so far)\n",
      "22/08/23 05:28:01 WARN MemoryStore: Not enough space to cache rdd_35_19 in memory! (computed 334.8 MiB so far)\n",
      "22/08/23 05:28:01 WARN MemoryStore: Not enough space to cache rdd_35_18 in memory! (computed 334.8 MiB so far)\n",
      "22/08/23 05:28:02 WARN MemoryStore: Not enough space to cache rdd_102_18 in memory! (computed 43.2 MiB so far)\n",
      "22/08/23 05:28:02 WARN MemoryStore: Not enough space to cache rdd_102_20 in memory! (computed 43.2 MiB so far)\n",
      "22/08/23 05:28:02 WARN MemoryStore: Not enough space to cache rdd_102_21 in memory! (computed 10.8 MiB so far)\n",
      "22/08/23 05:28:03 WARN MemoryStore: Not enough space to cache rdd_102_16 in memory! (computed 43.2 MiB so far)\n",
      "22/08/23 05:28:03 WARN MemoryStore: Not enough space to cache rdd_102_17 in memory! (computed 64.8 MiB so far)\n",
      "22/08/23 05:28:03 WARN MemoryStore: Not enough space to cache rdd_102_19 in memory! (computed 64.8 MiB so far)\n",
      "22/08/23 05:28:08 WARN MemoryStore: Not enough space to cache rdd_35_5 in memory! (computed 148.8 MiB so far)\n",
      "22/08/23 05:28:08 WARN MemoryStore: Not enough space to cache rdd_35_3 in memory! (computed 148.8 MiB so far)\n",
      "22/08/23 05:28:08 WARN MemoryStore: Not enough space to cache rdd_35_2 in memory! (computed 148.8 MiB so far)\n",
      "22/08/23 05:28:08 WARN MemoryStore: Not enough space to cache rdd_35_0 in memory! (computed 148.8 MiB so far)\n",
      "22/08/23 05:28:08 WARN MemoryStore: Not enough space to cache rdd_35_6 in memory! (computed 148.8 MiB so far)\n",
      "22/08/23 05:28:08 WARN MemoryStore: Not enough space to cache rdd_35_7 in memory! (computed 148.8 MiB so far)\n",
      "22/08/23 05:28:08 WARN MemoryStore: Not enough space to cache rdd_35_4 in memory! (computed 148.8 MiB so far)\n",
      "22/08/23 05:28:11 WARN MemoryStore: Not enough space to cache rdd_102_7 in memory! (computed 99.2 MiB so far)\n",
      "22/08/23 05:28:11 WARN MemoryStore: Not enough space to cache rdd_102_0 in memory! (computed 99.2 MiB so far)\n",
      "22/08/23 05:28:11 WARN MemoryStore: Not enough space to cache rdd_102_4 in memory! (computed 99.2 MiB so far)\n",
      "22/08/23 05:28:11 WARN MemoryStore: Not enough space to cache rdd_102_5 in memory! (computed 99.2 MiB so far)\n",
      "22/08/23 05:28:21 WARN MemoryStore: Not enough space to cache rdd_35_13 in memory! (computed 148.8 MiB so far)\n",
      "22/08/23 05:28:22 WARN MemoryStore: Not enough space to cache rdd_35_10 in memory! (computed 223.2 MiB so far)\n",
      "22/08/23 05:28:22 WARN MemoryStore: Not enough space to cache rdd_35_11 in memory! (computed 223.2 MiB so far)\n",
      "22/08/23 05:28:23 WARN MemoryStore: Not enough space to cache rdd_35_12 in memory! (computed 223.2 MiB so far)\n",
      "22/08/23 05:28:23 WARN MemoryStore: Not enough space to cache rdd_35_8 in memory! (computed 334.8 MiB so far)\n",
      "22/08/23 05:28:23 WARN MemoryStore: Not enough space to cache rdd_102_10 in memory! (computed 43.2 MiB so far)\n",
      "22/08/23 05:28:23 WARN MemoryStore: Not enough space to cache rdd_102_8 in memory! (computed 6.2 MiB so far)\n",
      "22/08/23 05:28:23 WARN MemoryStore: Not enough space to cache rdd_102_12 in memory! (computed 10.8 MiB so far)\n",
      "22/08/23 05:28:23 WARN MemoryStore: Not enough space to cache rdd_35_15 in memory! (computed 148.8 MiB so far)\n",
      "22/08/23 05:28:23 WARN MemoryStore: Failed to reserve initial memory threshold of 1024.0 KiB for computing block rdd_102_15 in memory.\n",
      "22/08/23 05:28:23 WARN MemoryStore: Not enough space to cache rdd_102_15 in memory! (computed 384.0 B so far)\n",
      "22/08/23 05:28:23 WARN MemoryStore: Not enough space to cache rdd_102_13 in memory! (computed 64.8 MiB so far)\n",
      "22/08/23 05:28:23 WARN MemoryStore: Not enough space to cache rdd_102_11 in memory! (computed 43.2 MiB so far)\n",
      "22/08/23 05:28:24 WARN MemoryStore: Not enough space to cache rdd_35_14 in memory! (computed 334.8 MiB so far)\n",
      "22/08/23 05:28:34 WARN MemoryStore: Not enough space to cache rdd_35_19 in memory! (computed 223.2 MiB so far)\n",
      "22/08/23 05:28:34 WARN MemoryStore: Not enough space to cache rdd_35_18 in memory! (computed 223.2 MiB so far)\n",
      "22/08/23 05:28:35 WARN MemoryStore: Not enough space to cache rdd_35_16 in memory! (computed 334.8 MiB so far)\n",
      "22/08/23 05:28:35 WARN MemoryStore: Not enough space to cache rdd_35_17 in memory! (computed 334.8 MiB so far)\n",
      "22/08/23 05:28:37 WARN MemoryStore: Not enough space to cache rdd_102_20 in memory! (computed 43.2 MiB so far)\n",
      "22/08/23 05:28:37 WARN MemoryStore: Not enough space to cache rdd_102_19 in memory! (computed 99.2 MiB so far)\n",
      "22/08/23 05:28:37 WARN MemoryStore: Not enough space to cache rdd_102_18 in memory! (computed 99.2 MiB so far)\n",
      "22/08/23 05:28:38 WARN MemoryStore: Not enough space to cache rdd_102_21 in memory! (computed 64.8 MiB so far)\n",
      "22/08/23 05:28:38 WARN MemoryStore: Not enough space to cache rdd_102_16 in memory! (computed 99.2 MiB so far)\n",
      "22/08/23 05:28:38 WARN MemoryStore: Not enough space to cache rdd_102_17 in memory! (computed 99.2 MiB so far)\n",
      "22/08/23 05:28:44 WARN MemoryStore: Not enough space to cache rdd_35_3 in memory! (computed 148.8 MiB so far)\n",
      "22/08/23 05:28:44 WARN MemoryStore: Not enough space to cache rdd_35_0 in memory! (computed 148.8 MiB so far)\n",
      "22/08/23 05:28:45 WARN MemoryStore: Not enough space to cache rdd_35_7 in memory! (computed 223.2 MiB so far)\n",
      "22/08/23 05:28:46 WARN MemoryStore: Not enough space to cache rdd_35_6 in memory! (computed 223.2 MiB so far)\n",
      "22/08/23 05:28:46 WARN MemoryStore: Not enough space to cache rdd_102_3 in memory! (computed 64.8 MiB so far)\n",
      "22/08/23 05:28:47 WARN MemoryStore: Not enough space to cache rdd_102_0 in memory! (computed 64.8 MiB so far)\n",
      "22/08/23 05:28:47 WARN MemoryStore: Not enough space to cache rdd_102_7 in memory! (computed 43.2 MiB so far)\n",
      "22/08/23 05:28:47 WARN MemoryStore: Not enough space to cache rdd_102_6 in memory! (computed 43.2 MiB so far)\n",
      "22/08/23 05:28:47 WARN MemoryStore: Not enough space to cache rdd_35_4 in memory! (computed 334.8 MiB so far)\n",
      "22/08/23 05:28:48 WARN MemoryStore: Not enough space to cache rdd_35_1 in memory! (computed 334.8 MiB so far)\n",
      "22/08/23 05:28:48 WARN MemoryStore: Not enough space to cache rdd_35_2 in memory! (computed 334.8 MiB so far)\n",
      "22/08/23 05:29:01 WARN MemoryStore: Not enough space to cache rdd_35_10 in memory! (computed 223.2 MiB so far)\n",
      "22/08/23 05:29:01 WARN MemoryStore: Not enough space to cache rdd_35_11 in memory! (computed 223.2 MiB so far)\n",
      "22/08/23 05:29:01 WARN MemoryStore: Not enough space to cache rdd_35_14 in memory! (computed 148.8 MiB so far)\n",
      "22/08/23 05:29:03 WARN MemoryStore: Not enough space to cache rdd_35_8 in memory! (computed 334.8 MiB so far)\n",
      "22/08/23 05:29:03 WARN MemoryStore: Not enough space to cache rdd_35_9 in memory! (computed 334.8 MiB so far)\n",
      "22/08/23 05:29:03 WARN MemoryStore: Not enough space to cache rdd_35_15 in memory! (computed 148.8 MiB so far)\n",
      "22/08/23 05:29:03 WARN MemoryStore: Not enough space to cache rdd_102_8 in memory! (computed 6.2 MiB so far)\n",
      "22/08/23 05:29:03 WARN MemoryStore: Not enough space to cache rdd_102_9 in memory! (computed 4.0 MiB so far)\n",
      "22/08/23 05:29:03 WARN MemoryStore: Not enough space to cache rdd_102_15 in memory! (computed 4.0 MiB so far)\n",
      "22/08/23 05:29:03 WARN MemoryStore: Not enough space to cache rdd_102_11 in memory! (computed 64.8 MiB so far)\n",
      "22/08/23 05:29:03 WARN MemoryStore: Not enough space to cache rdd_102_10 in memory! (computed 64.8 MiB so far)\n",
      "22/08/23 05:29:03 WARN MemoryStore: Not enough space to cache rdd_102_14 in memory! (computed 64.8 MiB so far)\n",
      "22/08/23 05:29:04 WARN MemoryStore: Not enough space to cache rdd_35_13 in memory! (computed 334.8 MiB so far)\n",
      "22/08/23 05:29:04 WARN MemoryStore: Not enough space to cache rdd_35_12 in memory! (computed 334.8 MiB so far)\n",
      "22/08/23 05:29:15 WARN MemoryStore: Not enough space to cache rdd_35_17 in memory! (computed 334.8 MiB so far)\n",
      "22/08/23 05:29:15 WARN MemoryStore: Not enough space to cache rdd_35_21 in memory! (computed 223.2 MiB so far)\n",
      "22/08/23 05:29:17 WARN MemoryStore: Not enough space to cache rdd_102_21 in memory! (computed 64.8 MiB so far)\n",
      "22/08/23 05:29:17 WARN MemoryStore: Not enough space to cache rdd_102_20 in memory! (computed 24.3 MiB so far)\n",
      "22/08/23 05:29:17 WARN MemoryStore: Not enough space to cache rdd_102_17 in memory! (computed 64.8 MiB so far)\n",
      "22/08/23 05:29:17 WARN MemoryStore: Not enough space to cache rdd_102_19 in memory! (computed 43.2 MiB so far)\n",
      "22/08/23 05:29:17 WARN MemoryStore: Not enough space to cache rdd_102_18 in memory! (computed 64.8 MiB so far)\n",
      "22/08/23 05:29:17 WARN MemoryStore: Not enough space to cache rdd_102_16 in memory! (computed 64.8 MiB so far)\n",
      "22/08/23 05:29:22 WARN MemoryStore: Not enough space to cache rdd_35_6 in memory! (computed 94.2 MiB so far)\n",
      "22/08/23 05:29:22 WARN MemoryStore: Not enough space to cache rdd_35_1 in memory! (computed 94.2 MiB so far)\n",
      "22/08/23 05:29:22 WARN MemoryStore: Not enough space to cache rdd_35_3 in memory! (computed 94.2 MiB so far)\n",
      "22/08/23 05:29:22 WARN MemoryStore: Not enough space to cache rdd_35_2 in memory! (computed 94.2 MiB so far)\n",
      "22/08/23 05:29:22 WARN MemoryStore: Not enough space to cache rdd_35_6 in memory! (computed 5.2 MiB so far)\n",
      "22/08/23 05:29:22 WARN MemoryStore: Failed to reserve initial memory threshold of 1024.0 KiB for computing block rdd_35_6 in memory.\n",
      "22/08/23 05:29:22 WARN MemoryStore: Not enough space to cache rdd_35_6 in memory! (computed 384.0 B so far)\n",
      "22/08/23 05:29:23 WARN MemoryStore: Not enough space to cache rdd_35_7 in memory! (computed 148.8 MiB so far)\n",
      "22/08/23 05:29:23 WARN MemoryStore: Not enough space to cache rdd_35_3 in memory! (computed 62.8 MiB so far)\n",
      "22/08/23 05:29:23 WARN MemoryStore: Failed to reserve initial memory threshold of 1024.0 KiB for computing block rdd_35_3 in memory.\n",
      "22/08/23 05:29:23 WARN MemoryStore: Not enough space to cache rdd_35_3 in memory! (computed 384.0 B so far)\n",
      "22/08/23 05:29:23 WARN MemoryStore: Not enough space to cache rdd_35_7 in memory! (computed 12.0 MiB so far)\n",
      "22/08/23 05:29:23 WARN MemoryStore: Failed to reserve initial memory threshold of 1024.0 KiB for computing block rdd_35_7 in memory.\n",
      "22/08/23 05:29:23 WARN MemoryStore: Not enough space to cache rdd_35_7 in memory! (computed 384.0 B so far)\n",
      "22/08/23 05:29:24 WARN MemoryStore: Not enough space to cache rdd_35_0 in memory! (computed 223.2 MiB so far)\n",
      "22/08/23 05:29:25 WARN MemoryStore: Not enough space to cache rdd_35_0 in memory! (computed 41.8 MiB so far)\n",
      "22/08/23 05:29:25 WARN MemoryStore: Not enough space to cache rdd_99_7 in memory! (computed 65.8 MiB so far)\n",
      "22/08/23 05:29:25 WARN MemoryStore: Not enough space to cache rdd_99_3 in memory! (computed 65.8 MiB so far)\n",
      "22/08/23 05:29:25 WARN MemoryStore: Not enough space to cache rdd_35_0 in memory! (computed 7.8 MiB so far)\n",
      "22/08/23 05:29:25 WARN MemoryStore: Failed to reserve initial memory threshold of 1024.0 KiB for computing block rdd_99_0 in memory.\n",
      "22/08/23 05:29:25 WARN MemoryStore: Not enough space to cache rdd_99_0 in memory! (computed 384.0 B so far)\n",
      "22/08/23 05:29:25 WARN MemoryStore: Failed to reserve initial memory threshold of 1024.0 KiB for computing block rdd_121_0 in memory.\n",
      "22/08/23 05:29:25 WARN MemoryStore: Not enough space to cache rdd_121_0 in memory! (computed 384.0 B so far)\n",
      "22/08/23 05:29:25 WARN BlockManager: Persisting block rdd_121_0 to disk instead.\n",
      "22/08/23 05:29:25 WARN MemoryStore: Not enough space to cache rdd_121_7 in memory! (computed 1663.4 KiB so far)\n",
      "22/08/23 05:29:25 WARN BlockManager: Persisting block rdd_121_7 to disk instead.\n",
      "22/08/23 05:29:25 WARN MemoryStore: Not enough space to cache rdd_121_3 in memory! (computed 1663.4 KiB so far)\n",
      "22/08/23 05:29:25 WARN BlockManager: Persisting block rdd_121_3 to disk instead.\n",
      "22/08/23 05:29:25 WARN MemoryStore: Not enough space to cache rdd_35_2 in memory! (computed 223.2 MiB so far)\n",
      "22/08/23 05:29:25 WARN MemoryStore: Not enough space to cache rdd_35_1 in memory! (computed 223.2 MiB so far)\n",
      "22/08/23 05:29:25 WARN MemoryStore: Not enough space to cache rdd_35_1 in memory! (computed 2.3 MiB so far)\n",
      "22/08/23 05:29:25 WARN MemoryStore: Not enough space to cache rdd_35_2 in memory! (computed 7.8 MiB so far)\n",
      "22/08/23 05:29:25 WARN MemoryStore: Failed to reserve initial memory threshold of 1024.0 KiB for computing block rdd_99_2 in memory.\n",
      "22/08/23 05:29:25 WARN MemoryStore: Not enough space to cache rdd_99_2 in memory! (computed 384.0 B so far)\n",
      "22/08/23 05:29:25 WARN MemoryStore: Failed to reserve initial memory threshold of 1024.0 KiB for computing block rdd_121_2 in memory.\n",
      "22/08/23 05:29:25 WARN MemoryStore: Not enough space to cache rdd_121_2 in memory! (computed 384.0 B so far)\n",
      "22/08/23 05:29:25 WARN BlockManager: Persisting block rdd_121_2 to disk instead.\n",
      "22/08/23 05:29:26 WARN MemoryStore: Not enough space to cache rdd_99_1 in memory! (computed 1035.4 KiB so far)\n",
      "22/08/23 05:29:26 WARN MemoryStore: Failed to reserve initial memory threshold of 1024.0 KiB for computing block rdd_121_1 in memory.\n",
      "22/08/23 05:29:26 WARN MemoryStore: Not enough space to cache rdd_121_1 in memory! (computed 384.0 B so far)\n",
      "22/08/23 05:29:26 WARN BlockManager: Persisting block rdd_121_1 to disk instead.\n",
      "22/08/23 05:29:26 WARN MemoryStore: Not enough space to cache rdd_35_4 in memory! (computed 334.8 MiB so far)\n",
      "22/08/23 05:29:26 WARN MemoryStore: Not enough space to cache rdd_35_4 in memory! (computed 18.6 MiB so far)\n",
      "22/08/23 05:29:26 WARN MemoryStore: Not enough space to cache rdd_35_4 in memory! (computed 1539.2 KiB so far)\n",
      "22/08/23 05:29:26 WARN MemoryStore: Failed to reserve initial memory threshold of 1024.0 KiB for computing block rdd_99_4 in memory.\n",
      "22/08/23 05:29:26 WARN MemoryStore: Not enough space to cache rdd_99_4 in memory! (computed 384.0 B so far)\n",
      "22/08/23 05:29:26 WARN MemoryStore: Failed to reserve initial memory threshold of 1024.0 KiB for computing block rdd_121_4 in memory.\n",
      "22/08/23 05:29:26 WARN MemoryStore: Not enough space to cache rdd_121_4 in memory! (computed 384.0 B so far)\n",
      "22/08/23 05:29:26 WARN BlockManager: Persisting block rdd_121_4 to disk instead.\n",
      "22/08/23 05:29:26 WARN MemoryStore: Not enough space to cache rdd_121_6 in memory! (computed 8.2 MiB so far)\n",
      "22/08/23 05:29:26 WARN BlockManager: Persisting block rdd_121_6 to disk instead.\n",
      "22/08/23 05:29:26 WARN MemoryStore: Not enough space to cache rdd_35_5 in memory! (computed 334.8 MiB so far)\n",
      "22/08/23 05:29:26 WARN MemoryStore: Not enough space to cache rdd_35_5 in memory! (computed 7.8 MiB so far)\n",
      "22/08/23 05:29:26 WARN MemoryStore: Not enough space to cache rdd_35_5 in memory! (computed 2.3 MiB so far)\n",
      "22/08/23 05:29:26 WARN MemoryStore: Failed to reserve initial memory threshold of 1024.0 KiB for computing block rdd_99_5 in memory.\n",
      "22/08/23 05:29:26 WARN MemoryStore: Not enough space to cache rdd_99_5 in memory! (computed 384.0 B so far)\n",
      "22/08/23 05:29:26 WARN MemoryStore: Failed to reserve initial memory threshold of 1024.0 KiB for computing block rdd_121_5 in memory.\n",
      "22/08/23 05:29:26 WARN MemoryStore: Not enough space to cache rdd_121_5 in memory! (computed 384.0 B so far)\n",
      "22/08/23 05:29:26 WARN BlockManager: Persisting block rdd_121_5 to disk instead.\n",
      "22/08/23 05:29:36 WARN MemoryStore: Not enough space to cache rdd_121_7 in memory! (computed 65.8 MiB so far)\n",
      "22/08/23 05:29:36 WARN MemoryStore: Not enough space to cache rdd_121_6 in memory! (computed 104.0 MiB so far)\n",
      "22/08/23 05:29:36 WARN MemoryStore: Not enough space to cache rdd_121_3 in memory! (computed 104.0 MiB so far)\n",
      "22/08/23 05:29:36 WARN MemoryStore: Not enough space to cache rdd_124_3 in memory! (computed 2.7 MiB so far)\n",
      "22/08/23 05:29:36 WARN MemoryStore: Not enough space to cache rdd_121_2 in memory! (computed 3.7 MiB so far)\n",
      "22/08/23 05:29:36 WARN MemoryStore: Failed to reserve initial memory threshold of 1024.0 KiB for computing block rdd_124_2 in memory.\n",
      "22/08/23 05:29:36 WARN MemoryStore: Not enough space to cache rdd_124_2 in memory! (computed 384.0 B so far)\n",
      "22/08/23 05:29:36 WARN BlockManager: Persisting block rdd_124_2 to disk instead.\n",
      "22/08/23 05:29:36 WARN BlockManager: Persisting block rdd_124_3 to disk instead.\n",
      "22/08/23 05:29:36 WARN MemoryStore: Not enough space to cache rdd_124_6 in memory! (computed 4.0 MiB so far)\n",
      "22/08/23 05:29:36 WARN BlockManager: Persisting block rdd_124_6 to disk instead.\n",
      "22/08/23 05:29:37 WARN MemoryStore: Not enough space to cache rdd_124_7 in memory! (computed 16.2 MiB so far)\n",
      "22/08/23 05:29:37 WARN BlockManager: Persisting block rdd_124_7 to disk instead.\n",
      "22/08/23 05:29:38 WARN MemoryStore: Not enough space to cache rdd_121_1 in memory! (computed 13.0 MiB so far)\n",
      "22/08/23 05:29:38 WARN MemoryStore: Not enough space to cache rdd_121_0 in memory! (computed 1663.4 KiB so far)\n",
      "22/08/23 05:29:38 WARN MemoryStore: Failed to reserve initial memory threshold of 1024.0 KiB for computing block rdd_124_0 in memory.\n",
      "22/08/23 05:29:38 WARN MemoryStore: Not enough space to cache rdd_124_0 in memory! (computed 384.0 B so far)\n",
      "22/08/23 05:29:38 WARN MemoryStore: Not enough space to cache rdd_124_1 in memory! (computed 2.7 MiB so far)\n",
      "22/08/23 05:29:38 WARN BlockManager: Persisting block rdd_124_0 to disk instead.\n",
      "22/08/23 05:29:38 WARN BlockManager: Persisting block rdd_124_1 to disk instead.\n",
      "22/08/23 05:29:38 WARN MemoryStore: Not enough space to cache rdd_121_5 in memory! (computed 29.2 MiB so far)\n",
      "22/08/23 05:29:38 WARN MemoryStore: Not enough space to cache rdd_121_4 in memory! (computed 43.9 MiB so far)\n",
      "22/08/23 05:29:56 WARN MemoryStore: Not enough space to cache rdd_124_0 in memory! (computed 172.8 MiB so far)\n",
      "22/08/23 05:29:59 WARN MemoryStore: Not enough space to cache rdd_35_11 in memory! (computed 223.2 MiB so far)\n",
      "22/08/23 05:29:59 WARN MemoryStore: Not enough space to cache rdd_99_9 in memory! (computed 104.0 MiB so far)\n",
      "22/08/23 05:29:59 WARN MemoryStore: Not enough space to cache rdd_35_10 in memory! (computed 223.2 MiB so far)\n",
      "22/08/23 05:30:00 WARN MemoryStore: Not enough space to cache rdd_35_14 in memory! (computed 148.8 MiB so far)\n",
      "22/08/23 05:30:00 WARN MemoryStore: Not enough space to cache rdd_35_11 in memory! (computed 18.6 MiB so far)\n",
      "22/08/23 05:30:00 WARN MemoryStore: Failed to reserve initial memory threshold of 1024.0 KiB for computing block rdd_35_11 in memory.\n",
      "22/08/23 05:30:00 WARN MemoryStore: Not enough space to cache rdd_35_11 in memory! (computed 384.0 B so far)\n",
      "22/08/23 05:30:00 WARN MemoryStore: Failed to reserve initial memory threshold of 1024.0 KiB for computing block rdd_99_11 in memory.\n",
      "22/08/23 05:30:00 WARN MemoryStore: Not enough space to cache rdd_99_11 in memory! (computed 384.0 B so far)\n",
      "22/08/23 05:30:00 WARN MemoryStore: Failed to reserve initial memory threshold of 1024.0 KiB for computing block rdd_121_11 in memory.\n",
      "22/08/23 05:30:00 WARN MemoryStore: Not enough space to cache rdd_121_11 in memory! (computed 384.0 B so far)\n",
      "22/08/23 05:30:00 WARN BlockManager: Persisting block rdd_121_11 to disk instead.\n",
      "22/08/23 05:30:00 WARN MemoryStore: Failed to reserve initial memory threshold of 1024.0 KiB for computing block rdd_35_14 in memory.\n",
      "22/08/23 05:30:00 WARN MemoryStore: Not enough space to cache rdd_35_14 in memory! (computed 384.0 B so far)\n",
      "22/08/23 05:30:00 WARN MemoryStore: Failed to reserve initial memory threshold of 1024.0 KiB for computing block rdd_35_14 in memory.\n",
      "22/08/23 05:30:00 WARN MemoryStore: Not enough space to cache rdd_35_14 in memory! (computed 384.0 B so far)\n",
      "22/08/23 05:30:00 WARN MemoryStore: Failed to reserve initial memory threshold of 1024.0 KiB for computing block rdd_99_14 in memory.\n",
      "22/08/23 05:30:00 WARN MemoryStore: Not enough space to cache rdd_99_14 in memory! (computed 384.0 B so far)\n",
      "22/08/23 05:30:00 WARN MemoryStore: Failed to reserve initial memory threshold of 1024.0 KiB for computing block rdd_121_14 in memory.\n",
      "22/08/23 05:30:00 WARN MemoryStore: Not enough space to cache rdd_121_14 in memory! (computed 384.0 B so far)\n",
      "22/08/23 05:30:00 WARN BlockManager: Persisting block rdd_121_14 to disk instead.\n",
      "22/08/23 05:30:00 WARN MemoryStore: Not enough space to cache rdd_121_9 in memory! (computed 19.5 MiB so far)\n",
      "22/08/23 05:30:00 WARN BlockManager: Persisting block rdd_121_9 to disk instead.\n",
      "22/08/23 05:30:00 WARN MemoryStore: Not enough space to cache rdd_35_10 in memory! (computed 18.6 MiB so far)\n",
      "22/08/23 05:30:00 WARN MemoryStore: Failed to reserve initial memory threshold of 1024.0 KiB for computing block rdd_35_10 in memory.\n",
      "22/08/23 05:30:00 WARN MemoryStore: Not enough space to cache rdd_35_10 in memory! (computed 384.0 B so far)\n",
      "22/08/23 05:30:00 WARN MemoryStore: Failed to reserve initial memory threshold of 1024.0 KiB for computing block rdd_99_10 in memory.\n",
      "22/08/23 05:30:00 WARN MemoryStore: Not enough space to cache rdd_99_10 in memory! (computed 384.0 B so far)\n",
      "22/08/23 05:30:00 WARN MemoryStore: Not enough space to cache rdd_99_8 in memory! (computed 104.0 MiB so far)\n",
      "22/08/23 05:30:00 WARN MemoryStore: Failed to reserve initial memory threshold of 1024.0 KiB for computing block rdd_121_10 in memory.\n",
      "22/08/23 05:30:00 WARN MemoryStore: Failed to reserve initial memory threshold of 1024.0 KiB for computing block rdd_121_8 in memory.\n",
      "22/08/23 05:30:00 WARN MemoryStore: Not enough space to cache rdd_121_10 in memory! (computed 384.0 B so far)\n",
      "22/08/23 05:30:00 WARN MemoryStore: Not enough space to cache rdd_121_8 in memory! (computed 384.0 B so far)\n",
      "22/08/23 05:30:00 WARN BlockManager: Persisting block rdd_121_10 to disk instead.\n",
      "22/08/23 05:30:00 WARN BlockManager: Persisting block rdd_121_8 to disk instead.\n",
      "22/08/23 05:30:01 WARN MemoryStore: Not enough space to cache rdd_35_12 in memory! (computed 223.2 MiB so far)\n",
      "22/08/23 05:30:01 WARN MemoryStore: Not enough space to cache rdd_35_12 in memory! (computed 18.6 MiB so far)\n",
      "22/08/23 05:30:01 WARN MemoryStore: Not enough space to cache rdd_35_12 in memory! (computed 2.3 MiB so far)\n",
      "22/08/23 05:30:01 WARN MemoryStore: Failed to reserve initial memory threshold of 1024.0 KiB for computing block rdd_99_12 in memory.\n",
      "22/08/23 05:30:01 WARN MemoryStore: Not enough space to cache rdd_99_12 in memory! (computed 384.0 B so far)\n",
      "22/08/23 05:30:01 WARN MemoryStore: Failed to reserve initial memory threshold of 1024.0 KiB for computing block rdd_121_12 in memory.\n",
      "22/08/23 05:30:01 WARN MemoryStore: Not enough space to cache rdd_121_12 in memory! (computed 384.0 B so far)\n",
      "22/08/23 05:30:01 WARN BlockManager: Persisting block rdd_121_12 to disk instead.\n",
      "22/08/23 05:30:01 WARN MemoryStore: Not enough space to cache rdd_35_13 in memory! (computed 223.2 MiB so far)\n",
      "22/08/23 05:30:01 WARN MemoryStore: Not enough space to cache rdd_35_13 in memory! (computed 2.3 MiB so far)\n",
      "22/08/23 05:30:01 WARN MemoryStore: Failed to reserve initial memory threshold of 1024.0 KiB for computing block rdd_35_13 in memory.\n",
      "22/08/23 05:30:01 WARN MemoryStore: Not enough space to cache rdd_35_13 in memory! (computed 384.0 B so far)\n",
      "22/08/23 05:30:01 WARN MemoryStore: Failed to reserve initial memory threshold of 1024.0 KiB for computing block rdd_99_13 in memory.\n",
      "22/08/23 05:30:01 WARN MemoryStore: Not enough space to cache rdd_99_13 in memory! (computed 384.0 B so far)\n",
      "22/08/23 05:30:01 WARN MemoryStore: Failed to reserve initial memory threshold of 1024.0 KiB for computing block rdd_121_13 in memory.\n",
      "22/08/23 05:30:01 WARN MemoryStore: Not enough space to cache rdd_121_13 in memory! (computed 384.0 B so far)\n",
      "22/08/23 05:30:01 WARN BlockManager: Persisting block rdd_121_13 to disk instead.\n",
      "22/08/23 05:30:06 WARN MemoryStore: Not enough space to cache rdd_121_8 in memory! (computed 43.9 MiB so far)\n",
      "22/08/23 05:30:06 WARN MemoryStore: Not enough space to cache rdd_35_15 in memory! (computed 223.2 MiB so far)\n",
      "22/08/23 05:30:06 WARN MemoryStore: Not enough space to cache rdd_124_8 in memory! (computed 10.8 MiB so far)\n",
      "22/08/23 05:30:06 WARN BlockManager: Persisting block rdd_124_8 to disk instead.\n",
      "22/08/23 05:30:06 WARN MemoryStore: Not enough space to cache rdd_121_9 in memory! (computed 65.8 MiB so far)\n",
      "22/08/23 05:30:06 WARN MemoryStore: Not enough space to cache rdd_35_15 in memory! (computed 2.3 MiB so far)\n",
      "22/08/23 05:30:06 WARN MemoryStore: Failed to reserve initial memory threshold of 1024.0 KiB for computing block rdd_35_15 in memory.\n",
      "22/08/23 05:30:06 WARN MemoryStore: Not enough space to cache rdd_35_15 in memory! (computed 384.0 B so far)\n",
      "22/08/23 05:30:06 WARN MemoryStore: Not enough space to cache rdd_124_9 in memory! (computed 1537.3 KiB so far)\n",
      "22/08/23 05:30:06 WARN MemoryStore: Failed to reserve initial memory threshold of 1024.0 KiB for computing block rdd_99_15 in memory.\n",
      "22/08/23 05:30:06 WARN MemoryStore: Not enough space to cache rdd_99_15 in memory! (computed 384.0 B so far)\n",
      "22/08/23 05:30:06 WARN MemoryStore: Failed to reserve initial memory threshold of 1024.0 KiB for computing block rdd_121_15 in memory.\n",
      "22/08/23 05:30:06 WARN MemoryStore: Not enough space to cache rdd_121_15 in memory! (computed 384.0 B so far)\n",
      "22/08/23 05:30:06 WARN BlockManager: Persisting block rdd_121_15 to disk instead.\n",
      "22/08/23 05:30:06 WARN BlockManager: Persisting block rdd_124_9 to disk instead.\n",
      "22/08/23 05:30:10 WARN MemoryStore: Not enough space to cache rdd_121_14 in memory! (computed 29.2 MiB so far)\n",
      "22/08/23 05:30:10 WARN MemoryStore: Not enough space to cache rdd_124_14 in memory! (computed 2.7 MiB so far)\n",
      "22/08/23 05:30:10 WARN BlockManager: Persisting block rdd_124_14 to disk instead.\n",
      "22/08/23 05:30:10 WARN MemoryStore: Not enough space to cache rdd_121_11 in memory! (computed 43.9 MiB so far)\n",
      "22/08/23 05:30:10 WARN MemoryStore: Not enough space to cache rdd_124_11 in memory! (computed 2.7 MiB so far)\n",
      "22/08/23 05:30:10 WARN BlockManager: Persisting block rdd_124_11 to disk instead.\n",
      "22/08/23 05:30:11 WARN MemoryStore: Not enough space to cache rdd_124_9 in memory! (computed 2.7 MiB so far)\n",
      "22/08/23 05:30:11 WARN MemoryStore: Not enough space to cache rdd_121_10 in memory! (computed 43.9 MiB so far)\n",
      "22/08/23 05:30:11 WARN MemoryStore: Not enough space to cache rdd_124_10 in memory! (computed 16.2 MiB so far)\n",
      "22/08/23 05:30:11 WARN BlockManager: Persisting block rdd_124_10 to disk instead.\n",
      "22/08/23 05:30:11 WARN MemoryStore: Not enough space to cache rdd_124_8 in memory! (computed 16.2 MiB so far)\n",
      "22/08/23 05:30:12 WARN MemoryStore: Not enough space to cache rdd_121_12 in memory! (computed 29.2 MiB so far)\n",
      "22/08/23 05:30:13 WARN MemoryStore: Not enough space to cache rdd_124_12 in memory! (computed 10.8 MiB so far)\n",
      "22/08/23 05:30:13 WARN BlockManager: Persisting block rdd_124_12 to disk instead.\n",
      "22/08/23 05:30:16 WARN MemoryStore: Not enough space to cache rdd_35_16 in memory! (computed 18.6 MiB so far)\n",
      "22/08/23 05:30:16 WARN MemoryStore: Not enough space to cache rdd_35_16 in memory! (computed 2.3 MiB so far)\n",
      "22/08/23 05:30:16 WARN MemoryStore: Not enough space to cache rdd_35_16 in memory! (computed 1025.3 KiB so far)\n",
      "22/08/23 05:30:21 WARN MemoryStore: Not enough space to cache rdd_124_11 in memory! (computed 24.3 MiB so far)\n",
      "22/08/23 05:30:21 WARN MemoryStore: Not enough space to cache rdd_124_14 in memory! (computed 24.3 MiB so far)\n",
      "22/08/23 05:30:21 WARN MemoryStore: Not enough space to cache rdd_124_15 in memory! (computed 24.3 MiB so far)\n",
      "22/08/23 05:30:21 WARN BlockManager: Persisting block rdd_124_15 to disk instead.\n",
      "22/08/23 05:30:21 WARN MemoryStore: Not enough space to cache rdd_35_17 in memory! (computed 334.8 MiB so far)\n",
      "22/08/23 05:30:21 WARN MemoryStore: Not enough space to cache rdd_35_17 in memory! (computed 2.3 MiB so far)\n",
      "22/08/23 05:30:21 WARN MemoryStore: Failed to reserve initial memory threshold of 1024.0 KiB for computing block rdd_35_17 in memory.\n",
      "22/08/23 05:30:21 WARN MemoryStore: Not enough space to cache rdd_35_17 in memory! (computed 384.0 B so far)\n",
      "22/08/23 05:30:21 WARN MemoryStore: Failed to reserve initial memory threshold of 1024.0 KiB for computing block rdd_99_17 in memory.\n",
      "22/08/23 05:30:21 WARN MemoryStore: Not enough space to cache rdd_99_17 in memory! (computed 384.0 B so far)\n",
      "22/08/23 05:30:21 WARN MemoryStore: Failed to reserve initial memory threshold of 1024.0 KiB for computing block rdd_121_17 in memory.\n",
      "22/08/23 05:30:21 WARN MemoryStore: Not enough space to cache rdd_121_17 in memory! (computed 384.0 B so far)\n",
      "22/08/23 05:30:21 WARN BlockManager: Persisting block rdd_121_17 to disk instead.\n",
      "22/08/23 05:30:21 WARN MemoryStore: Not enough space to cache rdd_121_16 in memory! (computed 43.9 MiB so far)\n",
      "22/08/23 05:30:21 WARN BlockManager: Persisting block rdd_121_16 to disk instead.\n",
      "22/08/23 05:30:21 WARN MemoryStore: Failed to reserve initial memory threshold of 1024.0 KiB for computing block rdd_124_10 in memory.\n",
      "22/08/23 05:30:21 WARN MemoryStore: Not enough space to cache rdd_124_10 in memory! (computed 384.0 B so far)\n",
      "22/08/23 05:30:32 WARN MemoryStore: Not enough space to cache rdd_35_18 in memory! (computed 334.8 MiB so far)\n",
      "22/08/23 05:30:33 WARN MemoryStore: Not enough space to cache rdd_35_18 in memory! (computed 62.8 MiB so far)\n",
      "22/08/23 05:30:33 WARN MemoryStore: Not enough space to cache rdd_121_17 in memory! (computed 43.9 MiB so far)\n",
      "22/08/23 05:30:33 WARN MemoryStore: Not enough space to cache rdd_35_18 in memory! (computed 7.8 MiB so far)\n",
      "22/08/23 05:30:33 WARN MemoryStore: Not enough space to cache rdd_124_17 in memory! (computed 2.7 MiB so far)\n",
      "22/08/23 05:30:33 WARN BlockManager: Persisting block rdd_124_17 to disk instead.\n",
      "22/08/23 05:30:33 WARN MemoryStore: Not enough space to cache rdd_99_18 in memory! (computed 1663.4 KiB so far)\n",
      "22/08/23 05:30:33 WARN MemoryStore: Failed to reserve initial memory threshold of 1024.0 KiB for computing block rdd_121_18 in memory.\n",
      "22/08/23 05:30:33 WARN MemoryStore: Not enough space to cache rdd_121_18 in memory! (computed 384.0 B so far)\n",
      "22/08/23 05:30:33 WARN BlockManager: Persisting block rdd_121_18 to disk instead.\n",
      "22/08/23 05:30:33 WARN MemoryStore: Not enough space to cache rdd_99_20 in memory! (computed 43.9 MiB so far)\n",
      "22/08/23 05:30:34 WARN MemoryStore: Not enough space to cache rdd_121_20 in memory! (computed 65.8 MiB so far)\n",
      "22/08/23 05:30:34 WARN BlockManager: Persisting block rdd_121_20 to disk instead.\n",
      "22/08/23 05:30:34 WARN MemoryStore: Not enough space to cache rdd_99_19 in memory! (computed 104.0 MiB so far)\n",
      "22/08/23 05:30:34 WARN MemoryStore: Not enough space to cache rdd_121_19 in memory! (computed 13.0 MiB so far)\n",
      "22/08/23 05:30:34 WARN BlockManager: Persisting block rdd_121_19 to disk instead.\n",
      "22/08/23 05:30:35 WARN MemoryStore: Not enough space to cache rdd_124_16 in memory! (computed 64.8 MiB so far)\n",
      "22/08/23 05:30:35 WARN BlockManager: Persisting block rdd_124_16 to disk instead.\n",
      "22/08/23 05:30:39 WARN MemoryStore: Not enough space to cache rdd_121_19 in memory! (computed 104.0 MiB so far)\n",
      "22/08/23 05:30:53 WARN MemoryStore: Not enough space to cache rdd_35_6 in memory! (computed 148.8 MiB so far)\n",
      "22/08/23 05:30:53 WARN MemoryStore: Not enough space to cache rdd_35_0 in memory! (computed 148.8 MiB so far)\n",
      "22/08/23 05:30:53 WARN MemoryStore: Not enough space to cache rdd_35_4 in memory! (computed 148.8 MiB so far)\n",
      "22/08/23 05:30:53 WARN MemoryStore: Not enough space to cache rdd_35_7 in memory! (computed 334.8 MiB so far)\n",
      "22/08/23 05:30:53 WARN MemoryStore: Not enough space to cache rdd_35_2 in memory! (computed 223.2 MiB so far)\n",
      "22/08/23 05:30:53 WARN MemoryStore: Not enough space to cache rdd_35_3 in memory! (computed 223.2 MiB so far)\n",
      "22/08/23 05:30:53 WARN MemoryStore: Not enough space to cache rdd_35_1 in memory! (computed 148.8 MiB so far)\n",
      "22/08/23 05:30:55 WARN MemoryStore: Not enough space to cache rdd_124_2 in memory! (computed 64.8 MiB so far)\n",
      "22/08/23 05:30:55 WARN MemoryStore: Not enough space to cache rdd_124_7 in memory! (computed 64.8 MiB so far)\n",
      "22/08/23 05:30:55 WARN MemoryStore: Not enough space to cache rdd_124_4 in memory! (computed 64.8 MiB so far)\n",
      "22/08/23 05:30:56 WARN MemoryStore: Not enough space to cache rdd_124_1 in memory! (computed 99.2 MiB so far)\n",
      "22/08/23 05:30:56 WARN MemoryStore: Not enough space to cache rdd_124_6 in memory! (computed 99.2 MiB so far)\n",
      "22/08/23 05:30:56 WARN MemoryStore: Not enough space to cache rdd_124_0 in memory! (computed 99.2 MiB so far)\n",
      "22/08/23 05:30:56 WARN MemoryStore: Not enough space to cache rdd_35_5 in memory! (computed 334.8 MiB so far)\n",
      "22/08/23 05:31:06 WARN MemoryStore: Not enough space to cache rdd_35_14 in memory! (computed 148.8 MiB so far)\n",
      "22/08/23 05:31:06 WARN MemoryStore: Not enough space to cache rdd_35_13 in memory! (computed 223.2 MiB so far)\n",
      "22/08/23 05:31:07 WARN MemoryStore: Not enough space to cache rdd_35_9 in memory! (computed 334.8 MiB so far)\n",
      "22/08/23 05:31:07 WARN MemoryStore: Failed to reserve initial memory threshold of 1024.0 KiB for computing block rdd_124_9 in memory.\n",
      "22/08/23 05:31:07 WARN MemoryStore: Not enough space to cache rdd_124_9 in memory! (computed 384.0 B so far)\n",
      "22/08/23 05:31:07 WARN MemoryStore: Not enough space to cache rdd_124_13 in memory! (computed 6.2 MiB so far)\n",
      "22/08/23 05:31:07 WARN MemoryStore: Not enough space to cache rdd_35_10 in memory! (computed 334.8 MiB so far)\n",
      "22/08/23 05:31:07 WARN MemoryStore: Failed to reserve initial memory threshold of 1024.0 KiB for computing block rdd_124_10 in memory.\n",
      "22/08/23 05:31:07 WARN MemoryStore: Not enough space to cache rdd_124_10 in memory! (computed 384.0 B so far)\n",
      "22/08/23 05:31:07 WARN MemoryStore: Not enough space to cache rdd_124_14 in memory! (computed 16.2 MiB so far)\n",
      "22/08/23 05:31:07 WARN MemoryStore: Not enough space to cache rdd_124_8 in memory! (computed 43.2 MiB so far)\n",
      "22/08/23 05:31:07 WARN MemoryStore: Not enough space to cache rdd_35_15 in memory! (computed 94.2 MiB so far)\n",
      "22/08/23 05:31:08 WARN MemoryStore: Not enough space to cache rdd_124_15 in memory! (computed 16.2 MiB so far)\n",
      "22/08/23 05:31:08 WARN MemoryStore: Not enough space to cache rdd_35_11 in memory! (computed 334.8 MiB so far)\n",
      "22/08/23 05:31:08 WARN MemoryStore: Not enough space to cache rdd_35_12 in memory! (computed 334.8 MiB so far)\n",
      "22/08/23 05:31:19 WARN MemoryStore: Not enough space to cache rdd_35_20 in memory! (computed 223.2 MiB so far)\n",
      "22/08/23 05:31:19 WARN MemoryStore: Not enough space to cache rdd_35_17 in memory! (computed 334.8 MiB so far)\n",
      "22/08/23 05:31:20 WARN MemoryStore: Not enough space to cache rdd_35_19 in memory! (computed 334.8 MiB so far)\n",
      "22/08/23 05:31:21 WARN MemoryStore: Not enough space to cache rdd_124_20 in memory! (computed 64.8 MiB so far)\n",
      "22/08/23 05:31:21 WARN MemoryStore: Not enough space to cache rdd_124_16 in memory! (computed 99.2 MiB so far)\n",
      "22/08/23 05:31:21 WARN MemoryStore: Not enough space to cache rdd_124_19 in memory! (computed 24.3 MiB so far)\n",
      "22/08/23 05:31:21 WARN MemoryStore: Not enough space to cache rdd_124_21 in memory! (computed 16.2 MiB so far)\n",
      "22/08/23 05:31:21 WARN MemoryStore: Not enough space to cache rdd_124_17 in memory! (computed 64.8 MiB so far)\n",
      "22/08/23 05:31:21 WARN MemoryStore: Not enough space to cache rdd_124_18 in memory! (computed 64.8 MiB so far)\n",
      "22/08/23 05:31:27 WARN MemoryStore: Not enough space to cache rdd_35_5 in memory! (computed 148.8 MiB so far)\n",
      "22/08/23 05:31:27 WARN MemoryStore: Not enough space to cache rdd_35_0 in memory! (computed 148.8 MiB so far)\n",
      "22/08/23 05:31:27 WARN MemoryStore: Not enough space to cache rdd_35_6 in memory! (computed 148.8 MiB so far)\n",
      "22/08/23 05:31:27 WARN MemoryStore: Not enough space to cache rdd_35_4 in memory! (computed 148.8 MiB so far)\n",
      "22/08/23 05:31:27 WARN MemoryStore: Not enough space to cache rdd_35_1 in memory! (computed 148.8 MiB so far)\n",
      "22/08/23 05:31:27 WARN MemoryStore: Not enough space to cache rdd_35_7 in memory! (computed 148.8 MiB so far)\n",
      "22/08/23 05:31:32 WARN MemoryStore: Not enough space to cache rdd_124_1 in memory! (computed 99.2 MiB so far)\n",
      "22/08/23 05:31:32 WARN MemoryStore: Not enough space to cache rdd_124_4 in memory! (computed 99.2 MiB so far)\n",
      "22/08/23 05:31:32 WARN MemoryStore: Not enough space to cache rdd_124_7 in memory! (computed 99.2 MiB so far)\n",
      "22/08/23 05:31:32 WARN MemoryStore: Not enough space to cache rdd_35_2 in memory! (computed 334.8 MiB so far)\n",
      "22/08/23 05:31:32 WARN MemoryStore: Not enough space to cache rdd_35_3 in memory! (computed 334.8 MiB so far)\n",
      "22/08/23 05:31:44 WARN MemoryStore: Not enough space to cache rdd_35_13 in memory! (computed 223.2 MiB so far)\n",
      "22/08/23 05:31:44 WARN MemoryStore: Not enough space to cache rdd_35_8 in memory! (computed 334.8 MiB so far)\n",
      "22/08/23 05:31:44 WARN MemoryStore: Not enough space to cache rdd_35_15 in memory! (computed 148.8 MiB so far)\n",
      "22/08/23 05:31:44 WARN MemoryStore: Not enough space to cache rdd_35_9 in memory! (computed 334.8 MiB so far)\n",
      "22/08/23 05:31:44 WARN MemoryStore: Failed to reserve initial memory threshold of 1024.0 KiB for computing block rdd_124_15 in memory.\n",
      "22/08/23 05:31:44 WARN MemoryStore: Not enough space to cache rdd_124_15 in memory! (computed 384.0 B so far)\n",
      "22/08/23 05:31:44 WARN MemoryStore: Failed to reserve initial memory threshold of 1024.0 KiB for computing block rdd_124_9 in memory.\n",
      "22/08/23 05:31:44 WARN MemoryStore: Not enough space to cache rdd_124_9 in memory! (computed 384.0 B so far)\n",
      "22/08/23 05:31:44 WARN MemoryStore: Not enough space to cache rdd_124_8 in memory! (computed 6.2 MiB so far)\n",
      "22/08/23 05:31:44 WARN MemoryStore: Not enough space to cache rdd_35_14 in memory! (computed 223.2 MiB so far)\n",
      "22/08/23 05:31:44 WARN MemoryStore: Not enough space to cache rdd_124_13 in memory! (computed 10.8 MiB so far)\n",
      "22/08/23 05:31:44 WARN MemoryStore: Failed to reserve initial memory threshold of 1024.0 KiB for computing block rdd_124_14 in memory.\n",
      "22/08/23 05:31:44 WARN MemoryStore: Not enough space to cache rdd_124_14 in memory! (computed 384.0 B so far)\n",
      "22/08/23 05:31:45 WARN MemoryStore: Not enough space to cache rdd_35_11 in memory! (computed 334.8 MiB so far)\n",
      "22/08/23 05:31:45 WARN MemoryStore: Not enough space to cache rdd_124_11 in memory! (computed 10.8 MiB so far)\n",
      "22/08/23 05:31:45 WARN MemoryStore: Not enough space to cache rdd_35_10 in memory! (computed 334.8 MiB so far)\n",
      "22/08/23 05:31:45 WARN MemoryStore: Not enough space to cache rdd_35_12 in memory! (computed 334.8 MiB so far)\n",
      "22/08/23 05:31:45 WARN MemoryStore: Not enough space to cache rdd_124_10 in memory! (computed 10.8 MiB so far)\n",
      "22/08/23 05:31:46 WARN MemoryStore: Not enough space to cache rdd_124_12 in memory! (computed 10.8 MiB so far)\n",
      "22/08/23 05:31:54 WARN MemoryStore: Not enough space to cache rdd_35_17 in memory! (computed 334.8 MiB so far)\n",
      "22/08/23 05:31:54 WARN MemoryStore: Not enough space to cache rdd_35_18 in memory! (computed 334.8 MiB so far)\n",
      "22/08/23 05:31:54 WARN MemoryStore: Not enough space to cache rdd_35_19 in memory! (computed 334.8 MiB so far)\n",
      "22/08/23 05:31:55 WARN MemoryStore: Not enough space to cache rdd_124_16 in memory! (computed 43.2 MiB so far)\n",
      "22/08/23 05:31:55 WARN MemoryStore: Not enough space to cache rdd_124_21 in memory! (computed 24.3 MiB so far)\n",
      "22/08/23 05:31:55 WARN MemoryStore: Not enough space to cache rdd_124_19 in memory! (computed 24.3 MiB so far)\n",
      "22/08/23 05:31:55 WARN MemoryStore: Not enough space to cache rdd_124_17 in memory! (computed 64.8 MiB so far)\n",
      "22/08/23 05:31:55 WARN MemoryStore: Not enough space to cache rdd_124_20 in memory! (computed 43.2 MiB so far)\n",
      "22/08/23 05:32:00 WARN MemoryStore: Not enough space to cache rdd_35_5 in memory! (computed 148.8 MiB so far)\n",
      "22/08/23 05:32:01 WARN MemoryStore: Not enough space to cache rdd_35_7 in memory! (computed 148.8 MiB so far)\n",
      "22/08/23 05:32:01 WARN MemoryStore: Not enough space to cache rdd_35_6 in memory! (computed 148.8 MiB so far)\n",
      "22/08/23 05:32:01 WARN MemoryStore: Not enough space to cache rdd_35_1 in memory! (computed 148.8 MiB so far)\n",
      "22/08/23 05:32:01 WARN MemoryStore: Not enough space to cache rdd_35_4 in memory! (computed 148.8 MiB so far)\n",
      "22/08/23 05:32:01 WARN MemoryStore: Not enough space to cache rdd_35_0 in memory! (computed 148.8 MiB so far)\n",
      "22/08/23 05:32:02 WARN MemoryStore: Not enough space to cache rdd_35_3 in memory! (computed 223.2 MiB so far)\n",
      "22/08/23 05:32:04 WARN MemoryStore: Not enough space to cache rdd_124_3 in memory! (computed 64.8 MiB so far)\n",
      "22/08/23 05:32:04 WARN MemoryStore: Not enough space to cache rdd_124_0 in memory! (computed 99.2 MiB so far)\n",
      "22/08/23 05:32:04 WARN MemoryStore: Not enough space to cache rdd_124_1 in memory! (computed 99.2 MiB so far)\n",
      "22/08/23 05:32:05 WARN MemoryStore: Not enough space to cache rdd_35_2 in memory! (computed 334.8 MiB so far)\n",
      "22/08/23 05:32:18 WARN MemoryStore: Not enough space to cache rdd_35_13 in memory! (computed 223.2 MiB so far)\n",
      "22/08/23 05:32:18 WARN MemoryStore: Not enough space to cache rdd_35_8 in memory! (computed 334.8 MiB so far)\n",
      "22/08/23 05:32:18 WARN MemoryStore: Not enough space to cache rdd_35_14 in memory! (computed 223.2 MiB so far)\n",
      "22/08/23 05:32:18 WARN MemoryStore: Not enough space to cache rdd_35_10 in memory! (computed 334.8 MiB so far)\n",
      "22/08/23 05:32:18 WARN MemoryStore: Not enough space to cache rdd_35_9 in memory! (computed 334.8 MiB so far)\n",
      "22/08/23 05:32:18 WARN MemoryStore: Not enough space to cache rdd_124_13 in memory! (computed 16.2 MiB so far)\n",
      "22/08/23 05:32:18 WARN MemoryStore: Not enough space to cache rdd_124_9 in memory! (computed 4.0 MiB so far)\n",
      "22/08/23 05:32:18 WARN MemoryStore: Not enough space to cache rdd_124_10 in memory! (computed 10.8 MiB so far)\n",
      "22/08/23 05:32:18 WARN MemoryStore: Not enough space to cache rdd_35_15 in memory! (computed 94.2 MiB so far)\n",
      "22/08/23 05:32:18 WARN MemoryStore: Not enough space to cache rdd_124_14 in memory! (computed 16.2 MiB so far)\n",
      "22/08/23 05:32:18 WARN MemoryStore: Not enough space to cache rdd_124_8 in memory! (computed 16.2 MiB so far)\n",
      "22/08/23 05:32:18 WARN MemoryStore: Not enough space to cache rdd_35_11 in memory! (computed 334.8 MiB so far)\n",
      "22/08/23 05:32:19 WARN MemoryStore: Not enough space to cache rdd_35_12 in memory! (computed 334.8 MiB so far)\n",
      "22/08/23 05:32:19 WARN MemoryStore: Not enough space to cache rdd_124_11 in memory! (computed 24.3 MiB so far)\n",
      "22/08/23 05:32:19 WARN MemoryStore: Not enough space to cache rdd_124_12 in memory! (computed 2.7 MiB so far)\n",
      "22/08/23 05:32:20 WARN MemoryStore: Not enough space to cache rdd_124_15 in memory! (computed 43.2 MiB so far)\n",
      "22/08/23 05:32:30 WARN MemoryStore: Not enough space to cache rdd_35_18 in memory! (computed 334.8 MiB so far)\n",
      "22/08/23 05:32:30 WARN MemoryStore: Not enough space to cache rdd_35_17 in memory! (computed 334.8 MiB so far)\n",
      "22/08/23 05:32:31 WARN MemoryStore: Not enough space to cache rdd_124_19 in memory! (computed 24.3 MiB so far)\n",
      "22/08/23 05:32:32 WARN MemoryStore: Not enough space to cache rdd_124_17 in memory! (computed 43.2 MiB so far)\n",
      "22/08/23 05:32:32 WARN MemoryStore: Not enough space to cache rdd_124_21 in memory! (computed 24.3 MiB so far)\n",
      "22/08/23 05:32:32 WARN MemoryStore: Not enough space to cache rdd_124_20 in memory! (computed 24.3 MiB so far)\n",
      "22/08/23 05:32:32 WARN MemoryStore: Not enough space to cache rdd_124_16 in memory! (computed 64.8 MiB so far)\n",
      "22/08/23 05:32:39 WARN MemoryStore: Not enough space to cache rdd_35_7 in memory! (computed 94.2 MiB so far)\n",
      "22/08/23 05:32:39 WARN MemoryStore: Not enough space to cache rdd_35_6 in memory! (computed 94.2 MiB so far)\n",
      "22/08/23 05:32:39 WARN MemoryStore: Not enough space to cache rdd_35_5 in memory! (computed 94.2 MiB so far)\n",
      "22/08/23 05:32:39 WARN MemoryStore: Not enough space to cache rdd_35_4 in memory! (computed 94.2 MiB so far)\n",
      "22/08/23 05:32:39 WARN MemoryStore: Not enough space to cache rdd_35_2 in memory! (computed 94.2 MiB so far)\n",
      "22/08/23 05:32:43 WARN MemoryStore: Not enough space to cache rdd_35_0 in memory! (computed 223.2 MiB so far)\n",
      "22/08/23 05:32:45 WARN MemoryStore: Not enough space to cache rdd_35_3 in memory! (computed 334.8 MiB so far)\n",
      "22/08/23 05:33:01 WARN MemoryStore: Not enough space to cache rdd_35_8 in memory! (computed 223.2 MiB so far)\n",
      "22/08/23 05:33:02 WARN MemoryStore: Not enough space to cache rdd_35_14 in memory! (computed 148.8 MiB so far)\n",
      "22/08/23 05:33:02 WARN MemoryStore: Not enough space to cache rdd_35_13 in memory! (computed 223.2 MiB so far)\n",
      "22/08/23 05:33:02 WARN MemoryStore: Not enough space to cache rdd_35_12 in memory! (computed 223.2 MiB so far)\n",
      "22/08/23 05:33:02 WARN MemoryStore: Not enough space to cache rdd_35_10 in memory! (computed 223.2 MiB so far)\n",
      "22/08/23 05:33:02 WARN MemoryStore: Not enough space to cache rdd_35_11 in memory! (computed 223.2 MiB so far)\n",
      "22/08/23 05:33:05 WARN MemoryStore: Not enough space to cache rdd_124_13 in memory! (computed 64.8 MiB so far)\n",
      "22/08/23 05:33:05 WARN MemoryStore: Not enough space to cache rdd_124_14 in memory! (computed 64.8 MiB so far)\n",
      "22/08/23 05:33:05 WARN MemoryStore: Not enough space to cache rdd_35_15 in memory! (computed 94.2 MiB so far)\n",
      "22/08/23 05:33:05 WARN MemoryStore: Not enough space to cache rdd_124_15 in memory! (computed 2.7 MiB so far)\n",
      "22/08/23 05:33:05 WARN MemoryStore: Not enough space to cache rdd_124_10 in memory! (computed 64.8 MiB so far)\n",
      "22/08/23 05:33:05 WARN MemoryStore: Not enough space to cache rdd_124_11 in memory! (computed 64.8 MiB so far)\n",
      "22/08/23 05:33:05 WARN MemoryStore: Not enough space to cache rdd_124_12 in memory! (computed 64.8 MiB so far)\n",
      "22/08/23 05:33:18 WARN MemoryStore: Not enough space to cache rdd_35_17 in memory! (computed 223.2 MiB so far)\n",
      "22/08/23 05:33:18 WARN MemoryStore: Not enough space to cache rdd_35_21 in memory! (computed 223.2 MiB so far)\n",
      "22/08/23 05:33:20 WARN MemoryStore: Not enough space to cache rdd_35_18 in memory! (computed 334.8 MiB so far)\n",
      "22/08/23 05:33:22 WARN MemoryStore: Not enough space to cache rdd_124_20 in memory! (computed 64.8 MiB so far)\n",
      "22/08/23 05:33:22 WARN MemoryStore: Not enough space to cache rdd_124_18 in memory! (computed 64.8 MiB so far)\n",
      "22/08/23 05:33:22 WARN MemoryStore: Not enough space to cache rdd_124_19 in memory! (computed 64.8 MiB so far)\n",
      "22/08/23 05:33:22 WARN MemoryStore: Not enough space to cache rdd_124_16 in memory! (computed 64.8 MiB so far)\n",
      "                                                                                \r"
     ]
    }
   ],
   "source": [
    "# train the model on the dataset\n",
    "model = train_model(train, pipeline) #GBT"
   ]
  },
  {
   "cell_type": "code",
   "execution_count": 12,
   "metadata": {
    "collapsed": false,
    "jupyter": {
     "outputs_hidden": false
    },
    "pycharm": {
     "name": "#%%\n"
    }
   },
   "outputs": [
    {
     "name": "stderr",
     "output_type": "stream",
     "text": [
      "22/08/23 05:36:36 WARN MemoryStore: Not enough space to cache rdd_175_6 in memory! (computed 249.3 MiB so far)\n",
      "22/08/23 05:36:36 WARN BlockManager: Persisting block rdd_175_6 to disk instead.\n",
      "22/08/23 05:36:36 WARN MemoryStore: Not enough space to cache rdd_175_1 in memory! (computed 249.3 MiB so far)\n",
      "22/08/23 05:36:36 WARN BlockManager: Persisting block rdd_175_1 to disk instead.\n",
      "22/08/23 05:36:36 WARN MemoryStore: Not enough space to cache rdd_175_3 in memory! (computed 249.3 MiB so far)\n",
      "22/08/23 05:36:36 WARN BlockManager: Persisting block rdd_175_3 to disk instead.\n",
      "22/08/23 05:36:36 WARN MemoryStore: Not enough space to cache rdd_175_2 in memory! (computed 249.3 MiB so far)\n",
      "22/08/23 05:36:36 WARN BlockManager: Persisting block rdd_175_2 to disk instead.\n",
      "22/08/23 05:36:36 WARN MemoryStore: Not enough space to cache rdd_175_0 in memory! (computed 249.3 MiB so far)\n",
      "22/08/23 05:36:36 WARN BlockManager: Persisting block rdd_175_0 to disk instead.\n",
      "22/08/23 05:36:37 WARN MemoryStore: Not enough space to cache rdd_175_5 in memory! (computed 249.3 MiB so far)\n",
      "22/08/23 05:36:37 WARN BlockManager: Persisting block rdd_175_5 to disk instead.\n",
      "22/08/23 05:37:13 WARN MemoryStore: Not enough space to cache rdd_175_5 in memory! (computed 20.5 MiB so far)\n",
      "22/08/23 05:37:13 WARN MemoryStore: Not enough space to cache rdd_175_8 in memory! (computed 20.5 MiB so far)\n",
      "22/08/23 05:37:13 WARN BlockManager: Persisting block rdd_175_8 to disk instead.\n",
      "22/08/23 05:37:14 WARN MemoryStore: Not enough space to cache rdd_175_3 in memory! (computed 166.2 MiB so far)\n",
      "22/08/23 05:37:14 WARN MemoryStore: Not enough space to cache rdd_175_2 in memory! (computed 30.8 MiB so far)\n",
      "22/08/23 05:37:15 WARN MemoryStore: Not enough space to cache rdd_175_6 in memory! (computed 373.9 MiB so far)\n",
      "22/08/23 05:37:19 WARN MemoryStore: Not enough space to cache rdd_175_1 in memory! (computed 110.8 MiB so far)\n",
      "22/08/23 05:37:19 WARN MemoryStore: Not enough space to cache rdd_175_9 in memory! (computed 72.4 MiB so far)\n",
      "22/08/23 05:37:19 WARN BlockManager: Persisting block rdd_175_9 to disk instead.\n",
      "22/08/23 05:37:29 WARN MemoryStore: Not enough space to cache rdd_175_0 in memory! (computed 579.2 MiB so far)\n",
      "22/08/23 05:37:32 WARN MemoryStore: Not enough space to cache rdd_175_10 in memory! (computed 20.5 MiB so far)\n",
      "22/08/23 05:37:32 WARN BlockManager: Persisting block rdd_175_10 to disk instead.\n",
      "22/08/23 05:37:35 WARN MemoryStore: Not enough space to cache rdd_175_12 in memory! (computed 1734.5 KiB so far)\n",
      "22/08/23 05:37:35 WARN BlockManager: Persisting block rdd_175_12 to disk instead.\n",
      "22/08/23 05:37:35 WARN MemoryStore: Not enough space to cache rdd_175_11 in memory! (computed 20.5 MiB so far)\n",
      "22/08/23 05:37:35 WARN BlockManager: Persisting block rdd_175_11 to disk instead.\n",
      "22/08/23 05:37:48 WARN MemoryStore: Not enough space to cache rdd_175_14 in memory! (computed 166.2 MiB so far)\n",
      "22/08/23 05:37:48 WARN BlockManager: Persisting block rdd_175_14 to disk instead.\n",
      "22/08/23 05:37:52 WARN MemoryStore: Not enough space to cache rdd_175_15 in memory! (computed 20.5 MiB so far)\n",
      "22/08/23 05:37:52 WARN BlockManager: Persisting block rdd_175_15 to disk instead.\n",
      "22/08/23 05:37:57 WARN MemoryStore: Not enough space to cache rdd_175_8 in memory! (computed 20.5 MiB so far)\n",
      "22/08/23 05:37:58 WARN MemoryStore: Not enough space to cache rdd_175_13 in memory! (computed 579.2 MiB so far)\n",
      "22/08/23 05:37:58 WARN BlockManager: Persisting block rdd_175_13 to disk instead.\n",
      "22/08/23 05:38:01 WARN MemoryStore: Not enough space to cache rdd_175_9 in memory! (computed 20.5 MiB so far)\n",
      "22/08/23 05:38:18 WARN MemoryStore: Not enough space to cache rdd_175_10 in memory! (computed 373.9 MiB so far)\n",
      "22/08/23 05:38:20 WARN MemoryStore: Not enough space to cache rdd_175_12 in memory! (computed 30.8 MiB so far)\n",
      "22/08/23 05:38:20 WARN MemoryStore: Not enough space to cache rdd_175_11 in memory! (computed 110.8 MiB so far)\n",
      "22/08/23 05:38:20 WARN MemoryStore: Not enough space to cache rdd_175_16 in memory! (computed 72.4 MiB so far)\n",
      "22/08/23 05:38:20 WARN BlockManager: Persisting block rdd_175_16 to disk instead.\n",
      "22/08/23 05:38:20 WARN MemoryStore: Failed to reserve initial memory threshold of 1024.0 KiB for computing block rdd_175_13 in memory.\n",
      "22/08/23 05:38:20 WARN MemoryStore: Not enough space to cache rdd_175_13 in memory! (computed 384.0 B so far)\n",
      "22/08/23 05:38:23 WARN MemoryStore: Not enough space to cache rdd_175_17 in memory! (computed 30.8 MiB so far)\n",
      "22/08/23 05:38:23 WARN BlockManager: Persisting block rdd_175_17 to disk instead.\n",
      "22/08/23 05:38:23 WARN MemoryStore: Not enough space to cache rdd_175_14 in memory! (computed 166.2 MiB so far)\n",
      "22/08/23 05:38:36 WARN MemoryStore: Not enough space to cache rdd_175_18 in memory! (computed 20.5 MiB so far)\n",
      "22/08/23 05:38:36 WARN BlockManager: Persisting block rdd_175_18 to disk instead.\n",
      "22/08/23 05:38:36 WARN MemoryStore: Not enough space to cache rdd_175_15 in memory! (computed 579.2 MiB so far)\n",
      "22/08/23 05:38:40 WARN MemoryStore: Not enough space to cache rdd_175_19 in memory! (computed 20.5 MiB so far)\n",
      "22/08/23 05:38:40 WARN BlockManager: Persisting block rdd_175_19 to disk instead.\n",
      "22/08/23 05:38:41 WARN MemoryStore: Not enough space to cache rdd_175_20 in memory! (computed 13.7 MiB so far)\n",
      "22/08/23 05:38:41 WARN BlockManager: Persisting block rdd_175_20 to disk instead.\n",
      "22/08/23 05:38:41 WARN MemoryStore: Not enough space to cache rdd_175_21 in memory! (computed 9.0 MiB so far)\n",
      "22/08/23 05:38:41 WARN BlockManager: Persisting block rdd_175_21 to disk instead.\n",
      "22/08/23 05:39:12 WARN MemoryStore: Not enough space to cache rdd_175_17 in memory! (computed 166.2 MiB so far)\n",
      "22/08/23 05:39:13 WARN MemoryStore: Not enough space to cache rdd_175_16 in memory! (computed 373.9 MiB so far)\n",
      "22/08/23 05:39:25 WARN MemoryStore: Not enough space to cache rdd_175_21 in memory! (computed 72.4 MiB so far)\n",
      "22/08/23 05:39:25 WARN MemoryStore: Not enough space to cache rdd_175_20 in memory! (computed 110.8 MiB so far)\n",
      "22/08/23 05:39:25 WARN MemoryStore: Not enough space to cache rdd_175_19 in memory! (computed 30.8 MiB so far)\n",
      "22/08/23 05:39:25 WARN MemoryStore: Not enough space to cache rdd_175_18 in memory! (computed 373.9 MiB so far)\n",
      "22/08/23 05:39:36 WARN MemoryStore: Not enough space to cache rdd_175_6 in memory! (computed 72.4 MiB so far)\n",
      "22/08/23 05:39:36 WARN MemoryStore: Not enough space to cache rdd_175_0 in memory! (computed 72.4 MiB so far)\n",
      "22/08/23 05:39:37 WARN MemoryStore: Not enough space to cache rdd_175_5 in memory! (computed 110.8 MiB so far)\n",
      "22/08/23 05:39:37 WARN MemoryStore: Not enough space to cache rdd_175_1 in memory! (computed 110.8 MiB so far)\n",
      "22/08/23 05:39:37 WARN MemoryStore: Not enough space to cache rdd_175_2 in memory! (computed 110.8 MiB so far)\n",
      "22/08/23 05:39:37 WARN MemoryStore: Not enough space to cache rdd_175_3 in memory! (computed 110.8 MiB so far)\n",
      "22/08/23 05:39:54 WARN MemoryStore: Not enough space to cache rdd_175_8 in memory! (computed 249.3 MiB so far)\n",
      "22/08/23 05:39:55 WARN MemoryStore: Not enough space to cache rdd_175_9 in memory! (computed 249.3 MiB so far)\n",
      "22/08/23 05:40:01 WARN MemoryStore: Not enough space to cache rdd_175_11 in memory! (computed 110.8 MiB so far)\n",
      "22/08/23 05:40:01 WARN MemoryStore: Not enough space to cache rdd_175_12 in memory! (computed 110.8 MiB so far)\n",
      "22/08/23 05:40:02 WARN MemoryStore: Not enough space to cache rdd_175_13 in memory! (computed 110.8 MiB so far)\n",
      "22/08/23 05:40:02 WARN MemoryStore: Not enough space to cache rdd_175_10 in memory! (computed 249.3 MiB so far)\n",
      "22/08/23 05:40:02 WARN MemoryStore: Not enough space to cache rdd_175_14 in memory! (computed 9.0 MiB so far)\n",
      "22/08/23 05:40:12 WARN MemoryStore: Not enough space to cache rdd_175_15 in memory! (computed 579.2 MiB so far)\n",
      "22/08/23 05:40:15 WARN MemoryStore: Not enough space to cache rdd_175_16 in memory! (computed 20.5 MiB so far)\n",
      "22/08/23 05:40:17 WARN MemoryStore: Not enough space to cache rdd_175_17 in memory! (computed 20.5 MiB so far)\n",
      "22/08/23 05:40:26 WARN MemoryStore: Not enough space to cache rdd_175_19 in memory! (computed 166.2 MiB so far)\n",
      "22/08/23 05:40:26 WARN MemoryStore: Not enough space to cache rdd_175_21 in memory! (computed 110.8 MiB so far)\n",
      "22/08/23 05:40:27 WARN MemoryStore: Not enough space to cache rdd_175_20 in memory! (computed 110.8 MiB so far)\n",
      "22/08/23 05:40:27 WARN MemoryStore: Not enough space to cache rdd_175_18 in memory! (computed 166.2 MiB so far)\n",
      "22/08/23 05:40:42 WARN MemoryStore: Not enough space to cache rdd_175_3 in memory! (computed 72.4 MiB so far)\n",
      "22/08/23 05:40:42 WARN MemoryStore: Not enough space to cache rdd_175_6 in memory! (computed 110.8 MiB so far)\n",
      "22/08/23 05:40:42 WARN MemoryStore: Not enough space to cache rdd_175_1 in memory! (computed 110.8 MiB so far)\n",
      "22/08/23 05:40:42 WARN MemoryStore: Not enough space to cache rdd_175_5 in memory! (computed 72.4 MiB so far)\n",
      "22/08/23 05:40:42 WARN MemoryStore: Not enough space to cache rdd_175_2 in memory! (computed 110.8 MiB so far)\n",
      "22/08/23 05:40:43 WARN MemoryStore: Not enough space to cache rdd_175_0 in memory! (computed 110.8 MiB so far)\n",
      "22/08/23 05:41:00 WARN MemoryStore: Not enough space to cache rdd_175_8 in memory! (computed 249.3 MiB so far)\n",
      "22/08/23 05:41:01 WARN MemoryStore: Not enough space to cache rdd_175_9 in memory! (computed 249.3 MiB so far)\n",
      "22/08/23 05:41:08 WARN MemoryStore: Not enough space to cache rdd_175_11 in memory! (computed 72.4 MiB so far)\n",
      "22/08/23 05:41:09 WARN MemoryStore: Not enough space to cache rdd_175_12 in memory! (computed 110.8 MiB so far)\n",
      "22/08/23 05:41:09 WARN MemoryStore: Not enough space to cache rdd_175_13 in memory! (computed 30.8 MiB so far)\n",
      "22/08/23 05:41:09 WARN MemoryStore: Not enough space to cache rdd_175_10 in memory! (computed 373.9 MiB so far)\n",
      "22/08/23 05:41:10 WARN MemoryStore: Not enough space to cache rdd_175_14 in memory! (computed 72.4 MiB so far)\n",
      "22/08/23 05:41:16 WARN MemoryStore: Not enough space to cache rdd_175_15 in memory! (computed 166.2 MiB so far)\n",
      "22/08/23 05:41:27 WARN MemoryStore: Not enough space to cache rdd_175_17 in memory! (computed 166.2 MiB so far)\n",
      "22/08/23 05:41:28 WARN MemoryStore: Not enough space to cache rdd_175_16 in memory! (computed 373.9 MiB so far)\n",
      "22/08/23 05:41:34 WARN MemoryStore: Not enough space to cache rdd_175_18 in memory! (computed 166.2 MiB so far)\n",
      "22/08/23 05:41:34 WARN MemoryStore: Not enough space to cache rdd_175_19 in memory! (computed 30.8 MiB so far)\n",
      "22/08/23 05:41:35 WARN MemoryStore: Not enough space to cache rdd_175_20 in memory! (computed 9.0 MiB so far)\n",
      "22/08/23 05:41:35 WARN MemoryStore: Not enough space to cache rdd_175_21 in memory! (computed 9.0 MiB so far)\n",
      "22/08/23 05:41:51 WARN MemoryStore: Not enough space to cache rdd_175_2 in memory! (computed 72.4 MiB so far)\n",
      "22/08/23 05:41:51 WARN MemoryStore: Not enough space to cache rdd_175_0 in memory! (computed 72.4 MiB so far)\n",
      "22/08/23 05:41:52 WARN MemoryStore: Not enough space to cache rdd_175_6 in memory! (computed 110.8 MiB so far)\n",
      "22/08/23 05:41:52 WARN MemoryStore: Not enough space to cache rdd_175_3 in memory! (computed 110.8 MiB so far)\n",
      "22/08/23 05:41:52 WARN MemoryStore: Not enough space to cache rdd_175_1 in memory! (computed 110.8 MiB so far)\n",
      "22/08/23 05:41:52 WARN MemoryStore: Not enough space to cache rdd_175_5 in memory! (computed 110.8 MiB so far)\n",
      "22/08/23 05:42:14 WARN MemoryStore: Not enough space to cache rdd_175_9 in memory! (computed 166.2 MiB so far)\n",
      "22/08/23 05:42:16 WARN MemoryStore: Not enough space to cache rdd_175_8 in memory! (computed 373.9 MiB so far)\n",
      "22/08/23 05:42:24 WARN MemoryStore: Not enough space to cache rdd_175_11 in memory! (computed 72.4 MiB so far)\n",
      "22/08/23 05:42:24 WARN MemoryStore: Not enough space to cache rdd_175_10 in memory! (computed 110.8 MiB so far)\n",
      "22/08/23 05:42:25 WARN MemoryStore: Not enough space to cache rdd_175_13 in memory! (computed 9.0 MiB so far)\n",
      "22/08/23 05:42:26 WARN MemoryStore: Not enough space to cache rdd_175_12 in memory! (computed 20.5 MiB so far)\n",
      "22/08/23 05:42:33 WARN MemoryStore: Not enough space to cache rdd_175_14 in memory! (computed 373.9 MiB so far)\n",
      "22/08/23 05:42:34 WARN MemoryStore: Not enough space to cache rdd_175_15 in memory! (computed 166.2 MiB so far)\n",
      "22/08/23 05:42:50 WARN MemoryStore: Not enough space to cache rdd_175_17 in memory! (computed 249.3 MiB so far)\n",
      "22/08/23 05:42:51 WARN MemoryStore: Not enough space to cache rdd_175_16 in memory! (computed 249.3 MiB so far)\n",
      "22/08/23 05:42:58 WARN MemoryStore: Not enough space to cache rdd_175_19 in memory! (computed 13.7 MiB so far)\n",
      "22/08/23 05:43:01 WARN MemoryStore: Not enough space to cache rdd_175_18 in memory! (computed 249.3 MiB so far)\n",
      "22/08/23 05:43:01 WARN MemoryStore: Not enough space to cache rdd_175_21 in memory! (computed 72.4 MiB so far)\n",
      "22/08/23 05:43:02 WARN MemoryStore: Not enough space to cache rdd_175_20 in memory! (computed 249.3 MiB so far)\n",
      "22/08/23 05:43:20 WARN MemoryStore: Not enough space to cache rdd_175_0 in memory! (computed 72.4 MiB so far)\n",
      "22/08/23 05:43:21 WARN MemoryStore: Not enough space to cache rdd_175_2 in memory! (computed 72.4 MiB so far)\n",
      "22/08/23 05:43:21 WARN MemoryStore: Not enough space to cache rdd_175_1 in memory! (computed 110.8 MiB so far)\n",
      "22/08/23 05:43:21 WARN MemoryStore: Not enough space to cache rdd_175_6 in memory! (computed 110.8 MiB so far)\n",
      "22/08/23 05:43:21 WARN MemoryStore: Not enough space to cache rdd_175_3 in memory! (computed 110.8 MiB so far)\n",
      "22/08/23 05:43:21 WARN MemoryStore: Not enough space to cache rdd_175_5 in memory! (computed 110.8 MiB so far)\n",
      "22/08/23 05:43:54 WARN MemoryStore: Not enough space to cache rdd_175_8 in memory! (computed 249.3 MiB so far)\n",
      "22/08/23 05:43:55 WARN MemoryStore: Not enough space to cache rdd_175_9 in memory! (computed 249.3 MiB so far)\n",
      "22/08/23 05:44:01 WARN MemoryStore: Not enough space to cache rdd_175_10 in memory! (computed 72.4 MiB so far)\n",
      "22/08/23 05:44:02 WARN MemoryStore: Not enough space to cache rdd_175_11 in memory! (computed 13.7 MiB so far)\n",
      "22/08/23 05:44:02 WARN MemoryStore: Not enough space to cache rdd_175_12 in memory! (computed 1734.5 KiB so far)\n",
      "22/08/23 05:44:10 WARN MemoryStore: Not enough space to cache rdd_175_14 in memory! (computed 166.2 MiB so far)\n",
      "22/08/23 05:44:11 WARN MemoryStore: Not enough space to cache rdd_175_13 in memory! (computed 373.9 MiB so far)\n",
      "22/08/23 05:44:14 WARN MemoryStore: Not enough space to cache rdd_175_15 in memory! (computed 30.8 MiB so far)\n",
      "22/08/23 05:44:38 WARN MemoryStore: Not enough space to cache rdd_175_16 in memory! (computed 373.9 MiB so far)\n",
      "22/08/23 05:44:38 WARN MemoryStore: Not enough space to cache rdd_175_17 in memory! (computed 166.2 MiB so far)\n",
      "22/08/23 05:44:41 WARN MemoryStore: Not enough space to cache rdd_175_18 in memory! (computed 30.8 MiB so far)\n",
      "22/08/23 05:44:43 WARN MemoryStore: Not enough space to cache rdd_175_19 in memory! (computed 20.5 MiB so far)\n",
      "22/08/23 05:44:43 WARN MemoryStore: Not enough space to cache rdd_175_20 in memory! (computed 20.5 MiB so far)\n",
      "22/08/23 05:44:46 WARN MemoryStore: Not enough space to cache rdd_175_21 in memory! (computed 166.2 MiB so far)\n",
      "                                                                                \r"
     ]
    }
   ],
   "source": [
    "model2 = train_model(train, pipeline_rf) #RF"
   ]
  },
  {
   "cell_type": "markdown",
   "metadata": {
    "pycharm": {
     "name": "#%% md\n"
    }
   },
   "source": [
    "Save the model locally"
   ]
  },
  {
   "cell_type": "code",
   "execution_count": 11,
   "metadata": {
    "collapsed": false,
    "jupyter": {
     "outputs_hidden": false
    },
    "pycharm": {
     "name": "#%%\n"
    }
   },
   "outputs": [],
   "source": [
    "# save the model -> cross machine reqires removal of .src files!\n",
    "from pyspark.ml.util import MLWriter\n",
    "if subsample:\n",
    "    model.write().overwrite().save('../models/GBTModel_2019_subsampled')\n",
    "else:\n",
    "    model.write().overwrite().save('../models/GBTModel_2019')"
   ]
  },
  {
   "cell_type": "code",
   "execution_count": 13,
   "metadata": {
    "collapsed": false,
    "jupyter": {
     "outputs_hidden": false
    },
    "pycharm": {
     "name": "#%%\n"
    }
   },
   "outputs": [],
   "source": [
    "if subsample:\n",
    "    model2.write().overwrite().save('../models/RFModel_2019_subsampled')\n",
    "else:\n",
    "    model2.write().overwrite().save('../models/RFModel_2019')"
   ]
  },
  {
   "cell_type": "code",
   "execution_count": 14,
   "metadata": {
    "collapsed": false,
    "jupyter": {
     "outputs_hidden": false
    },
    "pycharm": {
     "name": "#%%\n"
    }
   },
   "outputs": [],
   "source": [
    "from pyspark.ml.util import MLReader"
   ]
  },
  {
   "cell_type": "code",
   "execution_count": 15,
   "metadata": {
    "collapsed": false,
    "jupyter": {
     "outputs_hidden": false
    },
    "pycharm": {
     "name": "#%%\n"
    }
   },
   "outputs": [],
   "source": [
    "pipe = build_pipeline(model_features, model=True)\n",
    "pipe_rf = build_pipeline_rf(model_features, model=True)"
   ]
  },
  {
   "cell_type": "code",
   "execution_count": 16,
   "metadata": {
    "collapsed": false,
    "jupyter": {
     "outputs_hidden": false
    },
    "pycharm": {
     "name": "#%%\n"
    }
   },
   "outputs": [
    {
     "name": "stderr",
     "output_type": "stream",
     "text": [
      "                                                                                \r"
     ]
    }
   ],
   "source": [
    "# NOTE: if running models from a different server need to remove .crc files\n",
    "if subsample:\n",
    "    model = pipe.load(path='../models/GBTModel_2019_subsampled')\n",
    "    #model2 = pipe.load(path='../models/RFModel_2019_subsampled')\n",
    "else:\n",
    "    #model = pipe.load(path='../models/GBTModel_2019')\n",
    "    model = pipe.load(path='../models/GBTmodel_2019')"
   ]
  },
  {
   "cell_type": "code",
   "execution_count": 17,
   "metadata": {
    "collapsed": false,
    "jupyter": {
     "outputs_hidden": false
    },
    "pycharm": {
     "name": "#%%\n"
    }
   },
   "outputs": [],
   "source": [
    "if subsample:\n",
    "    model2 = pipe.load(path='../models/RFModel_2019_subsampled')\n",
    "else:\n",
    "    model2 = pipe.load(path='../models/RFmodel_2019')"
   ]
  },
  {
   "cell_type": "code",
   "execution_count": 18,
   "metadata": {
    "collapsed": false,
    "jupyter": {
     "outputs_hidden": false
    },
    "pycharm": {
     "name": "#%%\n"
    }
   },
   "outputs": [],
   "source": [
    "gbt_feature_importances = model.stages[1].featureImportances\n",
    "rf_feature_importances = model2.stages[1].featureImportances"
   ]
  },
  {
   "cell_type": "code",
   "execution_count": 19,
   "metadata": {
    "collapsed": false,
    "jupyter": {
     "outputs_hidden": false
    },
    "pycharm": {
     "name": "#%%\n"
    }
   },
   "outputs": [],
   "source": [
    "#Source: timlrx.com/blog/feature-selection-using-feature-importance-score-creating-a-pyspark-estimator\n",
    "import pandas as pd\n",
    "def extract_feature_imp(featureImp, dataset, featuresCol):\n",
    "    list_extract = []\n",
    "    for i in dataset.schema[featuresCol].metadata[\"ml_attr\"][\"attrs\"]:\n",
    "        list_extract = list_extract + dataset.schema[featuresCol].metadata[\"ml_attr\"][\"attrs\"][i]\n",
    "    varlist = pd.DataFrame(list_extract)\n",
    "    varlist['score'] = varlist['idx'].apply(lambda x: featureImp[x])\n",
    "    return(varlist.sort_values('score', ascending = False))"
   ]
  },
  {
   "cell_type": "code",
   "execution_count": null,
   "metadata": {
    "collapsed": false,
    "jupyter": {
     "outputs_hidden": false
    },
    "pycharm": {
     "name": "#%%\n"
    }
   },
   "outputs": [],
   "source": []
  },
  {
   "cell_type": "code",
   "execution_count": null,
   "metadata": {
    "collapsed": false,
    "jupyter": {
     "outputs_hidden": false
    },
    "pycharm": {
     "name": "#%%\n"
    }
   },
   "outputs": [],
   "source": []
  },
  {
   "cell_type": "markdown",
   "metadata": {
    "pycharm": {
     "name": "#%% md\n"
    }
   },
   "source": [
    "Transform 2021 datasets for evaluation"
   ]
  },
  {
   "cell_type": "code",
   "execution_count": 22,
   "metadata": {
    "collapsed": false,
    "jupyter": {
     "outputs_hidden": false
    },
    "pycharm": {
     "name": "#%%\n"
    }
   },
   "outputs": [],
   "source": [
    "from collate import drop_cast_and_create_taxi, weather_process\n",
    "from clean import remove_outliers, get_outliers_df, run_clean"
   ]
  },
  {
   "cell_type": "code",
   "execution_count": 23,
   "metadata": {
    "collapsed": false,
    "jupyter": {
     "outputs_hidden": false
    },
    "pycharm": {
     "name": "#%%\n"
    }
   },
   "outputs": [],
   "source": [
    "# read in raw 2021 taxi+weather data & confirm\n",
    "sdf_2021 = spark.read.parquet('../data/raw/tlc_data/tlc_data_yellow/2021*')\n",
    "#sdf_2021 = spark.read.parquet('../data/raw/tlc_data/tlc_data_yellow/2021*')\n",
    "\n",
    "weather_date_path = \"../data/raw/nyc_weather_date/NYC_2019onwards.csv\"\n",
    "weather_sdf = spark.read.csv(weather_date_path, header=True, inferSchema=True)"
   ]
  },
  {
   "cell_type": "code",
   "execution_count": 24,
   "metadata": {
    "collapsed": false,
    "jupyter": {
     "outputs_hidden": false
    },
    "pycharm": {
     "name": "#%%\n"
    }
   },
   "outputs": [],
   "source": [
    "weather_sdf = weather_process(weather_sdf)"
   ]
  },
  {
   "cell_type": "code",
   "execution_count": 25,
   "metadata": {
    "collapsed": false,
    "jupyter": {
     "outputs_hidden": false
    },
    "pycharm": {
     "name": "#%%\n"
    }
   },
   "outputs": [
    {
     "name": "stdout",
     "output_type": "stream",
     "text": [
      "before cleaning:  30904308\n"
     ]
    },
    {
     "name": "stderr",
     "output_type": "stream",
     "text": [
      "[Stage 120:==================================================>    (10 + 1) / 11]\r"
     ]
    },
    {
     "name": "stdout",
     "output_type": "stream",
     "text": [
      "after cleaning:  26681336\n"
     ]
    },
    {
     "name": "stderr",
     "output_type": "stream",
     "text": [
      "                                                                                \r"
     ]
    }
   ],
   "source": [
    "print(\"before cleaning: \", sdf_2021.count())\n",
    "sdf_2021 = run_clean(sdf_2021)\n",
    "print(\"after cleaning: \", sdf_2021.count())"
   ]
  },
  {
   "cell_type": "code",
   "execution_count": 26,
   "metadata": {
    "collapsed": false,
    "jupyter": {
     "outputs_hidden": false
    },
    "pycharm": {
     "name": "#%%\n"
    }
   },
   "outputs": [],
   "source": [
    "# combine weather + taxi datasets\n",
    "sdf_2021_comb = sdf_2021.join(weather_sdf, on=['hour_of_day_of_year'], how='inner')"
   ]
  },
  {
   "cell_type": "markdown",
   "metadata": {
    "pycharm": {
     "name": "#%% md\n"
    }
   },
   "source": [
    "Get model predictions"
   ]
  },
  {
   "cell_type": "code",
   "execution_count": 27,
   "metadata": {
    "collapsed": false,
    "jupyter": {
     "outputs_hidden": false
    },
    "pycharm": {
     "name": "#%%\n"
    }
   },
   "outputs": [],
   "source": [
    "preds_2021 = model.transform(sdf_2021_comb)"
   ]
  },
  {
   "cell_type": "code",
   "execution_count": 28,
   "metadata": {
    "collapsed": false,
    "jupyter": {
     "outputs_hidden": false
    },
    "pycharm": {
     "name": "#%%\n"
    }
   },
   "outputs": [],
   "source": [
    "preds_2021_rf = model2.transform(sdf_2021_comb)"
   ]
  },
  {
   "cell_type": "code",
   "execution_count": 29,
   "metadata": {},
   "outputs": [
    {
     "data": {
      "text/html": [
       "<div>\n",
       "<style scoped>\n",
       "    .dataframe tbody tr th:only-of-type {\n",
       "        vertical-align: middle;\n",
       "    }\n",
       "\n",
       "    .dataframe tbody tr th {\n",
       "        vertical-align: top;\n",
       "    }\n",
       "\n",
       "    .dataframe thead th {\n",
       "        text-align: right;\n",
       "    }\n",
       "</style>\n",
       "<table border=\"1\" class=\"dataframe\">\n",
       "  <thead>\n",
       "    <tr style=\"text-align: right;\">\n",
       "      <th></th>\n",
       "      <th>idx</th>\n",
       "      <th>name</th>\n",
       "      <th>score</th>\n",
       "    </tr>\n",
       "  </thead>\n",
       "  <tbody>\n",
       "    <tr>\n",
       "      <th>2</th>\n",
       "      <td>2</td>\n",
       "      <td>trip_distance</td>\n",
       "      <td>0.7438</td>\n",
       "    </tr>\n",
       "    <tr>\n",
       "      <th>15</th>\n",
       "      <td>15</td>\n",
       "      <td>trip_time_minutes</td>\n",
       "      <td>0.2304</td>\n",
       "    </tr>\n",
       "    <tr>\n",
       "      <th>16</th>\n",
       "      <td>16</td>\n",
       "      <td>trip_speed_mph</td>\n",
       "      <td>0.0244</td>\n",
       "    </tr>\n",
       "    <tr>\n",
       "      <th>7</th>\n",
       "      <td>7</td>\n",
       "      <td>congestion_surcharge</td>\n",
       "      <td>0.0008</td>\n",
       "    </tr>\n",
       "  </tbody>\n",
       "</table>\n",
       "</div>"
      ],
      "text/plain": [
       "    idx                  name   score\n",
       "2     2         trip_distance  0.7438\n",
       "15   15     trip_time_minutes  0.2304\n",
       "16   16        trip_speed_mph  0.0244\n",
       "7     7  congestion_surcharge  0.0008"
      ]
     },
     "execution_count": 29,
     "metadata": {},
     "output_type": "execute_result"
    }
   ],
   "source": [
    "# extract feature importances GBF\n",
    "extract_feature_imp(gbt_feature_importances, preds_2021, \"features\").round(decimals=4).head(4)\n"
   ]
  },
  {
   "cell_type": "code",
   "execution_count": 30,
   "metadata": {},
   "outputs": [
    {
     "data": {
      "text/html": [
       "<div>\n",
       "<style scoped>\n",
       "    .dataframe tbody tr th:only-of-type {\n",
       "        vertical-align: middle;\n",
       "    }\n",
       "\n",
       "    .dataframe tbody tr th {\n",
       "        vertical-align: top;\n",
       "    }\n",
       "\n",
       "    .dataframe thead th {\n",
       "        text-align: right;\n",
       "    }\n",
       "</style>\n",
       "<table border=\"1\" class=\"dataframe\">\n",
       "  <thead>\n",
       "    <tr style=\"text-align: right;\">\n",
       "      <th></th>\n",
       "      <th>idx</th>\n",
       "      <th>name</th>\n",
       "      <th>score</th>\n",
       "    </tr>\n",
       "  </thead>\n",
       "  <tbody>\n",
       "    <tr>\n",
       "      <th>2</th>\n",
       "      <td>2</td>\n",
       "      <td>trip_distance</td>\n",
       "      <td>0.5381</td>\n",
       "    </tr>\n",
       "    <tr>\n",
       "      <th>15</th>\n",
       "      <td>15</td>\n",
       "      <td>trip_time_minutes</td>\n",
       "      <td>0.3657</td>\n",
       "    </tr>\n",
       "    <tr>\n",
       "      <th>16</th>\n",
       "      <td>16</td>\n",
       "      <td>trip_speed_mph</td>\n",
       "      <td>0.0614</td>\n",
       "    </tr>\n",
       "    <tr>\n",
       "      <th>4</th>\n",
       "      <td>4</td>\n",
       "      <td>PULocationID</td>\n",
       "      <td>0.0246</td>\n",
       "    </tr>\n",
       "  </tbody>\n",
       "</table>\n",
       "</div>"
      ],
      "text/plain": [
       "    idx               name   score\n",
       "2     2      trip_distance  0.5381\n",
       "15   15  trip_time_minutes  0.3657\n",
       "16   16     trip_speed_mph  0.0614\n",
       "4     4       PULocationID  0.0246"
      ]
     },
     "execution_count": 30,
     "metadata": {},
     "output_type": "execute_result"
    }
   ],
   "source": [
    "# extract feature importance rf\n",
    "extract_feature_imp(rf_feature_importances, preds_2021_rf, \"features\").round(decimals=4).head(4)"
   ]
  },
  {
   "cell_type": "markdown",
   "metadata": {
    "pycharm": {
     "name": "#%% md\n"
    }
   },
   "source": [
    "Evaluate the model"
   ]
  },
  {
   "cell_type": "code",
   "execution_count": 31,
   "metadata": {
    "collapsed": false,
    "jupyter": {
     "outputs_hidden": false
    },
    "pycharm": {
     "name": "#%%\n"
    }
   },
   "outputs": [],
   "source": [
    "# get RMSE evaluator\n",
    "evaluator = get_evaluator(\"rmse\")"
   ]
  },
  {
   "cell_type": "code",
   "execution_count": 32,
   "metadata": {
    "collapsed": false,
    "jupyter": {
     "outputs_hidden": false
    },
    "pycharm": {
     "name": "#%%\n"
    }
   },
   "outputs": [
    {
     "name": "stderr",
     "output_type": "stream",
     "text": [
      "22/08/23 05:47:35 WARN BLAS: Failed to load implementation from: com.github.fommil.netlib.NativeSystemBLAS\n",
      "22/08/23 05:47:35 WARN BLAS: Failed to load implementation from: com.github.fommil.netlib.NativeRefBLAS\n",
      "                                                                                \r"
     ]
    },
    {
     "name": "stdout",
     "output_type": "stream",
     "text": [
      "Root Mean Squared Error (RMSE) on 2021 test data (GBT) = 1.67367\n"
     ]
    },
    {
     "name": "stderr",
     "output_type": "stream",
     "text": [
      "[Stage 128:==================================================>    (10 + 1) / 11]\r"
     ]
    },
    {
     "name": "stdout",
     "output_type": "stream",
     "text": [
      "Root Mean Squared Error (RMSE) on 2021 test data (RF) = 1.96804\n"
     ]
    },
    {
     "name": "stderr",
     "output_type": "stream",
     "text": [
      "                                                                                \r"
     ]
    }
   ],
   "source": [
    "#evaluator = get_evaluator()\n",
    "rmse_2021 = evaluator.evaluate(preds_2021)\n",
    "print(\"Root Mean Squared Error (RMSE) on 2021 test data (GBT) = %g\" % rmse_2021)\n",
    "\n",
    "rmse_2021_rf = evaluator.evaluate(preds_2021_rf)\n",
    "print(\"Root Mean Squared Error (RMSE) on 2021 test data (RF) = %g\" % rmse_2021_rf)"
   ]
  },
  {
   "cell_type": "code",
   "execution_count": 33,
   "metadata": {
    "collapsed": false,
    "jupyter": {
     "outputs_hidden": false
    },
    "pycharm": {
     "name": "#%%\n"
    }
   },
   "outputs": [
    {
     "name": "stderr",
     "output_type": "stream",
     "text": [
      "                                                                                \r"
     ]
    },
    {
     "name": "stdout",
     "output_type": "stream",
     "text": [
      "Mean Absoulute Error (MAE) on 2021 test data (GBT) = 0.779167\n"
     ]
    },
    {
     "name": "stderr",
     "output_type": "stream",
     "text": [
      "[Stage 136:==================================================>    (10 + 1) / 11]\r"
     ]
    },
    {
     "name": "stdout",
     "output_type": "stream",
     "text": [
      "Mean Absoulte Error (MAE) on 2021 test data (RF) = 0.937336\n"
     ]
    },
    {
     "name": "stderr",
     "output_type": "stream",
     "text": [
      "                                                                                \r"
     ]
    }
   ],
   "source": [
    "evaluator.setMetricName(\"mae\")\n",
    "#evaluator = get_evaluator()\n",
    "mae_2021 = evaluator.evaluate(preds_2021)\n",
    "print(\"Mean Absoulute Error (MAE) on 2021 test data (GBT) = %g\" % mae_2021)\n",
    "\n",
    "mae_2021_rf = evaluator.evaluate(preds_2021_rf)\n",
    "print(\"Mean Absoulte Error (MAE) on 2021 test data (RF) = %g\" % mae_2021_rf)"
   ]
  },
  {
   "cell_type": "code",
   "execution_count": 34,
   "metadata": {
    "collapsed": false,
    "jupyter": {
     "outputs_hidden": false
    },
    "pycharm": {
     "name": "#%%\n"
    }
   },
   "outputs": [
    {
     "name": "stderr",
     "output_type": "stream",
     "text": [
      "                                                                                \r"
     ]
    },
    {
     "name": "stdout",
     "output_type": "stream",
     "text": [
      "Mean Squared Error (MAE) on 2021 test data (GBT) = 2.80117\n"
     ]
    },
    {
     "name": "stderr",
     "output_type": "stream",
     "text": [
      "[Stage 144:==================================================>    (10 + 1) / 11]\r"
     ]
    },
    {
     "name": "stdout",
     "output_type": "stream",
     "text": [
      "Mean Squared Error (MAE) on 2021 test data (RF) = 3.87318\n"
     ]
    },
    {
     "name": "stderr",
     "output_type": "stream",
     "text": [
      "                                                                                \r"
     ]
    }
   ],
   "source": [
    "evaluator.setMetricName(\"mse\")\n",
    "#evaluator = get_evaluator()\n",
    "mae_2021 = evaluator.evaluate(preds_2021)\n",
    "print(\"Mean Squared Error (MAE) on 2021 test data (GBT) = %g\" % mae_2021)\n",
    "\n",
    "mae_2021_rf = evaluator.evaluate(preds_2021_rf)\n",
    "print(\"Mean Squared Error (MAE) on 2021 test data (RF) = %g\" % mae_2021_rf)"
   ]
  },
  {
   "cell_type": "code",
   "execution_count": 35,
   "metadata": {
    "collapsed": false,
    "jupyter": {
     "outputs_hidden": false
    },
    "pycharm": {
     "name": "#%%\n"
    }
   },
   "outputs": [
    {
     "name": "stderr",
     "output_type": "stream",
     "text": [
      "                                                                                \r"
     ]
    },
    {
     "name": "stdout",
     "output_type": "stream",
     "text": [
      "Explained Variance (VAR) on 2021 test data (GBT) = 63.8707\n"
     ]
    },
    {
     "name": "stderr",
     "output_type": "stream",
     "text": [
      "[Stage 152:==================================================>    (10 + 1) / 11]\r"
     ]
    },
    {
     "name": "stdout",
     "output_type": "stream",
     "text": [
      "Explained Variance (VAR) on 2021 test data (RF) = 52.6113\n"
     ]
    },
    {
     "name": "stderr",
     "output_type": "stream",
     "text": [
      "                                                                                \r"
     ]
    }
   ],
   "source": [
    "evaluator.setMetricName(\"var\")\n",
    "#evaluator = get_evaluator()\n",
    "mae_2021 = evaluator.evaluate(preds_2021)\n",
    "print(\"Explained Variance (VAR) on 2021 test data (GBT) = %g\" % mae_2021)\n",
    "\n",
    "mae_2021_rf = evaluator.evaluate(preds_2021_rf)\n",
    "print(\"Explained Variance (VAR) on 2021 test data (RF) = %g\" % mae_2021_rf)"
   ]
  },
  {
   "cell_type": "code",
   "execution_count": 36,
   "metadata": {
    "collapsed": false,
    "jupyter": {
     "outputs_hidden": false
    },
    "pycharm": {
     "name": "#%%\n"
    }
   },
   "outputs": [
    {
     "name": "stderr",
     "output_type": "stream",
     "text": [
      "                                                                                \r"
     ]
    },
    {
     "name": "stdout",
     "output_type": "stream",
     "text": [
      "R2 on 2021 test data (GBT) = 0.957905\n"
     ]
    },
    {
     "name": "stderr",
     "output_type": "stream",
     "text": [
      "[Stage 160:==================================================>    (10 + 1) / 11]\r"
     ]
    },
    {
     "name": "stdout",
     "output_type": "stream",
     "text": [
      "Explained Variance (VAR) on 2021 test data (RF) = 0.941796\n"
     ]
    },
    {
     "name": "stderr",
     "output_type": "stream",
     "text": [
      "                                                                                \r"
     ]
    }
   ],
   "source": [
    "evaluator.setMetricName(\"r2\")\n",
    "#evaluator = get_evaluator()\n",
    "r2_2021 = evaluator.evaluate(preds_2021)\n",
    "print(\"R2 on 2021 test data (GBT) = %g\" % r2_2021)\n",
    "\n",
    "r2_2021_rf = evaluator.evaluate(preds_2021_rf)\n",
    "print(\"Explained Variance (VAR) on 2021 test data (RF) = %g\" % r2_2021_rf)"
   ]
  },
  {
   "cell_type": "markdown",
   "metadata": {
    "pycharm": {
     "name": "#%% md\n"
    }
   },
   "source": [
    "Error analysis"
   ]
  },
  {
   "cell_type": "code",
   "execution_count": 37,
   "metadata": {
    "collapsed": false,
    "jupyter": {
     "outputs_hidden": false
    },
    "pycharm": {
     "name": "#%%\n"
    }
   },
   "outputs": [],
   "source": [
    "from pyspark.sql import functions as F"
   ]
  },
  {
   "cell_type": "code",
   "execution_count": 38,
   "metadata": {
    "collapsed": false,
    "jupyter": {
     "outputs_hidden": false
    },
    "pycharm": {
     "name": "#%%\n"
    }
   },
   "outputs": [],
   "source": [
    "preds_2021 = preds_2021.withColumn(\n",
    "    'prediction_error',\n",
    "    (F.col('fare_amount') - (F.col('prediction')))\n",
    ")"
   ]
  },
  {
   "cell_type": "code",
   "execution_count": 39,
   "metadata": {
    "collapsed": false,
    "jupyter": {
     "outputs_hidden": false
    },
    "pycharm": {
     "name": "#%%\n"
    }
   },
   "outputs": [
    {
     "name": "stderr",
     "output_type": "stream",
     "text": [
      "22/08/23 05:54:08 WARN package: Truncated the string representation of a plan since it was too large. This behavior can be adjusted by setting 'spark.sql.debug.maxToStringFields'.\n"
     ]
    },
    {
     "name": "stdout",
     "output_type": "stream",
     "text": [
      "+------------------+-----------+-------------------+--------------------+\n",
      "|        prediction|fare_amount|   prediction_error|            features|\n",
      "+------------------+-----------+-------------------+--------------------+\n",
      "|30.376526933848847|       33.0| 2.6234730661511527|[1.0,1.0,7.4,1.0,...|\n",
      "|33.775041712727216|       39.0|  5.224958287272784|[1.0,1.0,14.1,1.0...|\n",
      "| 19.94463392113601|       20.0|0.05536607886399025|[2.0,2.0,5.64,1.0...|\n",
      "|  18.0352943914317|       17.5|-0.5352943914317017|[1.0,1.0,3.7,1.0,...|\n",
      "|15.909985196433741|       14.5| -1.409985196433741|[2.0,1.0,4.2,1.0,...|\n",
      "+------------------+-----------+-------------------+--------------------+\n",
      "only showing top 5 rows\n",
      "\n"
     ]
    }
   ],
   "source": [
    "preds_2021.select(\"prediction\", \"fare_amount\", 'prediction_error',\"features\").show(5)"
   ]
  },
  {
   "cell_type": "code",
   "execution_count": 40,
   "metadata": {
    "collapsed": false,
    "jupyter": {
     "outputs_hidden": false
    },
    "pycharm": {
     "name": "#%%\n"
    }
   },
   "outputs": [],
   "source": [
    "import seaborn as sns"
   ]
  },
  {
   "cell_type": "code",
   "execution_count": 41,
   "metadata": {
    "collapsed": false,
    "jupyter": {
     "outputs_hidden": false
    },
    "pycharm": {
     "name": "#%%\n"
    }
   },
   "outputs": [
    {
     "name": "stderr",
     "output_type": "stream",
     "text": [
      "                                                                                \r"
     ]
    }
   ],
   "source": [
    "# export predictions errors? -> never -> graph them instead\n",
    "preds_df = preds_2021.select(\"prediction\", \"fare_amount\", 'prediction_error').sample(fraction=0.005, seed=0).toPandas()"
   ]
  },
  {
   "cell_type": "code",
   "execution_count": 42,
   "metadata": {
    "collapsed": false,
    "jupyter": {
     "outputs_hidden": false
    },
    "pycharm": {
     "name": "#%%\n"
    }
   },
   "outputs": [],
   "source": [
    "#preds_df.columns"
   ]
  },
  {
   "cell_type": "code",
   "execution_count": 43,
   "metadata": {
    "collapsed": false,
    "jupyter": {
     "outputs_hidden": false
    },
    "pycharm": {
     "name": "#%%\n"
    }
   },
   "outputs": [],
   "source": [
    "# remove extremely wrong predictions for visualisations\n",
    "preds_df_cull = preds_df[preds_df['prediction_error'] <= 60]"
   ]
  },
  {
   "cell_type": "code",
   "execution_count": 44,
   "metadata": {
    "collapsed": false,
    "jupyter": {
     "outputs_hidden": false
    },
    "pycharm": {
     "name": "#%%\n"
    }
   },
   "outputs": [
    {
     "data": {
      "text/plain": [
       "<AxesSubplot:xlabel='prediction_error', ylabel='Density'>"
      ]
     },
     "execution_count": 44,
     "metadata": {},
     "output_type": "execute_result"
    },
    {
     "data": {
      "image/png": "[encoded data removed]",
      "text/plain": [
       "<Figure size 432x288 with 1 Axes>"
      ]
     },
     "metadata": {
      "needs_background": "light"
     },
     "output_type": "display_data"
    }
   ],
   "source": [
    "sns.histplot(x=preds_df_cull['prediction_error'], bins=200, kde=True, stat='density')\n"
   ]
  },
  {
   "cell_type": "code",
   "execution_count": 45,
   "metadata": {
    "collapsed": false,
    "jupyter": {
     "outputs_hidden": false
    },
    "pycharm": {
     "name": "#%%\n"
    }
   },
   "outputs": [
    {
     "data": {
      "text/plain": [
       "<AxesSubplot:xlabel='prediction_error'>"
      ]
     },
     "execution_count": 45,
     "metadata": {},
     "output_type": "execute_result"
    },
    {
     "data": {
      "image/png": "[encoded data removed]",
      "text/plain": [
       "<Figure size 432x288 with 1 Axes>"
      ]
     },
     "metadata": {
      "needs_background": "light"
     },
     "output_type": "display_data"
    }
   ],
   "source": [
    "sns.boxplot(x=preds_df_cull['prediction_error'])\n",
    "#sns.boxplot(x=preds_df_cull['fare_amount'])"
   ]
  },
  {
   "cell_type": "markdown",
   "metadata": {
    "pycharm": {
     "name": "#%% md\n"
    }
   },
   "source": [
    "Predictions vs true fare amounts distributions"
   ]
  },
  {
   "cell_type": "code",
   "execution_count": 46,
   "metadata": {
    "collapsed": false,
    "jupyter": {
     "outputs_hidden": false
    },
    "pycharm": {
     "name": "#%%\n"
    }
   },
   "outputs": [],
   "source": [
    "import matplotlib.pyplot as plt"
   ]
  },
  {
   "cell_type": "code",
   "execution_count": 47,
   "metadata": {
    "collapsed": false,
    "jupyter": {
     "outputs_hidden": false
    },
    "pycharm": {
     "name": "#%%\n"
    }
   },
   "outputs": [
    {
     "data": {
      "text/plain": [
       "count     132276\n",
       "unique         2\n",
       "top         True\n",
       "freq       67160\n",
       "Name: prediction_error, dtype: object"
      ]
     },
     "execution_count": 47,
     "metadata": {},
     "output_type": "execute_result"
    }
   ],
   "source": [
    "(preds_df_cull['prediction_error'] <= 0).describe()"
   ]
  },
  {
   "cell_type": "code",
   "execution_count": 48,
   "metadata": {
    "collapsed": false,
    "jupyter": {
     "outputs_hidden": false
    },
    "pycharm": {
     "name": "#%%\n"
    }
   },
   "outputs": [
    {
     "data": {
      "image/png": "[encoded data removed]",
      "text/plain": [
       "<Figure size 432x288 with 1 Axes>"
      ]
     },
     "metadata": {
      "needs_background": "light"
     },
     "output_type": "display_data"
    }
   ],
   "source": [
    "sns.histplot(x=preds_df_cull['prediction'],  bins=200, kde=True, stat='density', color=\"red\", label=\"Predictions\")\n",
    "sns.histplot(x=preds_df_cull['fare_amount'],  bins=200, kde=True, stat='density', color=\"skyblue\", label=\"True Fare Amounts\")\n",
    "plt.legend()\n",
    "plt.xlim(-20, 60)\n",
    "plt.ylim(0, 0.3)\n",
    "#plt.show()\n",
    "plt.savefig('../plots/preds_vs_true.png', dpi=300)"
   ]
  },
  {
   "cell_type": "code",
   "execution_count": 49,
   "metadata": {
    "collapsed": false,
    "jupyter": {
     "outputs_hidden": false
    },
    "pycharm": {
     "name": "#%%\n"
    }
   },
   "outputs": [
    {
     "data": {
      "image/png": "[encoded data removed]",
      "text/plain": [
       "<Figure size 432x288 with 1 Axes>"
      ]
     },
     "metadata": {
      "needs_background": "light"
     },
     "output_type": "display_data"
    }
   ],
   "source": [
    "preds_boxplot_df = preds_df_cull[['prediction', 'fare_amount']]\n",
    "preds_vs_fare = sns.boxplot(data=preds_boxplot_df)\n",
    "plt.title(\"Predictions vs. True Fare Amounts\")\n",
    "#plt.legend()\n",
    "plt.savefig('../plots/preds_vs_fare_boxplot.png')"
   ]
  },
  {
   "cell_type": "code",
   "execution_count": 50,
   "metadata": {
    "collapsed": false,
    "jupyter": {
     "outputs_hidden": false
    },
    "pycharm": {
     "name": "#%%\n"
    }
   },
   "outputs": [],
   "source": [
    "# suggests a transform may have been handy"
   ]
  },
  {
   "cell_type": "code",
   "execution_count": null,
   "metadata": {
    "collapsed": false,
    "jupyter": {
     "outputs_hidden": false
    },
    "pycharm": {
     "name": "#%%\n"
    }
   },
   "outputs": [],
   "source": []
  },
  {
   "cell_type": "code",
   "execution_count": 51,
   "metadata": {
    "collapsed": false,
    "jupyter": {
     "outputs_hidden": false
    },
    "pycharm": {
     "name": "#%%\n"
    }
   },
   "outputs": [],
   "source": [
    "# suggests a transform may have been handy"
   ]
  },
  {
   "cell_type": "code",
   "execution_count": 53,
   "metadata": {
    "collapsed": false,
    "jupyter": {
     "outputs_hidden": false
    },
    "pycharm": {
     "name": "#%%\n"
    }
   },
   "outputs": [
    {
     "data": {
      "text/plain": [
       "<AxesSubplot:xlabel='prediction_error', ylabel='Density'>"
      ]
     },
     "execution_count": 53,
     "metadata": {},
     "output_type": "execute_result"
    },
    {
     "data": {
      "image/png": "[encoded data removed]",
      "text/plain": [
       "<Figure size 432x288 with 1 Axes>"
      ]
     },
     "metadata": {
      "needs_background": "light"
     },
     "output_type": "display_data"
    }
   ],
   "source": [
    "sns.histplot(x=preds_df_cull['prediction_error'], bins=200, kde=True, stat='density')\n"
   ]
  },
  {
   "cell_type": "code",
   "execution_count": 54,
   "metadata": {
    "collapsed": false,
    "jupyter": {
     "outputs_hidden": false
    },
    "pycharm": {
     "name": "#%%\n"
    }
   },
   "outputs": [
    {
     "data": {
      "text/plain": [
       "<AxesSubplot:xlabel='prediction_error'>"
      ]
     },
     "execution_count": 54,
     "metadata": {},
     "output_type": "execute_result"
    },
    {
     "data": {
      "image/png": "[encoded data removed]",
      "text/plain": [
       "<Figure size 432x288 with 1 Axes>"
      ]
     },
     "metadata": {
      "needs_background": "light"
     },
     "output_type": "display_data"
    }
   ],
   "source": [
    "sns.boxplot(x=preds_df_cull['prediction_error'])\n",
    "#sns.boxplot(x=preds_df_cull['fare_amount'])"
   ]
  },
  {
   "cell_type": "markdown",
   "metadata": {
    "pycharm": {
     "name": "#%% md\n"
    }
   },
   "source": [
    "Predictions vs true fare amounts distributions"
   ]
  },
  {
   "cell_type": "code",
   "execution_count": 55,
   "metadata": {
    "collapsed": false,
    "jupyter": {
     "outputs_hidden": false
    },
    "pycharm": {
     "name": "#%%\n"
    }
   },
   "outputs": [],
   "source": [
    "import matplotlib.pyplot as plt"
   ]
  },
  {
   "cell_type": "code",
   "execution_count": 56,
   "metadata": {
    "collapsed": false,
    "jupyter": {
     "outputs_hidden": false
    },
    "pycharm": {
     "name": "#%%\n"
    }
   },
   "outputs": [
    {
     "data": {
      "text/plain": [
       "count     132276\n",
       "unique         2\n",
       "top         True\n",
       "freq       67160\n",
       "Name: prediction_error, dtype: object"
      ]
     },
     "execution_count": 56,
     "metadata": {},
     "output_type": "execute_result"
    }
   ],
   "source": [
    "(preds_df_cull['prediction_error'] <= 0).describe()"
   ]
  },
  {
   "cell_type": "code",
   "execution_count": 57,
   "metadata": {
    "collapsed": false,
    "jupyter": {
     "outputs_hidden": false
    },
    "pycharm": {
     "name": "#%%\n"
    }
   },
   "outputs": [
    {
     "data": {
      "image/png": "[encoded data removed]",
      "text/plain": [
       "<Figure size 432x288 with 1 Axes>"
      ]
     },
     "metadata": {
      "needs_background": "light"
     },
     "output_type": "display_data"
    }
   ],
   "source": [
    "sns.histplot(x=preds_df_cull['prediction'],  bins=200, kde=True, stat='density', color=\"red\", label=\"Predictions\")\n",
    "sns.histplot(x=preds_df_cull['fare_amount'],  bins=200, kde=True, stat='density', color=\"skyblue\", label=\"True Fare Amounts\")\n",
    "plt.legend()\n",
    "plt.xlim(-20, 60)\n",
    "plt.ylim(0, 0.3)\n",
    "#plt.show()\n",
    "plt.savefig('../plots/preds_vs_true.png', dpi=300)"
   ]
  },
  {
   "cell_type": "code",
   "execution_count": 58,
   "metadata": {
    "collapsed": false,
    "jupyter": {
     "outputs_hidden": false
    },
    "pycharm": {
     "name": "#%%\n"
    }
   },
   "outputs": [
    {
     "data": {
      "image/png": "[encoded data removed]",
      "text/plain": [
       "<Figure size 432x288 with 1 Axes>"
      ]
     },
     "metadata": {
      "needs_background": "light"
     },
     "output_type": "display_data"
    }
   ],
   "source": [
    "preds_boxplot_df = preds_df_cull[['prediction', 'fare_amount']]\n",
    "preds_vs_fare = sns.boxplot(data=preds_boxplot_df)\n",
    "plt.title(\"Predictions vs. True Fare Amounts\")\n",
    "#plt.legend()\n",
    "plt.savefig('../plots/preds_vs_fare_boxplot.png')"
   ]
  },
  {
   "cell_type": "code",
   "execution_count": null,
   "metadata": {
    "collapsed": false,
    "jupyter": {
     "outputs_hidden": false
    },
    "pycharm": {
     "name": "#%%\n"
    }
   },
   "outputs": [],
   "source": [
    "# suggests a transform may have been handy"
   ]
  },
  {
   "cell_type": "code",
   "execution_count": null,
   "metadata": {
    "collapsed": false,
    "jupyter": {
     "outputs_hidden": false
    },
    "pycharm": {
     "name": "#%%\n"
    }
   },
   "outputs": [],
   "source": []
  },
  {
   "cell_type": "code",
   "execution_count": null,
   "metadata": {
    "collapsed": false,
    "jupyter": {
     "outputs_hidden": false
    },
    "pycharm": {
     "name": "#%%\n"
    }
   },
   "outputs": [],
   "source": []
  }
 ],
 "metadata": {
  "kernelspec": {
   "display_name": "Python 3 (ipykernel)",
   "language": "python",
   "name": "python3"
  },
  "language_info": {
   "codemirror_mode": {
    "name": "ipython",
    "version": 3
   },
   "file_extension": ".py",
   "mimetype": "text/x-python",
   "name": "python",
   "nbconvert_exporter": "python",
   "pygments_lexer": "ipython3",
   "version": "3.8.13"
  }
 },
 "nbformat": 4,
 "nbformat_minor": 4
}
