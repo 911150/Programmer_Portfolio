{
 "cells": [
  {
   "cell_type": "code",
   "execution_count": null,
   "outputs": [],
   "source": [
    "from _global_vars import *\n",
    "import seaborn as sns\n",
    "from pyspark.sql import functions as F\n",
    "import matplotlib.pyplot as plt"
   ],
   "metadata": {
    "collapsed": false,
    "pycharm": {
     "name": "#%%\n"
    }
   }
  },
  {
   "cell_type": "code",
   "execution_count": 2,
   "metadata": {
    "collapsed": false,
    "jupyter": {
     "outputs_hidden": false
    },
    "pycharm": {
     "name": "#%%\n"
    }
   },
   "outputs": [],
   "source": [
    "# read in data\n",
    "sdf_filtered = spark.read.parquet('../data/curated/yt2019_cleaned.parquet')\n",
    "print(sdf_filtered.count())\n",
    "#sdf.show(1, vertical=True, truncate=100)"
   ]
  },
  {
   "cell_type": "markdown",
   "metadata": {
    "pycharm": {
     "name": "#%% md\n"
    }
   },
   "source": [
    "### Taking a look at fare_per_minute (fpm)"
   ]
  },
  {
   "cell_type": "code",
   "execution_count": 4,
   "metadata": {
    "collapsed": false,
    "jupyter": {
     "outputs_hidden": false
    },
    "pycharm": {
     "name": "#%%\n"
    }
   },
   "outputs": [
    {
     "name": "stderr",
     "output_type": "stream",
     "text": [
      "[Stage 3:=====================================>                    (9 + 5) / 14]\r"
     ]
    },
    {
     "name": "stdout",
     "output_type": "stream",
     "text": [
      "+-------+-------------------+\n",
      "|summary|    fare_per_minute|\n",
      "+-------+-------------------+\n",
      "|  count|           66354904|\n",
      "|   mean| 0.9369516222122509|\n",
      "| stddev| 0.2426412699227397|\n",
      "|    min|0.05341355599214146|\n",
      "|    max| 38.990697674418605|\n",
      "+-------+-------------------+\n",
      "\n"
     ]
    },
    {
     "name": "stderr",
     "output_type": "stream",
     "text": [
      "                                                                                \r"
     ]
    }
   ],
   "source": [
    "sdf_filtered.describe('fare_per_minute').show()"
   ]
  },
  {
   "cell_type": "code",
   "execution_count": 5,
   "metadata": {
    "collapsed": false,
    "jupyter": {
     "outputs_hidden": false
    },
    "pycharm": {
     "name": "#%%\n"
    }
   },
   "outputs": [
    {
     "name": "stderr",
     "output_type": "stream",
     "text": [
      "                                                                                \r"
     ]
    }
   ],
   "source": [
    "avg_fpm_weekday = sdf_filtered.groupBy('PU_dayofweek') \\\n",
    "            .agg(\n",
    "                { 'fare_per_minute' : 'mean', }\n",
    "                ) \\\n",
    "            .toPandas()"
   ]
  },
  {
   "cell_type": "code",
   "execution_count": 7,
   "metadata": {
    "collapsed": false,
    "jupyter": {
     "outputs_hidden": false
    },
    "pycharm": {
     "name": "#%%\n"
    }
   },
   "outputs": [
    {
     "data": {
      "text/plain": [
       "<AxesSubplot:xlabel='PU_dayofweek', ylabel='avg(fare_per_minute)'>"
      ]
     },
     "execution_count": 7,
     "metadata": {},
     "output_type": "execute_result"
    },
    {
     "data": {
      "image/png": "[encoded data removed]",
      "text/plain": [
       "<Figure size 432x288 with 1 Axes>"
      ]
     },
     "metadata": {
      "needs_background": "light"
     },
     "output_type": "display_data"
    }
   ],
   "source": [
    "sns.barplot(x=avg_fpm_weekday['PU_dayofweek'],\n",
    "            y=avg_fpm_weekday['avg(fare_per_minute)'])"
   ]
  },
  {
   "cell_type": "code",
   "execution_count": 8,
   "metadata": {
    "collapsed": false,
    "jupyter": {
     "outputs_hidden": false
    },
    "pycharm": {
     "name": "#%%\n"
    }
   },
   "outputs": [
    {
     "name": "stderr",
     "output_type": "stream",
     "text": [
      "[Stage 7:========================================>                (10 + 4) / 14]\r"
     ]
    },
    {
     "name": "stdout",
     "output_type": "stream",
     "text": [
      "+------------------+\n",
      "|   fare_per_minute|\n",
      "+------------------+\n",
      "|38.990697674418605|\n",
      "|38.990697674418605|\n",
      "|27.783251231527093|\n",
      "|27.783251231527093|\n",
      "| 25.57377049180328|\n",
      "| 25.54945054945055|\n",
      "|24.566929133858267|\n",
      "| 23.11111111111111|\n",
      "|21.224489795918366|\n",
      "|21.224489795918366|\n",
      "|20.662251655629138|\n",
      "|              20.0|\n",
      "|              20.0|\n",
      "|19.024390243902438|\n",
      "|19.024390243902438|\n",
      "| 18.24561403508772|\n",
      "|             16.25|\n",
      "|             16.25|\n",
      "|14.854455445544554|\n",
      "| 13.68421052631579|\n",
      "+------------------+\n",
      "only showing top 20 rows\n",
      "\n"
     ]
    },
    {
     "name": "stderr",
     "output_type": "stream",
     "text": [
      "                                                                                \r"
     ]
    }
   ],
   "source": [
    "sdf_filtered.select('fare_per_minute').sort(F.desc('fare_per_minute')).show()"
   ]
  },
  {
   "cell_type": "markdown",
   "metadata": {
    "pycharm": {
     "name": "#%% md\n"
    }
   },
   "source": [
    "### Bivariate Analysis"
   ]
  },
  {
   "cell_type": "code",
   "execution_count": 9,
   "metadata": {
    "collapsed": false,
    "jupyter": {
     "outputs_hidden": false
    },
    "pycharm": {
     "name": "#%%\n"
    }
   },
   "outputs": [
    {
     "name": "stderr",
     "output_type": "stream",
     "text": [
      "                                                                                \r"
     ]
    },
    {
     "data": {
      "text/plain": [
       "65825"
      ]
     },
     "execution_count": 9,
     "metadata": {},
     "output_type": "execute_result"
    }
   ],
   "source": [
    "# subsample from the filtered and clean data ->\n",
    "sdf_samp = sdf_filtered.sample(fraction=0.001, seed=0)\n",
    "print(sdf_samp.count())"
   ]
  },
  {
   "cell_type": "markdown",
   "metadata": {
    "pycharm": {
     "name": "#%% md\n"
    }
   },
   "source": [
    "Fare amount by year"
   ]
  },
  {
   "cell_type": "code",
   "execution_count": 10,
   "metadata": {
    "collapsed": false,
    "jupyter": {
     "outputs_hidden": false
    },
    "pycharm": {
     "name": "#%%\n"
    }
   },
   "outputs": [],
   "source": [
    "# https://www.kaggle.com/code/nicapotato/taxi-rides-time-analysis-and-oof-lgbm/notebook\n",
    "def time_slicer(df, timeframes, value, color=\"purple\"):\n",
    "    \"\"\"\n",
    "    Function to count observation occurrence through different lenses of time.\n",
    "    \"\"\"\n",
    "    f, ax = plt.subplots(2,2, figsize = [12,6])\n",
    "    i = 0\n",
    "    j = 0\n",
    "\n",
    "    for o, x in enumerate(timeframes):\n",
    "\n",
    "        df.loc[:,[x,value]].groupby([x]).mean().plot(ax=ax[i,j],color=color)\n",
    "        ax[i,j].set_ylabel(value.replace(\"_\", \" \").title())\n",
    "        ax[i,j].set_title(\"{} by {}\".format(value.replace(\"_\", \" \").title(), x.replace(\"_\", \" \").title()))\n",
    "        ax[i,j].set_xlabel(\"\")\n",
    "\n",
    "        # bit rudimentary here by me, why not use zip\n",
    "        if i == 0 and j == 0:\n",
    "            i = 1\n",
    "            j = 0\n",
    "        elif i == 1 and j == 0:\n",
    "            i = 0\n",
    "            j = 1\n",
    "\n",
    "        elif i == 0 and j == 1:\n",
    "            i = 1\n",
    "            j = 1\n",
    "    plt.tight_layout(pad=0)\n",
    "    pass\n"
   ]
  },
  {
   "cell_type": "code",
   "execution_count": 11,
   "metadata": {
    "collapsed": false,
    "jupyter": {
     "outputs_hidden": false
    },
    "pycharm": {
     "name": "#%%\n"
    }
   },
   "outputs": [
    {
     "name": "stderr",
     "output_type": "stream",
     "text": [
      "                                                                                \r"
     ]
    }
   ],
   "source": [
    "# convert to pd for visualisation\n",
    "df_pu_fare_by_time = sdf_samp.select(['PU_dayofmonth',\n",
    "                                      'PU_dayofweek',\n",
    "                                      'PU_hourofday',\n",
    "                                      'PU_month',\n",
    "                                      'fare_amount',\n",
    "                                      'trip_distance']).toPandas()\n",
    "\n",
    "df_do_fare_by_time = sdf_samp.select(['DO_dayofmonth',\n",
    "                                      'DO_dayofweek',\n",
    "                                      'DO_hourofday',\n",
    "                                      'DO_month',\n",
    "                                      'fare_amount',\n",
    "                                      'trip_distance']).toPandas()"
   ]
  },
  {
   "cell_type": "code",
   "execution_count": null,
   "metadata": {
    "collapsed": false,
    "jupyter": {
     "outputs_hidden": false
    },
    "pycharm": {
     "name": "#%%\n",
     "is_executing": true
    }
   },
   "outputs": [],
   "source": [
    "time_slicer(df = df_pu_fare_by_time,\n",
    "            timeframes = ['PU_hourofday',\n",
    "                          'PU_dayofweek',\n",
    "                          'PU_dayofmonth',\n",
    "                          'PU_month'],\n",
    "            value = 'fare_amount',\n",
    "            color=\"blue\")"
   ]
  },
  {
   "cell_type": "code",
   "execution_count": null,
   "metadata": {
    "collapsed": false,
    "jupyter": {
     "outputs_hidden": false
    },
    "pycharm": {
     "name": "#%%\n",
     "is_executing": true
    }
   },
   "outputs": [],
   "source": [
    "time_slicer(df = df_pu_fare_by_time,\n",
    "            timeframes = ['PU_hourofday',\n",
    "                          'PU_dayofweek',\n",
    "                          'PU_dayofmonth',\n",
    "                          'PU_month'],\n",
    "            value = 'trip_distance',\n",
    "            color=\"red\")"
   ]
  },
  {
   "cell_type": "code",
   "execution_count": 15,
   "metadata": {
    "collapsed": false,
    "jupyter": {
     "outputs_hidden": false
    },
    "pycharm": {
     "name": "#%%\n"
    }
   },
   "outputs": [
    {
     "data": {
      "text/plain": [
       "<seaborn.axisgrid.JointGrid at 0x7f9cc6fb8d30>"
      ]
     },
     "execution_count": 15,
     "metadata": {},
     "output_type": "execute_result"
    },
    {
     "data": {
      "image/png": "[encoded data removed]",
      "text/plain": [
       "<Figure size 432x432 with 3 Axes>"
      ]
     },
     "metadata": {
      "needs_background": "light"
     },
     "output_type": "display_data"
    }
   ],
   "source": [
    "# more random pltos\n",
    "sns.jointplot(x=df_pu_fare_by_time['fare_amount'],\n",
    "              y=df_pu_fare_by_time['trip_distance'],\n",
    "              hue=df_pu_fare_by_time['PU_dayofweek'])"
   ]
  },
  {
   "cell_type": "markdown",
   "source": [],
   "metadata": {
    "collapsed": false,
    "pycharm": {
     "name": "#%% md\n"
    }
   }
  },
  {
   "cell_type": "code",
   "execution_count": 16,
   "metadata": {
    "pycharm": {
     "name": "#%%\n"
    }
   },
   "outputs": [],
   "source": [
    "spark.sql(\"CLEAR CACHE\")\n",
    "spark.stop()"
   ]
  }
 ],
 "metadata": {
  "kernelspec": {
   "display_name": "Python 3 (ipykernel)",
   "language": "python",
   "name": "python3"
  },
  "language_info": {
   "codemirror_mode": {
    "name": "ipython",
    "version": 3
   },
   "file_extension": ".py",
   "mimetype": "text/x-python",
   "name": "python",
   "nbconvert_exporter": "python",
   "pygments_lexer": "ipython3",
   "version": "3.8.13"
  }
 },
 "nbformat": 4,
 "nbformat_minor": 4
}