{
 "cells": [
  {
   "cell_type": "markdown",
   "source": [
    "Collect Taxi Data from NYCTLC"
   ],
   "metadata": {
    "collapsed": false,
    "pycharm": {
     "name": "#%% md\n"
    }
   }
  },
  {
   "cell_type": "code",
   "execution_count": 1,
   "outputs": [],
   "source": [
    "from urllib.request import urlretrieve\n",
    "from urllib.error import URLError\n",
    "import os\n",
    "import zipfile"
   ],
   "metadata": {
    "collapsed": false,
    "pycharm": {
     "name": "#%%\n"
    }
   }
  },
  {
   "cell_type": "code",
   "execution_count": 2,
   "outputs": [],
   "source": [
    "# OPTIONS\n",
    "month_range = 'min' #'full\n",
    "output_relative_dir = '../data/raw/tlc_data/'\n",
    "target_dir = 'tlc_data_yellow'\n",
    "\n",
    "YEARS = {'2019',\n",
    "         '2021',\n",
    "         '2022'}"
   ],
   "metadata": {
    "collapsed": false,
    "pycharm": {
     "name": "#%%\n"
    }
   }
  },
  {
   "cell_type": "code",
   "execution_count": 3,
   "outputs": [],
   "source": [
    "# used for development\n",
    "months_lut = {\n",
    "    'full' : range(1,13),\n",
    "    'min' : range(1,2)\n",
    "}\n",
    "\n",
    "# data output directory is `data/tlc_data/`\n",
    "tlc_output_dir = output_relative_dir + target_dir\n",
    "# URL template as of 11-2022\n",
    "URL_TEMPLATE = \"https://d37ci6vzurychx.cloudfront.net/trip-data/yellow_tripdata_\""
   ],
   "metadata": {
    "collapsed": false,
    "pycharm": {
     "name": "#%%\n"
    }
   }
  },
  {
   "cell_type": "code",
   "execution_count": 4,
   "metadata": {
    "pycharm": {
     "name": "#%%\n"
    }
   },
   "outputs": [],
   "source": [
    "# check if paths exists, otherwise create\n",
    "if not os.path.exists(output_relative_dir):\n",
    "    os.makedirs(output_relative_dir)\n",
    "\n",
    "if not os.path.exists(output_relative_dir + target_dir):\n",
    "    os.makedirs(output_relative_dir + target_dir)"
   ]
  },
  {
   "cell_type": "code",
   "execution_count": 5,
   "metadata": {
    "collapsed": false,
    "jupyter": {
     "outputs_hidden": false
    },
    "pycharm": {
     "name": "#%%\n"
    }
   },
   "outputs": [
    {
     "name": "stdout",
     "output_type": "stream",
     "text": [
      "Attempting to download: 1:2022...\n",
      "Completed downloading: 01:2022\n",
      "Attempting to download: 1:2019...\n",
      "Completed downloading: 01:2019\n",
      "Attempting to download: 1:2021...\n",
      "Completed downloading: 01:2021\n"
     ]
    }
   ],
   "source": [
    "for year in YEARS:\n",
    "    for month in months_lut[month_range]:\n",
    "        #logging.info(f\"Attempting to download: {month}:{year}...\")\n",
    "        print(f\"Attempting to download: {month}:{year}...\")\n",
    "\n",
    "        # 0-fill i.e 1 -> 01, 2 -> 02, etc\n",
    "        month = str(month).zfill(2)\n",
    "        # generate url\n",
    "        url = f'{URL_TEMPLATE}{year}-{month}.parquet'\n",
    "        # generate output location and filename\n",
    "        output_dir = f\"{tlc_output_dir}/{year}-{month}.parquet\"\n",
    "\n",
    "        try: # download\n",
    "            urlretrieve(url, output_dir)\n",
    "        except URLError:\n",
    "            print(f\"Path does not exist (yet): {month}:{year}\")\n",
    "        except:\n",
    "            print(f\"Error occurred when trying to download {month}\")\n",
    "        else:\n",
    "            print(f\"Completed downloading: {month}:{year}\")"
   ]
  },
  {
   "cell_type": "code",
   "execution_count": 6,
   "metadata": {
    "collapsed": false,
    "jupyter": {
     "outputs_hidden": false
    },
    "pycharm": {
     "name": "#%%\n"
    }
   },
   "outputs": [],
   "source": [
    "# shapefile download and unzip\n",
    "shapefile_dir = \"shapefiles/\"\n",
    "shapefile_path = output_relative_dir + shapefile_dir\n",
    "if not os.path.exists(shapefile_path):\n",
    "    os.makedirs(shapefile_path)"
   ]
  },
  {
   "cell_type": "code",
   "execution_count": 7,
   "outputs": [
    {
     "data": {
      "text/plain": "('../data/raw/tlc_data/shapefiles/taxi_zones.zip',\n <http.client.HTTPMessage at 0x7fa7cc5b5220>)"
     },
     "execution_count": 7,
     "metadata": {},
     "output_type": "execute_result"
    }
   ],
   "source": [
    "# download shapefile\n",
    "shapefile_url = \"https://d37ci6vzurychx.cloudfront.net/misc/taxi_zones.zip\"\n",
    "shapefile_name = \"taxi_zones.zip\"\n",
    "urlretrieve(shapefile_url, shapefile_path + shapefile_name)"
   ],
   "metadata": {
    "collapsed": false,
    "pycharm": {
     "name": "#%%\n"
    }
   }
  },
  {
   "cell_type": "code",
   "execution_count": 8,
   "metadata": {
    "collapsed": false,
    "jupyter": {
     "outputs_hidden": false
    },
    "pycharm": {
     "name": "#%%\n"
    }
   },
   "outputs": [
    {
     "data": {
      "text/plain": "('../data/raw/tlc_data/shapefiles/taxi_zone_lookup.csv',\n <http.client.HTTPMessage at 0x7fa7cc5b5e80>)"
     },
     "execution_count": 8,
     "metadata": {},
     "output_type": "execute_result"
    }
   ],
   "source": [
    "# download lookup file\n",
    "lookupfile_url = \"https://d37ci6vzurychx.cloudfront.net/misc/taxi+_zone_lookup.csv\"\n",
    "lookupfile_name = \"taxi_zone_lookup.csv\"\n",
    "urlretrieve(lookupfile_url, shapefile_path + lookupfile_name)"
   ]
  },
  {
   "cell_type": "code",
   "execution_count": 9,
   "metadata": {
    "collapsed": false,
    "jupyter": {
     "outputs_hidden": false
    },
    "pycharm": {
     "name": "#%%\n"
    }
   },
   "outputs": [],
   "source": [
    "# unzip taxi zones file\n",
    "with zipfile.ZipFile(shapefile_path + shapefile_name, 'r') as zip_ref:\n",
    "    zip_ref.extractall(shapefile_path + \"taxi_zones/\")"
   ]
  }
 ],
 "metadata": {
  "kernelspec": {
   "display_name": "Python 3 (ipykernel)",
   "language": "python",
   "name": "python3"
  },
  "language_info": {
   "codemirror_mode": {
    "name": "ipython",
    "version": 3
   },
   "file_extension": ".py",
   "mimetype": "text/x-python",
   "name": "python",
   "nbconvert_exporter": "python",
   "pygments_lexer": "ipython3",
   "version": "3.8.13"
  }
 },
 "nbformat": 4,
 "nbformat_minor": 4
}