{
 "cells": [
  {
   "cell_type": "markdown",
   "source": [
    "Start PySpark Session"
   ],
   "metadata": {
    "collapsed": false,
    "pycharm": {
     "name": "#%% md\n"
    }
   }
  },
  {
   "cell_type": "code",
   "execution_count": 2,
   "metadata": {
    "collapsed": true,
    "pycharm": {
     "name": "#%%\n"
    }
   },
   "outputs": [
    {
     "name": "stdout",
     "output_type": "stream",
     "text": [
      "22/08/15 12:00:41 WARN SparkSession: Using an existing Spark session; only runtime SQL configurations will take effect.\n"
     ]
    }
   ],
   "source": [
    "from pyspark.sql import SparkSession\n",
    "\n",
    "# Create a spark session (which will run spark jobs)\n",
    "spark = (\n",
    "    SparkSession.builder.appName(\"MAST30034_Preprocessing_1_\")\n",
    "    .config(\"spark.sql.repl.eagerEval.enabled\", True)\n",
    "    .config(\"spark.sql.parquet.cacheMetadata\", \"true\")\n",
    "    .getOrCreate()\n",
    ")"
   ]
  },
  {
   "cell_type": "code",
   "execution_count": 3,
   "outputs": [
    {
     "name": "stderr",
     "output_type": "stream",
     "text": [
      "[Stage 2:=======================================>                   (2 + 1) / 3]\r"
     ]
    },
    {
     "name": "stdout",
     "output_type": "stream",
     "text": [
      "-RECORD 0------------------------------------\n",
      " VendorID              | 1                   \n",
      " tpep_pickup_datetime  | 2022-01-01 11:35:40 \n",
      " tpep_dropoff_datetime | 2022-01-01 11:53:29 \n",
      " passenger_count       | 2.0                 \n",
      " trip_distance         | 3.8                 \n",
      " RatecodeID            | 1.0                 \n",
      " store_and_fwd_flag    | N                   \n",
      " PULocationID          | 142                 \n",
      " DOLocationID          | 236                 \n",
      " payment_type          | 1                   \n",
      " fare_amount           | 14.5                \n",
      " extra                 | 3.0                 \n",
      " mta_tax               | 0.5                 \n",
      " tip_amount            | 3.65                \n",
      " tolls_amount          | 0.0                 \n",
      " improvement_surcharge | 0.3                 \n",
      " total_amount          | 21.95               \n",
      " congestion_surcharge  | 2.5                 \n",
      " airport_fee           | 0.0                 \n",
      "only showing top 1 row\n",
      "\n"
     ]
    },
    {
     "name": "stderr",
     "output_type": "stream",
     "text": [
      "                                                                                \r"
     ]
    }
   ],
   "source": [
    "sdf = spark.read.parquet('../data/raw/tlc_yellow_data/2022-01.parquet')\n",
    "sdf.show(1, vertical=True, truncate=100)\n"
   ],
   "metadata": {
    "collapsed": false,
    "pycharm": {
     "name": "#%%\n"
    }
   }
  },
  {
   "cell_type": "code",
   "execution_count": 55,
   "outputs": [
    {
     "name": "stdout",
     "output_type": "stream",
     "text": [
      "-RECORD 0------------------------------------\n",
      " VendorID              | 1                   \n",
      " tpep_pickup_datetime  | 2020-01-01 11:28:15 \n",
      " tpep_dropoff_datetime | 2020-01-01 11:33:03 \n",
      " passenger_count       | 1.0                 \n",
      " trip_distance         | 1.2                 \n",
      " RatecodeID            | 1.0                 \n",
      " store_and_fwd_flag    | N                   \n",
      " PULocationID          | 238                 \n",
      " DOLocationID          | 239                 \n",
      " payment_type          | 1                   \n",
      " fare_amount           | 6.0                 \n",
      " extra                 | 3.0                 \n",
      " mta_tax               | 0.5                 \n",
      " tip_amount            | 1.47                \n",
      " tolls_amount          | 0.0                 \n",
      " improvement_surcharge | 0.3                 \n",
      " total_amount          | 11.27               \n",
      " congestion_surcharge  | 2.5                 \n",
      " airport_fee           | null                \n",
      "only showing top 1 row\n",
      "\n"
     ]
    }
   ],
   "source": [
    "# Read in NYC Yellow Cab Taxi data from 2020 onwards\n",
    "sdf_all = spark.read.parquet('../data/raw/tlc_yellow_data/202*')\n",
    "sdf_all.show(1, vertical=True, truncate=100)"
   ],
   "metadata": {
    "collapsed": false,
    "pycharm": {
     "name": "#%%\n"
    }
   }
  },
  {
   "cell_type": "code",
   "execution_count": 56,
   "outputs": [
    {
     "data": {
      "text/plain": "68224564"
     },
     "execution_count": 56,
     "metadata": {},
     "output_type": "execute_result"
    }
   ],
   "source": [
    "sdf_all.count()\n",
    "#sdf.count()"
   ],
   "metadata": {
    "collapsed": false,
    "pycharm": {
     "name": "#%%\n"
    }
   }
  },
  {
   "cell_type": "code",
   "execution_count": 57,
   "outputs": [],
   "source": [
    "from pyspark.sql import functions as F"
   ],
   "metadata": {
    "collapsed": false,
    "pycharm": {
     "name": "#%%\n"
    }
   }
  },
  {
   "cell_type": "code",
   "execution_count": 58,
   "outputs": [
    {
     "name": "stdout",
     "output_type": "stream",
     "text": [
      "root\n",
      " |-- VendorID: long (nullable = true)\n",
      " |-- tpep_pickup_datetime: timestamp (nullable = true)\n",
      " |-- tpep_dropoff_datetime: timestamp (nullable = true)\n",
      " |-- passenger_count: double (nullable = true)\n",
      " |-- trip_distance: double (nullable = true)\n",
      " |-- RatecodeID: double (nullable = true)\n",
      " |-- store_and_fwd_flag: string (nullable = true)\n",
      " |-- PULocationID: long (nullable = true)\n",
      " |-- DOLocationID: long (nullable = true)\n",
      " |-- payment_type: long (nullable = true)\n",
      " |-- fare_amount: double (nullable = true)\n",
      " |-- extra: double (nullable = true)\n",
      " |-- mta_tax: double (nullable = true)\n",
      " |-- tip_amount: double (nullable = true)\n",
      " |-- tolls_amount: double (nullable = true)\n",
      " |-- improvement_surcharge: double (nullable = true)\n",
      " |-- total_amount: double (nullable = true)\n",
      " |-- congestion_surcharge: double (nullable = true)\n",
      " |-- airport_fee: integer (nullable = true)\n",
      "\n",
      "root\n",
      " |-- VendorID: integer (nullable = true)\n",
      " |-- tpep_pickup_datetime: timestamp (nullable = true)\n",
      " |-- tpep_dropoff_datetime: timestamp (nullable = true)\n",
      " |-- passenger_count: integer (nullable = true)\n",
      " |-- trip_distance: double (nullable = true)\n",
      " |-- RatecodeID: integer (nullable = true)\n",
      " |-- store_and_fwd_flag: boolean (nullable = true)\n",
      " |-- PULocationID: integer (nullable = true)\n",
      " |-- DOLocationID: integer (nullable = true)\n",
      " |-- payment_type: integer (nullable = true)\n",
      " |-- fare_amount: double (nullable = true)\n",
      " |-- extra: double (nullable = true)\n",
      " |-- mta_tax: double (nullable = true)\n",
      " |-- tip_amount: double (nullable = true)\n",
      " |-- tolls_amount: double (nullable = true)\n",
      " |-- improvement_surcharge: double (nullable = true)\n",
      " |-- total_amount: double (nullable = true)\n",
      " |-- congestion_surcharge: double (nullable = true)\n",
      "\n"
     ]
    }
   ],
   "source": [
    "# before\n",
    "sdf_all.printSchema()\n",
    "# Cast longs to ints\n",
    "for field in ('PULocationID', 'DOLocationID', 'payment_type', 'RatecodeID', 'VendorID', 'passenger_count'):\n",
    "    sdf_all = sdf_all.withColumn(\n",
    "        field,\n",
    "        F.col(field).cast('INT')\n",
    "    )\n",
    "\n",
    "# change airport fee to double\n",
    "sdf_all = sdf_all.withColumn(\n",
    "    \"airport_fee\",\n",
    "    F.col(\"airport_fee\").cast('INT')\n",
    ")\n",
    "\n",
    "sdf_all = sdf_all.withColumn(\n",
    "    'store_and_fwd_flag',\n",
    "    (F.col(\"store_and_fwd_flag\") == 'Y').cast('BOOLEAN')\n",
    ")\n",
    "\n",
    "# remove airport fee, dunno why it doesnt work\n",
    "sdf_all = sdf_all.drop('airport_fee')\n",
    "\n",
    "# after\n",
    "sdf_all.printSchema()"
   ],
   "metadata": {
    "collapsed": false,
    "pycharm": {
     "name": "#%%\n"
    }
   }
  },
  {
   "cell_type": "code",
   "execution_count": 61,
   "outputs": [
    {
     "name": "stdout",
     "output_type": "stream",
     "text": [
      "+-------+------------------+-----------------+------------------+------------------+------------------+-------------------+------------------+------------------+---------------------+\n",
      "|summary|   passenger_count|    trip_distance|      payment_type|       fare_amount|             extra|            mta_tax|        tip_amount|      tolls_amount|improvement_surcharge|\n",
      "+-------+------------------+-----------------+------------------+------------------+------------------+-------------------+------------------+------------------+---------------------+\n",
      "|  count|            239066|           246436|            246436|            246436|            246436|             246436|            246436|            246436|               246436|\n",
      "|   mean|1.3885579714388496|6.114899365352501|1.1934863412813064|12.771523397556553|  1.00607727767047|0.49162865815059487| 2.388714189485343|0.3759088769498818|   0.2968202697671429|\n",
      "| stddev|0.9798024321445292|638.2008996838017| 0.500443872508818|12.160339892127775|1.2343336634021893|0.08124685021345263|2.7464244648165157|1.6814654449877109| 0.043167182183479376|\n",
      "|    min|                 0|              0.0|                 0|            -182.0|              -4.5|               -0.5|             -5.95|             -31.4|                 -0.3|\n",
      "|    max|                 7|        193150.52|                 5|             450.0|              8.25|                0.5|             180.0|              65.0|                  0.3|\n",
      "+-------+------------------+-----------------+------------------+------------------+------------------+-------------------+------------------+------------------+---------------------+\n",
      "\n"
     ]
    }
   ],
   "source": [
    "sdf_subsample = sdf.sample(fraction=0.1, seed=0)\n",
    "\n",
    "categorical_features = [\"PULocationID\", \"DOLocationID\", \"RatecodeID\"]\n",
    "feature_subset = [\"tpep_pickup_datetime\", \"tpep_dropoff_datetime\", \"passenger_count\", \"trip_distance\", \"payment_type\", \"fare_amount\", \"extra\", \"mta_tax\", \"tip_amount\", \"tolls_amount\", \"improvement_surcharge\"]\n",
    "\n",
    "sdf_subsample.describe(feature_subset).show()\n",
    "#sdf_all.describe().show()\n"
   ],
   "metadata": {
    "collapsed": false,
    "pycharm": {
     "name": "#%%\n"
    }
   }
  },
  {
   "cell_type": "code",
   "execution_count": null,
   "outputs": [],
   "source": [],
   "metadata": {
    "collapsed": false,
    "pycharm": {
     "name": "#%%\n"
    }
   }
  }
 ],
 "metadata": {
  "kernelspec": {
   "display_name": "Python 3",
   "language": "python",
   "name": "python3"
  },
  "language_info": {
   "codemirror_mode": {
    "name": "ipython",
    "version": 2
   },
   "file_extension": ".py",
   "mimetype": "text/x-python",
   "name": "python",
   "nbconvert_exporter": "python",
   "pygments_lexer": "ipython2",
   "version": "2.7.6"
  }
 },
 "nbformat": 4,
 "nbformat_minor": 0
}