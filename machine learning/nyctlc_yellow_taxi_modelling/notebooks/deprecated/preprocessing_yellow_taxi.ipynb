{
 "cells": [
  {
   "cell_type": "code",
   "execution_count": 1,
   "metadata": {
    "collapsed": true,
    "pycharm": {
     "name": "#%%\n"
    }
   },
   "outputs": [
    {
     "name": "stdout",
     "output_type": "stream",
     "text": [
      "22/08/17 12:29:36 WARN Utils: Your hostname, DESKTOP-85B961I resolves to a loopback address: 127.0.1.1; using 172.17.43.247 instead (on interface eth0)\n",
      "22/08/17 12:29:36 WARN Utils: Set SPARK_LOCAL_IP if you need to bind to another address\n"
     ]
    },
    {
     "name": "stderr",
     "output_type": "stream",
     "text": [
      "Setting default log level to \"WARN\".\n",
      "To adjust logging level use sc.setLogLevel(newLevel). For SparkR, use setLogLevel(newLevel).\n"
     ]
    },
    {
     "name": "stdout",
     "output_type": "stream",
     "text": [
      "22/08/17 12:29:38 WARN NativeCodeLoader: Unable to load native-hadoop library for your platform... using builtin-java classes where applicable\n"
     ]
    }
   ],
   "source": [
    "from pyspark.sql import SparkSession\n",
    "\n",
    "# Create a spark session (which will run spark jobs)\n",
    "spark = (\n",
    "    SparkSession.builder.appName(\"MAST30034_Yellow_Taxi_Preprocessing\")\n",
    "    .config(\"spark.sql.repl.eagerEval.enabled\", True)\n",
    "    .config(\"spark.sql.parquet.cacheMetadata\", \"true\")\n",
    "    .config(\"spark.executor.memory\", \"2g\")\n",
    "    .config(\"spark.driver.memory\", \"4g\")\n",
    "    .getOrCreate()\n",
    ")"
   ]
  },
  {
   "cell_type": "code",
   "execution_count": 3,
   "outputs": [
    {
     "name": "stderr",
     "output_type": "stream",
     "text": [
      "[Stage 1:>                                                          (0 + 1) / 1]\r"
     ]
    },
    {
     "name": "stdout",
     "output_type": "stream",
     "text": [
      "-RECORD 0------------------------------------\n",
      " VendorID              | 1                   \n",
      " tpep_pickup_datetime  | 2019-03-01 11:24:41 \n",
      " tpep_dropoff_datetime | 2019-03-01 11:25:31 \n",
      " passenger_count       | 1.0                 \n",
      " trip_distance         | 0.0                 \n",
      " RatecodeID            | 1.0                 \n",
      " store_and_fwd_flag    | N                   \n",
      " PULocationID          | 145                 \n",
      " DOLocationID          | 145                 \n",
      " payment_type          | 2                   \n",
      " fare_amount           | 2.5                 \n",
      " extra                 | 0.5                 \n",
      " mta_tax               | 0.5                 \n",
      " tip_amount            | 0.0                 \n",
      " tolls_amount          | 0.0                 \n",
      " improvement_surcharge | 0.3                 \n",
      " total_amount          | 3.8                 \n",
      " congestion_surcharge  | 0.0                 \n",
      " airport_fee           | null                \n",
      "only showing top 1 row\n",
      "\n"
     ]
    },
    {
     "name": "stderr",
     "output_type": "stream",
     "text": [
      "                                                                                \r"
     ]
    }
   ],
   "source": [
    "sdf_full = spark.read.parquet('../data/raw/tlc_data/tlc_yellow_data/2019*')\n",
    "sdf_full.show(1, vertical=True, truncate=100)"
   ],
   "metadata": {
    "collapsed": false,
    "pycharm": {
     "name": "#%%\n"
    }
   }
  },
  {
   "cell_type": "code",
   "execution_count": 4,
   "outputs": [
    {
     "name": "stderr",
     "output_type": "stream",
     "text": [
      "                                                                                \r"
     ]
    },
    {
     "data": {
      "text/plain": "84598444"
     },
     "execution_count": 4,
     "metadata": {},
     "output_type": "execute_result"
    }
   ],
   "source": [
    "sdf_full.count()"
   ],
   "metadata": {
    "collapsed": false,
    "pycharm": {
     "name": "#%%\n"
    }
   }
  },
  {
   "cell_type": "code",
   "execution_count": 5,
   "outputs": [],
   "source": [
    "# for working a sub sample is used\n",
    "sdf = sdf_full.sample(fraction=0.025, seed=0)"
   ],
   "metadata": {
    "collapsed": false,
    "pycharm": {
     "name": "#%%\n"
    }
   }
  },
  {
   "cell_type": "code",
   "execution_count": 6,
   "outputs": [
    {
     "name": "stderr",
     "output_type": "stream",
     "text": [
      "                                                                                \r"
     ]
    },
    {
     "data": {
      "text/plain": "2113986"
     },
     "execution_count": 6,
     "metadata": {},
     "output_type": "execute_result"
    }
   ],
   "source": [
    "sdf.count()"
   ],
   "metadata": {
    "collapsed": false,
    "pycharm": {
     "name": "#%%\n"
    }
   }
  },
  {
   "cell_type": "code",
   "execution_count": 7,
   "outputs": [
    {
     "name": "stdout",
     "output_type": "stream",
     "text": [
      "root\n",
      " |-- VendorID: long (nullable = true)\n",
      " |-- tpep_pickup_datetime: timestamp (nullable = true)\n",
      " |-- tpep_dropoff_datetime: timestamp (nullable = true)\n",
      " |-- passenger_count: double (nullable = true)\n",
      " |-- trip_distance: double (nullable = true)\n",
      " |-- RatecodeID: double (nullable = true)\n",
      " |-- store_and_fwd_flag: string (nullable = true)\n",
      " |-- PULocationID: long (nullable = true)\n",
      " |-- DOLocationID: long (nullable = true)\n",
      " |-- payment_type: long (nullable = true)\n",
      " |-- fare_amount: double (nullable = true)\n",
      " |-- extra: double (nullable = true)\n",
      " |-- mta_tax: double (nullable = true)\n",
      " |-- tip_amount: double (nullable = true)\n",
      " |-- tolls_amount: double (nullable = true)\n",
      " |-- improvement_surcharge: double (nullable = true)\n",
      " |-- total_amount: double (nullable = true)\n",
      " |-- congestion_surcharge: double (nullable = true)\n",
      " |-- airport_fee: integer (nullable = true)\n",
      "\n"
     ]
    }
   ],
   "source": [
    "sdf.printSchema()"
   ],
   "metadata": {
    "collapsed": false,
    "pycharm": {
     "name": "#%%\n"
    }
   }
  },
  {
   "cell_type": "code",
   "execution_count": 8,
   "outputs": [],
   "source": [
    "from pyspark.sql import functions as F"
   ],
   "metadata": {
    "collapsed": false,
    "pycharm": {
     "name": "#%%\n"
    }
   }
  },
  {
   "cell_type": "code",
   "execution_count": 9,
   "outputs": [],
   "source": [
    "# not sure about extra + mta tax + tolls_amount + imrpovement surcharge\n",
    "#retained_features = {\"RatecodeID\", \"PULocationID\", \"DOLocationID\", \"tpep_pickup_datetime\", \"tpep_dropoff_datetime\", \"passenger_count\", \"payment_type\", \"fare_amount\", \"tip_amount\", #\"congestion_surcharge\", \"extra\", \"trip_distance\"}\n",
    "\n",
    "# all features retained except for total_amount\n",
    "retained_features = {\"VendorID\", \"tpep_pickup_datetime\",\"tpep_dropoff_datetime\",\"passenger_count\",\"trip_distance\",\"RatecodeID\",\"store_and_fwd_flag\",\"PULocationID\",\"DOLocationID\",\"payment_type\",\"fare_amount\",\"extra\",\"mta_tax\",\"tip_amount\",\"tolls_amount\",\"improvement_surcharge\",\"congestion_surcharge\"}\n",
    "\n",
    "integer_features = {\"VendorID\", \"RatecodeID\", \"PULocationID\", \"DOLocationID\", \"payment_type\"}\n",
    "time_features = {\"tpep_pickup_datetime\", \"tpep_dropoff_datetime\"}\n",
    "boolean_features = {\"store_and_fwd_flag\"}\n",
    "non_categorical_features = retained_features - integer_features"
   ],
   "metadata": {
    "collapsed": false,
    "pycharm": {
     "name": "#%%\n"
    }
   }
  },
  {
   "cell_type": "code",
   "execution_count": 10,
   "outputs": [],
   "source": [
    "# Cast to correct types\n",
    "#for field in (\"VendorID\", \"PULocationID\", \"DOLocationID\", \"passenger_count\", \"RatecodeID\", \"payment_type\"):\n",
    "#    sdf = sdf.withColumn(\n",
    "#        field,\n",
    "##        F.col(field).cast('INT')\n",
    " #   )\n",
    "\n",
    "# cast relevant attributes to int\n",
    "for field in integer_features:\n",
    "    sdf = sdf.withColumn(\n",
    "        field,\n",
    "        F.col(field).cast('INT')\n",
    "    )\n",
    "\n",
    "# convert store_and_fwd_flag to boolean\n",
    "sdf = sdf.withColumn(\n",
    "    'store_and_fwd_flag',\n",
    "    (F.col(\"store_and_fwd_flag\") == 'Y').cast('BOOLEAN')\n",
    ")\n",
    "\n"
   ],
   "metadata": {
    "collapsed": false,
    "pycharm": {
     "name": "#%%\n"
    }
   }
  },
  {
   "cell_type": "code",
   "execution_count": 11,
   "outputs": [
    {
     "name": "stderr",
     "output_type": "stream",
     "text": [
      "[Stage 8:===============================================>         (10 + 2) / 12]\r"
     ]
    },
    {
     "name": "stdout",
     "output_type": "stream",
     "text": [
      "+-------+------------------+--------------------+------------------+------------------+-----------------+------------------+-----------------+---------------------+-------------------+\n",
      "|summary|             extra|congestion_surcharge|           mta_tax|   passenger_count|       tip_amount|     trip_distance|      fare_amount|improvement_surcharge|       tolls_amount|\n",
      "+-------+------------------+--------------------+------------------+------------------+-----------------+------------------+-----------------+---------------------+-------------------+\n",
      "|  count|           2113986|             1981211|           2113986|           2102726|          2113986|           2113986|          2113986|              2113986|            2113986|\n",
      "|   mean|1.0907474174379583|  2.1939951120804397|0.4941986465378673|1.5621084249683506|2.192062042984222|3.0210200114853976|13.36594043669184|  0.29859317895276305|0.38923132414314887|\n",
      "| stddev|1.2493076618343268|  0.8307012172968692|0.0620966689124669|1.2072756813860266|2.828045975588305|3.9528554196445675|12.48496796805179|   0.0279720418156226|  1.848770410592128|\n",
      "|    min|              -4.5|                -2.5|              -0.5|               0.0|            -37.7|            -28.43|           -600.0|                 -0.3|              -23.0|\n",
      "|    max|              18.5|                2.75|               3.0|               9.0|           342.34|             307.5|           2253.5|                  1.0|             765.76|\n",
      "+-------+------------------+--------------------+------------------+------------------+-----------------+------------------+-----------------+---------------------+-------------------+\n",
      "\n"
     ]
    },
    {
     "name": "stderr",
     "output_type": "stream",
     "text": [
      "                                                                                \r"
     ]
    }
   ],
   "source": [
    "sdf.describe(*non_categorical_features).show()"
   ],
   "metadata": {
    "collapsed": false,
    "pycharm": {
     "name": "#%%\n"
    }
   }
  },
  {
   "cell_type": "markdown",
   "source": [
    "# Findings #\n",
    "* Fare amount has outliers\n",
    "* congestion surcharge shouldnt be negative\n",
    "* extra shouldnt be negative\n",
    "* passenger count should be at most 7\n",
    "* tip amount should be positive only\n",
    "* trip distance should be positive\n",
    "\n",
    "* VendorID should be 1 or 2, contains 4,5...\n",
    "* RatecodeID should be 1:6 -> contains nulls + 99's?\n",
    "* PULocation/DOLocationID's should be between 1-263\n",
    "* Payment type should be 1 or 2"
   ],
   "metadata": {
    "collapsed": false,
    "pycharm": {
     "name": "#%% md\n"
    }
   }
  },
  {
   "cell_type": "code",
   "execution_count": 19,
   "outputs": [
    {
     "name": "stderr",
     "output_type": "stream",
     "text": [
      "                                                                                \r"
     ]
    },
    {
     "name": "stdout",
     "output_type": "stream",
     "text": [
      "+------------+-------+\n",
      "|payment_type|  count|\n",
      "+------------+-------+\n",
      "|           0|  44578|\n",
      "|           1|6060970|\n",
      "|           2|2289811|\n",
      "|           3|  44738|\n",
      "|           4|  18624|\n",
      "|           5|      3|\n",
      "+------------+-------+\n",
      "\n"
     ]
    },
    {
     "name": "stderr",
     "output_type": "stream",
     "text": [
      "                                                                                \r"
     ]
    },
    {
     "name": "stdout",
     "output_type": "stream",
     "text": [
      "+------------+-----+\n",
      "|PULocationID|count|\n",
      "+------------+-----+\n",
      "|           1|  858|\n",
      "|           2|   13|\n",
      "|           3|  248|\n",
      "|           4|14498|\n",
      "|           5|   45|\n",
      "|           6|   21|\n",
      "|           7|11756|\n",
      "|           8|  119|\n",
      "|           9|  187|\n",
      "|          10| 3171|\n",
      "|          11|  179|\n",
      "|          12| 3687|\n",
      "|          13|73320|\n",
      "|          14|  918|\n",
      "|          15|  190|\n",
      "|          16|  293|\n",
      "|          17| 1714|\n",
      "|          18|  320|\n",
      "|          19|  230|\n",
      "|          20|  212|\n",
      "+------------+-----+\n",
      "only showing top 20 rows\n",
      "\n"
     ]
    },
    {
     "name": "stderr",
     "output_type": "stream",
     "text": [
      "                                                                                \r"
     ]
    },
    {
     "name": "stdout",
     "output_type": "stream",
     "text": [
      "+------------+-----+\n",
      "|DOLocationID|count|\n",
      "+------------+-----+\n",
      "|           1|17647|\n",
      "|           2|   10|\n",
      "|           3|  734|\n",
      "|           4|36530|\n",
      "|           5|   95|\n",
      "|           6|  146|\n",
      "|           7|31977|\n",
      "|           8|  162|\n",
      "|           9|  831|\n",
      "|          10| 6384|\n",
      "|          11|  679|\n",
      "|          12| 5372|\n",
      "|          13|78176|\n",
      "|          14| 6658|\n",
      "|          15|  911|\n",
      "|          16| 1465|\n",
      "|          17|10415|\n",
      "|          18| 1485|\n",
      "|          19|  783|\n",
      "|          20|  887|\n",
      "+------------+-----+\n",
      "only showing top 20 rows\n",
      "\n"
     ]
    },
    {
     "name": "stderr",
     "output_type": "stream",
     "text": [
      "                                                                                \r"
     ]
    },
    {
     "name": "stdout",
     "output_type": "stream",
     "text": [
      "+----------+-------+\n",
      "|RatecodeID|  count|\n",
      "+----------+-------+\n",
      "|      null|  44578|\n",
      "|         1|8115236|\n",
      "|         2| 223798|\n",
      "|         3|  19149|\n",
      "|         4|   6595|\n",
      "|         5|  48915|\n",
      "|         6|     55|\n",
      "|        99|    398|\n",
      "+----------+-------+\n",
      "\n"
     ]
    },
    {
     "name": "stderr",
     "output_type": "stream",
     "text": [
      "[Stage 26:=================================>                       (7 + 4) / 12]\r"
     ]
    },
    {
     "name": "stdout",
     "output_type": "stream",
     "text": [
      "+--------+-------+\n",
      "|VendorID|  count|\n",
      "+--------+-------+\n",
      "|       1|3036220|\n",
      "|       2|5395640|\n",
      "|       4|  26842|\n",
      "|       5|     22|\n",
      "+--------+-------+\n",
      "\n"
     ]
    },
    {
     "name": "stderr",
     "output_type": "stream",
     "text": [
      "                                                                                \r"
     ]
    }
   ],
   "source": [
    "for x in integer_features:\n",
    "    sdf.groupBy(x).count().sort(x).show()"
   ],
   "metadata": {
    "collapsed": false,
    "pycharm": {
     "name": "#%%\n"
    }
   }
  },
  {
   "cell_type": "code",
   "execution_count": 20,
   "outputs": [
    {
     "name": "stdout",
     "output_type": "stream",
     "text": [
      "{'payment_type', 'PULocationID', 'DOLocationID', 'RatecodeID', 'VendorID'}\n",
      "{'tpep_pickup_datetime', 'extra', 'tolls_amount', 'store_and_fwd_flag', 'mta_tax', 'congestion_surcharge', 'tip_amount', 'improvement_surcharge', 'passenger_count', 'fare_amount', 'trip_distance', 'tpep_dropoff_datetime'}\n"
     ]
    },
    {
     "data": {
      "text/plain": "8458724"
     },
     "execution_count": 20,
     "metadata": {},
     "output_type": "execute_result"
    }
   ],
   "source": [
    "print(integer_features)\n",
    "print(non_categorical_features)\n",
    "sdf.count()"
   ],
   "metadata": {
    "collapsed": false,
    "pycharm": {
     "name": "#%%\n"
    }
   }
  },
  {
   "cell_type": "code",
   "execution_count": 25,
   "outputs": [
    {
     "ename": "TypeError",
     "evalue": "when() missing 1 required positional argument: 'value'",
     "output_type": "error",
     "traceback": [
      "\u001B[0;31m---------------------------------------------------------------------------\u001B[0m",
      "\u001B[0;31mTypeError\u001B[0m                                 Traceback (most recent call last)",
      "Input \u001B[0;32mIn [25]\u001B[0m, in \u001B[0;36m<cell line: 2>\u001B[0;34m()\u001B[0m\n\u001B[1;32m      1\u001B[0m \u001B[38;5;66;03m# inspect tolls_amount\u001B[39;00m\n\u001B[1;32m      2\u001B[0m sdf\u001B[38;5;241m.\u001B[39mselect(\u001B[38;5;124m'\u001B[39m\u001B[38;5;124mtolls_amount\u001B[39m\u001B[38;5;124m'\u001B[39m,\n\u001B[0;32m----> 3\u001B[0m                \u001B[43mF\u001B[49m\u001B[38;5;241;43m.\u001B[39;49m\u001B[43mwhen\u001B[49m\u001B[43m(\u001B[49m\n\u001B[1;32m      4\u001B[0m \u001B[43m                   \u001B[49m\u001B[43m(\u001B[49m\u001B[43mF\u001B[49m\u001B[38;5;241;43m.\u001B[39;49m\u001B[43mcol\u001B[49m\u001B[43m(\u001B[49m\u001B[38;5;124;43m'\u001B[39;49m\u001B[38;5;124;43mtolls_amount\u001B[39;49m\u001B[38;5;124;43m'\u001B[39;49m\u001B[43m)\u001B[49m\u001B[43m \u001B[49m\u001B[38;5;241;43m>\u001B[39;49m\u001B[38;5;241;43m=\u001B[39;49m\u001B[43m \u001B[49m\u001B[38;5;241;43m0\u001B[39;49m\u001B[43m)\u001B[49m\n\u001B[1;32m      5\u001B[0m \u001B[43m               \u001B[49m\u001B[43m)\u001B[49m)\u001B[38;5;241m.\u001B[39msort(\u001B[38;5;124m'\u001B[39m\u001B[38;5;124mtolls_amount\u001B[39m\u001B[38;5;124m'\u001B[39m)\u001B[38;5;241m.\u001B[39mlimit(\u001B[38;5;241m50\u001B[39m)\n",
      "\u001B[0;31mTypeError\u001B[0m: when() missing 1 required positional argument: 'value'"
     ]
    }
   ],
   "source": [],
   "metadata": {
    "collapsed": false,
    "pycharm": {
     "name": "#%%\n"
    }
   }
  },
  {
   "cell_type": "code",
   "execution_count": 13,
   "outputs": [],
   "source": [
    "# Filter out bad records\n",
    "sdf = sdf.withColumn(\n",
    "    'is_valid_record',\n",
    "    F.when(\n",
    "        (F.col('trip_distance') > 0)\n",
    "        & (F.col('fare_amount') > 0)\n",
    "        & ((F.col('PULocationID') >= 1) & (F.col('PULocationID') <= 263))\n",
    "        & ((F.col('DOLocationID') >= 1) & (F.col('DOLocationID') <= 263))\n",
    "        & (F.col('congestion_surcharge') >= 0)\n",
    "        & (F.col('extra') >= 0)\n",
    "        & (F.col('passenger_count') <= 6)\n",
    "        & (F.col('tip_amount') >= 0)\n",
    "        & ((F.col('VendorID') <=2) & (F.col('VendorID') >=1))\n",
    "        & ((F.col('payment_type') <= 2) & (F.col('payment_type') >= 1))\n",
    "        & ((F.col('RatecodeID') >= 1) & (F.col('RatecodeID') <= 6))\n",
    "        & (F.col('tolls_amount') >= 0)\n",
    "        & (F.col('tolls_amount') <= 30)\n",
    "        & (F.col('mta_tax') >= 0)\n",
    "        & (F.col('tip_amount') >= 0)\n",
    "        & (F.col('improvement_surcharge') >= 0)\n",
    "        & (F.col('total_amount') > 0),\n",
    "        True\n",
    "    ).otherwise(False)\n",
    ")"
   ],
   "metadata": {
    "collapsed": false,
    "pycharm": {
     "name": "#%%\n"
    }
   }
  },
  {
   "cell_type": "code",
   "execution_count": 14,
   "outputs": [
    {
     "name": "stderr",
     "output_type": "stream",
     "text": [
      "[Stage 11:==============================================>         (10 + 2) / 12]\r"
     ]
    },
    {
     "name": "stdout",
     "output_type": "stream",
     "text": [
      "+---------------+-------+\n",
      "|is_valid_record|  count|\n",
      "+---------------+-------+\n",
      "|           true|1923409|\n",
      "|          false| 190577|\n",
      "+---------------+-------+\n",
      "\n"
     ]
    },
    {
     "name": "stderr",
     "output_type": "stream",
     "text": [
      "                                                                                \r"
     ]
    }
   ],
   "source": [
    "sdf.groupBy(\"is_valid_record\").count().show()"
   ],
   "metadata": {
    "collapsed": false,
    "pycharm": {
     "name": "#%%\n"
    }
   }
  },
  {
   "cell_type": "code",
   "execution_count": 52,
   "outputs": [],
   "source": [
    "sdf = sdf.filter(sdf.is_valid_record == True)"
   ],
   "metadata": {
    "collapsed": false,
    "pycharm": {
     "name": "#%%\n"
    }
   }
  },
  {
   "cell_type": "code",
   "execution_count": 53,
   "outputs": [
    {
     "name": "stderr",
     "output_type": "stream",
     "text": [
      "                                                                                \r"
     ]
    },
    {
     "data": {
      "text/plain": "7696464"
     },
     "execution_count": 53,
     "metadata": {},
     "output_type": "execute_result"
    }
   ],
   "source": [
    "sdf.count()"
   ],
   "metadata": {
    "collapsed": false,
    "pycharm": {
     "name": "#%%\n"
    }
   }
  },
  {
   "cell_type": "code",
   "execution_count": 50,
   "outputs": [
    {
     "name": "stderr",
     "output_type": "stream",
     "text": [
      "                                                                                \r"
     ]
    },
    {
     "data": {
      "text/plain": "+--------+--------------------+---------------------+---------------+-------------+----------+------------------+------------+------------+------------+-----------+-----+-------+----------+------------+---------------------+------------+--------------------+-----------+---------------+\n|VendorID|tpep_pickup_datetime|tpep_dropoff_datetime|passenger_count|trip_distance|RatecodeID|store_and_fwd_flag|PULocationID|DOLocationID|payment_type|fare_amount|extra|mta_tax|tip_amount|tolls_amount|improvement_surcharge|total_amount|congestion_surcharge|airport_fee|is_valid_record|\n+--------+--------------------+---------------------+---------------+-------------+----------+------------------+------------+------------+------------+-----------+-----+-------+----------+------------+---------------------+------------+--------------------+-----------+---------------+\n|       1| 2019-05-16 03:22:11|  2019-05-16 03:33:40|            1.0|        401.4|         1|             false|         152|          74|           1|        8.5|  1.0|    0.5|      1.55|         0.0|                  0.3|       11.85|                 0.0|       null|           true|\n|       1| 2019-07-17 23:42:23|  2019-07-18 00:15:25|            1.0|        307.5|         1|             false|         161|         138|           1|       28.5|  2.5|    0.5|       5.0|         0.0|                  0.3|        36.8|                 2.5|       null|           true|\n|       2| 2019-04-05 19:49:23|  2019-04-06 02:19:54|            1.0|       162.77|         4|             false|         229|         233|           2|      907.0|  0.0|    0.5|       0.0|       12.24|                  0.3|      922.54|                 2.5|       null|           true|\n|       2| 2019-10-14 23:40:33|  2019-10-15 05:17:49|            1.0|       133.52|         5|             false|          50|          48|           1|      300.0|  0.0|    0.0|      83.0|       12.24|                  0.3|      398.04|                 2.5|       null|           true|\n|       1| 2019-03-16 15:16:16|  2019-03-16 17:49:31|            1.0|         99.2|         5|             false|         179|         138|           2|      310.0|  0.0|    0.0|       0.0|         0.0|                  0.3|       310.3|                 0.0|       null|           true|\n|       1| 2019-08-23 12:09:08|  2019-08-23 15:41:05|            1.0|         97.4|         4|             false|          68|          68|           1|      514.5|  3.0|    0.5|       0.0|        6.12|                  0.3|      524.42|                 2.5|       null|           true|\n|       1| 2019-07-20 01:07:05|  2019-07-20 05:47:45|            1.0|         95.0|         1|             false|         164|          39|           1|      283.0|  2.5|    0.5|     289.5|        6.12|                  0.3|      581.92|                 2.5|       null|           true|\n|       2| 2019-04-26 12:28:31|  2019-04-26 14:49:12|            5.0|        85.88|         5|             false|         164|         130|           2|       40.0|  2.5|    0.0|       0.0|        21.0|                  0.3|        63.8|                 0.0|       null|           true|\n|       1| 2019-01-22 19:54:28|  2019-01-22 22:34:32|            2.0|         84.3|         2|             false|         132|          48|           1|       52.0|  0.0|    0.5|       5.0|         0.0|                  0.3|        57.8|                 0.0|       null|           true|\n|       1| 2019-08-13 07:18:36|  2019-08-13 09:52:19|            1.0|         84.0|         1|             false|         186|         186|           1|      229.0|  3.0|    0.5|    236.53|        6.12|                  0.3|      475.45|                 2.5|       null|           true|\n|       1| 2019-10-27 02:33:05|  2019-10-27 04:42:37|            1.0|         83.2|         1|             false|         238|         238|           1|      220.0|  2.5|    0.5|      57.2|         5.6|                  0.3|       286.1|                 2.5|       null|           true|\n|       1| 2019-08-31 14:43:59|  2019-08-31 16:42:55|            1.0|         82.5|         1|             false|         186|         186|           1|      216.0|  3.0|    0.5|    223.66|        6.12|                  0.3|      449.58|                 2.5|       null|           true|\n|       2| 2019-06-28 22:20:46|  2019-06-29 01:19:25|            1.0|        80.78|         5|             false|         164|         164|           1|      118.0|  0.0|    0.0|      34.7|        18.0|                  0.3|       173.5|                 2.5|       null|           true|\n|       2| 2019-06-24 22:39:03|  2019-06-25 00:47:37|            2.0|        72.97|         1|             false|         132|         132|           1|      191.5|  0.0|    0.5|      50.0|       12.24|                  0.3|      254.54|                 0.0|       null|           true|\n|       1| 2019-07-22 01:33:31|  2019-07-22 04:08:28|            1.0|         72.3|         4|             false|         211|          39|           1|      356.5|  2.5|    0.5|    362.26|        6.12|                  0.3|      728.18|                 2.5|       null|           true|\n|       2| 2019-02-19 18:54:26|  2019-02-19 22:06:39|            1.0|        68.62|         5|             false|         132|         231|           2|      125.0|  0.0|    0.0|       0.0|       24.02|                  0.3|      149.32|                 0.0|       null|           true|\n|       2| 2019-03-06 19:08:13|  2019-03-06 20:47:57|            1.0|        65.06|         5|             false|         132|         132|           1|      200.0|  0.0|    0.5|      30.0|        25.0|                  0.3|       255.8|                 0.0|       null|           true|\n|       2| 2019-10-28 18:55:15|  2019-10-29 00:55:06|            1.0|        64.98|         2|             false|         132|         132|           2|       52.0|  2.5|    0.5|       0.0|        6.12|                  0.3|       61.42|                 0.0|       null|           true|\n|       2| 2019-08-03 21:09:59|  2019-08-04 02:38:31|            3.0|        63.85|         1|             false|         148|         142|           2|      255.0|  0.0|    0.5|       0.0|        6.12|                  0.3|      264.42|                 2.5|       null|           true|\n|       2| 2019-06-17 02:26:58|  2019-06-17 04:11:27|            1.0|        63.35|         1|             false|         136|         132|           1|      166.0|  0.0|    0.5|      50.0|        6.12|                  0.3|      222.92|                 0.0|       null|           true|\n+--------+--------------------+---------------------+---------------+-------------+----------+------------------+------------+------------+------------+-----------+-----+-------+----------+------------+---------------------+------------+--------------------+-----------+---------------+",
      "text/html": "<table border='1'>\n<tr><th>VendorID</th><th>tpep_pickup_datetime</th><th>tpep_dropoff_datetime</th><th>passenger_count</th><th>trip_distance</th><th>RatecodeID</th><th>store_and_fwd_flag</th><th>PULocationID</th><th>DOLocationID</th><th>payment_type</th><th>fare_amount</th><th>extra</th><th>mta_tax</th><th>tip_amount</th><th>tolls_amount</th><th>improvement_surcharge</th><th>total_amount</th><th>congestion_surcharge</th><th>airport_fee</th><th>is_valid_record</th></tr>\n<tr><td>1</td><td>2019-05-16 03:22:11</td><td>2019-05-16 03:33:40</td><td>1.0</td><td>401.4</td><td>1</td><td>false</td><td>152</td><td>74</td><td>1</td><td>8.5</td><td>1.0</td><td>0.5</td><td>1.55</td><td>0.0</td><td>0.3</td><td>11.85</td><td>0.0</td><td>null</td><td>true</td></tr>\n<tr><td>1</td><td>2019-07-17 23:42:23</td><td>2019-07-18 00:15:25</td><td>1.0</td><td>307.5</td><td>1</td><td>false</td><td>161</td><td>138</td><td>1</td><td>28.5</td><td>2.5</td><td>0.5</td><td>5.0</td><td>0.0</td><td>0.3</td><td>36.8</td><td>2.5</td><td>null</td><td>true</td></tr>\n<tr><td>2</td><td>2019-04-05 19:49:23</td><td>2019-04-06 02:19:54</td><td>1.0</td><td>162.77</td><td>4</td><td>false</td><td>229</td><td>233</td><td>2</td><td>907.0</td><td>0.0</td><td>0.5</td><td>0.0</td><td>12.24</td><td>0.3</td><td>922.54</td><td>2.5</td><td>null</td><td>true</td></tr>\n<tr><td>2</td><td>2019-10-14 23:40:33</td><td>2019-10-15 05:17:49</td><td>1.0</td><td>133.52</td><td>5</td><td>false</td><td>50</td><td>48</td><td>1</td><td>300.0</td><td>0.0</td><td>0.0</td><td>83.0</td><td>12.24</td><td>0.3</td><td>398.04</td><td>2.5</td><td>null</td><td>true</td></tr>\n<tr><td>1</td><td>2019-03-16 15:16:16</td><td>2019-03-16 17:49:31</td><td>1.0</td><td>99.2</td><td>5</td><td>false</td><td>179</td><td>138</td><td>2</td><td>310.0</td><td>0.0</td><td>0.0</td><td>0.0</td><td>0.0</td><td>0.3</td><td>310.3</td><td>0.0</td><td>null</td><td>true</td></tr>\n<tr><td>1</td><td>2019-08-23 12:09:08</td><td>2019-08-23 15:41:05</td><td>1.0</td><td>97.4</td><td>4</td><td>false</td><td>68</td><td>68</td><td>1</td><td>514.5</td><td>3.0</td><td>0.5</td><td>0.0</td><td>6.12</td><td>0.3</td><td>524.42</td><td>2.5</td><td>null</td><td>true</td></tr>\n<tr><td>1</td><td>2019-07-20 01:07:05</td><td>2019-07-20 05:47:45</td><td>1.0</td><td>95.0</td><td>1</td><td>false</td><td>164</td><td>39</td><td>1</td><td>283.0</td><td>2.5</td><td>0.5</td><td>289.5</td><td>6.12</td><td>0.3</td><td>581.92</td><td>2.5</td><td>null</td><td>true</td></tr>\n<tr><td>2</td><td>2019-04-26 12:28:31</td><td>2019-04-26 14:49:12</td><td>5.0</td><td>85.88</td><td>5</td><td>false</td><td>164</td><td>130</td><td>2</td><td>40.0</td><td>2.5</td><td>0.0</td><td>0.0</td><td>21.0</td><td>0.3</td><td>63.8</td><td>0.0</td><td>null</td><td>true</td></tr>\n<tr><td>1</td><td>2019-01-22 19:54:28</td><td>2019-01-22 22:34:32</td><td>2.0</td><td>84.3</td><td>2</td><td>false</td><td>132</td><td>48</td><td>1</td><td>52.0</td><td>0.0</td><td>0.5</td><td>5.0</td><td>0.0</td><td>0.3</td><td>57.8</td><td>0.0</td><td>null</td><td>true</td></tr>\n<tr><td>1</td><td>2019-08-13 07:18:36</td><td>2019-08-13 09:52:19</td><td>1.0</td><td>84.0</td><td>1</td><td>false</td><td>186</td><td>186</td><td>1</td><td>229.0</td><td>3.0</td><td>0.5</td><td>236.53</td><td>6.12</td><td>0.3</td><td>475.45</td><td>2.5</td><td>null</td><td>true</td></tr>\n<tr><td>1</td><td>2019-10-27 02:33:05</td><td>2019-10-27 04:42:37</td><td>1.0</td><td>83.2</td><td>1</td><td>false</td><td>238</td><td>238</td><td>1</td><td>220.0</td><td>2.5</td><td>0.5</td><td>57.2</td><td>5.6</td><td>0.3</td><td>286.1</td><td>2.5</td><td>null</td><td>true</td></tr>\n<tr><td>1</td><td>2019-08-31 14:43:59</td><td>2019-08-31 16:42:55</td><td>1.0</td><td>82.5</td><td>1</td><td>false</td><td>186</td><td>186</td><td>1</td><td>216.0</td><td>3.0</td><td>0.5</td><td>223.66</td><td>6.12</td><td>0.3</td><td>449.58</td><td>2.5</td><td>null</td><td>true</td></tr>\n<tr><td>2</td><td>2019-06-28 22:20:46</td><td>2019-06-29 01:19:25</td><td>1.0</td><td>80.78</td><td>5</td><td>false</td><td>164</td><td>164</td><td>1</td><td>118.0</td><td>0.0</td><td>0.0</td><td>34.7</td><td>18.0</td><td>0.3</td><td>173.5</td><td>2.5</td><td>null</td><td>true</td></tr>\n<tr><td>2</td><td>2019-06-24 22:39:03</td><td>2019-06-25 00:47:37</td><td>2.0</td><td>72.97</td><td>1</td><td>false</td><td>132</td><td>132</td><td>1</td><td>191.5</td><td>0.0</td><td>0.5</td><td>50.0</td><td>12.24</td><td>0.3</td><td>254.54</td><td>0.0</td><td>null</td><td>true</td></tr>\n<tr><td>1</td><td>2019-07-22 01:33:31</td><td>2019-07-22 04:08:28</td><td>1.0</td><td>72.3</td><td>4</td><td>false</td><td>211</td><td>39</td><td>1</td><td>356.5</td><td>2.5</td><td>0.5</td><td>362.26</td><td>6.12</td><td>0.3</td><td>728.18</td><td>2.5</td><td>null</td><td>true</td></tr>\n<tr><td>2</td><td>2019-02-19 18:54:26</td><td>2019-02-19 22:06:39</td><td>1.0</td><td>68.62</td><td>5</td><td>false</td><td>132</td><td>231</td><td>2</td><td>125.0</td><td>0.0</td><td>0.0</td><td>0.0</td><td>24.02</td><td>0.3</td><td>149.32</td><td>0.0</td><td>null</td><td>true</td></tr>\n<tr><td>2</td><td>2019-03-06 19:08:13</td><td>2019-03-06 20:47:57</td><td>1.0</td><td>65.06</td><td>5</td><td>false</td><td>132</td><td>132</td><td>1</td><td>200.0</td><td>0.0</td><td>0.5</td><td>30.0</td><td>25.0</td><td>0.3</td><td>255.8</td><td>0.0</td><td>null</td><td>true</td></tr>\n<tr><td>2</td><td>2019-10-28 18:55:15</td><td>2019-10-29 00:55:06</td><td>1.0</td><td>64.98</td><td>2</td><td>false</td><td>132</td><td>132</td><td>2</td><td>52.0</td><td>2.5</td><td>0.5</td><td>0.0</td><td>6.12</td><td>0.3</td><td>61.42</td><td>0.0</td><td>null</td><td>true</td></tr>\n<tr><td>2</td><td>2019-08-03 21:09:59</td><td>2019-08-04 02:38:31</td><td>3.0</td><td>63.85</td><td>1</td><td>false</td><td>148</td><td>142</td><td>2</td><td>255.0</td><td>0.0</td><td>0.5</td><td>0.0</td><td>6.12</td><td>0.3</td><td>264.42</td><td>2.5</td><td>null</td><td>true</td></tr>\n<tr><td>2</td><td>2019-06-17 02:26:58</td><td>2019-06-17 04:11:27</td><td>1.0</td><td>63.35</td><td>1</td><td>false</td><td>136</td><td>132</td><td>1</td><td>166.0</td><td>0.0</td><td>0.5</td><td>50.0</td><td>6.12</td><td>0.3</td><td>222.92</td><td>0.0</td><td>null</td><td>true</td></tr>\n</table>\n"
     },
     "execution_count": 50,
     "metadata": {},
     "output_type": "execute_result"
    }
   ],
   "source": [
    "# inspect tolls_amount\n",
    "# investigate -> tolls amount, extra, mta_tax, congestion surcharge, tip_amount, improvement_surcharge, trip_distance\n",
    "\n",
    "sdf.sort(sdf.trip_distance.desc()).limit(20)"
   ],
   "metadata": {
    "collapsed": false,
    "pycharm": {
     "name": "#%%\n"
    }
   }
  },
  {
   "cell_type": "markdown",
   "source": [
    "Tolls:\n",
    "Observe that tolls has a mean of 0.37 and std 1.6 => the entries with outlandish tolls should be removed.\n",
    "E.g. entry with 1.6 miles distance and 66 usd of tolls? yikes\n",
    "Tolls will be capped at 20 usd"
   ],
   "metadata": {
    "collapsed": false,
    "pycharm": {
     "name": "#%% md\n"
    }
   }
  },
  {
   "cell_type": "code",
   "execution_count": 54,
   "outputs": [
    {
     "name": "stderr",
     "output_type": "stream",
     "text": [
      "[Stage 99:==============================================>         (10 + 2) / 12]\r"
     ]
    },
    {
     "name": "stdout",
     "output_type": "stream",
     "text": [
      "+-------+------------------+-------------------+--------------------+--------------------+------------------+---------------------+------------------+------------------+------------------+\n",
      "|summary|             extra|       tolls_amount|             mta_tax|congestion_surcharge|        tip_amount|improvement_surcharge|   passenger_count|       fare_amount|     trip_distance|\n",
      "+-------+------------------+-------------------+--------------------+--------------------+------------------+---------------------+------------------+------------------+------------------+\n",
      "|  count|           7696464|            7696464|             7696464|             7696464|           7696464|              7696464|           7696464|           7696464|           7696464|\n",
      "|   mean|1.1358013809978202|0.36445805502360723|  0.4984667049699707|  2.2294679738643617|2.2150395181481195|   0.2999679982885375|1.5675646634610387|13.048213169060483|2.9877111489120476|\n",
      "| stddev|1.2593628512748982| 1.5562518064305295|0.027844620080048885|  0.7766107222760436| 2.659701647725794| 0.003098304340909...|1.2124401281805597|10.968569642668037|3.8038638552140895|\n",
      "|    min|               0.0|                0.0|                 0.0|                 0.0|               0.0|                  0.0|               0.0|              0.01|              0.01|\n",
      "|    max|              11.8|               30.0|                 3.3|                2.75|            404.44|                  0.3|               6.0|            2253.5|             401.4|\n",
      "+-------+------------------+-------------------+--------------------+--------------------+------------------+---------------------+------------------+------------------+------------------+\n",
      "\n"
     ]
    },
    {
     "name": "stderr",
     "output_type": "stream",
     "text": [
      "                                                                                \r"
     ]
    }
   ],
   "source": [
    "sdf.describe(*non_categorical_features).show()"
   ],
   "metadata": {
    "collapsed": false,
    "pycharm": {
     "name": "#%%\n"
    }
   }
  },
  {
   "cell_type": "code",
   "execution_count": null,
   "outputs": [],
   "source": [],
   "metadata": {
    "collapsed": false,
    "pycharm": {
     "name": "#%%\n"
    }
   }
  },
  {
   "cell_type": "code",
   "execution_count": 59,
   "outputs": [
    {
     "name": "stderr",
     "output_type": "stream",
     "text": [
      "                                                                                \r"
     ]
    }
   ],
   "source": [
    "export_relative_dir = '../data/curated/'\n",
    "sdf.write.mode('overwrite').parquet(export_relative_dir + \"yellow_taxi_cleaned_subsampled.parquet\")\n"
   ],
   "metadata": {
    "collapsed": false,
    "pycharm": {
     "name": "#%%\n"
    }
   }
  },
  {
   "cell_type": "code",
   "execution_count": 60,
   "outputs": [
    {
     "data": {
      "text/plain": "<bound method SparkSession.stop of <pyspark.sql.session.SparkSession object at 0x7ff7fbddd280>>"
     },
     "execution_count": 60,
     "metadata": {},
     "output_type": "execute_result"
    }
   ],
   "source": [
    "# trying to stop spark session and free up memory...\n",
    "sdf.unpersist()\n",
    "spark.stop"
   ],
   "metadata": {
    "collapsed": false,
    "pycharm": {
     "name": "#%%\n"
    }
   }
  },
  {
   "cell_type": "code",
   "execution_count": null,
   "outputs": [],
   "source": [],
   "metadata": {
    "collapsed": false,
    "pycharm": {
     "name": "#%%\n"
    }
   }
  }
 ],
 "metadata": {
  "kernelspec": {
   "display_name": "Python 3",
   "language": "python",
   "name": "python3"
  },
  "language_info": {
   "codemirror_mode": {
    "name": "ipython",
    "version": 2
   },
   "file_extension": ".py",
   "mimetype": "text/x-python",
   "name": "python",
   "nbconvert_exporter": "python",
   "pygments_lexer": "ipython2",
   "version": "2.7.6"
  }
 },
 "nbformat": 4,
 "nbformat_minor": 0
}