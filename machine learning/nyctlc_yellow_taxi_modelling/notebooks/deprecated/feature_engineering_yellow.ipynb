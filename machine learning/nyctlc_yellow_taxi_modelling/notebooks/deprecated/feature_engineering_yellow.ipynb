{
 "cells": [
  {
   "cell_type": "code",
   "execution_count": 2,
   "metadata": {
    "collapsed": true,
    "pycharm": {
     "name": "#%%\n"
    }
   },
   "outputs": [
    {
     "name": "stdout",
     "output_type": "stream",
     "text": [
      "22/08/17 10:57:36 WARN Utils: Your hostname, DESKTOP-85B961I resolves to a loopback address: 127.0.1.1; using 172.17.43.244 instead (on interface eth0)\n",
      "22/08/17 10:57:36 WARN Utils: Set SPARK_LOCAL_IP if you need to bind to another address\n"
     ]
    },
    {
     "name": "stderr",
     "output_type": "stream",
     "text": [
      "Setting default log level to \"WARN\".\n",
      "To adjust logging level use sc.setLogLevel(newLevel). For SparkR, use setLogLevel(newLevel).\n"
     ]
    },
    {
     "name": "stdout",
     "output_type": "stream",
     "text": [
      "22/08/17 10:57:39 WARN NativeCodeLoader: Unable to load native-hadoop library for your platform... using builtin-java classes where applicable\n"
     ]
    }
   ],
   "source": [
    "from pyspark.sql import SparkSession\n",
    "\n",
    "# Create a spark session (which will run spark jobs)\n",
    "spark = (\n",
    "    SparkSession.builder.appName(\"MAST30034_Yellow_Taxi_Inspection\")\n",
    "    .config(\"spark.sql.repl.eagerEval.enabled\", True)\n",
    "    .config(\"spark.sql.parquet.cacheMetadata\", \"true\")\n",
    "    .config(\"spark.executor.memory\", \"2g\")\n",
    "    .config(\"spark.driver.memory\", \"4g\")\n",
    "    .getOrCreate()\n",
    ")"
   ]
  },
  {
   "cell_type": "code",
   "execution_count": 3,
   "outputs": [
    {
     "name": "stderr",
     "output_type": "stream",
     "text": [
      "                                                                                \r"
     ]
    }
   ],
   "source": [
    "sdf = spark.read.parquet('../data/curated/yellow_taxi_cleaned_subsampled.parquet')"
   ],
   "metadata": {
    "collapsed": false,
    "pycharm": {
     "name": "#%%\n"
    }
   }
  },
  {
   "cell_type": "code",
   "execution_count": null,
   "outputs": [],
   "source": [
    "sdf.printSchema()"
   ],
   "metadata": {
    "collapsed": false,
    "pycharm": {
     "name": "#%%\n"
    }
   }
  },
  {
   "cell_type": "code",
   "execution_count": 6,
   "outputs": [],
   "source": [
    "from pyspark.sql import functions as F"
   ],
   "metadata": {
    "collapsed": false,
    "pycharm": {
     "name": "#%%\n"
    }
   }
  },
  {
   "cell_type": "code",
   "execution_count": null,
   "outputs": [],
   "source": [
    "timestamp_features = {\"tpep_pickup_datetime\", \"tpep_dropoff_datetime\"}\n",
    "datetime_features = {\"PU_datetime\", \"DO_datetime\"}\n",
    "stems = {\"weekday\", \"month\", \"weekday_num\", \"month_num\"}"
   ],
   "metadata": {
    "collapsed": false,
    "pycharm": {
     "name": "#%%\n"
    }
   }
  },
  {
   "cell_type": "code",
   "execution_count": 7,
   "outputs": [],
   "source": [
    "# Cast timestamp for time features to datetime type\n",
    "sdf = sdf.withColumn(\"PU_datetime\",\n",
    "              F.to_date(\"tpep_pickup_datetime\"))\n",
    "\n",
    "sdf = sdf.withColumn(\"DO_datetime\",\n",
    "              F.to_date(\"tpep_dropoff_datetime\"))"
   ],
   "metadata": {
    "collapsed": false,
    "pycharm": {
     "name": "#%%\n"
    }
   }
  },
  {
   "cell_type": "code",
   "execution_count": 8,
   "outputs": [],
   "source": [
    "# feature engineering : day of week\n",
    "sdf = sdf.withColumn(\"PU_dayofweek\",\n",
    "                     F.dayofweek(\"PU_datetime\"))\n",
    "\n",
    "sdf = sdf.withColumn(\"DO_dayofweek\",\n",
    "                     F.dayofweek(\"DO_datetime\"))"
   ],
   "metadata": {
    "collapsed": false,
    "pycharm": {
     "name": "#%%\n"
    }
   }
  },
  {
   "cell_type": "code",
   "execution_count": 9,
   "outputs": [],
   "source": [
    "# feature engineering : day of month\n",
    "sdf = sdf.withColumn(\"PU_dayofmonth\",\n",
    "                     F.dayofmonth(\"PU_datetime\"))\n",
    "\n",
    "sdf = sdf.withColumn(\"DO_dayofweek\",\n",
    "                     F.dayofmonth(\"DO_datetime\"))"
   ],
   "metadata": {
    "collapsed": false,
    "pycharm": {
     "name": "#%%\n"
    }
   }
  },
  {
   "cell_type": "code",
   "execution_count": 10,
   "outputs": [],
   "source": [
    "# feature engineering : month of year\n",
    "sdf = sdf.withColumn(\"PU_month\",\n",
    "                     F.month(\"PU_datetime\"))\n",
    "\n",
    "sdf = sdf.withColumn(\"DO_month\",\n",
    "                     F.month(\"DO_datetime\"))"
   ],
   "metadata": {
    "collapsed": false,
    "pycharm": {
     "name": "#%%\n"
    }
   }
  },
  {
   "cell_type": "code",
   "execution_count": 11,
   "outputs": [],
   "source": [
    "# feature engineering : trip_time in seconds\n",
    "sdf = sdf.withColumn(\"trip_time_seconds\",\n",
    "                     F.col(\"tpep_dropoff_datetime\").cast(\"long\") - F.col(\"tpep_pickup_datetime\").cast(\"long\"))"
   ],
   "metadata": {
    "collapsed": false,
    "pycharm": {
     "name": "#%%\n"
    }
   }
  },
  {
   "cell_type": "code",
   "execution_count": 12,
   "outputs": [],
   "source": [
    "# feature engineering : trip_time in minutes\n",
    "sdf = sdf.withColumn(\"trip_time_minutes\",\n",
    "                     (F.col(\"tpep_dropoff_datetime\").cast(\"long\") - F.col(\"tpep_pickup_datetime\").cast(\"long\")) / 60)"
   ],
   "metadata": {
    "collapsed": false,
    "pycharm": {
     "name": "#%%\n"
    }
   }
  },
  {
   "cell_type": "code",
   "execution_count": 13,
   "outputs": [],
   "source": [
    "# feature engineering : speed mph\n",
    "sdf = sdf.withColumn(\"trip_speed_mph\",\n",
    "                     (F.col(\"trip_distance\") / (F.col(\"trip_time_minutes\")/60)))"
   ],
   "metadata": {
    "collapsed": false,
    "pycharm": {
     "name": "#%%\n"
    }
   }
  },
  {
   "cell_type": "code",
   "execution_count": 14,
   "outputs": [],
   "source": [
    "# feature engineering : fare_amount / minute\n",
    "sdf = sdf.withColumn(\"fare_per_minute\",\n",
    "                     (F.col(\"fare_amount\")) / (F.col(\"trip_time_minutes\")))"
   ],
   "metadata": {
    "collapsed": false,
    "pycharm": {
     "name": "#%%\n"
    }
   }
  },
  {
   "cell_type": "code",
   "execution_count": 15,
   "outputs": [
    {
     "name": "stdout",
     "output_type": "stream",
     "text": [
      "root\n",
      " |-- VendorID: integer (nullable = true)\n",
      " |-- tpep_pickup_datetime: timestamp (nullable = true)\n",
      " |-- tpep_dropoff_datetime: timestamp (nullable = true)\n",
      " |-- passenger_count: double (nullable = true)\n",
      " |-- trip_distance: double (nullable = true)\n",
      " |-- RatecodeID: integer (nullable = true)\n",
      " |-- store_and_fwd_flag: boolean (nullable = true)\n",
      " |-- PULocationID: integer (nullable = true)\n",
      " |-- DOLocationID: integer (nullable = true)\n",
      " |-- payment_type: integer (nullable = true)\n",
      " |-- fare_amount: double (nullable = true)\n",
      " |-- extra: double (nullable = true)\n",
      " |-- mta_tax: double (nullable = true)\n",
      " |-- tip_amount: double (nullable = true)\n",
      " |-- tolls_amount: double (nullable = true)\n",
      " |-- improvement_surcharge: double (nullable = true)\n",
      " |-- total_amount: double (nullable = true)\n",
      " |-- congestion_surcharge: double (nullable = true)\n",
      " |-- airport_fee: integer (nullable = true)\n",
      " |-- is_valid_record: boolean (nullable = true)\n",
      " |-- PU_datetime: date (nullable = true)\n",
      " |-- DO_datetime: date (nullable = true)\n",
      " |-- PU_dayofweek: integer (nullable = true)\n",
      " |-- DO_dayofweek: integer (nullable = true)\n",
      " |-- PU_dayofmonth: integer (nullable = true)\n",
      " |-- PU_month: integer (nullable = true)\n",
      " |-- DO_month: integer (nullable = true)\n",
      " |-- trip_time_seconds: long (nullable = true)\n",
      " |-- trip_time_minutes: double (nullable = true)\n",
      " |-- trip_speed_mph: double (nullable = true)\n",
      " |-- fare_per_minute: double (nullable = true)\n",
      "\n",
      "22/08/17 10:58:25 WARN package: Truncated the string representation of a plan since it was too large. This behavior can be adjusted by setting 'spark.sql.debug.maxToStringFields'.\n"
     ]
    },
    {
     "name": "stderr",
     "output_type": "stream",
     "text": [
      "                                                                                \r"
     ]
    },
    {
     "data": {
      "text/plain": "+--------+--------------------+---------------------+---------------+-------------+----------+------------------+------------+------------+------------+-----------+-----+-------+----------+------------+---------------------+------------+--------------------+-----------+---------------+-----------+-----------+------------+------------+-------------+--------+--------+-----------------+------------------+------------------+------------------+\n|VendorID|tpep_pickup_datetime|tpep_dropoff_datetime|passenger_count|trip_distance|RatecodeID|store_and_fwd_flag|PULocationID|DOLocationID|payment_type|fare_amount|extra|mta_tax|tip_amount|tolls_amount|improvement_surcharge|total_amount|congestion_surcharge|airport_fee|is_valid_record|PU_datetime|DO_datetime|PU_dayofweek|DO_dayofweek|PU_dayofmonth|PU_month|DO_month|trip_time_seconds| trip_time_minutes|    trip_speed_mph|   fare_per_minute|\n+--------+--------------------+---------------------+---------------+-------------+----------+------------------+------------+------------+------------+-----------+-----+-------+----------+------------+---------------------+------------+--------------------+-----------+---------------+-----------+-----------+------------+------------+-------------+--------+--------+-----------------+------------------+------------------+------------------+\n|       1| 2019-03-01 11:05:21|  2019-03-01 11:38:23|            1.0|         14.1|         1|             false|         249|          28|           1|       41.0|  3.0|    0.5|      10.1|        5.76|                  0.3|       60.66|                 2.5|       null|           true| 2019-03-01| 2019-03-01|           6|           1|            1|       3|       3|             1982| 33.03333333333333|25.610494450050453|  1.24117053481332|\n|       2| 2019-03-01 11:19:09|  2019-03-01 11:23:30|            1.0|         0.71|         1|             false|         137|         234|           1|        5.0|  0.5|    0.5|       1.0|         0.0|                  0.3|         9.8|                 2.5|       null|           true| 2019-03-01| 2019-03-01|           6|           1|            1|       3|       3|              261|              4.35| 9.793103448275863| 1.149425287356322|\n|       2| 2019-03-01 11:55:49|  2019-03-01 12:11:06|            1.0|         5.97|         1|             false|         152|         153|           2|       19.0|  0.5|    0.5|       0.0|         0.0|                  0.3|        20.3|                 0.0|       null|           true| 2019-03-01| 2019-03-01|           6|           1|            1|       3|       3|              917|15.283333333333333| 23.43729552889858| 1.243184296619411|\n|       2| 2019-03-01 11:13:43|  2019-03-01 11:21:39|            2.0|         1.67|         1|             false|         107|         161|           1|        8.0|  0.5|    0.5|      2.36|         0.0|                  0.3|       14.16|                 2.5|       null|           true| 2019-03-01| 2019-03-01|           6|           1|            1|       3|       3|              476| 7.933333333333334|12.630252100840336|1.0084033613445378|\n|       1| 2019-03-01 11:27:35|  2019-03-01 11:50:42|            1.0|          9.9|         1|             false|         132|         177|           1|       29.0|  0.5|    0.5|      6.05|         0.0|                  0.3|       36.35|                 0.0|       null|           true| 2019-03-01| 2019-03-01|           6|           1|            1|       3|       3|             1387|23.116666666666667|  25.6957462148522| 1.254506128334535|\n+--------+--------------------+---------------------+---------------+-------------+----------+------------------+------------+------------+------------+-----------+-----+-------+----------+------------+---------------------+------------+--------------------+-----------+---------------+-----------+-----------+------------+------------+-------------+--------+--------+-----------------+------------------+------------------+------------------+",
      "text/html": "<table border='1'>\n<tr><th>VendorID</th><th>tpep_pickup_datetime</th><th>tpep_dropoff_datetime</th><th>passenger_count</th><th>trip_distance</th><th>RatecodeID</th><th>store_and_fwd_flag</th><th>PULocationID</th><th>DOLocationID</th><th>payment_type</th><th>fare_amount</th><th>extra</th><th>mta_tax</th><th>tip_amount</th><th>tolls_amount</th><th>improvement_surcharge</th><th>total_amount</th><th>congestion_surcharge</th><th>airport_fee</th><th>is_valid_record</th><th>PU_datetime</th><th>DO_datetime</th><th>PU_dayofweek</th><th>DO_dayofweek</th><th>PU_dayofmonth</th><th>PU_month</th><th>DO_month</th><th>trip_time_seconds</th><th>trip_time_minutes</th><th>trip_speed_mph</th><th>fare_per_minute</th></tr>\n<tr><td>1</td><td>2019-03-01 11:05:21</td><td>2019-03-01 11:38:23</td><td>1.0</td><td>14.1</td><td>1</td><td>false</td><td>249</td><td>28</td><td>1</td><td>41.0</td><td>3.0</td><td>0.5</td><td>10.1</td><td>5.76</td><td>0.3</td><td>60.66</td><td>2.5</td><td>null</td><td>true</td><td>2019-03-01</td><td>2019-03-01</td><td>6</td><td>1</td><td>1</td><td>3</td><td>3</td><td>1982</td><td>33.03333333333333</td><td>25.610494450050453</td><td>1.24117053481332</td></tr>\n<tr><td>2</td><td>2019-03-01 11:19:09</td><td>2019-03-01 11:23:30</td><td>1.0</td><td>0.71</td><td>1</td><td>false</td><td>137</td><td>234</td><td>1</td><td>5.0</td><td>0.5</td><td>0.5</td><td>1.0</td><td>0.0</td><td>0.3</td><td>9.8</td><td>2.5</td><td>null</td><td>true</td><td>2019-03-01</td><td>2019-03-01</td><td>6</td><td>1</td><td>1</td><td>3</td><td>3</td><td>261</td><td>4.35</td><td>9.793103448275863</td><td>1.149425287356322</td></tr>\n<tr><td>2</td><td>2019-03-01 11:55:49</td><td>2019-03-01 12:11:06</td><td>1.0</td><td>5.97</td><td>1</td><td>false</td><td>152</td><td>153</td><td>2</td><td>19.0</td><td>0.5</td><td>0.5</td><td>0.0</td><td>0.0</td><td>0.3</td><td>20.3</td><td>0.0</td><td>null</td><td>true</td><td>2019-03-01</td><td>2019-03-01</td><td>6</td><td>1</td><td>1</td><td>3</td><td>3</td><td>917</td><td>15.283333333333333</td><td>23.43729552889858</td><td>1.243184296619411</td></tr>\n<tr><td>2</td><td>2019-03-01 11:13:43</td><td>2019-03-01 11:21:39</td><td>2.0</td><td>1.67</td><td>1</td><td>false</td><td>107</td><td>161</td><td>1</td><td>8.0</td><td>0.5</td><td>0.5</td><td>2.36</td><td>0.0</td><td>0.3</td><td>14.16</td><td>2.5</td><td>null</td><td>true</td><td>2019-03-01</td><td>2019-03-01</td><td>6</td><td>1</td><td>1</td><td>3</td><td>3</td><td>476</td><td>7.933333333333334</td><td>12.630252100840336</td><td>1.0084033613445378</td></tr>\n<tr><td>1</td><td>2019-03-01 11:27:35</td><td>2019-03-01 11:50:42</td><td>1.0</td><td>9.9</td><td>1</td><td>false</td><td>132</td><td>177</td><td>1</td><td>29.0</td><td>0.5</td><td>0.5</td><td>6.05</td><td>0.0</td><td>0.3</td><td>36.35</td><td>0.0</td><td>null</td><td>true</td><td>2019-03-01</td><td>2019-03-01</td><td>6</td><td>1</td><td>1</td><td>3</td><td>3</td><td>1387</td><td>23.116666666666667</td><td>25.6957462148522</td><td>1.254506128334535</td></tr>\n</table>\n"
     },
     "execution_count": 15,
     "metadata": {},
     "output_type": "execute_result"
    }
   ],
   "source": [
    "sdf.printSchema()\n",
    "sdf.limit(5)"
   ],
   "metadata": {
    "collapsed": false,
    "pycharm": {
     "name": "#%%\n"
    }
   }
  },
  {
   "cell_type": "code",
   "execution_count": 61,
   "outputs": [],
   "source": [
    "# Plotting speeds\n",
    "import matplotlib.pyplot as plt\n",
    "import numpy as np\n",
    "import seaborn as sns\n",
    "import pandas as pd"
   ],
   "metadata": {
    "collapsed": false,
    "pycharm": {
     "name": "#%%\n"
    }
   }
  },
  {
   "cell_type": "markdown",
   "source": [],
   "metadata": {
    "collapsed": false,
    "pycharm": {
     "name": "#%% md\n"
    }
   }
  },
  {
   "cell_type": "markdown",
   "source": [
    "Univariate Analysis"
   ],
   "metadata": {
    "collapsed": false,
    "pycharm": {
     "name": "#%% md\n"
    }
   }
  },
  {
   "cell_type": "code",
   "execution_count": null,
   "outputs": [
    {
     "name": "stderr",
     "output_type": "stream",
     "text": [
      "                                                                                \r"
     ]
    }
   ],
   "source": [
    "df = sdf.toPandas()"
   ],
   "metadata": {
    "collapsed": false,
    "pycharm": {
     "name": "#%%\n",
     "is_executing": true
    }
   }
  },
  {
   "cell_type": "markdown",
   "source": [
    "Trip time"
   ],
   "metadata": {
    "collapsed": false,
    "pycharm": {
     "name": "#%% md\n"
    }
   }
  },
  {
   "cell_type": "code",
   "execution_count": null,
   "outputs": [],
   "source": [
    "sns.boxplot(df['trip_time_minutes'])"
   ],
   "metadata": {
    "collapsed": false,
    "pycharm": {
     "name": "#%%\n"
    }
   }
  },
  {
   "cell_type": "code",
   "execution_count": null,
   "outputs": [],
   "source": [
    "# export to pandas df\n",
    "log_trip_speed_mpg = np.log(sdf.select('trip_speed_mph').toPandas())"
   ],
   "metadata": {
    "collapsed": false,
    "pycharm": {
     "name": "#%%\n"
    }
   }
  },
  {
   "cell_type": "code",
   "execution_count": 56,
   "outputs": [
    {
     "data": {
      "text/plain": "<AxesSubplot:xlabel='trip_speed_mph', ylabel='Density'>"
     },
     "execution_count": 56,
     "metadata": {},
     "output_type": "execute_result"
    },
    {
     "data": {
      "text/plain": "<Figure size 432x288 with 1 Axes>",
      "image/png": "[encoded data removed]"
     },
     "metadata": {
      "needs_background": "light"
     },
     "output_type": "display_data"
    }
   ],
   "source": [
    "sns.histplot(x=log_trip_speed_mpg['trip_speed_mph'], bins=100, kde=True, stat='density')\n"
   ],
   "metadata": {
    "collapsed": false,
    "pycharm": {
     "name": "#%%\n"
    }
   }
  },
  {
   "cell_type": "code",
   "execution_count": 58,
   "outputs": [
    {
     "data": {
      "text/plain": "<AxesSubplot:xlabel='trip_speed_mph'>"
     },
     "execution_count": 58,
     "metadata": {},
     "output_type": "execute_result"
    },
    {
     "data": {
      "text/plain": "<Figure size 432x288 with 1 Axes>",
      "image/png": "[encoded data removed]"
     },
     "metadata": {
      "needs_background": "light"
     },
     "output_type": "display_data"
    }
   ],
   "source": [
    "sns.boxplot(x=np.exp(log_trip_speed_mpg['trip_speed_mph']))"
   ],
   "metadata": {
    "collapsed": false,
    "pycharm": {
     "name": "#%%\n"
    }
   }
  },
  {
   "cell_type": "code",
   "execution_count": 65,
   "outputs": [],
   "source": [
    "df = pd.DataFrame(np.exp(log_trip_speed_mpg['trip_speed_mph']))\n"
   ],
   "metadata": {
    "collapsed": false,
    "pycharm": {
     "name": "#%%\n"
    }
   }
  },
  {
   "cell_type": "code",
   "execution_count": 66,
   "outputs": [
    {
     "data": {
      "text/plain": "         trip_speed_mph\n5287990        0.000426\n6977780        0.000431\n969934         0.000450\n2919053        0.000484\n3818887        0.000517\n...                 ...\n7496942             NaN\n7577071             NaN\n7633644             NaN\n7635752             NaN\n7642290             NaN\n\n[7696464 rows x 1 columns]",
      "text/html": "<div>\n<style scoped>\n    .dataframe tbody tr th:only-of-type {\n        vertical-align: middle;\n    }\n\n    .dataframe tbody tr th {\n        vertical-align: top;\n    }\n\n    .dataframe thead th {\n        text-align: right;\n    }\n</style>\n<table border=\"1\" class=\"dataframe\">\n  <thead>\n    <tr style=\"text-align: right;\">\n      <th></th>\n      <th>trip_speed_mph</th>\n    </tr>\n  </thead>\n  <tbody>\n    <tr>\n      <th>5287990</th>\n      <td>0.000426</td>\n    </tr>\n    <tr>\n      <th>6977780</th>\n      <td>0.000431</td>\n    </tr>\n    <tr>\n      <th>969934</th>\n      <td>0.000450</td>\n    </tr>\n    <tr>\n      <th>2919053</th>\n      <td>0.000484</td>\n    </tr>\n    <tr>\n      <th>3818887</th>\n      <td>0.000517</td>\n    </tr>\n    <tr>\n      <th>...</th>\n      <td>...</td>\n    </tr>\n    <tr>\n      <th>7496942</th>\n      <td>NaN</td>\n    </tr>\n    <tr>\n      <th>7577071</th>\n      <td>NaN</td>\n    </tr>\n    <tr>\n      <th>7633644</th>\n      <td>NaN</td>\n    </tr>\n    <tr>\n      <th>7635752</th>\n      <td>NaN</td>\n    </tr>\n    <tr>\n      <th>7642290</th>\n      <td>NaN</td>\n    </tr>\n  </tbody>\n</table>\n<p>7696464 rows × 1 columns</p>\n</div>"
     },
     "execution_count": 66,
     "metadata": {},
     "output_type": "execute_result"
    }
   ],
   "source": [
    "df.sort_values(by='trip_speed_mph')"
   ],
   "metadata": {
    "collapsed": false,
    "pycharm": {
     "name": "#%%\n"
    }
   }
  },
  {
   "cell_type": "markdown",
   "source": [
    "* Found NaN values -> time taken > 0 #Todo: time taken > 0"
   ],
   "metadata": {
    "collapsed": false,
    "pycharm": {
     "name": "#%% md\n"
    }
   }
  },
  {
   "cell_type": "code",
   "execution_count": 79,
   "outputs": [
    {
     "data": {
      "text/plain": "<AxesSubplot:xlabel='trip_speed_mph'>"
     },
     "execution_count": 79,
     "metadata": {},
     "output_type": "execute_result"
    },
    {
     "data": {
      "text/plain": "<Figure size 432x288 with 1 Axes>",
      "image/png": "[encoded data removed]"
     },
     "metadata": {
      "needs_background": "light"
     },
     "output_type": "display_data"
    }
   ],
   "source": [
    "len(df[df['trip_speed_mph'] >= 104])\n",
    "len(df[df['trip_speed_mph'] <= 0.3])\n",
    "\n",
    "#sns.boxplot(x=df[df['trip_speed_mph'] >= 104])\n",
    "\n",
    "\n",
    "\n",
    "sns.boxplot(x=log_trip_speed_mpg['trip_speed_mph'])\n",
    "\n",
    "# remove these values..."
   ],
   "metadata": {
    "collapsed": false,
    "pycharm": {
     "name": "#%%\n"
    }
   }
  },
  {
   "cell_type": "code",
   "execution_count": null,
   "outputs": [],
   "source": [
    "# summary statistic of the log transformed variables\n"
   ],
   "metadata": {
    "collapsed": false,
    "pycharm": {
     "name": "#%%\n"
    }
   }
  }
 ],
 "metadata": {
  "kernelspec": {
   "display_name": "Python 3",
   "language": "python",
   "name": "python3"
  },
  "language_info": {
   "codemirror_mode": {
    "name": "ipython",
    "version": 2
   },
   "file_extension": ".py",
   "mimetype": "text/x-python",
   "name": "python",
   "nbconvert_exporter": "python",
   "pygments_lexer": "ipython2",
   "version": "2.7.6"
  }
 },
 "nbformat": 4,
 "nbformat_minor": 0
}